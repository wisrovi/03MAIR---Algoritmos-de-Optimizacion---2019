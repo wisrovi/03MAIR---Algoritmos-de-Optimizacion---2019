{
  "nbformat": 4,
  "nbformat_minor": 0,
  "metadata": {
    "colab": {
      "name": "WilliamSteveRodriguezVillamizar_AG2",
      "provenance": [],
      "collapsed_sections": [],
      "include_colab_link": true
    },
    "kernelspec": {
      "name": "python3",
      "display_name": "Python 3"
    }
  },
  "cells": [
    {
      "cell_type": "markdown",
      "metadata": {
        "id": "view-in-github",
        "colab_type": "text"
      },
      "source": [
        "<a href=\"https://colab.research.google.com/github/wisrovi/03MAIR---Algoritmos-de-Optimizacion---2019/blob/master/AG1/WilliamSteveRodriguezVillamizar_AG1.ipynb\" target=\"_parent\"><img src=\"https://colab.research.google.com/assets/colab-badge.svg\" alt=\"Open In Colab\"/></a>"
      ]
    },
    {
      "cell_type": "markdown",
      "metadata": {
        "id": "hVbXYX-RfPWh",
        "colab_type": "text"
      },
      "source": [
        "#  AG1- Actividad Guiada 1<br>\n",
        "\n",
        "Nombre y Apellidos: William Steve Rodriguez Villamizar  <br>\n",
        "\n",
        "\n",
        "\n",
        "\n",
        "\n",
        "                                        "
      ]
    },
    {
      "cell_type": "markdown",
      "metadata": {
        "id": "cmrw2Nx-wnNu",
        "colab_type": "text"
      },
      "source": [
        "Colab: https://colab.research.google.com/github/wisrovi/03MAIR---Algoritmos-de-Optimizacion---2019/blob/master/AG1/WilliamSteveRodriguezVillamizar_AG1.ipynb#scrollTo=cmrw2Nx-wnNu <br>"
      ]
    },
    {
      "cell_type": "markdown",
      "metadata": {
        "id": "8Jd5s-DJwuci",
        "colab_type": "text"
      },
      "source": [
        "Url: https://github.com/wisrovi/03MAIR---Algoritmos-de-Optimizacion---2019/blob/master/AG1/WilliamSteveRodriguezVillamizar_AG1.ipynb<br>"
      ]
    },
    {
      "cell_type": "code",
      "metadata": {
        "id": "o6EubqWDwzLh",
        "colab_type": "code",
        "colab": {}
      },
      "source": [
        "#Decorador de Ricardo Lebron\n",
        "from functools import wraps\n",
        "from time import time\n",
        "\n",
        "def calcular_tiempo(f):\n",
        "    @wraps(f)\n",
        "    def cronometro(*args, **kwargs):\n",
        "        t_inicial = time() #tomo la hora antes de ejecutar la funcion\n",
        "        salida = f(*args, **kwargs)\n",
        "        t_final = time() #tomo la hora despues de ejecutar la funcion\n",
        "        print('Tiempo transcurrido (en segundos): {}'.format(t_final - t_inicial))\n",
        "        return salida\n",
        "    return cronometro"
      ],
      "execution_count": 0,
      "outputs": []
    },
    {
      "cell_type": "code",
      "metadata": {
        "id": "JaRw6s0UHwFu",
        "colab_type": "code",
        "colab": {}
      },
      "source": [
        "import random"
      ],
      "execution_count": 0,
      "outputs": []
    },
    {
      "cell_type": "markdown",
      "metadata": {
        "id": "gC2Xpcqv9EaV",
        "colab_type": "text"
      },
      "source": [
        "Torres de Hanoi (por recursividad):"
      ]
    },
    {
      "cell_type": "code",
      "metadata": {
        "id": "fGHN64f08wDe",
        "colab_type": "code",
        "colab": {
          "base_uri": "https://localhost:8080/",
          "height": 289
        },
        "outputId": "dc27a0e8-3bff-49f8-cc7d-dcad0f1fe827"
      },
      "source": [
        "def torres_hanoi(N, desde=1, hasta=3):\n",
        "  if N==1:\n",
        "    print(\"Llevar desde \" + str(desde) + \" hasta \" + str(hasta))\n",
        "  else:\n",
        "    torres_hanoi(N-1, desde, 6 - desde - hasta)\n",
        "    print(\"Llevar desde \" + str(desde) + \" hasta \" + str(hasta))\n",
        "    torres_hanoi(N-1, 6 - desde - hasta, hasta)\n",
        "    \n",
        "@calcular_tiempo\n",
        "def verMovimientos_JugarTorresHanoi(numero_discos):\n",
        "  torres_hanoi(4)\n",
        "verMovimientos_JugarTorresHanoi(4)"
      ],
      "execution_count": 3,
      "outputs": [
        {
          "output_type": "stream",
          "text": [
            "Llevar desde 1 hasta 2\n",
            "Llevar desde 1 hasta 3\n",
            "Llevar desde 2 hasta 3\n",
            "Llevar desde 1 hasta 2\n",
            "Llevar desde 3 hasta 1\n",
            "Llevar desde 3 hasta 2\n",
            "Llevar desde 1 hasta 2\n",
            "Llevar desde 1 hasta 3\n",
            "Llevar desde 2 hasta 3\n",
            "Llevar desde 2 hasta 1\n",
            "Llevar desde 3 hasta 1\n",
            "Llevar desde 2 hasta 3\n",
            "Llevar desde 1 hasta 2\n",
            "Llevar desde 1 hasta 3\n",
            "Llevar desde 2 hasta 3\n",
            "Tiempo transcurrido (en segundos): 0.002531766891479492\n"
          ],
          "name": "stdout"
        }
      ]
    },
    {
      "cell_type": "markdown",
      "metadata": {
        "id": "cfPWiSpLBkFm",
        "colab_type": "text"
      },
      "source": [
        "Fibonacci (por recursividad):"
      ]
    },
    {
      "cell_type": "code",
      "metadata": {
        "id": "8AbH4X_hBhhE",
        "colab_type": "code",
        "colab": {
          "base_uri": "https://localhost:8080/",
          "height": 51
        },
        "outputId": "49ede2e7-141f-48eb-8c50-4f75c85035de"
      },
      "source": [
        "def Fibonacci(final, valor = 0, anterior = 0, listado = []):\n",
        "  if valor ==0:\n",
        "    listado.append(0)\n",
        "    listado.append(1)\n",
        "    Fibonacci(final, 1, 0, listado)      \n",
        "  else:\n",
        "    if (valor + anterior) <= final:    \n",
        "      listado.append(valor + anterior)\n",
        "      Fibonacci(final, valor + anterior, valor, listado)\n",
        "    else:\n",
        "      print(listado)\n",
        "    \n",
        "@calcular_tiempo\n",
        "def VerNumerosFibonacci(numeroFinalFibonacci)    :\n",
        "  Fibonacci(1000)\n",
        "    \n",
        "VerNumerosFibonacci(1000)"
      ],
      "execution_count": 4,
      "outputs": [
        {
          "output_type": "stream",
          "text": [
            "[0, 1, 1, 2, 3, 5, 8, 13, 21, 34, 55, 89, 144, 233, 377, 610, 987]\n",
            "Tiempo transcurrido (en segundos): 0.0007040500640869141\n"
          ],
          "name": "stdout"
        }
      ]
    },
    {
      "cell_type": "markdown",
      "metadata": {
        "id": "IZhGYK7ZFsuh",
        "colab_type": "text"
      },
      "source": [
        "Inicio de la actividad guiada:"
      ]
    },
    {
      "cell_type": "code",
      "metadata": {
        "id": "OXiRY29oFOgE",
        "colab_type": "code",
        "colab": {}
      },
      "source": [
        "def quick_sort(A):\n",
        "    if len(A)<=1:\n",
        "        return A\n",
        "    \n",
        "    if len(A)==2:\n",
        "        return [min(A), max (A)]\n",
        "    \n",
        "    pivote = (A[0] + A[1] + A[2])/3\n",
        "    IZQ = []\n",
        "    DER = []\n",
        "    \n",
        "    for i in A:\n",
        "        if i <= pivote:\n",
        "            IZQ.append(i)\n",
        "        else:\n",
        "            DER.append(i)\n",
        "    return quick_sort(IZQ) + quick_sort(DER)\n",
        "  \n",
        "@calcular_tiempo\n",
        "def QS(A):\n",
        "    return quick_sort(A)"
      ],
      "execution_count": 0,
      "outputs": []
    },
    {
      "cell_type": "code",
      "metadata": {
        "id": "l2qhPEO-FFSQ",
        "colab_type": "code",
        "colab": {
          "base_uri": "https://localhost:8080/",
          "height": 71
        },
        "outputId": "31a6078e-efd4-449a-d86c-bcc02359d8f3"
      },
      "source": [
        "A = [9187, 244, 4054, 9222, 8373, 4993, 5265, 5470, 4519, 7182, 2035, 3506, 4337, 7580, 2554, 2824, 8357, 4447, 7379]\n",
        "A = list(map(lambda x: random.randrange(1,10000), range(1,600)))\n",
        "\n",
        "print(QS(A))"
      ],
      "execution_count": 7,
      "outputs": [
        {
          "output_type": "stream",
          "text": [
            "Tiempo transcurrido (en segundos): 0.000985860824584961\n",
            "[18, 19, 41, 80, 101, 134, 136, 146, 158, 172, 181, 186, 192, 193, 200, 235, 239, 240, 248, 255, 276, 279, 288, 325, 335, 354, 388, 396, 415, 417, 428, 501, 502, 553, 578, 580, 583, 584, 586, 600, 611, 651, 685, 711, 748, 771, 785, 818, 834, 851, 867, 880, 910, 913, 914, 921, 940, 962, 966, 996, 1003, 1058, 1085, 1138, 1175, 1182, 1187, 1212, 1254, 1259, 1263, 1278, 1317, 1352, 1362, 1381, 1385, 1395, 1407, 1408, 1430, 1442, 1532, 1549, 1556, 1606, 1614, 1615, 1617, 1648, 1689, 1698, 1704, 1708, 1710, 1749, 1749, 1755, 1755, 1759, 1796, 1885, 1888, 1897, 1898, 1903, 1912, 1921, 1943, 1955, 1979, 1997, 2011, 2019, 2064, 2064, 2069, 2118, 2123, 2126, 2131, 2143, 2192, 2199, 2244, 2255, 2267, 2285, 2297, 2317, 2356, 2388, 2391, 2414, 2451, 2463, 2490, 2500, 2503, 2546, 2557, 2566, 2579, 2580, 2596, 2598, 2601, 2602, 2631, 2660, 2684, 2697, 2709, 2717, 2723, 2743, 2747, 2789, 2792, 2817, 2822, 2837, 2848, 2924, 2978, 3022, 3059, 3084, 3086, 3113, 3123, 3139, 3146, 3153, 3157, 3165, 3173, 3186, 3215, 3258, 3262, 3284, 3292, 3292, 3296, 3311, 3340, 3347, 3392, 3454, 3482, 3536, 3556, 3574, 3574, 3578, 3597, 3605, 3610, 3674, 3730, 3731, 3733, 3738, 3763, 3769, 3785, 3791, 3797, 3821, 3827, 3885, 3916, 3918, 3942, 3952, 3982, 3993, 4013, 4024, 4032, 4043, 4050, 4062, 4065, 4078, 4086, 4157, 4170, 4181, 4192, 4247, 4273, 4330, 4331, 4334, 4347, 4362, 4372, 4408, 4427, 4435, 4451, 4458, 4467, 4474, 4492, 4492, 4504, 4520, 4530, 4587, 4602, 4618, 4628, 4638, 4645, 4678, 4697, 4721, 4736, 4738, 4742, 4743, 4785, 4793, 4797, 4805, 4872, 4907, 4909, 4931, 4934, 4976, 5011, 5026, 5028, 5043, 5045, 5078, 5129, 5178, 5181, 5184, 5214, 5223, 5224, 5235, 5237, 5248, 5284, 5295, 5312, 5328, 5364, 5384, 5392, 5394, 5411, 5483, 5496, 5503, 5516, 5553, 5565, 5597, 5632, 5640, 5643, 5654, 5667, 5668, 5721, 5739, 5764, 5782, 5785, 5798, 5807, 5811, 5821, 5844, 5859, 5859, 5867, 5875, 5906, 5924, 5934, 5942, 5969, 5976, 5982, 5996, 6011, 6042, 6043, 6044, 6071, 6082, 6094, 6097, 6127, 6152, 6168, 6171, 6181, 6182, 6240, 6241, 6265, 6308, 6312, 6328, 6333, 6367, 6373, 6386, 6393, 6413, 6414, 6416, 6451, 6453, 6475, 6486, 6486, 6487, 6505, 6516, 6527, 6540, 6571, 6575, 6578, 6587, 6589, 6609, 6610, 6644, 6654, 6658, 6663, 6699, 6719, 6769, 6771, 6786, 6789, 6794, 6805, 6806, 6809, 6864, 6870, 6872, 6873, 6906, 6915, 6923, 6938, 6943, 6951, 6978, 6998, 7003, 7003, 7016, 7028, 7041, 7056, 7057, 7059, 7087, 7120, 7148, 7152, 7158, 7175, 7194, 7241, 7264, 7270, 7286, 7288, 7314, 7325, 7338, 7343, 7365, 7390, 7394, 7409, 7439, 7448, 7450, 7461, 7525, 7563, 7567, 7575, 7596, 7605, 7676, 7686, 7697, 7712, 7715, 7718, 7726, 7736, 7772, 7818, 7826, 7841, 7848, 7872, 7873, 7879, 7886, 7895, 7899, 7936, 7952, 7955, 7958, 7974, 7982, 7983, 7993, 8002, 8003, 8004, 8009, 8079, 8113, 8124, 8135, 8153, 8184, 8209, 8210, 8211, 8212, 8218, 8264, 8356, 8372, 8376, 8386, 8393, 8406, 8443, 8467, 8467, 8469, 8470, 8505, 8515, 8518, 8530, 8539, 8547, 8573, 8576, 8593, 8597, 8604, 8606, 8615, 8629, 8649, 8659, 8663, 8665, 8665, 8675, 8740, 8742, 8756, 8759, 8760, 8762, 8776, 8789, 8815, 8817, 8825, 8833, 8840, 8857, 8887, 8905, 8925, 8930, 8935, 8954, 8966, 8980, 9004, 9018, 9046, 9048, 9051, 9068, 9106, 9124, 9125, 9126, 9127, 9173, 9175, 9189, 9203, 9203, 9221, 9248, 9262, 9268, 9277, 9290, 9294, 9309, 9353, 9364, 9364, 9409, 9412, 9418, 9421, 9435, 9458, 9476, 9489, 9528, 9548, 9551, 9569, 9579, 9581, 9594, 9649, 9672, 9786, 9789, 9804, 9816, 9828, 9842, 9847, 9854, 9870, 9880, 9887, 9909, 9954, 9972, 9976, 9986]\n"
          ],
          "name": "stdout"
        }
      ]
    },
    {
      "cell_type": "markdown",
      "metadata": {
        "id": "Oh80jTbi8_uu",
        "colab_type": "text"
      },
      "source": [
        "Cambio Monedas:"
      ]
    },
    {
      "cell_type": "code",
      "metadata": {
        "id": "unuUoknfyStd",
        "colab_type": "code",
        "colab": {}
      },
      "source": [
        "@calcular_tiempo\n",
        "def cambio_monedas(CANTIDAD, SISTEMA):\n",
        "  SOLUCION = [0 for i in range(len(SISTEMA))]\n",
        "  VALOR_ACUMULADO = 0\n",
        "  \n",
        "  for i in range(len(SISTEMA)):\n",
        "    monedas = int((CANTIDAD - VALOR_ACUMULADO)/ SISTEMA[i])\n",
        "    SOLUCION[i] = monedas\n",
        "    VALOR_ACUMULADO += monedas * SISTEMA[i]\n",
        "    if VALOR_ACUMULADO == CANTIDAD: \n",
        "      return SOLUCION\n",
        "    \n",
        "  return SOLUCION"
      ],
      "execution_count": 0,
      "outputs": []
    },
    {
      "cell_type": "code",
      "metadata": {
        "id": "otAg3qq_lGKi",
        "colab_type": "code",
        "outputId": "63742c52-1b76-4bdc-cd61-e8d010dceb06",
        "colab": {
          "base_uri": "https://localhost:8080/",
          "height": 68
        }
      },
      "source": [
        "SISTEMA = [25, 10, 5, 1]\n",
        "CANTIDAD = 234\n",
        "solucion = cambio_monedas(CANTIDAD, SISTEMA)\n",
        "\n",
        "print(\"Sistema: \", end=\"\")\n",
        "print(SISTEMA)\n",
        "  \n",
        "print(\"Solucion: \", end=\"\")\n",
        "print(solucion, end=\"\")\n",
        "print(\" para una cantidad de: \", CANTIDAD)"
      ],
      "execution_count": 9,
      "outputs": [
        {
          "output_type": "stream",
          "text": [
            "Tiempo transcurrido (en segundos): 1.1444091796875e-05\n",
            "Sistema: [25, 10, 5, 1]\n",
            "Solucion: [9, 0, 1, 4] para una cantidad de:  234\n"
          ],
          "name": "stdout"
        }
      ]
    },
    {
      "cell_type": "markdown",
      "metadata": {
        "id": "9fH9zYO8KOlV",
        "colab_type": "text"
      },
      "source": [
        "Reinas:"
      ]
    },
    {
      "cell_type": "code",
      "metadata": {
        "id": "OqM091nxrnkG",
        "colab_type": "code",
        "colab": {}
      },
      "source": [
        "#Algoritmo de vuelta atras para el problema de N reinas\n",
        "def es_prometedora(solucion, etapa):\n",
        "  for i in range(etapa + 1):\n",
        "    if solucion.count(solucion[i]) > 1:\n",
        "      return False\n",
        "    \n",
        "    #verificar si son individuales\n",
        "    for j in range(i+1, etapa + 1):\n",
        "      if abs(i-j) == abs(solucion[i]-solucion[j]):\n",
        "        return False\n",
        "  return True\n",
        "  \n",
        "\n",
        "def reinas(N, solucion = [], etapa=0):\n",
        "  if len(solucion)==0:\n",
        "    solucion = [0 for i in range(N)]\n",
        "  \n",
        "  for i in range(1, N+1):\n",
        "    solucion[etapa] = i\n",
        "    \n",
        "    if es_prometedora(solucion, etapa):\n",
        "      if etapa == N-1:\n",
        "        print(\"\\n\\nLa solucion es: \", end=\"\")\n",
        "        print(solucion)\n",
        "        \n",
        "      else:\n",
        "        reinas(N, solucion, etapa+1)\n",
        "        \n",
        "    else:\n",
        "      None\n",
        "      \n",
        "    solucion[etapa] = 0\n",
        "    \n",
        "@calcular_tiempo\n",
        "def BuscarPosicionReinasEnTablero(NumeroReinas):\n",
        "  reinas(NumeroReinas)"
      ],
      "execution_count": 0,
      "outputs": []
    },
    {
      "cell_type": "code",
      "metadata": {
        "id": "OUWwRN7CtpuA",
        "colab_type": "code",
        "outputId": "24b7b544-592f-4ab4-dc8c-b114e9273293",
        "colab": {
          "base_uri": "https://localhost:8080/",
          "height": 1000
        }
      },
      "source": [
        "BuscarPosicionReinasEnTablero(8)"
      ],
      "execution_count": 12,
      "outputs": [
        {
          "output_type": "stream",
          "text": [
            "\n",
            "\n",
            "La solucion es: [1, 5, 8, 6, 3, 7, 2, 4]\n",
            "\n",
            "\n",
            "La solucion es: [1, 6, 8, 3, 7, 4, 2, 5]\n",
            "\n",
            "\n",
            "La solucion es: [1, 7, 4, 6, 8, 2, 5, 3]\n",
            "\n",
            "\n",
            "La solucion es: [1, 7, 5, 8, 2, 4, 6, 3]\n",
            "\n",
            "\n",
            "La solucion es: [2, 4, 6, 8, 3, 1, 7, 5]\n",
            "\n",
            "\n",
            "La solucion es: [2, 5, 7, 1, 3, 8, 6, 4]\n",
            "\n",
            "\n",
            "La solucion es: [2, 5, 7, 4, 1, 8, 6, 3]\n",
            "\n",
            "\n",
            "La solucion es: [2, 6, 1, 7, 4, 8, 3, 5]\n",
            "\n",
            "\n",
            "La solucion es: [2, 6, 8, 3, 1, 4, 7, 5]\n",
            "\n",
            "\n",
            "La solucion es: [2, 7, 3, 6, 8, 5, 1, 4]\n",
            "\n",
            "\n",
            "La solucion es: [2, 7, 5, 8, 1, 4, 6, 3]\n",
            "\n",
            "\n",
            "La solucion es: [2, 8, 6, 1, 3, 5, 7, 4]\n",
            "\n",
            "\n",
            "La solucion es: [3, 1, 7, 5, 8, 2, 4, 6]\n",
            "\n",
            "\n",
            "La solucion es: [3, 5, 2, 8, 1, 7, 4, 6]\n",
            "\n",
            "\n",
            "La solucion es: [3, 5, 2, 8, 6, 4, 7, 1]\n",
            "\n",
            "\n",
            "La solucion es: [3, 5, 7, 1, 4, 2, 8, 6]\n",
            "\n",
            "\n",
            "La solucion es: [3, 5, 8, 4, 1, 7, 2, 6]\n",
            "\n",
            "\n",
            "La solucion es: [3, 6, 2, 5, 8, 1, 7, 4]\n",
            "\n",
            "\n",
            "La solucion es: [3, 6, 2, 7, 1, 4, 8, 5]\n",
            "\n",
            "\n",
            "La solucion es: [3, 6, 2, 7, 5, 1, 8, 4]\n",
            "\n",
            "\n",
            "La solucion es: [3, 6, 4, 1, 8, 5, 7, 2]\n",
            "\n",
            "\n",
            "La solucion es: [3, 6, 4, 2, 8, 5, 7, 1]\n",
            "\n",
            "\n",
            "La solucion es: [3, 6, 8, 1, 4, 7, 5, 2]\n",
            "\n",
            "\n",
            "La solucion es: [3, 6, 8, 1, 5, 7, 2, 4]\n",
            "\n",
            "\n",
            "La solucion es: [3, 6, 8, 2, 4, 1, 7, 5]\n",
            "\n",
            "\n",
            "La solucion es: [3, 7, 2, 8, 5, 1, 4, 6]\n",
            "\n",
            "\n",
            "La solucion es: [3, 7, 2, 8, 6, 4, 1, 5]\n",
            "\n",
            "\n",
            "La solucion es: [3, 8, 4, 7, 1, 6, 2, 5]\n",
            "\n",
            "\n",
            "La solucion es: [4, 1, 5, 8, 2, 7, 3, 6]\n",
            "\n",
            "\n",
            "La solucion es: [4, 1, 5, 8, 6, 3, 7, 2]\n",
            "\n",
            "\n",
            "La solucion es: [4, 2, 5, 8, 6, 1, 3, 7]\n",
            "\n",
            "\n",
            "La solucion es: [4, 2, 7, 3, 6, 8, 1, 5]\n",
            "\n",
            "\n",
            "La solucion es: [4, 2, 7, 3, 6, 8, 5, 1]\n",
            "\n",
            "\n",
            "La solucion es: [4, 2, 7, 5, 1, 8, 6, 3]\n",
            "\n",
            "\n",
            "La solucion es: [4, 2, 8, 5, 7, 1, 3, 6]\n",
            "\n",
            "\n",
            "La solucion es: [4, 2, 8, 6, 1, 3, 5, 7]\n",
            "\n",
            "\n",
            "La solucion es: [4, 6, 1, 5, 2, 8, 3, 7]\n",
            "\n",
            "\n",
            "La solucion es: [4, 6, 8, 2, 7, 1, 3, 5]\n",
            "\n",
            "\n",
            "La solucion es: [4, 6, 8, 3, 1, 7, 5, 2]\n",
            "\n",
            "\n",
            "La solucion es: [4, 7, 1, 8, 5, 2, 6, 3]\n",
            "\n",
            "\n",
            "La solucion es: [4, 7, 3, 8, 2, 5, 1, 6]\n",
            "\n",
            "\n",
            "La solucion es: [4, 7, 5, 2, 6, 1, 3, 8]\n",
            "\n",
            "\n",
            "La solucion es: [4, 7, 5, 3, 1, 6, 8, 2]\n",
            "\n",
            "\n",
            "La solucion es: [4, 8, 1, 3, 6, 2, 7, 5]\n",
            "\n",
            "\n",
            "La solucion es: [4, 8, 1, 5, 7, 2, 6, 3]\n",
            "\n",
            "\n",
            "La solucion es: [4, 8, 5, 3, 1, 7, 2, 6]\n",
            "\n",
            "\n",
            "La solucion es: [5, 1, 4, 6, 8, 2, 7, 3]\n",
            "\n",
            "\n",
            "La solucion es: [5, 1, 8, 4, 2, 7, 3, 6]\n",
            "\n",
            "\n",
            "La solucion es: [5, 1, 8, 6, 3, 7, 2, 4]\n",
            "\n",
            "\n",
            "La solucion es: [5, 2, 4, 6, 8, 3, 1, 7]\n",
            "\n",
            "\n",
            "La solucion es: [5, 2, 4, 7, 3, 8, 6, 1]\n",
            "\n",
            "\n",
            "La solucion es: [5, 2, 6, 1, 7, 4, 8, 3]\n",
            "\n",
            "\n",
            "La solucion es: [5, 2, 8, 1, 4, 7, 3, 6]\n",
            "\n",
            "\n",
            "La solucion es: [5, 3, 1, 6, 8, 2, 4, 7]\n",
            "\n",
            "\n",
            "La solucion es: [5, 3, 1, 7, 2, 8, 6, 4]\n",
            "\n",
            "\n",
            "La solucion es: [5, 3, 8, 4, 7, 1, 6, 2]\n",
            "\n",
            "\n",
            "La solucion es: [5, 7, 1, 3, 8, 6, 4, 2]\n",
            "\n",
            "\n",
            "La solucion es: [5, 7, 1, 4, 2, 8, 6, 3]\n",
            "\n",
            "\n",
            "La solucion es: [5, 7, 2, 4, 8, 1, 3, 6]\n",
            "\n",
            "\n",
            "La solucion es: [5, 7, 2, 6, 3, 1, 4, 8]\n",
            "\n",
            "\n",
            "La solucion es: [5, 7, 2, 6, 3, 1, 8, 4]\n",
            "\n",
            "\n",
            "La solucion es: [5, 7, 4, 1, 3, 8, 6, 2]\n",
            "\n",
            "\n",
            "La solucion es: [5, 8, 4, 1, 3, 6, 2, 7]\n",
            "\n",
            "\n",
            "La solucion es: [5, 8, 4, 1, 7, 2, 6, 3]\n",
            "\n",
            "\n",
            "La solucion es: [6, 1, 5, 2, 8, 3, 7, 4]\n",
            "\n",
            "\n",
            "La solucion es: [6, 2, 7, 1, 3, 5, 8, 4]\n",
            "\n",
            "\n",
            "La solucion es: [6, 2, 7, 1, 4, 8, 5, 3]\n",
            "\n",
            "\n",
            "La solucion es: [6, 3, 1, 7, 5, 8, 2, 4]\n",
            "\n",
            "\n",
            "La solucion es: [6, 3, 1, 8, 4, 2, 7, 5]\n",
            "\n",
            "\n",
            "La solucion es: [6, 3, 1, 8, 5, 2, 4, 7]\n",
            "\n",
            "\n",
            "La solucion es: [6, 3, 5, 7, 1, 4, 2, 8]\n",
            "\n",
            "\n",
            "La solucion es: [6, 3, 5, 8, 1, 4, 2, 7]\n",
            "\n",
            "\n",
            "La solucion es: [6, 3, 7, 2, 4, 8, 1, 5]\n",
            "\n",
            "\n",
            "La solucion es: [6, 3, 7, 2, 8, 5, 1, 4]\n",
            "\n",
            "\n",
            "La solucion es: [6, 3, 7, 4, 1, 8, 2, 5]\n",
            "\n",
            "\n",
            "La solucion es: [6, 4, 1, 5, 8, 2, 7, 3]\n",
            "\n",
            "\n",
            "La solucion es: [6, 4, 2, 8, 5, 7, 1, 3]\n",
            "\n",
            "\n",
            "La solucion es: [6, 4, 7, 1, 3, 5, 2, 8]\n",
            "\n",
            "\n",
            "La solucion es: [6, 4, 7, 1, 8, 2, 5, 3]\n",
            "\n",
            "\n",
            "La solucion es: [6, 8, 2, 4, 1, 7, 5, 3]\n",
            "\n",
            "\n",
            "La solucion es: [7, 1, 3, 8, 6, 4, 2, 5]\n",
            "\n",
            "\n",
            "La solucion es: [7, 2, 4, 1, 8, 5, 3, 6]\n",
            "\n",
            "\n",
            "La solucion es: [7, 2, 6, 3, 1, 4, 8, 5]\n",
            "\n",
            "\n",
            "La solucion es: [7, 3, 1, 6, 8, 5, 2, 4]\n",
            "\n",
            "\n",
            "La solucion es: [7, 3, 8, 2, 5, 1, 6, 4]\n",
            "\n",
            "\n",
            "La solucion es: [7, 4, 2, 5, 8, 1, 3, 6]\n",
            "\n",
            "\n",
            "La solucion es: [7, 4, 2, 8, 6, 1, 3, 5]\n",
            "\n",
            "\n",
            "La solucion es: [7, 5, 3, 1, 6, 8, 2, 4]\n",
            "\n",
            "\n",
            "La solucion es: [8, 2, 4, 1, 7, 5, 3, 6]\n",
            "\n",
            "\n",
            "La solucion es: [8, 2, 5, 3, 1, 7, 4, 6]\n",
            "\n",
            "\n",
            "La solucion es: [8, 3, 1, 6, 2, 5, 7, 4]\n",
            "\n",
            "\n",
            "La solucion es: [8, 4, 1, 3, 6, 2, 7, 5]\n",
            "Tiempo transcurrido (en segundos): 0.07956647872924805\n"
          ],
          "name": "stdout"
        }
      ]
    }
  ]
}