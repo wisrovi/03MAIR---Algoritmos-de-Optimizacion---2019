{
  "nbformat": 4,
  "nbformat_minor": 0,
  "metadata": {
    "colab": {
      "name": "WilliamSteveRodriguezVillamizar_AG2",
      "version": "0.3.2",
      "provenance": [],
      "collapsed_sections": [],
      "include_colab_link": true
    },
    "kernelspec": {
      "name": "python3",
      "display_name": "Python 3"
    }
  },
  "cells": [
    {
      "cell_type": "markdown",
      "metadata": {
        "id": "view-in-github",
        "colab_type": "text"
      },
      "source": [
        "<a href=\"https://colab.research.google.com/github/wisrovi/03MAIR---Algoritmos-de-Optimizacion---2019/blob/master/AG1/WilliamSteveRodriguezVillamizar_AG1.ipynb\" target=\"_parent\"><img src=\"https://colab.research.google.com/assets/colab-badge.svg\" alt=\"Open In Colab\"/></a>"
      ]
    },
    {
      "cell_type": "markdown",
      "metadata": {
        "id": "hVbXYX-RfPWh",
        "colab_type": "text"
      },
      "source": [
        "#  AG1- Actividad Guiada 1<br>\n",
        "\n",
        "Nombre y Apellidos: William Steve Rodriguez Villamizar  <br>\n",
        "\n",
        "\n",
        "\n",
        "\n",
        "\n",
        "                                        "
      ]
    },
    {
      "cell_type": "markdown",
      "metadata": {
        "id": "cmrw2Nx-wnNu",
        "colab_type": "text"
      },
      "source": [
        "Colab: https://colab.research.google.com/github/wisrovi/03MAIR---Algoritmos-de-Optimizacion---2019/blob/master/AG1/WilliamSteveRodriguezVillamizar_AG1.ipynb#scrollTo=cmrw2Nx-wnNu <br>"
      ]
    },
    {
      "cell_type": "markdown",
      "metadata": {
        "id": "8Jd5s-DJwuci",
        "colab_type": "text"
      },
      "source": [
        "Url: https://github.com/wisrovi/03MAIR---Algoritmos-de-Optimizacion---2019/blob/master/AG1/WilliamSteveRodriguezVillamizar_AG1.ipynb<br>"
      ]
    },
    {
      "cell_type": "code",
      "metadata": {
        "id": "o6EubqWDwzLh",
        "colab_type": "code",
        "colab": {}
      },
      "source": [
        ""
      ],
      "execution_count": 0,
      "outputs": []
    }
  ]
}