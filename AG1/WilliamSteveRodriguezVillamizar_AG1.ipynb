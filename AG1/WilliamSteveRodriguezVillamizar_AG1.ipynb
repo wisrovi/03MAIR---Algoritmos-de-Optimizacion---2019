{
  "nbformat": 4,
  "nbformat_minor": 0,
  "metadata": {
    "colab": {
      "name": "WilliamSteveRodriguezVillamizar_AG2",
      "provenance": [],
      "collapsed_sections": [],
      "include_colab_link": true
    },
    "kernelspec": {
      "name": "python3",
      "display_name": "Python 3"
    }
  },
  "cells": [
    {
      "cell_type": "markdown",
      "metadata": {
        "id": "view-in-github",
        "colab_type": "text"
      },
      "source": [
        "<a href=\"https://colab.research.google.com/github/wisrovi/03MAIR---Algoritmos-de-Optimizacion---2019/blob/master/AG1/WilliamSteveRodriguezVillamizar_AG1.ipynb\" target=\"_parent\"><img src=\"https://colab.research.google.com/assets/colab-badge.svg\" alt=\"Open In Colab\"/></a>"
      ]
    },
    {
      "cell_type": "markdown",
      "metadata": {
        "id": "hVbXYX-RfPWh",
        "colab_type": "text"
      },
      "source": [
        "#  AG1- Actividad Guiada 1<br>\n",
        "\n",
        "Nombre y Apellidos: William Steve Rodriguez Villamizar  <br>\n",
        "\n",
        "\n",
        "\n",
        "\n",
        "\n",
        "                                        "
      ]
    },
    {
      "cell_type": "markdown",
      "metadata": {
        "id": "cmrw2Nx-wnNu",
        "colab_type": "text"
      },
      "source": [
        "Colab: https://colab.research.google.com/github/wisrovi/03MAIR---Algoritmos-de-Optimizacion---2019/blob/master/AG1/WilliamSteveRodriguezVillamizar_AG1.ipynb#scrollTo=cmrw2Nx-wnNu <br>"
      ]
    },
    {
      "cell_type": "markdown",
      "metadata": {
        "id": "8Jd5s-DJwuci",
        "colab_type": "text"
      },
      "source": [
        "Url: https://github.com/wisrovi/03MAIR---Algoritmos-de-Optimizacion---2019/blob/master/AG1/WilliamSteveRodriguezVillamizar_AG1.ipynb<br>"
      ]
    },
    {
      "cell_type": "code",
      "metadata": {
        "id": "o6EubqWDwzLh",
        "colab_type": "code",
        "colab": {}
      },
      "source": [
        "#Decorador de Ricardo Lebron\n",
        "from functools import wraps\n",
        "from time import time\n",
        "\n",
        "def calcular_tiempo(f):\n",
        "    @wraps(f)\n",
        "    def cronometro(*args, **kwargs):\n",
        "        t_inicial = time() #tomo la hora antes de ejecutar la funcion\n",
        "        salida = f(*args, **kwargs)\n",
        "        t_final = time() #tomo la hora despues de ejecutar la funcion\n",
        "        print('Tiempo transcurrido (en segundos): {}'.format(t_final - t_inicial))\n",
        "        return salida\n",
        "    return cronometro"
      ],
      "execution_count": 0,
      "outputs": []
    },
    {
      "cell_type": "code",
      "metadata": {
        "id": "JaRw6s0UHwFu",
        "colab_type": "code",
        "colab": {}
      },
      "source": [
        "import random"
      ],
      "execution_count": 0,
      "outputs": []
    },
    {
      "cell_type": "markdown",
      "metadata": {
        "id": "gC2Xpcqv9EaV",
        "colab_type": "text"
      },
      "source": [
        "Torres de Hanoi (por recursividad):"
      ]
    },
    {
      "cell_type": "code",
      "metadata": {
        "id": "fGHN64f08wDe",
        "colab_type": "code",
        "outputId": "4a4ff78c-dc4c-4b3b-ec12-3561db7f8afd",
        "colab": {
          "base_uri": "https://localhost:8080/",
          "height": 289
        }
      },
      "source": [
        "def torres_hanoi(N, desde=1, hasta=3):\n",
        "  if N==1:\n",
        "    print(\"Llevar desde \" + str(desde) + \" hasta \" + str(hasta))\n",
        "  else:\n",
        "    torres_hanoi(N-1, desde, 6 - desde - hasta)\n",
        "    print(\"Llevar desde \" + str(desde) + \" hasta \" + str(hasta))\n",
        "    torres_hanoi(N-1, 6 - desde - hasta, hasta)\n",
        "    \n",
        "@calcular_tiempo\n",
        "def verMovimientos_JugarTorresHanoi(numero_discos):\n",
        "  torres_hanoi(4)\n",
        "verMovimientos_JugarTorresHanoi(4)"
      ],
      "execution_count": 3,
      "outputs": [
        {
          "output_type": "stream",
          "text": [
            "Llevar desde 1 hasta 2\n",
            "Llevar desde 1 hasta 3\n",
            "Llevar desde 2 hasta 3\n",
            "Llevar desde 1 hasta 2\n",
            "Llevar desde 3 hasta 1\n",
            "Llevar desde 3 hasta 2\n",
            "Llevar desde 1 hasta 2\n",
            "Llevar desde 1 hasta 3\n",
            "Llevar desde 2 hasta 3\n",
            "Llevar desde 2 hasta 1\n",
            "Llevar desde 3 hasta 1\n",
            "Llevar desde 2 hasta 3\n",
            "Llevar desde 1 hasta 2\n",
            "Llevar desde 1 hasta 3\n",
            "Llevar desde 2 hasta 3\n",
            "Tiempo transcurrido (en segundos): 0.0017056465148925781\n"
          ],
          "name": "stdout"
        }
      ]
    },
    {
      "cell_type": "markdown",
      "metadata": {
        "id": "cfPWiSpLBkFm",
        "colab_type": "text"
      },
      "source": [
        "Fibonacci (por recursividad):"
      ]
    },
    {
      "cell_type": "code",
      "metadata": {
        "id": "8AbH4X_hBhhE",
        "colab_type": "code",
        "outputId": "764259ac-e3a6-4bbe-d7fb-d5c9b5daaea0",
        "colab": {
          "base_uri": "https://localhost:8080/",
          "height": 51
        }
      },
      "source": [
        "def Fibonacci(final, valor = 0, anterior = 0, listado = []):\n",
        "  if valor ==0:\n",
        "    listado.append(0)\n",
        "    listado.append(1)\n",
        "    Fibonacci(final, 1, 0, listado)      \n",
        "  else:\n",
        "    if (valor + anterior) <= final:    \n",
        "      listado.append(valor + anterior)\n",
        "      Fibonacci(final, valor + anterior, valor, listado)\n",
        "    else:\n",
        "      print(listado)\n",
        "    \n",
        "@calcular_tiempo\n",
        "def VerNumerosFibonacci(numeroFinalFibonacci)    :\n",
        "  Fibonacci(1000)\n",
        "    \n",
        "VerNumerosFibonacci(1000)"
      ],
      "execution_count": 4,
      "outputs": [
        {
          "output_type": "stream",
          "text": [
            "[0, 1, 1, 2, 3, 5, 8, 13, 21, 34, 55, 89, 144, 233, 377, 610, 987]\n",
            "Tiempo transcurrido (en segundos): 0.00012993812561035156\n"
          ],
          "name": "stdout"
        }
      ]
    },
    {
      "cell_type": "markdown",
      "metadata": {
        "id": "IZhGYK7ZFsuh",
        "colab_type": "text"
      },
      "source": [
        "Inicio de la actividad guiada:"
      ]
    },
    {
      "cell_type": "code",
      "metadata": {
        "id": "OXiRY29oFOgE",
        "colab_type": "code",
        "colab": {}
      },
      "source": [
        "def quick_sort(A):\n",
        "    if len(A)<=1:\n",
        "        return A\n",
        "    \n",
        "    if len(A)==2:\n",
        "        return [min(A), max (A)]\n",
        "    \n",
        "    pivote = (A[0] + A[1] + A[2])/3\n",
        "    IZQ = []\n",
        "    DER = []\n",
        "    \n",
        "    for i in A:\n",
        "        if i <= pivote:\n",
        "            IZQ.append(i)\n",
        "        else:\n",
        "            DER.append(i)\n",
        "    return quick_sort(IZQ) + quick_sort(DER)\n",
        "  \n",
        "@calcular_tiempo\n",
        "def QS(A):\n",
        "    return quick_sort(A)"
      ],
      "execution_count": 0,
      "outputs": []
    },
    {
      "cell_type": "code",
      "metadata": {
        "id": "l2qhPEO-FFSQ",
        "colab_type": "code",
        "outputId": "7b68d36e-76e2-4e0a-9c66-f45298c56d1d",
        "colab": {
          "base_uri": "https://localhost:8080/",
          "height": 71
        }
      },
      "source": [
        "A = [9187, 244, 4054, 9222, 8373, 4993, 5265, 5470, 4519, 7182, 2035, 3506, 4337, 7580, 2554, 2824, 8357, 4447, 7379]\n",
        "A = list(map(lambda x: random.randrange(1,10000), range(1,600)))\n",
        "\n",
        "print(QS(A))"
      ],
      "execution_count": 7,
      "outputs": [
        {
          "output_type": "stream",
          "text": [
            "Tiempo transcurrido (en segundos): 0.0013816356658935547\n",
            "[29, 55, 62, 78, 79, 120, 122, 133, 138, 154, 167, 176, 194, 200, 206, 215, 245, 277, 285, 293, 327, 348, 369, 386, 387, 389, 393, 440, 481, 497, 546, 549, 564, 580, 597, 601, 603, 610, 612, 622, 640, 684, 689, 703, 703, 705, 711, 717, 741, 751, 764, 770, 771, 779, 797, 800, 809, 819, 823, 851, 855, 878, 887, 897, 913, 918, 923, 937, 944, 978, 994, 1020, 1043, 1066, 1069, 1080, 1086, 1097, 1150, 1154, 1168, 1171, 1174, 1188, 1194, 1198, 1218, 1223, 1227, 1298, 1343, 1357, 1390, 1427, 1432, 1438, 1444, 1463, 1469, 1520, 1585, 1595, 1595, 1623, 1655, 1672, 1706, 1723, 1788, 1838, 1844, 1853, 1857, 1862, 1877, 1893, 1901, 1908, 1914, 1934, 1979, 1984, 1990, 2003, 2059, 2063, 2063, 2070, 2080, 2090, 2181, 2184, 2194, 2199, 2202, 2231, 2243, 2254, 2256, 2267, 2286, 2298, 2311, 2323, 2329, 2380, 2387, 2417, 2438, 2444, 2459, 2504, 2582, 2603, 2623, 2624, 2625, 2636, 2668, 2675, 2678, 2697, 2698, 2708, 2739, 2744, 2806, 2831, 2836, 2838, 2839, 2841, 2849, 2873, 2876, 2880, 2938, 2973, 2987, 2988, 2991, 2991, 3067, 3071, 3104, 3118, 3137, 3155, 3163, 3255, 3259, 3261, 3275, 3278, 3282, 3296, 3300, 3341, 3379, 3382, 3388, 3399, 3431, 3470, 3478, 3496, 3505, 3526, 3526, 3557, 3629, 3633, 3649, 3659, 3689, 3756, 3779, 3815, 3823, 3845, 3861, 3867, 3879, 3909, 3913, 3939, 3945, 3990, 3991, 3994, 4018, 4038, 4045, 4045, 4055, 4072, 4082, 4084, 4087, 4089, 4109, 4115, 4128, 4153, 4154, 4169, 4203, 4219, 4231, 4238, 4244, 4268, 4303, 4315, 4316, 4318, 4324, 4326, 4329, 4345, 4357, 4359, 4386, 4398, 4402, 4426, 4427, 4434, 4436, 4459, 4466, 4468, 4539, 4555, 4555, 4560, 4614, 4621, 4622, 4625, 4689, 4706, 4715, 4737, 4737, 4759, 4773, 4791, 4802, 4826, 4830, 4835, 4867, 4871, 4910, 4936, 4991, 5008, 5020, 5037, 5037, 5110, 5114, 5173, 5193, 5196, 5227, 5241, 5254, 5266, 5286, 5317, 5344, 5350, 5408, 5424, 5425, 5442, 5448, 5469, 5470, 5478, 5491, 5493, 5511, 5514, 5517, 5558, 5593, 5597, 5612, 5623, 5648, 5676, 5676, 5720, 5761, 5775, 5803, 5816, 5840, 5856, 5866, 5919, 5932, 5953, 5979, 5988, 5993, 5999, 6013, 6021, 6031, 6069, 6092, 6099, 6101, 6118, 6132, 6134, 6143, 6146, 6148, 6163, 6173, 6178, 6200, 6207, 6249, 6250, 6274, 6278, 6291, 6305, 6306, 6357, 6401, 6414, 6415, 6421, 6447, 6454, 6474, 6478, 6481, 6493, 6507, 6533, 6548, 6549, 6550, 6565, 6572, 6574, 6587, 6589, 6597, 6622, 6650, 6651, 6658, 6662, 6680, 6700, 6717, 6739, 6746, 6768, 6790, 6808, 6808, 6829, 6830, 6833, 6838, 6845, 6852, 6904, 6922, 6924, 6969, 6977, 7010, 7034, 7050, 7071, 7076, 7095, 7099, 7126, 7139, 7141, 7153, 7197, 7204, 7207, 7224, 7235, 7235, 7240, 7293, 7335, 7355, 7370, 7391, 7391, 7406, 7417, 7419, 7422, 7426, 7440, 7452, 7460, 7466, 7468, 7486, 7512, 7518, 7553, 7565, 7567, 7572, 7586, 7611, 7645, 7658, 7667, 7671, 7674, 7678, 7719, 7732, 7734, 7768, 7770, 7785, 7803, 7844, 7848, 7852, 7861, 7882, 7884, 7905, 7915, 7922, 7947, 7952, 7964, 7985, 7997, 8024, 8035, 8085, 8099, 8134, 8161, 8185, 8200, 8231, 8236, 8237, 8297, 8347, 8375, 8378, 8390, 8418, 8421, 8432, 8447, 8469, 8477, 8490, 8505, 8520, 8529, 8560, 8593, 8627, 8638, 8642, 8645, 8658, 8672, 8681, 8715, 8727, 8744, 8761, 8773, 8774, 8780, 8836, 8863, 8869, 8915, 8915, 8948, 8957, 9000, 9008, 9033, 9047, 9061, 9067, 9098, 9102, 9104, 9106, 9112, 9139, 9157, 9173, 9178, 9192, 9209, 9213, 9236, 9280, 9284, 9286, 9308, 9334, 9355, 9371, 9377, 9407, 9409, 9448, 9451, 9472, 9483, 9514, 9623, 9633, 9643, 9650, 9664, 9665, 9665, 9673, 9691, 9717, 9757, 9764, 9769, 9786, 9807, 9815, 9836, 9853, 9872, 9892, 9934, 9963, 9970, 9987]\n"
          ],
          "name": "stdout"
        }
      ]
    },
    {
      "cell_type": "markdown",
      "metadata": {
        "id": "Oh80jTbi8_uu",
        "colab_type": "text"
      },
      "source": [
        "Cambio Monedas:"
      ]
    },
    {
      "cell_type": "code",
      "metadata": {
        "id": "unuUoknfyStd",
        "colab_type": "code",
        "colab": {}
      },
      "source": [
        "@calcular_tiempo\n",
        "def cambio_monedas(CANTIDAD, SISTEMA):\n",
        "  SOLUCION = [0 for i in range(len(SISTEMA))]\n",
        "  VALOR_ACUMULADO = 0\n",
        "  \n",
        "  for i in range(len(SISTEMA)):\n",
        "    monedas = int((CANTIDAD - VALOR_ACUMULADO)/ SISTEMA[i])\n",
        "    SOLUCION[i] = monedas\n",
        "    VALOR_ACUMULADO += monedas * SISTEMA[i]\n",
        "    if VALOR_ACUMULADO == CANTIDAD: \n",
        "      return SOLUCION\n",
        "    \n",
        "  return SOLUCION"
      ],
      "execution_count": 0,
      "outputs": []
    },
    {
      "cell_type": "code",
      "metadata": {
        "id": "otAg3qq_lGKi",
        "colab_type": "code",
        "outputId": "ab5a2310-2736-4afa-f08c-a4a54643d085",
        "colab": {
          "base_uri": "https://localhost:8080/",
          "height": 68
        }
      },
      "source": [
        "SISTEMA = [25, 10, 5, 1]\n",
        "CANTIDAD = 234\n",
        "solucion = cambio_monedas(CANTIDAD, SISTEMA)\n",
        "\n",
        "print(\"Sistema: \", end=\"\")\n",
        "print(SISTEMA)\n",
        "  \n",
        "print(\"Solucion: \", end=\"\")\n",
        "print(solucion, end=\"\")\n",
        "print(\" para una cantidad de: \", CANTIDAD)"
      ],
      "execution_count": 9,
      "outputs": [
        {
          "output_type": "stream",
          "text": [
            "Tiempo transcurrido (en segundos): 1.0967254638671875e-05\n",
            "Sistema: [25, 10, 5, 1]\n",
            "Solucion: [9, 0, 1, 4] para una cantidad de:  234\n"
          ],
          "name": "stdout"
        }
      ]
    },
    {
      "cell_type": "markdown",
      "metadata": {
        "id": "9fH9zYO8KOlV",
        "colab_type": "text"
      },
      "source": [
        "Reinas:"
      ]
    },
    {
      "cell_type": "code",
      "metadata": {
        "id": "OqM091nxrnkG",
        "colab_type": "code",
        "colab": {}
      },
      "source": [
        "#Algoritmo de vuelta atras para el problema de N reinas\n",
        "def es_prometedora(solucion, etapa):\n",
        "  for i in range(etapa + 1):\n",
        "    if solucion.count(solucion[i]) > 1:\n",
        "      return False\n",
        "    \n",
        "    #verificar si son individuales\n",
        "    for j in range(i+1, etapa + 1):\n",
        "      if abs(i-j) == abs(solucion[i]-solucion[j]):\n",
        "        return False\n",
        "  return True\n",
        "  \n",
        "\n",
        "def reinas(N, solucion = [], etapa=0):\n",
        "  if len(solucion)==0:\n",
        "    solucion = [0 for i in range(N)]\n",
        "  \n",
        "  for i in range(1, N+1):\n",
        "    solucion[etapa] = i\n",
        "    \n",
        "    if es_prometedora(solucion, etapa):\n",
        "      if etapa == N-1:\n",
        "        print(\"\\n\\nLa solucion es: \", end=\"\")\n",
        "        print(solucion)\n",
        "        \n",
        "      else:\n",
        "        reinas(N, solucion, etapa+1)\n",
        "        \n",
        "    else:\n",
        "      None\n",
        "      \n",
        "    solucion[etapa] = 0\n",
        "    \n",
        "@calcular_tiempo\n",
        "def BuscarPosicionReinasEnTablero(NumeroReinas):\n",
        "  reinas(NumeroReinas)"
      ],
      "execution_count": 0,
      "outputs": []
    },
    {
      "cell_type": "code",
      "metadata": {
        "id": "OUWwRN7CtpuA",
        "colab_type": "code",
        "outputId": "7afa3958-2199-480d-a752-05d1b5ef04de",
        "colab": {
          "base_uri": "https://localhost:8080/",
          "height": 4726
        }
      },
      "source": [
        "BuscarPosicionReinasEnTablero(8)"
      ],
      "execution_count": 11,
      "outputs": [
        {
          "output_type": "stream",
          "text": [
            "\n",
            "\n",
            "La solucion es: [1, 5, 8, 6, 3, 7, 2, 4]\n",
            "\n",
            "\n",
            "La solucion es: [1, 6, 8, 3, 7, 4, 2, 5]\n",
            "\n",
            "\n",
            "La solucion es: [1, 7, 4, 6, 8, 2, 5, 3]\n",
            "\n",
            "\n",
            "La solucion es: [1, 7, 5, 8, 2, 4, 6, 3]\n",
            "\n",
            "\n",
            "La solucion es: [2, 4, 6, 8, 3, 1, 7, 5]\n",
            "\n",
            "\n",
            "La solucion es: [2, 5, 7, 1, 3, 8, 6, 4]\n",
            "\n",
            "\n",
            "La solucion es: [2, 5, 7, 4, 1, 8, 6, 3]\n",
            "\n",
            "\n",
            "La solucion es: [2, 6, 1, 7, 4, 8, 3, 5]\n",
            "\n",
            "\n",
            "La solucion es: [2, 6, 8, 3, 1, 4, 7, 5]\n",
            "\n",
            "\n",
            "La solucion es: [2, 7, 3, 6, 8, 5, 1, 4]\n",
            "\n",
            "\n",
            "La solucion es: [2, 7, 5, 8, 1, 4, 6, 3]\n",
            "\n",
            "\n",
            "La solucion es: [2, 8, 6, 1, 3, 5, 7, 4]\n",
            "\n",
            "\n",
            "La solucion es: [3, 1, 7, 5, 8, 2, 4, 6]\n",
            "\n",
            "\n",
            "La solucion es: [3, 5, 2, 8, 1, 7, 4, 6]\n",
            "\n",
            "\n",
            "La solucion es: [3, 5, 2, 8, 6, 4, 7, 1]\n",
            "\n",
            "\n",
            "La solucion es: [3, 5, 7, 1, 4, 2, 8, 6]\n",
            "\n",
            "\n",
            "La solucion es: [3, 5, 8, 4, 1, 7, 2, 6]\n",
            "\n",
            "\n",
            "La solucion es: [3, 6, 2, 5, 8, 1, 7, 4]\n",
            "\n",
            "\n",
            "La solucion es: [3, 6, 2, 7, 1, 4, 8, 5]\n",
            "\n",
            "\n",
            "La solucion es: [3, 6, 2, 7, 5, 1, 8, 4]\n",
            "\n",
            "\n",
            "La solucion es: [3, 6, 4, 1, 8, 5, 7, 2]\n",
            "\n",
            "\n",
            "La solucion es: [3, 6, 4, 2, 8, 5, 7, 1]\n",
            "\n",
            "\n",
            "La solucion es: [3, 6, 8, 1, 4, 7, 5, 2]\n",
            "\n",
            "\n",
            "La solucion es: [3, 6, 8, 1, 5, 7, 2, 4]\n",
            "\n",
            "\n",
            "La solucion es: [3, 6, 8, 2, 4, 1, 7, 5]\n",
            "\n",
            "\n",
            "La solucion es: [3, 7, 2, 8, 5, 1, 4, 6]\n",
            "\n",
            "\n",
            "La solucion es: [3, 7, 2, 8, 6, 4, 1, 5]\n",
            "\n",
            "\n",
            "La solucion es: [3, 8, 4, 7, 1, 6, 2, 5]\n",
            "\n",
            "\n",
            "La solucion es: [4, 1, 5, 8, 2, 7, 3, 6]\n",
            "\n",
            "\n",
            "La solucion es: [4, 1, 5, 8, 6, 3, 7, 2]\n",
            "\n",
            "\n",
            "La solucion es: [4, 2, 5, 8, 6, 1, 3, 7]\n",
            "\n",
            "\n",
            "La solucion es: [4, 2, 7, 3, 6, 8, 1, 5]\n",
            "\n",
            "\n",
            "La solucion es: [4, 2, 7, 3, 6, 8, 5, 1]\n",
            "\n",
            "\n",
            "La solucion es: [4, 2, 7, 5, 1, 8, 6, 3]\n",
            "\n",
            "\n",
            "La solucion es: [4, 2, 8, 5, 7, 1, 3, 6]\n",
            "\n",
            "\n",
            "La solucion es: [4, 2, 8, 6, 1, 3, 5, 7]\n",
            "\n",
            "\n",
            "La solucion es: [4, 6, 1, 5, 2, 8, 3, 7]\n",
            "\n",
            "\n",
            "La solucion es: [4, 6, 8, 2, 7, 1, 3, 5]\n",
            "\n",
            "\n",
            "La solucion es: [4, 6, 8, 3, 1, 7, 5, 2]\n",
            "\n",
            "\n",
            "La solucion es: [4, 7, 1, 8, 5, 2, 6, 3]\n",
            "\n",
            "\n",
            "La solucion es: [4, 7, 3, 8, 2, 5, 1, 6]\n",
            "\n",
            "\n",
            "La solucion es: [4, 7, 5, 2, 6, 1, 3, 8]\n",
            "\n",
            "\n",
            "La solucion es: [4, 7, 5, 3, 1, 6, 8, 2]\n",
            "\n",
            "\n",
            "La solucion es: [4, 8, 1, 3, 6, 2, 7, 5]\n",
            "\n",
            "\n",
            "La solucion es: [4, 8, 1, 5, 7, 2, 6, 3]\n",
            "\n",
            "\n",
            "La solucion es: [4, 8, 5, 3, 1, 7, 2, 6]\n",
            "\n",
            "\n",
            "La solucion es: [5, 1, 4, 6, 8, 2, 7, 3]\n",
            "\n",
            "\n",
            "La solucion es: [5, 1, 8, 4, 2, 7, 3, 6]\n",
            "\n",
            "\n",
            "La solucion es: [5, 1, 8, 6, 3, 7, 2, 4]\n",
            "\n",
            "\n",
            "La solucion es: [5, 2, 4, 6, 8, 3, 1, 7]\n",
            "\n",
            "\n",
            "La solucion es: [5, 2, 4, 7, 3, 8, 6, 1]\n",
            "\n",
            "\n",
            "La solucion es: [5, 2, 6, 1, 7, 4, 8, 3]\n",
            "\n",
            "\n",
            "La solucion es: [5, 2, 8, 1, 4, 7, 3, 6]\n",
            "\n",
            "\n",
            "La solucion es: [5, 3, 1, 6, 8, 2, 4, 7]\n",
            "\n",
            "\n",
            "La solucion es: [5, 3, 1, 7, 2, 8, 6, 4]\n",
            "\n",
            "\n",
            "La solucion es: [5, 3, 8, 4, 7, 1, 6, 2]\n",
            "\n",
            "\n",
            "La solucion es: [5, 7, 1, 3, 8, 6, 4, 2]\n",
            "\n",
            "\n",
            "La solucion es: [5, 7, 1, 4, 2, 8, 6, 3]\n",
            "\n",
            "\n",
            "La solucion es: [5, 7, 2, 4, 8, 1, 3, 6]\n",
            "\n",
            "\n",
            "La solucion es: [5, 7, 2, 6, 3, 1, 4, 8]\n",
            "\n",
            "\n",
            "La solucion es: [5, 7, 2, 6, 3, 1, 8, 4]\n",
            "\n",
            "\n",
            "La solucion es: [5, 7, 4, 1, 3, 8, 6, 2]\n",
            "\n",
            "\n",
            "La solucion es: [5, 8, 4, 1, 3, 6, 2, 7]\n",
            "\n",
            "\n",
            "La solucion es: [5, 8, 4, 1, 7, 2, 6, 3]\n",
            "\n",
            "\n",
            "La solucion es: [6, 1, 5, 2, 8, 3, 7, 4]\n",
            "\n",
            "\n",
            "La solucion es: [6, 2, 7, 1, 3, 5, 8, 4]\n",
            "\n",
            "\n",
            "La solucion es: [6, 2, 7, 1, 4, 8, 5, 3]\n",
            "\n",
            "\n",
            "La solucion es: [6, 3, 1, 7, 5, 8, 2, 4]\n",
            "\n",
            "\n",
            "La solucion es: [6, 3, 1, 8, 4, 2, 7, 5]\n",
            "\n",
            "\n",
            "La solucion es: [6, 3, 1, 8, 5, 2, 4, 7]\n",
            "\n",
            "\n",
            "La solucion es: [6, 3, 5, 7, 1, 4, 2, 8]\n",
            "\n",
            "\n",
            "La solucion es: [6, 3, 5, 8, 1, 4, 2, 7]\n",
            "\n",
            "\n",
            "La solucion es: [6, 3, 7, 2, 4, 8, 1, 5]\n",
            "\n",
            "\n",
            "La solucion es: [6, 3, 7, 2, 8, 5, 1, 4]\n",
            "\n",
            "\n",
            "La solucion es: [6, 3, 7, 4, 1, 8, 2, 5]\n",
            "\n",
            "\n",
            "La solucion es: [6, 4, 1, 5, 8, 2, 7, 3]\n",
            "\n",
            "\n",
            "La solucion es: [6, 4, 2, 8, 5, 7, 1, 3]\n",
            "\n",
            "\n",
            "La solucion es: [6, 4, 7, 1, 3, 5, 2, 8]\n",
            "\n",
            "\n",
            "La solucion es: [6, 4, 7, 1, 8, 2, 5, 3]\n",
            "\n",
            "\n",
            "La solucion es: [6, 8, 2, 4, 1, 7, 5, 3]\n",
            "\n",
            "\n",
            "La solucion es: [7, 1, 3, 8, 6, 4, 2, 5]\n",
            "\n",
            "\n",
            "La solucion es: [7, 2, 4, 1, 8, 5, 3, 6]\n",
            "\n",
            "\n",
            "La solucion es: [7, 2, 6, 3, 1, 4, 8, 5]\n",
            "\n",
            "\n",
            "La solucion es: [7, 3, 1, 6, 8, 5, 2, 4]\n",
            "\n",
            "\n",
            "La solucion es: [7, 3, 8, 2, 5, 1, 6, 4]\n",
            "\n",
            "\n",
            "La solucion es: [7, 4, 2, 5, 8, 1, 3, 6]\n",
            "\n",
            "\n",
            "La solucion es: [7, 4, 2, 8, 6, 1, 3, 5]\n",
            "\n",
            "\n",
            "La solucion es: [7, 5, 3, 1, 6, 8, 2, 4]\n",
            "\n",
            "\n",
            "La solucion es: [8, 2, 4, 1, 7, 5, 3, 6]\n",
            "\n",
            "\n",
            "La solucion es: [8, 2, 5, 3, 1, 7, 4, 6]\n",
            "\n",
            "\n",
            "La solucion es: [8, 3, 1, 6, 2, 5, 7, 4]\n",
            "\n",
            "\n",
            "La solucion es: [8, 4, 1, 3, 6, 2, 7, 5]\n",
            "Tiempo transcurrido (en segundos): 0.08275842666625977\n"
          ],
          "name": "stdout"
        }
      ]
    }
  ]
}