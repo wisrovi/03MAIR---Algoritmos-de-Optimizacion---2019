{
  "nbformat": 4,
  "nbformat_minor": 0,
  "metadata": {
    "colab": {
      "name": "WilliamSteveRodriguezVillamizar_AG2",
      "version": "0.3.2",
      "provenance": [],
      "collapsed_sections": [],
      "include_colab_link": true
    },
    "kernelspec": {
      "name": "python3",
      "display_name": "Python 3"
    }
  },
  "cells": [
    {
      "cell_type": "markdown",
      "metadata": {
        "id": "view-in-github",
        "colab_type": "text"
      },
      "source": [
        "<a href=\"https://colab.research.google.com/github/wisrovi/03MAIR---Algoritmos-de-Optimizacion---2019/blob/master/AG1/WilliamSteveRodriguezVillamizar_AG1.ipynb\" target=\"_parent\"><img src=\"https://colab.research.google.com/assets/colab-badge.svg\" alt=\"Open In Colab\"/></a>"
      ]
    },
    {
      "cell_type": "markdown",
      "metadata": {
        "id": "hVbXYX-RfPWh",
        "colab_type": "text"
      },
      "source": [
        "#  AG1- Actividad Guiada 1<br>\n",
        "\n",
        "Nombre y Apellidos: William Steve Rodriguez Villamizar  <br>\n",
        "\n",
        "\n",
        "\n",
        "\n",
        "\n",
        "                                        "
      ]
    },
    {
      "cell_type": "markdown",
      "metadata": {
        "id": "cmrw2Nx-wnNu",
        "colab_type": "text"
      },
      "source": [
        "Colab: https://colab.research.google.com/github/wisrovi/03MAIR---Algoritmos-de-Optimizacion---2019/blob/master/AG1/WilliamSteveRodriguezVillamizar_AG1.ipynb#scrollTo=cmrw2Nx-wnNu <br>"
      ]
    },
    {
      "cell_type": "markdown",
      "metadata": {
        "id": "8Jd5s-DJwuci",
        "colab_type": "text"
      },
      "source": [
        "Url: https://github.com/wisrovi/03MAIR---Algoritmos-de-Optimizacion---2019/blob/master/AG1/WilliamSteveRodriguezVillamizar_AG1.ipynb<br>"
      ]
    },
    {
      "cell_type": "code",
      "metadata": {
        "id": "o6EubqWDwzLh",
        "colab_type": "code",
        "colab": {}
      },
      "source": [
        "#Decorador de Ricardo Lebron\n",
        "from functools import wraps\n",
        "from time import time\n",
        "\n",
        "def calcular_tiempo(f):\n",
        "    @wraps(f)\n",
        "    def cronometro(*args, **kwargs):\n",
        "        t_inicial = time() #tomo la hora antes de ejecutar la funcion\n",
        "        salida = f(*args, **kwargs)\n",
        "        t_final = time() #tomo la hora despues de ejecutar la funcion\n",
        "        print('Tiempo transcurrido (en segundos): {}'.format(t_final - t_inicial))\n",
        "        return salida\n",
        "    return cronometro"
      ],
      "execution_count": 0,
      "outputs": []
    },
    {
      "cell_type": "code",
      "metadata": {
        "id": "unuUoknfyStd",
        "colab_type": "code",
        "colab": {}
      },
      "source": [
        "def cambio_monedas(CANTIDAD, SISTEMA):\n",
        "  print(\"Sistema: \", end=\"\")\n",
        "  print(SISTEMA)\n",
        "  \n",
        "  SOLUCION = [0 for i in range(len(SISTEMA))]\n",
        "  VALOR_ACUMULADO = 0\n",
        "  \n",
        "  for i in range(len(SISTEMA)):\n",
        "    monedas = int((CANTIDAD - VALOR_ACUMULADO)/ SISTEMA[i])\n",
        "    SOLUCION[i] = monedas\n",
        "    VALOR_ACUMULADO += monedas * SISTEMA[i]\n",
        "    if VALOR_ACUMULADO == CANTIDAD: return SOLUCION\n",
        "    \n",
        "  return SOLUCION\n",
        "\n"
      ],
      "execution_count": 0,
      "outputs": []
    },
    {
      "cell_type": "code",
      "metadata": {
        "id": "otAg3qq_lGKi",
        "colab_type": "code",
        "colab": {
          "base_uri": "https://localhost:8080/",
          "height": 51
        },
        "outputId": "deeedf16-0ddc-4243-d986-291241deef01"
      },
      "source": [
        "SISTEMA = [25, 10, 5, 1]\n",
        "CANTIDAD = 234\n",
        "solucion = cambio_monedas(CANTIDAD, SISTEMA)\n",
        "\n",
        "print(\"Solucion: \", end=\"\")\n",
        "print(solucion, end=\"\")\n",
        "print(\" para una cantidad de: \", CANTIDAD)"
      ],
      "execution_count": 5,
      "outputs": [
        {
          "output_type": "stream",
          "text": [
            "Sistema: [25, 10, 5, 1]\n",
            "Solucion: [9, 0, 1, 4] para una cantidad de:  234\n"
          ],
          "name": "stdout"
        }
      ]
    },
    {
      "cell_type": "code",
      "metadata": {
        "id": "OqM091nxrnkG",
        "colab_type": "code",
        "colab": {}
      },
      "source": [
        "def es_prometedora(solucion, etapa):\n",
        "  for i in range(etapa + 1):\n",
        "    if solucion.count(solucion[i]) > 1:\n",
        "      return False\n",
        "    \n",
        "    #verificar si son individuales\n",
        "    for j in range(i+1, etapa + 1):\n",
        "      if abs(i-j, etapa + 1):\n",
        "        return False\n",
        "  return True\n",
        "  \n",
        "\n",
        "def reinas(N, solucion, etapa):\n",
        "  for i in range(1, N+1):\n",
        "    solucion[etapa] = i\n",
        "    \n",
        "    if es_prometedora(solucion, etapa):\n",
        "      if etapa == N-1:\n",
        "        print(\"\\n\\nLa solucion es: \", end=\"\")\n",
        "        print(solucion)\n",
        "        \n",
        "      else:\n",
        "        reinas(N, solucion, etapa+1)\n",
        "        \n",
        "    else:\n",
        "      None\n",
        "      \n",
        "    solucion[etapa] = 0\n",
        "    "
      ],
      "execution_count": 0,
      "outputs": []
    },
    {
      "cell_type": "code",
      "metadata": {
        "id": "OUWwRN7CtpuA",
        "colab_type": "code",
        "colab": {
          "base_uri": "https://localhost:8080/",
          "height": 163
        },
        "outputId": "ebdece1a-9511-49d9-81e6-38cd5420b415"
      },
      "source": [
        "reinas(4)"
      ],
      "execution_count": 8,
      "outputs": [
        {
          "output_type": "error",
          "ename": "TypeError",
          "evalue": "ignored",
          "traceback": [
            "\u001b[0;31m---------------------------------------------------------------------------\u001b[0m",
            "\u001b[0;31mTypeError\u001b[0m                                 Traceback (most recent call last)",
            "\u001b[0;32m<ipython-input-8-b320b3803dc2>\u001b[0m in \u001b[0;36m<module>\u001b[0;34m()\u001b[0m\n\u001b[0;32m----> 1\u001b[0;31m \u001b[0mreinas\u001b[0m\u001b[0;34m(\u001b[0m\u001b[0;36m4\u001b[0m\u001b[0;34m)\u001b[0m\u001b[0;34m\u001b[0m\u001b[0;34m\u001b[0m\u001b[0m\n\u001b[0m",
            "\u001b[0;31mTypeError\u001b[0m: reinas() missing 2 required positional arguments: 'solucion' and 'etapa'"
          ]
        }
      ]
    }
  ]
}