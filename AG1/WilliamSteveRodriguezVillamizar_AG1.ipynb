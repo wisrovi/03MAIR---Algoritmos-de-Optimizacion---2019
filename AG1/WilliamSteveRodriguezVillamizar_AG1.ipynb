{
  "nbformat": 4,
  "nbformat_minor": 0,
  "metadata": {
    "colab": {
      "name": "WilliamSteveRodriguezVillamizar_AG2",
      "provenance": [],
      "collapsed_sections": [],
      "include_colab_link": true
    },
    "kernelspec": {
      "name": "python3",
      "display_name": "Python 3"
    }
  },
  "cells": [
    {
      "cell_type": "markdown",
      "metadata": {
        "id": "view-in-github",
        "colab_type": "text"
      },
      "source": [
        "<a href=\"https://colab.research.google.com/github/wisrovi/03MAIR---Algoritmos-de-Optimizacion---2019/blob/master/AG1/WilliamSteveRodriguezVillamizar_AG1.ipynb\" target=\"_parent\"><img src=\"https://colab.research.google.com/assets/colab-badge.svg\" alt=\"Open In Colab\"/></a>"
      ]
    },
    {
      "cell_type": "markdown",
      "metadata": {
        "id": "hVbXYX-RfPWh",
        "colab_type": "text"
      },
      "source": [
        "#  AG1- Actividad Guiada 1<br>\n",
        "\n",
        "Nombre y Apellidos: William Steve Rodriguez Villamizar  <br>\n",
        "\n",
        "\n",
        "\n",
        "\n",
        "\n",
        "                                        "
      ]
    },
    {
      "cell_type": "markdown",
      "metadata": {
        "id": "cmrw2Nx-wnNu",
        "colab_type": "text"
      },
      "source": [
        "Colab: https://colab.research.google.com/github/wisrovi/03MAIR---Algoritmos-de-Optimizacion---2019/blob/master/AG1/WilliamSteveRodriguezVillamizar_AG1.ipynb#scrollTo=cmrw2Nx-wnNu <br>"
      ]
    },
    {
      "cell_type": "markdown",
      "metadata": {
        "id": "8Jd5s-DJwuci",
        "colab_type": "text"
      },
      "source": [
        "Url: https://github.com/wisrovi/03MAIR---Algoritmos-de-Optimizacion---2019/blob/master/AG1/WilliamSteveRodriguezVillamizar_AG1.ipynb<br>"
      ]
    },
    {
      "cell_type": "code",
      "metadata": {
        "id": "o6EubqWDwzLh",
        "colab_type": "code",
        "colab": {}
      },
      "source": [
        "#Decorador de Ricardo Lebron\n",
        "from functools import wraps\n",
        "from time import time\n",
        "\n",
        "def calcular_tiempo(f):\n",
        "    @wraps(f)\n",
        "    def cronometro(*args, **kwargs):\n",
        "        t_inicial = time() #tomo la hora antes de ejecutar la funcion\n",
        "        salida = f(*args, **kwargs)\n",
        "        t_final = time() #tomo la hora despues de ejecutar la funcion\n",
        "        print('Tiempo transcurrido (en segundos): {}'.format(t_final - t_inicial))\n",
        "        return salida\n",
        "    return cronometro"
      ],
      "execution_count": 0,
      "outputs": []
    },
    {
      "cell_type": "code",
      "metadata": {
        "id": "JaRw6s0UHwFu",
        "colab_type": "code",
        "colab": {}
      },
      "source": [
        "import random"
      ],
      "execution_count": 0,
      "outputs": []
    },
    {
      "cell_type": "markdown",
      "metadata": {
        "id": "gC2Xpcqv9EaV",
        "colab_type": "text"
      },
      "source": [
        "Torres de Hanoi (por recursividad):"
      ]
    },
    {
      "cell_type": "code",
      "metadata": {
        "id": "fGHN64f08wDe",
        "colab_type": "code",
        "outputId": "a552daad-1ab8-4ed6-c6b2-d75fb1afd4b6",
        "colab": {
          "base_uri": "https://localhost:8080/",
          "height": 289
        }
      },
      "source": [
        "def torres_hanoi(N, desde=1, hasta=3):\n",
        "  if N==1:\n",
        "    print(\"Llevar desde \" + str(desde) + \" hasta \" + str(hasta))\n",
        "  else:\n",
        "    torres_hanoi(N-1, desde, 6 - desde - hasta)\n",
        "    print(\"Llevar desde \" + str(desde) + \" hasta \" + str(hasta))\n",
        "    torres_hanoi(N-1, 6 - desde - hasta, hasta)\n",
        "    \n",
        "@calcular_tiempo\n",
        "def verMovimientos_JugarTorresHanoi(numero_discos):\n",
        "  torres_hanoi(4)\n",
        "verMovimientos_JugarTorresHanoi(4)"
      ],
      "execution_count": 3,
      "outputs": [
        {
          "output_type": "stream",
          "text": [
            "Llevar desde 1 hasta 2\n",
            "Llevar desde 1 hasta 3\n",
            "Llevar desde 2 hasta 3\n",
            "Llevar desde 1 hasta 2\n",
            "Llevar desde 3 hasta 1\n",
            "Llevar desde 3 hasta 2\n",
            "Llevar desde 1 hasta 2\n",
            "Llevar desde 1 hasta 3\n",
            "Llevar desde 2 hasta 3\n",
            "Llevar desde 2 hasta 1\n",
            "Llevar desde 3 hasta 1\n",
            "Llevar desde 2 hasta 3\n",
            "Llevar desde 1 hasta 2\n",
            "Llevar desde 1 hasta 3\n",
            "Llevar desde 2 hasta 3\n",
            "Tiempo transcurrido (en segundos): 0.0017497539520263672\n"
          ],
          "name": "stdout"
        }
      ]
    },
    {
      "cell_type": "markdown",
      "metadata": {
        "id": "cfPWiSpLBkFm",
        "colab_type": "text"
      },
      "source": [
        "Fibonacci (por recursividad):"
      ]
    },
    {
      "cell_type": "code",
      "metadata": {
        "id": "8AbH4X_hBhhE",
        "colab_type": "code",
        "outputId": "56df48e8-eba8-422d-956f-e1f4d0535d49",
        "colab": {
          "base_uri": "https://localhost:8080/",
          "height": 51
        }
      },
      "source": [
        "def Fibonacci(final, valor = 0, anterior = 0, listado = []):\n",
        "  if valor ==0:\n",
        "    listado.append(0)\n",
        "    listado.append(1)\n",
        "    Fibonacci(final, 1, 0, listado)      \n",
        "  else:\n",
        "    if (valor + anterior) <= final:    \n",
        "      listado.append(valor + anterior)\n",
        "      Fibonacci(final, valor + anterior, valor, listado)\n",
        "    else:\n",
        "      print(listado)\n",
        "    \n",
        "@calcular_tiempo\n",
        "def VerNumerosFibonacci(numeroFinalFibonacci)    :\n",
        "  Fibonacci(1000)\n",
        "    \n",
        "VerNumerosFibonacci(1000)"
      ],
      "execution_count": 4,
      "outputs": [
        {
          "output_type": "stream",
          "text": [
            "[0, 1, 1, 2, 3, 5, 8, 13, 21, 34, 55, 89, 144, 233, 377, 610, 987]\n",
            "Tiempo transcurrido (en segundos): 0.0016307830810546875\n"
          ],
          "name": "stdout"
        }
      ]
    },
    {
      "cell_type": "markdown",
      "metadata": {
        "id": "IZhGYK7ZFsuh",
        "colab_type": "text"
      },
      "source": [
        "Inicio de la actividad guiada:"
      ]
    },
    {
      "cell_type": "code",
      "metadata": {
        "id": "OXiRY29oFOgE",
        "colab_type": "code",
        "colab": {}
      },
      "source": [
        "def quick_sort(A):\n",
        "    if len(A)<=1:\n",
        "        return A\n",
        "    \n",
        "    if len(A)==2:\n",
        "        return [min(A), max (A)]\n",
        "    \n",
        "    pivote = (A[0] + A[1] + A[2])/3\n",
        "    IZQ = []\n",
        "    DER = []\n",
        "    \n",
        "    for i in A:\n",
        "        if i <= pivote:\n",
        "            IZQ.append(i)\n",
        "        else:\n",
        "            DER.append(i)\n",
        "    return quick_sort(IZQ) + quick_sort(DER)\n",
        "  \n",
        "@calcular_tiempo\n",
        "def QS(A):\n",
        "    return quick_sort(A)"
      ],
      "execution_count": 0,
      "outputs": []
    },
    {
      "cell_type": "code",
      "metadata": {
        "id": "l2qhPEO-FFSQ",
        "colab_type": "code",
        "outputId": "6cf929e4-b0f1-4223-ab06-f82afc103ab4",
        "colab": {
          "base_uri": "https://localhost:8080/",
          "height": 71
        }
      },
      "source": [
        "A = [9187, 244, 4054, 9222, 8373, 4993, 5265, 5470, 4519, 7182, 2035, 3506, 4337, 7580, 2554, 2824, 8357, 4447, 7379]\n",
        "A = list(map(lambda x: random.randrange(1,10000), range(1,600)))\n",
        "\n",
        "print(QS(A))"
      ],
      "execution_count": 6,
      "outputs": [
        {
          "output_type": "stream",
          "text": [
            "Tiempo transcurrido (en segundos): 0.0016117095947265625\n",
            "[15, 19, 33, 49, 50, 63, 72, 76, 89, 98, 101, 116, 131, 159, 161, 176, 187, 199, 237, 275, 277, 279, 294, 295, 302, 330, 334, 341, 369, 414, 428, 430, 449, 456, 476, 490, 526, 614, 620, 642, 658, 673, 717, 722, 739, 741, 771, 805, 813, 819, 848, 901, 928, 932, 932, 940, 960, 970, 1000, 1033, 1060, 1080, 1083, 1089, 1109, 1119, 1163, 1170, 1217, 1235, 1238, 1277, 1278, 1333, 1348, 1359, 1361, 1374, 1409, 1427, 1434, 1446, 1462, 1480, 1487, 1498, 1512, 1516, 1519, 1531, 1547, 1552, 1563, 1567, 1607, 1639, 1647, 1672, 1708, 1748, 1754, 1757, 1768, 1769, 1773, 1781, 1823, 1831, 1837, 1849, 1912, 1939, 1981, 2002, 2008, 2009, 2030, 2128, 2147, 2159, 2200, 2202, 2203, 2246, 2277, 2322, 2328, 2336, 2367, 2386, 2386, 2401, 2409, 2429, 2445, 2452, 2457, 2470, 2473, 2497, 2502, 2510, 2530, 2552, 2560, 2570, 2587, 2600, 2601, 2614, 2633, 2638, 2639, 2663, 2678, 2682, 2698, 2701, 2704, 2730, 2732, 2736, 2743, 2793, 2820, 2824, 2827, 2840, 2851, 2854, 2870, 2882, 2893, 2894, 2942, 2984, 2988, 3005, 3010, 3032, 3051, 3063, 3063, 3066, 3094, 3099, 3101, 3122, 3138, 3149, 3176, 3177, 3188, 3209, 3225, 3259, 3277, 3281, 3288, 3293, 3339, 3380, 3427, 3434, 3441, 3461, 3469, 3470, 3496, 3516, 3555, 3577, 3666, 3673, 3698, 3705, 3743, 3761, 3761, 3808, 3811, 3830, 3881, 3899, 3910, 3930, 3944, 3945, 3951, 3998, 4004, 4034, 4039, 4092, 4107, 4115, 4118, 4164, 4171, 4186, 4188, 4216, 4245, 4271, 4301, 4301, 4321, 4328, 4332, 4333, 4338, 4416, 4426, 4430, 4463, 4487, 4492, 4532, 4563, 4571, 4605, 4610, 4629, 4651, 4652, 4657, 4710, 4712, 4726, 4754, 4801, 4806, 4823, 4825, 4828, 4832, 4898, 4913, 4919, 4923, 4933, 4969, 4970, 4993, 5008, 5058, 5074, 5095, 5099, 5104, 5128, 5135, 5139, 5163, 5164, 5172, 5226, 5226, 5255, 5295, 5316, 5347, 5372, 5374, 5381, 5385, 5390, 5430, 5430, 5432, 5475, 5485, 5493, 5508, 5520, 5524, 5534, 5543, 5573, 5585, 5594, 5600, 5620, 5644, 5646, 5721, 5729, 5738, 5746, 5750, 5762, 5775, 5776, 5784, 5785, 5793, 5797, 5808, 5814, 5824, 5827, 5833, 5859, 5870, 5883, 5890, 5916, 5941, 5991, 6001, 6032, 6050, 6106, 6130, 6152, 6177, 6179, 6196, 6205, 6214, 6239, 6261, 6267, 6270, 6302, 6307, 6333, 6344, 6354, 6360, 6369, 6397, 6417, 6422, 6426, 6434, 6436, 6442, 6474, 6489, 6494, 6530, 6539, 6540, 6549, 6575, 6601, 6627, 6641, 6648, 6651, 6676, 6680, 6690, 6723, 6728, 6732, 6736, 6759, 6824, 6832, 6835, 6862, 6877, 6899, 6912, 6932, 7001, 7004, 7058, 7084, 7092, 7119, 7139, 7154, 7157, 7167, 7180, 7200, 7216, 7218, 7228, 7246, 7253, 7283, 7288, 7288, 7302, 7303, 7329, 7334, 7340, 7353, 7382, 7391, 7402, 7466, 7481, 7494, 7495, 7499, 7510, 7531, 7549, 7550, 7586, 7605, 7614, 7625, 7628, 7658, 7664, 7665, 7669, 7676, 7678, 7733, 7734, 7772, 7782, 7795, 7811, 7815, 7818, 7822, 7825, 7829, 7832, 7845, 7850, 7852, 7869, 7890, 7902, 7906, 7916, 7949, 7981, 8019, 8028, 8059, 8064, 8092, 8096, 8117, 8121, 8139, 8160, 8181, 8189, 8242, 8254, 8254, 8274, 8277, 8278, 8308, 8342, 8364, 8380, 8404, 8429, 8434, 8438, 8457, 8460, 8493, 8499, 8499, 8517, 8575, 8583, 8593, 8615, 8638, 8652, 8659, 8686, 8704, 8705, 8740, 8741, 8743, 8745, 8780, 8799, 8802, 8804, 8809, 8827, 8840, 8864, 8888, 8898, 8903, 8919, 8931, 8935, 8939, 8948, 8960, 8975, 8986, 9008, 9027, 9080, 9084, 9089, 9160, 9168, 9169, 9211, 9244, 9249, 9276, 9294, 9300, 9321, 9324, 9361, 9372, 9381, 9393, 9414, 9418, 9422, 9499, 9501, 9510, 9518, 9530, 9534, 9570, 9570, 9575, 9585, 9587, 9588, 9602, 9610, 9611, 9629, 9671, 9706, 9754, 9778, 9786, 9796, 9828, 9850, 9854, 9875, 9886, 9916, 9928, 9928, 9929, 9942, 9976]\n"
          ],
          "name": "stdout"
        }
      ]
    },
    {
      "cell_type": "markdown",
      "metadata": {
        "id": "Oh80jTbi8_uu",
        "colab_type": "text"
      },
      "source": [
        "Cambio Monedas:"
      ]
    },
    {
      "cell_type": "code",
      "metadata": {
        "id": "unuUoknfyStd",
        "colab_type": "code",
        "colab": {}
      },
      "source": [
        "@calcular_tiempo\n",
        "def cambio_monedas(CANTIDAD, SISTEMA):\n",
        "  SOLUCION = [0 for i in range(len(SISTEMA))]\n",
        "  VALOR_ACUMULADO = 0\n",
        "  \n",
        "  for i in range(len(SISTEMA)):\n",
        "    monedas = int((CANTIDAD - VALOR_ACUMULADO)/ SISTEMA[i])\n",
        "    SOLUCION[i] = monedas\n",
        "    VALOR_ACUMULADO += monedas * SISTEMA[i]\n",
        "    if VALOR_ACUMULADO == CANTIDAD: \n",
        "      return SOLUCION\n",
        "    \n",
        "  return SOLUCION"
      ],
      "execution_count": 0,
      "outputs": []
    },
    {
      "cell_type": "code",
      "metadata": {
        "id": "otAg3qq_lGKi",
        "colab_type": "code",
        "outputId": "ab98edc6-1922-454f-837e-d56ef942b25e",
        "colab": {
          "base_uri": "https://localhost:8080/",
          "height": 68
        }
      },
      "source": [
        "SISTEMA = [25, 10, 5, 1]\n",
        "CANTIDAD = 234\n",
        "solucion = cambio_monedas(CANTIDAD, SISTEMA)\n",
        "\n",
        "print(\"Sistema: \", end=\"\")\n",
        "print(SISTEMA)\n",
        "  \n",
        "print(\"Solucion: \", end=\"\")\n",
        "print(solucion, end=\"\")\n",
        "print(\" para una cantidad de: \", CANTIDAD)"
      ],
      "execution_count": 8,
      "outputs": [
        {
          "output_type": "stream",
          "text": [
            "Tiempo transcurrido (en segundos): 8.106231689453125e-06\n",
            "Sistema: [25, 10, 5, 1]\n",
            "Solucion: [9, 0, 1, 4] para una cantidad de:  234\n"
          ],
          "name": "stdout"
        }
      ]
    },
    {
      "cell_type": "markdown",
      "metadata": {
        "id": "9fH9zYO8KOlV",
        "colab_type": "text"
      },
      "source": [
        "Reinas:"
      ]
    },
    {
      "cell_type": "code",
      "metadata": {
        "id": "OqM091nxrnkG",
        "colab_type": "code",
        "colab": {}
      },
      "source": [
        "#Algoritmo de vuelta atras para el problema de N reinas\n",
        "def es_prometedora(solucion, etapa):\n",
        "  for i in range(etapa + 1):\n",
        "    if solucion.count(solucion[i]) > 1:\n",
        "      return False\n",
        "    \n",
        "    #verificar si son individuales\n",
        "    for j in range(i+1, etapa + 1):\n",
        "      if abs(i-j) == abs(solucion[i]-solucion[j]):\n",
        "        return False\n",
        "  return True\n",
        "  \n",
        "\n",
        "def reinas(N, solucion = [], etapa=0):\n",
        "  if len(solucion)==0:\n",
        "    solucion = [0 for i in range(N)]\n",
        "  \n",
        "  for i in range(1, N+1):\n",
        "    solucion[etapa] = i\n",
        "    \n",
        "    if es_prometedora(solucion, etapa):\n",
        "      if etapa == N-1:\n",
        "        print(\"\\n\\nLa solucion es: \", end=\"\")\n",
        "        print(solucion)\n",
        "        \n",
        "      else:\n",
        "        reinas(N, solucion, etapa+1)\n",
        "        \n",
        "    else:\n",
        "      None\n",
        "      \n",
        "    solucion[etapa] = 0\n",
        "    \n",
        "@calcular_tiempo\n",
        "def BuscarPosicionReinasEnTablero(NumeroReinas):\n",
        "  reinas(NumeroReinas)"
      ],
      "execution_count": 0,
      "outputs": []
    },
    {
      "cell_type": "code",
      "metadata": {
        "id": "OUWwRN7CtpuA",
        "colab_type": "code",
        "outputId": "91242857-ae59-4dba-cd1b-ec3c9423d00d",
        "colab": {
          "base_uri": "https://localhost:8080/",
          "height": 1000
        }
      },
      "source": [
        "BuscarPosicionReinasEnTablero(8)"
      ],
      "execution_count": 10,
      "outputs": [
        {
          "output_type": "stream",
          "text": [
            "\n",
            "\n",
            "La solucion es: [1, 5, 8, 6, 3, 7, 2, 4]\n",
            "\n",
            "\n",
            "La solucion es: [1, 6, 8, 3, 7, 4, 2, 5]\n",
            "\n",
            "\n",
            "La solucion es: [1, 7, 4, 6, 8, 2, 5, 3]\n",
            "\n",
            "\n",
            "La solucion es: [1, 7, 5, 8, 2, 4, 6, 3]\n",
            "\n",
            "\n",
            "La solucion es: [2, 4, 6, 8, 3, 1, 7, 5]\n",
            "\n",
            "\n",
            "La solucion es: [2, 5, 7, 1, 3, 8, 6, 4]\n",
            "\n",
            "\n",
            "La solucion es: [2, 5, 7, 4, 1, 8, 6, 3]\n",
            "\n",
            "\n",
            "La solucion es: [2, 6, 1, 7, 4, 8, 3, 5]\n",
            "\n",
            "\n",
            "La solucion es: [2, 6, 8, 3, 1, 4, 7, 5]\n",
            "\n",
            "\n",
            "La solucion es: [2, 7, 3, 6, 8, 5, 1, 4]\n",
            "\n",
            "\n",
            "La solucion es: [2, 7, 5, 8, 1, 4, 6, 3]\n",
            "\n",
            "\n",
            "La solucion es: [2, 8, 6, 1, 3, 5, 7, 4]\n",
            "\n",
            "\n",
            "La solucion es: [3, 1, 7, 5, 8, 2, 4, 6]\n",
            "\n",
            "\n",
            "La solucion es: [3, 5, 2, 8, 1, 7, 4, 6]\n",
            "\n",
            "\n",
            "La solucion es: [3, 5, 2, 8, 6, 4, 7, 1]\n",
            "\n",
            "\n",
            "La solucion es: [3, 5, 7, 1, 4, 2, 8, 6]\n",
            "\n",
            "\n",
            "La solucion es: [3, 5, 8, 4, 1, 7, 2, 6]\n",
            "\n",
            "\n",
            "La solucion es: [3, 6, 2, 5, 8, 1, 7, 4]\n",
            "\n",
            "\n",
            "La solucion es: [3, 6, 2, 7, 1, 4, 8, 5]\n",
            "\n",
            "\n",
            "La solucion es: [3, 6, 2, 7, 5, 1, 8, 4]\n",
            "\n",
            "\n",
            "La solucion es: [3, 6, 4, 1, 8, 5, 7, 2]\n",
            "\n",
            "\n",
            "La solucion es: [3, 6, 4, 2, 8, 5, 7, 1]\n",
            "\n",
            "\n",
            "La solucion es: [3, 6, 8, 1, 4, 7, 5, 2]\n",
            "\n",
            "\n",
            "La solucion es: [3, 6, 8, 1, 5, 7, 2, 4]\n",
            "\n",
            "\n",
            "La solucion es: [3, 6, 8, 2, 4, 1, 7, 5]\n",
            "\n",
            "\n",
            "La solucion es: [3, 7, 2, 8, 5, 1, 4, 6]\n",
            "\n",
            "\n",
            "La solucion es: [3, 7, 2, 8, 6, 4, 1, 5]\n",
            "\n",
            "\n",
            "La solucion es: [3, 8, 4, 7, 1, 6, 2, 5]\n",
            "\n",
            "\n",
            "La solucion es: [4, 1, 5, 8, 2, 7, 3, 6]\n",
            "\n",
            "\n",
            "La solucion es: [4, 1, 5, 8, 6, 3, 7, 2]\n",
            "\n",
            "\n",
            "La solucion es: [4, 2, 5, 8, 6, 1, 3, 7]\n",
            "\n",
            "\n",
            "La solucion es: [4, 2, 7, 3, 6, 8, 1, 5]\n",
            "\n",
            "\n",
            "La solucion es: [4, 2, 7, 3, 6, 8, 5, 1]\n",
            "\n",
            "\n",
            "La solucion es: [4, 2, 7, 5, 1, 8, 6, 3]\n",
            "\n",
            "\n",
            "La solucion es: [4, 2, 8, 5, 7, 1, 3, 6]\n",
            "\n",
            "\n",
            "La solucion es: [4, 2, 8, 6, 1, 3, 5, 7]\n",
            "\n",
            "\n",
            "La solucion es: [4, 6, 1, 5, 2, 8, 3, 7]\n",
            "\n",
            "\n",
            "La solucion es: [4, 6, 8, 2, 7, 1, 3, 5]\n",
            "\n",
            "\n",
            "La solucion es: [4, 6, 8, 3, 1, 7, 5, 2]\n",
            "\n",
            "\n",
            "La solucion es: [4, 7, 1, 8, 5, 2, 6, 3]\n",
            "\n",
            "\n",
            "La solucion es: [4, 7, 3, 8, 2, 5, 1, 6]\n",
            "\n",
            "\n",
            "La solucion es: [4, 7, 5, 2, 6, 1, 3, 8]\n",
            "\n",
            "\n",
            "La solucion es: [4, 7, 5, 3, 1, 6, 8, 2]\n",
            "\n",
            "\n",
            "La solucion es: [4, 8, 1, 3, 6, 2, 7, 5]\n",
            "\n",
            "\n",
            "La solucion es: [4, 8, 1, 5, 7, 2, 6, 3]\n",
            "\n",
            "\n",
            "La solucion es: [4, 8, 5, 3, 1, 7, 2, 6]\n",
            "\n",
            "\n",
            "La solucion es: [5, 1, 4, 6, 8, 2, 7, 3]\n",
            "\n",
            "\n",
            "La solucion es: [5, 1, 8, 4, 2, 7, 3, 6]\n",
            "\n",
            "\n",
            "La solucion es: [5, 1, 8, 6, 3, 7, 2, 4]\n",
            "\n",
            "\n",
            "La solucion es: [5, 2, 4, 6, 8, 3, 1, 7]\n",
            "\n",
            "\n",
            "La solucion es: [5, 2, 4, 7, 3, 8, 6, 1]\n",
            "\n",
            "\n",
            "La solucion es: [5, 2, 6, 1, 7, 4, 8, 3]\n",
            "\n",
            "\n",
            "La solucion es: [5, 2, 8, 1, 4, 7, 3, 6]\n",
            "\n",
            "\n",
            "La solucion es: [5, 3, 1, 6, 8, 2, 4, 7]\n",
            "\n",
            "\n",
            "La solucion es: [5, 3, 1, 7, 2, 8, 6, 4]\n",
            "\n",
            "\n",
            "La solucion es: [5, 3, 8, 4, 7, 1, 6, 2]\n",
            "\n",
            "\n",
            "La solucion es: [5, 7, 1, 3, 8, 6, 4, 2]\n",
            "\n",
            "\n",
            "La solucion es: [5, 7, 1, 4, 2, 8, 6, 3]\n",
            "\n",
            "\n",
            "La solucion es: [5, 7, 2, 4, 8, 1, 3, 6]\n",
            "\n",
            "\n",
            "La solucion es: [5, 7, 2, 6, 3, 1, 4, 8]\n",
            "\n",
            "\n",
            "La solucion es: [5, 7, 2, 6, 3, 1, 8, 4]\n",
            "\n",
            "\n",
            "La solucion es: [5, 7, 4, 1, 3, 8, 6, 2]\n",
            "\n",
            "\n",
            "La solucion es: [5, 8, 4, 1, 3, 6, 2, 7]\n",
            "\n",
            "\n",
            "La solucion es: [5, 8, 4, 1, 7, 2, 6, 3]\n",
            "\n",
            "\n",
            "La solucion es: [6, 1, 5, 2, 8, 3, 7, 4]\n",
            "\n",
            "\n",
            "La solucion es: [6, 2, 7, 1, 3, 5, 8, 4]\n",
            "\n",
            "\n",
            "La solucion es: [6, 2, 7, 1, 4, 8, 5, 3]\n",
            "\n",
            "\n",
            "La solucion es: [6, 3, 1, 7, 5, 8, 2, 4]\n",
            "\n",
            "\n",
            "La solucion es: [6, 3, 1, 8, 4, 2, 7, 5]\n",
            "\n",
            "\n",
            "La solucion es: [6, 3, 1, 8, 5, 2, 4, 7]\n",
            "\n",
            "\n",
            "La solucion es: [6, 3, 5, 7, 1, 4, 2, 8]\n",
            "\n",
            "\n",
            "La solucion es: [6, 3, 5, 8, 1, 4, 2, 7]\n",
            "\n",
            "\n",
            "La solucion es: [6, 3, 7, 2, 4, 8, 1, 5]\n",
            "\n",
            "\n",
            "La solucion es: [6, 3, 7, 2, 8, 5, 1, 4]\n",
            "\n",
            "\n",
            "La solucion es: [6, 3, 7, 4, 1, 8, 2, 5]\n",
            "\n",
            "\n",
            "La solucion es: [6, 4, 1, 5, 8, 2, 7, 3]\n",
            "\n",
            "\n",
            "La solucion es: [6, 4, 2, 8, 5, 7, 1, 3]\n",
            "\n",
            "\n",
            "La solucion es: [6, 4, 7, 1, 3, 5, 2, 8]\n",
            "\n",
            "\n",
            "La solucion es: [6, 4, 7, 1, 8, 2, 5, 3]\n",
            "\n",
            "\n",
            "La solucion es: [6, 8, 2, 4, 1, 7, 5, 3]\n",
            "\n",
            "\n",
            "La solucion es: [7, 1, 3, 8, 6, 4, 2, 5]\n",
            "\n",
            "\n",
            "La solucion es: [7, 2, 4, 1, 8, 5, 3, 6]\n",
            "\n",
            "\n",
            "La solucion es: [7, 2, 6, 3, 1, 4, 8, 5]\n",
            "\n",
            "\n",
            "La solucion es: [7, 3, 1, 6, 8, 5, 2, 4]\n",
            "\n",
            "\n",
            "La solucion es: [7, 3, 8, 2, 5, 1, 6, 4]\n",
            "\n",
            "\n",
            "La solucion es: [7, 4, 2, 5, 8, 1, 3, 6]\n",
            "\n",
            "\n",
            "La solucion es: [7, 4, 2, 8, 6, 1, 3, 5]\n",
            "\n",
            "\n",
            "La solucion es: [7, 5, 3, 1, 6, 8, 2, 4]\n",
            "\n",
            "\n",
            "La solucion es: [8, 2, 4, 1, 7, 5, 3, 6]\n",
            "\n",
            "\n",
            "La solucion es: [8, 2, 5, 3, 1, 7, 4, 6]\n",
            "\n",
            "\n",
            "La solucion es: [8, 3, 1, 6, 2, 5, 7, 4]\n",
            "\n",
            "\n",
            "La solucion es: [8, 4, 1, 3, 6, 2, 7, 5]\n",
            "Tiempo transcurrido (en segundos): 0.0673530101776123\n"
          ],
          "name": "stdout"
        }
      ]
    },
    {
      "cell_type": "markdown",
      "metadata": {
        "id": "1-YDhq1EdLDA",
        "colab_type": "text"
      },
      "source": [
        "Distancia de dos puntos:"
      ]
    },
    {
      "cell_type": "code",
      "metadata": {
        "id": "N5PTCud-gsQa",
        "colab_type": "code",
        "colab": {}
      },
      "source": [
        "import math"
      ],
      "execution_count": 0,
      "outputs": []
    },
    {
      "cell_type": "code",
      "metadata": {
        "id": "PoqKvpMZdNRV",
        "colab_type": "code",
        "colab": {
          "base_uri": "https://localhost:8080/",
          "height": 170
        },
        "outputId": "edee101d-367d-42f6-9b10-6b47d8ce510d"
      },
      "source": [
        "numeroDimensiones = 3\n",
        "\n",
        "def GenerarLista(dimension=1):\n",
        "  if dimension == 1:\n",
        "    return list(random.randrange(1,10000) for x in range(1,1000))\n",
        "  if dimension == 2:\n",
        "    return list((random.randrange(1,10000),random.randrange(1,10000)) for x in range(1,1000))\n",
        "  if dimension == 3:\n",
        "    return list((random.randrange(1,10000),random.randrange(1,10000),random.randrange(1,10000)) for x in range(1,1000))\n",
        "  \n",
        "\n",
        "A = GenerarLista(numeroDimensiones)\n",
        "\n",
        "def DistanciaPuntos(listaPuntos, dimension = 1):\n",
        "  distancia_menor = 10e100\n",
        "  puntos_distancia_menor = [0,0]\n",
        "  for indice_punto in range(len(listaPuntos)):\n",
        "    if indice_punto>0:\n",
        "      punto_actual = listaPuntos[indice_punto]\n",
        "      punto_anterior = listaPuntos[indice_punto - 1]\n",
        "      if dimension == 1:\n",
        "        try:\n",
        "          distancia = abs(punto_actual - punto_anterior)        \n",
        "        except:\n",
        "          print(\"A ocurrido un error, la lista ingresada no tiene una dimension.\")  \n",
        "          return \"\"\n",
        "      if dimension == 2:\n",
        "        try:\n",
        "          x1,y1 = punto_actual\n",
        "          x2,y2 = punto_anterior\n",
        "          cateto1 = abs(x1 - x2) \n",
        "          cateto2 = abs(y1 - y2) \n",
        "          distancia = math.sqrt(cateto1**2+cateto2**2)\n",
        "        except:\n",
        "          print(\"A ocurrido un error, la lista ingresada no tiene dos dimensiones.\")  \n",
        "          return \"\"\n",
        "      if dimension == 3:\n",
        "        try:\n",
        "          x1,y1,z1 = punto_actual\n",
        "          x2,y2,z2 = punto_anterior\n",
        "          cateto1 = abs(x1 - x2) \n",
        "          cateto2 = abs(y1 - y2) \n",
        "          cateto3 = abs(z1 - z2) \n",
        "          distancia = math.sqrt(cateto1+cateto2+cateto3)\n",
        "        except:\n",
        "          print(\"A ocurrido un error, la lista ingresada no tiene dos dimensiones.\")  \n",
        "          return \"\"\n",
        "      \n",
        "      if distancia < distancia_menor:\n",
        "          distancia_menor = distancia\n",
        "          puntos_distancia_menor[0] = punto_actual\n",
        "          puntos_distancia_menor[1] = punto_anterior\n",
        "  print(\"Punto1 : \", end=\"\")\n",
        "  print(puntos_distancia_menor[0], end=\"\")\n",
        "  print(\" - Punto2 : \", end=\"\")\n",
        "  print(puntos_distancia_menor[1], end=\"\")\n",
        "  print(\" -> Distancia : \", end=\"\")\n",
        "  print(distancia_menor)\n",
        "  \n",
        "          \n",
        "    \n",
        "    \n",
        "  return distancia_menor, (puntos_distancia_menor[0], puntos_distancia_menor[1])\n",
        "\n",
        "print(\"\\nUna dimensión:\")\n",
        "solucion = DistanciaPuntos(GenerarLista(1), 1)\n",
        "print(\"\\nDos dimensiones:\")\n",
        "solucion = DistanciaPuntos(GenerarLista(2), 2)\n",
        "print(\"\\nTres dimensiones:\")\n",
        "solucion = DistanciaPuntos(GenerarLista(3), 3)"
      ],
      "execution_count": 12,
      "outputs": [
        {
          "output_type": "stream",
          "text": [
            "\n",
            "Una dimensión:\n",
            "Punto1 : 6084 - Punto2 : 6083 -> Distancia : 1\n",
            "\n",
            "Dos dimensiones:\n",
            "Punto1 : (9258, 3634) - Punto2 : (9312, 3569) -> Distancia : 84.50443775329198\n",
            "\n",
            "Tres dimensiones:\n",
            "Punto1 : (6636, 5563, 3433) - Punto2 : (6680, 5578, 3288) -> Distancia : 14.2828568570857\n"
          ],
          "name": "stdout"
        }
      ]
    }
  ]
}