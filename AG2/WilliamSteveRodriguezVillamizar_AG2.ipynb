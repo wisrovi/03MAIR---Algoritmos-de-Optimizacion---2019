{
  "nbformat": 4,
  "nbformat_minor": 0,
  "metadata": {
    "colab": {
      "name": "WilliamSteveRodriguezVillamizar_AG2",
      "provenance": [],
      "collapsed_sections": [],
      "include_colab_link": true
    },
    "kernelspec": {
      "name": "python3",
      "display_name": "Python 3"
    }
  },
  "cells": [
    {
      "cell_type": "markdown",
      "metadata": {
        "id": "view-in-github",
        "colab_type": "text"
      },
      "source": [
        "<a href=\"https://colab.research.google.com/github/wisrovi/03MAIR---Algoritmos-de-Optimizacion---2019/blob/master/AG2/WilliamSteveRodriguezVillamizar_AG2.ipynb\" target=\"_parent\"><img src=\"https://colab.research.google.com/assets/colab-badge.svg\" alt=\"Open In Colab\"/></a>"
      ]
    },
    {
      "cell_type": "markdown",
      "metadata": {
        "id": "hVbXYX-RfPWh",
        "colab_type": "text"
      },
      "source": [
        "# AG1- Actividad Guiada 2<br>\n",
        "Nombre y Apellidos:   <br>\n",
        "Colab: https://colab.research.google.com/github/wisrovi/03MAIR---Algoritmos-de-Optimizacion---2019/blob/master/AG2/WilliamSteveRodriguezVillamizar_AG2.ipynb<br>\n",
        "\n",
        "Url:: https://github.com/wisrovi/03MAIR---Algoritmos-de-Optimizacion---2019/blob/master/AG2/WilliamSteveRodriguezVillamizar_AG2.ipynb<br>\n"
      ]
    },
    {
      "cell_type": "code",
      "metadata": {
        "id": "1zHveYUYpG3U",
        "colab_type": "code",
        "colab": {}
      },
      "source": [
        "#Decorador de Ricardo Lebron\n",
        "from functools import wraps\n",
        "from time import time\n",
        "\n",
        "def calcular_tiempo(f):\n",
        "    @wraps(f)\n",
        "    def cronometro(*args, **kwargs):\n",
        "        t_inicial = time() #tomo la hora antes de ejecutar la funcion\n",
        "        salida = f(*args, **kwargs)\n",
        "        t_final = time() #tomo la hora despues de ejecutar la funcion\n",
        "        print('Tiempo transcurrido (en segundos): {}'.format(t_final - t_inicial))\n",
        "        return salida\n",
        "    return cronometro"
      ],
      "execution_count": 0,
      "outputs": []
    },
    {
      "cell_type": "code",
      "metadata": {
        "id": "k8IHQm4mpW4K",
        "colab_type": "code",
        "colab": {}
      },
      "source": [
        "#Programación dinámica\n",
        "#C(i,j) = min {T(i,j) , C(i,k)+T(k,j) para todo i<k<=j } \n",
        "def PRECIOS(TARIFAS):\n",
        "  N = len(TARIFAS[0])\n",
        "  \n",
        "  PRECIOS = [[9999]*N for i in [9999]*N]\n",
        "  RUTA = [[\"\"]*N for i in [\"\"*N]]\n",
        "  \n",
        "  for i in range(N-1):\n",
        "    for j in range(i+1, N):\n",
        "      MIN = TARIFAS[i][j]\n",
        "      RUTA[i][j] = i\n",
        "      \n",
        "      for k in range(i, j):\n",
        "        if PRECIOS[i][k] + TARIFAS[k][j] < MIN:\n",
        "          MIN = min(MIN, PRECIOS[j][k] + TARIFAS[k][j])\n",
        "          RUTA[i][j] = k\n",
        "        PRECIOS[i][j] = MIN\n",
        "  return PRECIOS, RUTA\n",
        "\n"
      ],
      "execution_count": 0,
      "outputs": []
    },
    {
      "cell_type": "code",
      "metadata": {
        "id": "egefKHg8r2W5",
        "colab_type": "code",
        "colab": {
          "base_uri": "https://localhost:8080/",
          "height": 34
        },
        "outputId": "47b7c913-7820-4ef0-a33d-f1a31a7f644f"
      },
      "source": [
        "#Fuerza bruta\n",
        "def valor(S, COSTES):\n",
        "  VALOR = 0\n",
        "  for i in range(len (S)):\n",
        "    VALOR += COSTES[S[i]][i]\n",
        "  return VALOR\n",
        "\n",
        "@calcular_tiempo\n",
        "def Fuerza_bruta(COSTES):\n",
        "  mejor_valor = 10e10\n",
        "  mejor_solucion = ()\n",
        "  \n",
        "  for s in list(itertools.permutations(range(len(COSTES)))):\n",
        "    valor_tmp = valor(s, COSTES)\n",
        "    if valor_tmp < mejor_valor:\n",
        "      mejor_valor = valor_tmp\n",
        "      mejor_solucion = s\n",
        "  print(\"La mejor solución es: \", mejor_solucion, \" con valor: \", mejor_valor)\n",
        "    \n",
        "COSTES = [[11,12,18,400], [14,15,13,22],[11,17,19,23],[17,14,20,28]]  \n",
        "valor((0,1,2,3), COSTES)"
      ],
      "execution_count": 5,
      "outputs": [
        {
          "output_type": "execute_result",
          "data": {
            "text/plain": [
              "73"
            ]
          },
          "metadata": {
            "tags": []
          },
          "execution_count": 5
        }
      ]
    },
    {
      "cell_type": "code",
      "metadata": {
        "id": "R3BhQ9RWucrO",
        "colab_type": "code",
        "colab": {}
      },
      "source": [
        "#coste inferior solución parcial\n",
        "def CI(S, COSTES):\n",
        "  VALOR = 0\n",
        "  #valores establecidos\n",
        "  for i in range(len(S)):\n",
        "    VALOR += COSTES[i][S[i]]\n",
        "  \n",
        "  #Estimación\n",
        "  for i in range(len(COSTES)):\n",
        "    if i not in S:\n",
        "      VALOR += min([COSTES[j][i] for j in range(len(S), len(COSTES))])\n",
        "      \n",
        "  return VALOR"
      ],
      "execution_count": 0,
      "outputs": []
    },
    {
      "cell_type": "code",
      "metadata": {
        "id": "pLoqsCR8vRP4",
        "colab_type": "code",
        "colab": {}
      },
      "source": [
        "#Funcion para ramificar\n",
        "def crear_hijos(NODO, N):\n",
        "  HIJOS = []\n",
        "  for i in range(N):\n",
        "    if i not in NODO:\n",
        "      HIJOS.append({'s':NODO+(i,)})\n",
        "  return HIJOS"
      ],
      "execution_count": 0,
      "outputs": []
    },
    {
      "cell_type": "code",
      "metadata": {
        "id": "v__VYGPNv2mV",
        "colab_type": "code",
        "colab": {}
      },
      "source": [
        "#Ramificación y poda\n",
        "\n",
        "@calcular_tiempo\n",
        "def ramificacion_y_poda(COSTES):\n",
        "  DIMENSION = len(COSTES)\n",
        "  MEJOR_SOLUCION = tuple(i for i in range(len(COSTES)))\n",
        "  CotaSup = valor(MEJOR_SOLUCION, COSTES)\n",
        "  \n",
        "  NODOS = []\n",
        "  NODOS.append({'s':(),'ci':CI((), COSTES)})\n",
        "  iteracion = 0\n",
        "  \n",
        "  while(len(NODOS)>0):\n",
        "    iteracion += 1\n",
        "    \n",
        "    nodo_prometedor = [min(NODOS, key=lambda x:x['ci'])][0]['s']\n",
        "    \n",
        "    HIJOS = [ {'s':x['s'], 'ci':CI[x['s'], COSTES]} for x in crear_hijos(nodo_prometedor, DIMENSION)   ]\n",
        "    \n",
        "    NODO_FINAL = [x for x in HIJOS if len(x['s']) == DIMENSION]\n",
        "    if len(NODO_FINAL) >0:\n",
        "      if NODO_FINAL[0]['ci'] < CotaSup:\n",
        "        CotaSup = NODO_FINAL[0]['ci']\n",
        "        MEJOR_SOLUCION = NODO_FINAL\n",
        "        \n",
        "    #poda\n",
        "    HIJOS = [x for x in HIJOS if x['ci'] < CotaSup]\n",
        "    \n",
        "    #añadimos los hijos\n",
        "    NODOS.extend(HIJOS)\n",
        "    \n",
        "    #eliminamos el nodo ramificado\n",
        "    NODOS = [x for x in NODOS if x['s'] != nodo_prometedor]\n",
        "  print(\"La solución final es: \",MEJOR_SOLUCION , \" en \", iteracion, \" iteraciones \", \"para dimensión: \", DIMENSION )\n",
        "      \n",
        "    \n",
        "    \n",
        "    \n",
        "    "
      ],
      "execution_count": 0,
      "outputs": []
    }
  ]
}