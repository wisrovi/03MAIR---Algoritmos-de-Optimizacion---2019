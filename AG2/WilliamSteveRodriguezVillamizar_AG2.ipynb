{
  "nbformat": 4,
  "nbformat_minor": 0,
  "metadata": {
    "colab": {
      "name": "WilliamSteveRodriguezVillamizar_AG2",
      "provenance": [],
      "collapsed_sections": [],
      "include_colab_link": true
    },
    "kernelspec": {
      "name": "python3",
      "display_name": "Python 3"
    }
  },
  "cells": [
    {
      "cell_type": "markdown",
      "metadata": {
        "id": "view-in-github",
        "colab_type": "text"
      },
      "source": [
        "<a href=\"https://colab.research.google.com/github/wisrovi/03MAIR---Algoritmos-de-Optimizacion---2019/blob/master/AG2/WilliamSteveRodriguezVillamizar_AG2.ipynb\" target=\"_parent\"><img src=\"https://colab.research.google.com/assets/colab-badge.svg\" alt=\"Open In Colab\"/></a>"
      ]
    },
    {
      "cell_type": "markdown",
      "metadata": {
        "id": "hVbXYX-RfPWh",
        "colab_type": "text"
      },
      "source": [
        "# AG1- Actividad Guiada 2<br>\n",
        "Nombre y Apellidos:   <br>\n",
        "Colab: https://colab.research.google.com/github/wisrovi/03MAIR---Algoritmos-de-Optimizacion---2019/blob/master/AG2/WilliamSteveRodriguezVillamizar_AG2.ipynb<br>\n",
        "\n",
        "Url:: https://github.com/wisrovi/03MAIR---Algoritmos-de-Optimizacion---2019/blob/master/AG2/WilliamSteveRodriguezVillamizar_AG2.ipynb<br>\n"
      ]
    },
    {
      "cell_type": "code",
      "metadata": {
        "id": "1zHveYUYpG3U",
        "colab_type": "code",
        "colab": {}
      },
      "source": [
        "#Decorador de Ricardo Lebron\n",
        "from functools import wraps\n",
        "from time import time\n",
        "\n",
        "def calcular_tiempo(f):\n",
        "    @wraps(f)\n",
        "    def cronometro(*args, **kwargs):\n",
        "        t_inicial = time() #tomo la hora antes de ejecutar la funcion\n",
        "        salida = f(*args, **kwargs)\n",
        "        t_final = time() #tomo la hora despues de ejecutar la funcion\n",
        "        print('Tiempo transcurrido (en segundos): {}'.format(t_final - t_inicial))\n",
        "        return salida\n",
        "    return cronometro"
      ],
      "execution_count": 0,
      "outputs": []
    },
    {
      "cell_type": "code",
      "metadata": {
        "id": "iLXSLxqFSHWT",
        "colab_type": "code",
        "colab": {}
      },
      "source": [
        "TARIFAS = [\n",
        "  [0,5,4,3,999,999,999],\n",
        "  [999,0,999,2,3,999,11],\n",
        "  [999,999, 0,1,999,4,10],\n",
        "  [999,999,999, 0,5,6,9],\n",
        "  [999,999, 999,999,0,999,4],\n",
        "  [999,999, 999,999,999,0,3],\n",
        "  [999,999,999,999,999,999,0]\n",
        "]"
      ],
      "execution_count": 0,
      "outputs": []
    },
    {
      "cell_type": "code",
      "metadata": {
        "id": "k8IHQm4mpW4K",
        "colab_type": "code",
        "colab": {}
      },
      "source": [
        "#Programación dinámica\n",
        "#C(i,j) = min {T(i,j) , C(i,k)+T(k,j) para todo i<k<=j } \n",
        "def PRECIOS(TARIFAS):\n",
        "  N = len(TARIFAS[0])\n",
        "  \n",
        "  PRECIOS = [[9999]*N for i in [9999]*N]\n",
        "  RUTA = [[\"\"]*N for i in [\"\"]*N]\n",
        "  \n",
        "  for i in range(N-1):\n",
        "    for j in range(i+1, N):\n",
        "      MIN = TARIFAS[i][j]\n",
        "      RUTA[i][j] = i\n",
        "      \n",
        "      for k in range(i, j):\n",
        "        if PRECIOS[i][k] + TARIFAS[k][j] < MIN:\n",
        "          MIN = min(MIN, PRECIOS[j][k] + TARIFAS[k][j])\n",
        "          RUTA[i][j] = k\n",
        "      PRECIOS[i][j] = MIN\n",
        "  return PRECIOS, RUTA"
      ],
      "execution_count": 0,
      "outputs": []
    },
    {
      "cell_type": "code",
      "metadata": {
        "id": "y5NGBKzpSLWk",
        "colab_type": "code",
        "colab": {
          "base_uri": "https://localhost:8080/",
          "height": 71
        },
        "outputId": "bf4e626a-9f90-4100-88b7-0ee07facf702"
      },
      "source": [
        "PRECIO, RUTA = PRECIOS(TARIFAS)\n",
        "print(PRECIO)\n",
        "print(RUTA)"
      ],
      "execution_count": 4,
      "outputs": [
        {
          "output_type": "stream",
          "text": [
            "[[9999, 5, 4, 3, 999, 999, 999], [9999, 9999, 999, 2, 3, 999, 11], [9999, 9999, 9999, 1, 999, 4, 10], [9999, 9999, 9999, 9999, 5, 6, 9], [9999, 9999, 9999, 9999, 9999, 999, 4], [9999, 9999, 9999, 9999, 9999, 9999, 3], [9999, 9999, 9999, 9999, 9999, 9999, 9999]]\n",
            "[['', 0, 0, 0, 3, 3, 3], ['', '', 1, 1, 1, 3, 4], ['', '', '', 2, 3, 2, 5], ['', '', '', '', 3, 3, 3], ['', '', '', '', '', 4, 4], ['', '', '', '', '', '', 5], ['', '', '', '', '', '', '']]\n"
          ],
          "name": "stdout"
        }
      ]
    },
    {
      "cell_type": "code",
      "metadata": {
        "id": "qEeXmH7ljXL0",
        "colab_type": "code",
        "colab": {}
      },
      "source": [
        "def calcular_ruta(RUTA, desde, hasta):\n",
        "  if desde == hasta:\n",
        "    return desde\n",
        "  else:\n",
        "    return str(calcular_ruta(RUTA, desde, RUTA[desde][hasta])) + ' - ' + str(RUTA[desde][hasta])"
      ],
      "execution_count": 0,
      "outputs": []
    },
    {
      "cell_type": "code",
      "metadata": {
        "id": "r2y6_n-vjyRk",
        "colab_type": "code",
        "colab": {
          "base_uri": "https://localhost:8080/",
          "height": 34
        },
        "outputId": "ad79a785-13b2-4d27-e781-6c486151e9c9"
      },
      "source": [
        "calcular_ruta(RUTA,1,6)"
      ],
      "execution_count": 6,
      "outputs": [
        {
          "output_type": "execute_result",
          "data": {
            "text/plain": [
              "'1 - 1 - 4'"
            ]
          },
          "metadata": {
            "tags": []
          },
          "execution_count": 6
        }
      ]
    },
    {
      "cell_type": "markdown",
      "metadata": {
        "id": "BrOnycJZnxlf",
        "colab_type": "text"
      },
      "source": [
        "Ramificación y Poda"
      ]
    },
    {
      "cell_type": "code",
      "metadata": {
        "id": "RWXwoW-Dnsw1",
        "colab_type": "code",
        "colab": {}
      },
      "source": [
        "COSTES = [[11,12,18,40], \n",
        "          [14,15,13,22],\n",
        "          [11,17,19,23],\n",
        "          [17,14,20,28]]  "
      ],
      "execution_count": 0,
      "outputs": []
    },
    {
      "cell_type": "code",
      "metadata": {
        "id": "egefKHg8r2W5",
        "colab_type": "code",
        "outputId": "3edc9dbd-c827-4373-8130-e60c651da195",
        "colab": {
          "base_uri": "https://localhost:8080/",
          "height": 34
        }
      },
      "source": [
        "\n",
        "def valor(S, COSTES):\n",
        "  VALOR = 0\n",
        "  for i in range(len (S)):\n",
        "    VALOR += COSTES[S[i]][i]\n",
        "  return VALOR\n",
        "\n",
        "\n",
        "valor((0,1,2,3), COSTES)"
      ],
      "execution_count": 8,
      "outputs": [
        {
          "output_type": "execute_result",
          "data": {
            "text/plain": [
              "73"
            ]
          },
          "metadata": {
            "tags": []
          },
          "execution_count": 8
        }
      ]
    },
    {
      "cell_type": "code",
      "metadata": {
        "id": "b8-VZTA_oOm0",
        "colab_type": "code",
        "colab": {
          "base_uri": "https://localhost:8080/",
          "height": 54
        },
        "outputId": "9a0341e2-545c-4eb7-fb3e-f4001fab9309"
      },
      "source": [
        "import itertools\n",
        "todas_posibilidades = list(itertools.permutations([0,1,2,3]))\n",
        "todas_posibilidades = list(itertools.permutations(range(len(COSTES))))\n",
        "print(todas_posibilidades)"
      ],
      "execution_count": 9,
      "outputs": [
        {
          "output_type": "stream",
          "text": [
            "[(0, 1, 2, 3), (0, 1, 3, 2), (0, 2, 1, 3), (0, 2, 3, 1), (0, 3, 1, 2), (0, 3, 2, 1), (1, 0, 2, 3), (1, 0, 3, 2), (1, 2, 0, 3), (1, 2, 3, 0), (1, 3, 0, 2), (1, 3, 2, 0), (2, 0, 1, 3), (2, 0, 3, 1), (2, 1, 0, 3), (2, 1, 3, 0), (2, 3, 0, 1), (2, 3, 1, 0), (3, 0, 1, 2), (3, 0, 2, 1), (3, 1, 0, 2), (3, 1, 2, 0), (3, 2, 0, 1), (3, 2, 1, 0)]\n"
          ],
          "name": "stdout"
        }
      ]
    },
    {
      "cell_type": "code",
      "metadata": {
        "id": "9ZLMI3NenqM3",
        "colab_type": "code",
        "colab": {}
      },
      "source": [
        "#Fuerza bruta\n",
        "\n",
        "@calcular_tiempo\n",
        "def Fuerza_bruta(COSTES):\n",
        "  mejor_valor = 10e10\n",
        "  mejor_solucion = ()\n",
        "  \n",
        "  for s in list(itertools.permutations(range(len(COSTES)))):\n",
        "    valor_tmp = valor(s, COSTES)\n",
        "    if valor_tmp < mejor_valor:\n",
        "      mejor_valor = valor_tmp\n",
        "      mejor_solucion = s\n",
        "  print(\"La mejor solución es: \", mejor_solucion, \" con valor: \", mejor_valor)\n",
        "    \n"
      ],
      "execution_count": 0,
      "outputs": []
    },
    {
      "cell_type": "code",
      "metadata": {
        "id": "TsLhOyO8pY00",
        "colab_type": "code",
        "colab": {
          "base_uri": "https://localhost:8080/",
          "height": 51
        },
        "outputId": "9a95787b-e8f9-44cf-81ee-e51f4a8113eb"
      },
      "source": [
        "Fuerza_bruta(COSTES)"
      ],
      "execution_count": 11,
      "outputs": [
        {
          "output_type": "stream",
          "text": [
            "La mejor solución es:  (0, 3, 1, 2)  con valor:  61\n",
            "Tiempo transcurrido (en segundos): 0.0019788742065429688\n"
          ],
          "name": "stdout"
        }
      ]
    },
    {
      "cell_type": "code",
      "metadata": {
        "id": "R3BhQ9RWucrO",
        "colab_type": "code",
        "colab": {}
      },
      "source": [
        "#coste inferior solución parcial\n",
        "def CI(S, COSTES):\n",
        "  VALOR = 0\n",
        "  #valores establecidos\n",
        "  for i in range(len(S)):\n",
        "    VALOR += COSTES[i][S[i]]\n",
        "  \n",
        "  #Estimación\n",
        "  for i in range(len(COSTES)):\n",
        "    if i not in S:\n",
        "      VALOR += min([COSTES[j][i] for j in range(len(S), len(COSTES))])\n",
        "      \n",
        "  return VALOR"
      ],
      "execution_count": 0,
      "outputs": []
    },
    {
      "cell_type": "code",
      "metadata": {
        "id": "dJCAcHIF_owK",
        "colab_type": "code",
        "colab": {
          "base_uri": "https://localhost:8080/",
          "height": 34
        },
        "outputId": "9056cda8-293c-4f00-ac5f-3726b4121685"
      },
      "source": [
        "CI((1,2), COSTES)"
      ],
      "execution_count": 13,
      "outputs": [
        {
          "output_type": "execute_result",
          "data": {
            "text/plain": [
              "59"
            ]
          },
          "metadata": {
            "tags": []
          },
          "execution_count": 13
        }
      ]
    },
    {
      "cell_type": "code",
      "metadata": {
        "id": "pLoqsCR8vRP4",
        "colab_type": "code",
        "colab": {}
      },
      "source": [
        "#(0,2) -> (0,2,1),(0,2,3)\n",
        "#Funcion para ramificar\n",
        "def crear_hijos(NODO, N):\n",
        "  HIJOS = []\n",
        "  for i in range(N):\n",
        "    if i not in NODO:\n",
        "      HIJOS.append({'s':NODO+(i,)})\n",
        "  return HIJOS"
      ],
      "execution_count": 0,
      "outputs": []
    },
    {
      "cell_type": "code",
      "metadata": {
        "id": "pGCRaV3VAG6K",
        "colab_type": "code",
        "colab": {
          "base_uri": "https://localhost:8080/",
          "height": 34
        },
        "outputId": "d5fd1468-fac6-498a-f308-076c60f13d2c"
      },
      "source": [
        "crear_hijos((0,2),4)"
      ],
      "execution_count": 15,
      "outputs": [
        {
          "output_type": "execute_result",
          "data": {
            "text/plain": [
              "[{'s': (0, 2, 1)}, {'s': (0, 2, 3)}]"
            ]
          },
          "metadata": {
            "tags": []
          },
          "execution_count": 15
        }
      ]
    },
    {
      "cell_type": "code",
      "metadata": {
        "id": "v__VYGPNv2mV",
        "colab_type": "code",
        "colab": {}
      },
      "source": [
        "#Ramificación y poda\n",
        "\n",
        "@calcular_tiempo\n",
        "def ramificacion_y_poda(COSTES):\n",
        "  DIMENSION = len(COSTES)\n",
        "  MEJOR_SOLUCION = tuple(i for i in range(len(COSTES)))\n",
        "  CotaSup = valor(MEJOR_SOLUCION, COSTES)\n",
        "  \n",
        "  NODOS = []\n",
        "  NODOS.append({'s':(),'ci':CI((), COSTES)})\n",
        "  iteracion = 0\n",
        "  \n",
        "  while(len(NODOS)>0):\n",
        "    iteracion += 1\n",
        "    \n",
        "    nodo_prometedor = min(NODOS, key=lambda x:x['ci'])\n",
        "    \n",
        "    #ramificacion\n",
        "    HIJOS = [ {'s':x['s'], 'ci':CI(x['s'], COSTES) } for x in crear_hijos(nodo_prometedor['s'], DIMENSION)   ]\n",
        "    \n",
        "    #revisamos la cota superior y nos quedamos con la mejor solucion, si se haya unas solucion final\n",
        "    NODO_FINAL = [x for x in HIJOS if len(x['s']) == DIMENSION]\n",
        "    if len(NODO_FINAL) >0:\n",
        "      if NODO_FINAL[0]['ci'] < CotaSup:\n",
        "        CotaSup = NODO_FINAL[0]['ci']\n",
        "        MEJOR_SOLUCION = NODO_FINAL[0]\n",
        "        \n",
        "    #poda\n",
        "    HIJOS = [x for x in HIJOS if x['ci'] < CotaSup]\n",
        "    \n",
        "    #eliminamos el nodo ramificado\n",
        "    NODOS = [x for x in NODOS if x['s'] != nodo_prometedor['s']]\n",
        "    \n",
        "    #añadimos los hijos\n",
        "    NODOS.extend(HIJOS)\n",
        "    \n",
        "    \n",
        "  print(\"La solución final es: \",MEJOR_SOLUCION , \" en \", iteracion, \" iteraciones \", \"para dimensión: \", DIMENSION )"
      ],
      "execution_count": 0,
      "outputs": []
    },
    {
      "cell_type": "code",
      "metadata": {
        "id": "rGjbf1W5Bm_S",
        "colab_type": "code",
        "colab": {
          "base_uri": "https://localhost:8080/",
          "height": 51
        },
        "outputId": "2e34e94b-2c61-46e8-a2d9-bf50fb027c64"
      },
      "source": [
        "ramificacion_y_poda(COSTES)"
      ],
      "execution_count": 17,
      "outputs": [
        {
          "output_type": "stream",
          "text": [
            "La solución final es:  {'s': (0, 2, 3, 1), 'ci': 61}  en  14  iteraciones  para dimensión:  4\n",
            "Tiempo transcurrido (en segundos): 0.0016105175018310547\n"
          ],
          "name": "stdout"
        }
      ]
    },
    {
      "cell_type": "markdown",
      "metadata": {
        "id": "UeJpCfxTI_Li",
        "colab_type": "text"
      },
      "source": [
        "Descenso de gradiente"
      ]
    },
    {
      "cell_type": "code",
      "metadata": {
        "id": "rjUoBo4ID6dc",
        "colab_type": "code",
        "colab": {}
      },
      "source": [
        "#descenso de gradiente\n",
        "import math\n",
        "import matplotlib.pyplot as plt\n",
        "import numpy as np\n",
        "\n",
        "import random"
      ],
      "execution_count": 0,
      "outputs": []
    },
    {
      "cell_type": "code",
      "metadata": {
        "id": "s0MRJLPGI7fi",
        "colab_type": "code",
        "colab": {}
      },
      "source": [
        "#Aproximamos el valor del gradiente en un punto por su definición\n",
        "def df(PUNTO):\n",
        "    h = 0.01\n",
        "    T = np.copy(PUNTO)\n",
        "    grad = np.zeros(2)\n",
        "    for it, th in enumerate(PUNTO):\n",
        "        T[it] = T[it] + h\n",
        "        grad[it] = (f(T) - f(PUNTO)) / h\n",
        "    return grad\n",
        "  \n",
        "def graficarGradiente_funcion(f, df = None):\n",
        "  if df == None:\n",
        "    df = lambda X: [2*X[0], 2*X[1]] #Gradiente\n",
        "\n",
        "  #prepara los datos para dibujar mapa de niveles de Z\n",
        "  resolucion = 100\n",
        "  rango = 2.5\n",
        "  X = np.linspace(-rango, rango, resolucion)\n",
        "  Y = np.linspace(-rango, rango, resolucion)\n",
        "  Z = np.zeros((resolucion, resolucion))\n",
        "  for ix, x in enumerate(X):\n",
        "    for iy, y in enumerate(Y):\n",
        "      Z[iy, ix] = f([x,y])\n",
        "\n",
        "  #pinta el mapa de niveles de z\n",
        "  plt.contourf(X,Y,Z, resolucion)\n",
        "  plt.colorbar()\n",
        "\n",
        "  #generamos punto aleatorio\n",
        "  P=[random.uniform(-2,2), random.uniform(-2,2)]\n",
        "  plt.plot(P[0], P[1], \"o\", c=\"white\")\n",
        "\n",
        "  #tasa de aprendizaje\n",
        "  TA = 0.1\n",
        "\n",
        "  #iteraciones\n",
        "  for _ in range(500):\n",
        "    grad = df(P)\n",
        "    #print(P.grad)\n",
        "    P[0],P[1] = P[0] - TA*grad[0] , P[1] - TA*grad[1]\n",
        "    plt.plot(P[0],P[1], \"o\",c=\"red\")\n",
        "\n",
        "  plt.plot(P[0], P[1],\"o\",c=\"green\")  \n",
        "  plt.show()\n",
        "  print(\"Solucion:\", P, f(P))\n",
        "  return "
      ],
      "execution_count": 0,
      "outputs": []
    },
    {
      "cell_type": "code",
      "metadata": {
        "id": "97EmpnhEJmxq",
        "colab_type": "code",
        "colab": {
          "base_uri": "https://localhost:8080/",
          "height": 286
        },
        "outputId": "7ee03edb-0227-40a3-8a23-ec97e837c9af"
      },
      "source": [
        "f = lambda X: X[0]**2 + X[1]**2 #Funcion\n",
        "punto = graficarGradiente_funcion(f)"
      ],
      "execution_count": 20,
      "outputs": [
        {
          "output_type": "display_data",
          "data": {
            "image/png": "[encoded data removed]",
            "text/plain": [
              "<Figure size 432x288 with 2 Axes>"
            ]
          },
          "metadata": {
            "tags": []
          }
        },
        {
          "output_type": "stream",
          "text": [
            "Solucion: [2.8366778393775595e-49, -3.570041127205081e-49] 2.0791934814351465e-97\n"
          ],
          "name": "stdout"
        }
      ]
    },
    {
      "cell_type": "code",
      "metadata": {
        "id": "DJqT5FdJJsfZ",
        "colab_type": "code",
        "colab": {
          "base_uri": "https://localhost:8080/",
          "height": 286
        },
        "outputId": "3bf685aa-db5e-40f9-ae1b-96a0e1469ff1"
      },
      "source": [
        "#Definimos la funcion\n",
        "#sin(1/2 * x^2 - 1/4 * y^2 + 3) * cos(2*x + 1 - E^y)\n",
        "f = lambda X: np.sin(1/2 * X[0]**2 - 1/4 * X[1]**2 + 3) * np.cos(2 * X[0] + 1 - np.e**X[1])\n",
        "punto = graficarGradiente_funcion(f)"
      ],
      "execution_count": 21,
      "outputs": [
        {
          "output_type": "display_data",
          "data": {
            "image/png": "[encoded data removed]",
            "text/plain": [
              "<Figure size 432x288 with 2 Axes>"
            ]
          },
          "metadata": {
            "tags": []
          }
        },
        {
          "output_type": "stream",
          "text": [
            "Solucion: [-7.279956262792965e-50, -3.851547417210284e-49] 0.1411200080598672\n"
          ],
          "name": "stdout"
        }
      ]
    },
    {
      "cell_type": "code",
      "metadata": {
        "id": "md_Tr98nIkdQ",
        "colab_type": "code",
        "colab": {}
      },
      "source": [
        ""
      ],
      "execution_count": 0,
      "outputs": []
    },
    {
      "cell_type": "code",
      "metadata": {
        "id": "X9XDeb2vRZs1",
        "colab_type": "code",
        "colab": {}
      },
      "source": [
        ""
      ],
      "execution_count": 0,
      "outputs": []
    }
  ]
}