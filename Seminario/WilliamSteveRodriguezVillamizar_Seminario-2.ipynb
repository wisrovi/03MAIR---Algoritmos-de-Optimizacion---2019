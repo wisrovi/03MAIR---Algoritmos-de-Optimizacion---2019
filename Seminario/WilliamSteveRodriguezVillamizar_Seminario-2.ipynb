{
  "nbformat": 4,
  "nbformat_minor": 0,
  "metadata": {
    "colab": {
      "name": "WilliamSteveRodriguezVillamizar_AG2",
      "provenance": [],
      "collapsed_sections": [],
      "include_colab_link": true
    },
    "kernelspec": {
      "name": "python3",
      "display_name": "Python 3"
    }
  },
  "cells": [
    {
      "cell_type": "markdown",
      "metadata": {
        "id": "view-in-github",
        "colab_type": "text"
      },
      "source": [
        "<a href=\"https://colab.research.google.com/github/wisrovi/03MAIR---Algoritmos-de-Optimizacion---2019/blob/master/Seminario/WilliamSteveRodriguezVillamizar_Seminario-2.ipynb\" target=\"_parent\"><img src=\"https://colab.research.google.com/assets/colab-badge.svg\" alt=\"Open In Colab\"/></a>"
      ]
    },
    {
      "cell_type": "markdown",
      "metadata": {
        "id": "hVbXYX-RfPWh",
        "colab_type": "text"
      },
      "source": [
        "# Algoritmos de optimización - Seminario<br>\n",
        "Nombre y Apellidos:   <br>\n",
        "Github: https://github.com/wisrovi/03MAIR---Algoritmos-de-Optimizacion---2019/blob/master/Seminario/WilliamSteveRodriguezVillamizar_Seminario-2.ipynb<br>\n",
        "Problema:\n",
        "\n",
        "Colab: https://colab.research.google.com/github/wisrovi/03MAIR---Algoritmos-de-Optimizacion---2019/blob/master/Seminario/WilliamSteveRodriguezVillamizar_Seminario-2.ipynb\n",
        "> 1.  Combinar cifras y operaciones <br>\n",
        "\n",
        "Descripción del problema:\n",
        "\n",
        "Elección de grupos de población homogéneos\n",
        "\n",
        "• El problema consiste en analizar el siguiente problema y diseñar un algoritmo que lo resuelva.\n",
        "\n",
        "• Disponemos de las 9 cifras del 1 al 9 (excluimos el cero) y de los 4 signos básicos de las\n",
        "operaciones fundamentales: suma(+), resta(-), multiplicación(*) y división(/)\n",
        "\n",
        "• Debemos combinarlos alternativamente sin repetir ninguno de ellos para obtener una\n",
        "cantidad dada.\n",
        "\n",
        "....\n",
        "\n",
        "(*) La respuesta es obligatoria\n",
        "\n",
        "\n",
        "\n",
        "\n",
        "\n",
        "                                        "
      ]
    },
    {
      "cell_type": "markdown",
      "metadata": {
        "id": "99DwvXEo-rOO",
        "colab_type": "text"
      },
      "source": [
        "# Solución del problema usando algoritmos por recursividad y el algoritmo divide y venceras"
      ]
    },
    {
      "cell_type": "markdown",
      "metadata": {
        "id": "3_-exlrTgLd-",
        "colab_type": "text"
      },
      "source": [
        "(*)¿Cuantas posibilidades hay sin tener en cuenta las restricciones?<br>\n",
        "\n",
        "\n",
        "\n",
        "¿Cuantas posibilidades hay teniendo en cuenta todas las restricciones.\n",
        "\n",
        "\n"
      ]
    },
    {
      "cell_type": "markdown",
      "metadata": {
        "id": "WfCUqJyKhPcw",
        "colab_type": "text"
      },
      "source": [
        "Respuesta"
      ]
    },
    {
      "cell_type": "markdown",
      "metadata": {
        "id": "GkYP7CQ3qtYo",
        "colab_type": "text"
      },
      "source": [
        "Debido a que el algoritmo genera en diversas ocasiones soluciones repetidas y no todas las combinaciones de numeros y signos son posibles, además de que cada valor ingresado tiene su própio número de soluciones único, siendo más facil generar soluciones para valores enteros que para valores flotantes.\n",
        "\n",
        "No fue posible determinar una ecuación que entregara la cantidad de soluciones absoluta para todos los valores ingresados.\n",
        "\n",
        "Por ello se ha elaborado un algoritmo para buscar toda la cantidad de respuestas posibles para un número dado, para determinar cuantas soluciones se pueden generar para la respuesta solicituda (se verá más adelante en el código).\n",
        "\n",
        "En la evaluacion del algoritmo se ha logrado generar hasta 700 soluciones posibles para la respuesta de un entero de valor 10 (siendo este valor el que mayor soluciones se ha logrado encontrar. \n"
      ]
    },
    {
      "cell_type": "markdown",
      "metadata": {
        "id": "dzynfVJahHoY",
        "colab_type": "text"
      },
      "source": [
        "Modelo para el espacio de soluciones<br>\n",
        "(*) ¿Cual es la estructura de datos que mejor se adapta al problema? Argumentalo.(Es posible que hayas elegido una al principio y veas la necesidad de cambiar, arguentalo)\n"
      ]
    },
    {
      "cell_type": "markdown",
      "metadata": {
        "id": "xFIJrOwKi2Ti",
        "colab_type": "text"
      },
      "source": [
        "Respuesta"
      ]
    },
    {
      "cell_type": "markdown",
      "metadata": {
        "id": "dzzRZlEdvWGx",
        "colab_type": "text"
      },
      "source": [
        "Como este problema no tiene un dataseet inicial sino un dato de ingreso y con este generar una solución al problema, \n",
        "sólo se puede decir que hay mejores soluciones para datos de entrada de tipo int menores a 100 que para datos float de cualquier valor\n",
        "\n",
        "Esto se evidencia debido a que tratando de evaluar el mayor numero de soluciones para un dato, se ha logrado minimo 250 soluciones diferentes para datos int\n",
        "mientras que para datos float sólo se han logrado 35 soluciones\n",
        "\n",
        "Sin embargo si se pudiere usar una maquina con mayor GPU a la mia, \n",
        "la cantidad de soluciones debería aumentar de 35 a 100 y de 250 a 1000 para float e int respectivamente."
      ]
    },
    {
      "cell_type": "markdown",
      "metadata": {
        "id": "7Z9U2W7bi-XS",
        "colab_type": "text"
      },
      "source": [
        "Según el modelo para el espacio de soluciones<br>\n",
        "(*)¿Cual es la función objetivo?\n",
        "\n"
      ]
    },
    {
      "cell_type": "markdown",
      "metadata": {
        "id": "poGdbrlLxLpQ",
        "colab_type": "text"
      },
      "source": [
        ""
      ]
    },
    {
      "cell_type": "markdown",
      "metadata": {
        "id": "sdIL43JBxJXU",
        "colab_type": "text"
      },
      "source": [
        "(*)¿Es un problema de maximización o minimización?"
      ]
    },
    {
      "cell_type": "markdown",
      "metadata": {
        "id": "Z20aBTotxMNf",
        "colab_type": "text"
      },
      "source": [
        "Respuesta: Minimizacion"
      ]
    },
    {
      "cell_type": "markdown",
      "metadata": {
        "id": "N-D0mQQu0la0",
        "colab_type": "text"
      },
      "source": [
        "## Implementaciones Básicas de código para fuerza bruta y algoritmo final"
      ]
    },
    {
      "cell_type": "code",
      "metadata": {
        "id": "iEqYCsPW0uyl",
        "colab_type": "code",
        "colab": {}
      },
      "source": [
        "import random\n",
        "from sympy.parsing.sympy_parser import parse_expr\n",
        "import numpy as np"
      ],
      "execution_count": 0,
      "outputs": []
    },
    {
      "cell_type": "code",
      "metadata": {
        "id": "m_7pB_yf0u4y",
        "colab_type": "code",
        "colab": {}
      },
      "source": [
        "Diccionario_signos = {\n",
        "    \"suma\" : \"+\",\n",
        "    \"resta\" : \"-\",\n",
        "    \"multiplicacion\" : \"*\",\n",
        "    \"division\" : \"/\"\n",
        "    }\n",
        "\n",
        "Lista_Numeros_Posibles = (1,\n",
        "           2,\n",
        "           3,\n",
        "           4,\n",
        "           5,\n",
        "           6,\n",
        "           7,\n",
        "           8,\n",
        "           9\n",
        "          )"
      ],
      "execution_count": 0,
      "outputs": []
    },
    {
      "cell_type": "code",
      "metadata": {
        "id": "gi8XzKA20u27",
        "colab_type": "code",
        "colab": {}
      },
      "source": [
        "def BuscarExiste(lista, item):\n",
        "    buscandoEncontrando = False\n",
        "    for i in lista:\n",
        "        if i == item:\n",
        "            buscandoEncontrando = True\n",
        "            break\n",
        "    return buscandoEncontrando\n",
        "\n",
        "def getNumeroAleatorio(listaNumeros = []):\n",
        "    \"\"\"\n",
        "    usamos recursividad para crear este set de datos\n",
        "    \"\"\"\n",
        "    if len(listaNumeros) < 5:    \n",
        "        numer = random.choice(Lista_Numeros_Posibles)\n",
        "        if not BuscarExiste(listaNumeros, numer):\n",
        "            listaNumeros.append(numer)\n",
        "        getNumeroAleatorio(listaNumeros)   \n",
        "    return tuple(listaNumeros) \n",
        "\n",
        "def getSignosAleatorios(listaSignos = []):    \n",
        "    \"\"\"\n",
        "    usamos recursividad para crear este set de datos\n",
        "    \"\"\"\n",
        "    if len(listaSignos) < 4:\n",
        "        sign = random.choice( list(Diccionario_signos.keys()) ) \n",
        "        if not BuscarExiste(listaSignos, sign):\n",
        "            listaSignos.append(sign)\n",
        "        getSignosAleatorios(listaSignos)\n",
        "    return tuple(listaSignos)\n",
        "\n",
        "def HallarResultado(tuplaNumeros, tuplaSignos):\n",
        "    expresion = \"\"\"%s %s %s %s %s %s %s %s %s\"\"\" %(\n",
        "        str(tuplaNumeros[0]),\n",
        "        Diccionario_signos[tuplaSignos[0]],\n",
        "        str(tuplaNumeros[1]),\n",
        "        Diccionario_signos[tuplaSignos[1]],\n",
        "        str(tuplaNumeros[2]),\n",
        "        Diccionario_signos[tuplaSignos[2]],\n",
        "        str(tuplaNumeros[3]),\n",
        "        Diccionario_signos[tuplaSignos[3]],\n",
        "        str(tuplaNumeros[4])\n",
        "    )    \n",
        "    solucion = float(parse_expr(expresion))\n",
        "    solucion = \"{0:.2f}\".format(solucion)\n",
        "    solucion = float(solucion)\n",
        "    return (expresion, solucion)\n",
        "\n",
        "def HallarValorDeseado(valorDeseado, stepsMax=10000):    \n",
        "    for i in range(stepsMax):\n",
        "        (expresion, solucion) = HallarResultado(getNumeroAleatorio([]), getSignosAleatorios([]))\n",
        "        if valorDeseado == solucion:\n",
        "            return (expresion, \"=\", valorDeseado)  \n",
        "\n",
        "def BuscarOperacionesPorListado(valoresDeseados):\n",
        "    respuestas = []\n",
        "    numerosNoEncontrados = []\n",
        "    for valorDeseado in valoresDeseados:\n",
        "        rta = HallarValorDeseado(valorDeseado)    \n",
        "        if rta is None:\n",
        "            numerosNoEncontrados.append(valorDeseado)\n",
        "            #print(\"None = \", valorDeseado )\n",
        "        else:\n",
        "            respuestas.append(rta)\n",
        "            #print(rta)\n",
        "    return respuestas, numerosNoEncontrados  "
      ],
      "execution_count": 0,
      "outputs": []
    },
    {
      "cell_type": "markdown",
      "metadata": {
        "id": "c9rYVewA08em",
        "colab_type": "text"
      },
      "source": [
        "## Algoritmo Por fuerza bruta"
      ]
    },
    {
      "cell_type": "markdown",
      "metadata": {
        "id": "rlnTYgY1j6I2",
        "colab_type": "text"
      },
      "source": [
        "Diseña un algoritmo para resolver el problema por fuerza bruta"
      ]
    },
    {
      "cell_type": "markdown",
      "metadata": {
        "id": "70rDgxYXkC8r",
        "colab_type": "text"
      },
      "source": [
        "Respuesta"
      ]
    },
    {
      "cell_type": "code",
      "metadata": {
        "id": "CJb5sQ0qkENy",
        "colab_type": "code",
        "colab": {
          "base_uri": "https://localhost:8080/",
          "height": 68
        },
        "outputId": "b8472ab3-ddf3-401e-8e24-8e1cd1644b24"
      },
      "source": [
        "#Buscando la cantidad máxima de soluciones posibles\n",
        "valor = 5.25\n",
        "cantidadSolucionesBuscar = 500 #Número probado de soluciones diferentes encontradas 500 para int y 150 float\n",
        "\n",
        "\n",
        "valoresDeseados = []\n",
        "for i in range(cantidadSolucionesBuscar):\n",
        "    valoresDeseados.append(valor)\n",
        "\n",
        "\n",
        "print(\"Total numeros buscar respuesta: \", len(valoresDeseados))\n",
        "respuestas, numerosNoEncontrados  =BuscarOperacionesPorListado(valoresDeseados)\n",
        "\n",
        "print(\"Numeros no encontrados: \")\n",
        "for rta in numerosNoEncontrados:\n",
        "    print(rta)\n",
        "    pass\n",
        "\n",
        "respuestas = sorted(set(respuestas))\n",
        "print(\"Numeros con respuesta encontrada: \", len(respuestas) )\n",
        "for rta in respuestas:\n",
        "    #print(rta)\n",
        "    pass"
      ],
      "execution_count": 31,
      "outputs": [
        {
          "output_type": "stream",
          "text": [
            "Total numeros buscar respuesta:  500\n",
            "Numeros no encontrados: \n",
            "Numeros con respuesta encontrada:  337\n"
          ],
          "name": "stdout"
        }
      ]
    },
    {
      "cell_type": "code",
      "metadata": {
        "id": "zPkEqL1R1Wzo",
        "colab_type": "code",
        "colab": {
          "base_uri": "https://localhost:8080/",
          "height": 85
        },
        "outputId": "d87623ac-1f58-4e6d-8dc0-0817e43c3cd5"
      },
      "source": [
        "print(\"solución a hallar: \", valor)\n",
        "print()\n",
        "print(\"solución mejor (usando los numero más pequeños posibles): \" )\n",
        "print(respuestas[0][0], respuestas[0][1], respuestas[0][2])"
      ],
      "execution_count": 38,
      "outputs": [
        {
          "output_type": "stream",
          "text": [
            "solución a hallar:  5.25\n",
            "\n",
            "solución mejor (usando los numero más pequeños posibles): \n",
            "1 * 2 + 4 - 6 / 8 = 5.25\n"
          ],
          "name": "stdout"
        }
      ]
    },
    {
      "cell_type": "markdown",
      "metadata": {
        "id": "tgrnsC2nkFa8",
        "colab_type": "text"
      },
      "source": [
        "Calcula la complejidad del algoritmo por fuerza bruta"
      ]
    },
    {
      "cell_type": "markdown",
      "metadata": {
        "id": "9eUd3xwckP68",
        "colab_type": "text"
      },
      "source": [
        "Respuesta"
      ]
    },
    {
      "cell_type": "markdown",
      "metadata": {
        "id": "81v7mtfu1dBm",
        "colab_type": "text"
      },
      "source": [
        "O(n log n)"
      ]
    },
    {
      "cell_type": "markdown",
      "metadata": {
        "id": "xvb7JsuE5C3c",
        "colab_type": "text"
      },
      "source": [
        "## Algoritmo final (mejora al de fuerza bruta)"
      ]
    },
    {
      "cell_type": "markdown",
      "metadata": {
        "id": "txbrmLmskReM",
        "colab_type": "text"
      },
      "source": [
        "ok - (*)Diseña un algoritmo que mejore la complejidad del algortimo por fuerza bruta. Argumenta porque crees que mejora el algoritmo por fuerza bruta"
      ]
    },
    {
      "cell_type": "markdown",
      "metadata": {
        "id": "hLrVwt5QkZPD",
        "colab_type": "text"
      },
      "source": [
        "Respuesta"
      ]
    },
    {
      "cell_type": "code",
      "metadata": {
        "id": "0ygQhySR3V7T",
        "colab_type": "code",
        "colab": {
          "base_uri": "https://localhost:8080/",
          "height": 102
        },
        "outputId": "4135e376-5178-418d-fc00-e9d5cb3848fe"
      },
      "source": [
        "valoresDeseados = [-3.5]\n",
        "\n",
        "print(\"Total numeros buscar respuesta: \", len(valoresDeseados))\n",
        "respuestas, numerosNoEncontrados  =BuscarOperacionesPorListado(valoresDeseados)\n",
        "\n",
        "print(\"solución a hallar: \", valoresDeseados[0])\n",
        "print()\n",
        "print(\"solución mejor (usando los numero más pequeños posibles): \" )\n",
        "print(respuestas[0][0], respuestas[0][1], respuestas[0][2])"
      ],
      "execution_count": 40,
      "outputs": [
        {
          "output_type": "stream",
          "text": [
            "Total numeros buscar respuesta:  1\n",
            "solución a hallar:  -3.5\n",
            "\n",
            "solución mejor (usando los numero más pequeños posibles): \n",
            "2 - 7 + 4 / 8 * 3 = -3.5\n"
          ],
          "name": "stdout"
        }
      ]
    },
    {
      "cell_type": "code",
      "metadata": {
        "id": "Fj37WDr7HT_F",
        "colab_type": "code",
        "colab": {
          "base_uri": "https://localhost:8080/",
          "height": 323
        },
        "outputId": "2a471ecd-2b5d-4e6d-fc1a-4f39eaf20338"
      },
      "source": [
        "valoresDeseados = [-3.5, 2, 9, -9.5, 4, 1.3, 1,2,3,4,5,6,7,8,9]\n",
        "\n",
        "print(\"Total numeros buscar respuesta: \", len(valoresDeseados))\n",
        "respuestas, numerosNoEncontrados  =BuscarOperacionesPorListado(valoresDeseados)\n",
        "\n",
        "print(\"Numeros no encontrados: \")\n",
        "for rta in numerosNoEncontrados:\n",
        "    print(rta)\n",
        "    pass\n",
        "\n",
        "print(\"Numeros con respuesta encontrada: \")\n",
        "for rta in respuestas:\n",
        "    print(rta)\n",
        "    pass"
      ],
      "execution_count": 41,
      "outputs": [
        {
          "output_type": "stream",
          "text": [
            "Total numeros buscar respuesta:  15\n",
            "Numeros no encontrados: \n",
            "1.3\n",
            "Numeros con respuesta encontrada: \n",
            "('3 * 5 / 6 - 8 + 2', '=', -3.5)\n",
            "('4 / 8 * 2 + 7 - 6', '=', 2)\n",
            "('9 + 6 - 4 / 2 * 3', '=', 9)\n",
            "('2 / 4 + 8 - 6 * 3', '=', -9.5)\n",
            "('7 - 3 * 4 + 9 / 1', '=', 4)\n",
            "('6 - 8 + 1 / 3 * 9', '=', 1)\n",
            "('5 + 2 * 3 / 6 - 4', '=', 2)\n",
            "('1 - 4 * 6 / 8 + 5', '=', 3)\n",
            "('4 / 2 - 7 + 1 * 9', '=', 4)\n",
            "('2 + 5 / 4 * 8 - 7', '=', 5)\n",
            "('8 - 4 + 3 / 9 * 6', '=', 6)\n",
            "('6 / 2 - 8 + 3 * 4', '=', 7)\n",
            "('8 * 3 / 6 - 1 + 5', '=', 8)\n",
            "('9 + 6 * 4 / 8 - 3', '=', 9)\n"
          ],
          "name": "stdout"
        }
      ]
    },
    {
      "cell_type": "code",
      "metadata": {
        "id": "X0X5q3esGKcz",
        "colab_type": "code",
        "colab": {
          "base_uri": "https://localhost:8080/",
          "height": 425
        },
        "outputId": "0e5d6399-8d1a-42ea-955e-06358490726f"
      },
      "source": [
        "valoresDeseados = range (-10, 11, 1)\n",
        "\n",
        "print(\"Total numeros buscar respuesta: \", len(valoresDeseados))\n",
        "respuestas, numerosNoEncontrados  =BuscarOperacionesPorListado(valoresDeseados)\n",
        "\n",
        "print(\"Numeros no encontrados: \")\n",
        "for rta in numerosNoEncontrados:\n",
        "    print(rta)\n",
        "    pass\n",
        "\n",
        "respuestas = sorted(set(respuestas))\n",
        "print(\"Numeros con respuesta encontrada: \")\n",
        "for rta in respuestas:\n",
        "    print(rta)\n",
        "    pass"
      ],
      "execution_count": 42,
      "outputs": [
        {
          "output_type": "stream",
          "text": [
            "Total numeros buscar respuesta:  21\n",
            "Numeros no encontrados: \n",
            "Numeros con respuesta encontrada: \n",
            "('1 - 5 + 6 / 4 * 8', '=', 8)\n",
            "('1 - 8 / 2 * 4 + 6', '=', -9)\n",
            "('2 - 7 / 1 + 4 * 3', '=', 7)\n",
            "('2 - 8 / 4 + 5 * 1', '=', 5)\n",
            "('3 + 5 - 6 / 4 * 8', '=', -4)\n",
            "('3 - 5 / 2 * 4 + 6', '=', -1)\n",
            "('3 - 9 + 2 / 4 * 6', '=', -3)\n",
            "('4 + 8 / 1 - 6 * 2', '=', 0)\n",
            "('4 - 9 + 3 / 2 * 6', '=', 4)\n",
            "('5 + 1 - 4 * 9 / 3', '=', -6)\n",
            "('5 + 4 * 9 / 6 - 2', '=', 9)\n",
            "('5 - 4 / 2 * 7 + 1', '=', -8)\n",
            "('5 - 6 + 8 * 1 / 4', '=', 1)\n",
            "('7 + 1 / 2 * 6 - 4', '=', 6)\n",
            "('7 + 2 / 4 * 6 - 8', '=', 2)\n",
            "('7 + 4 - 9 * 6 / 3', '=', -7)\n",
            "('8 - 7 / 1 * 2 + 4', '=', -2)\n",
            "('8 / 4 + 5 * 3 - 7', '=', 10)\n",
            "('9 + 2 / 1 - 3 * 7', '=', -10)\n",
            "('9 - 3 * 6 + 8 / 2', '=', -5)\n",
            "('9 - 4 / 2 * 7 + 8', '=', 3)\n"
          ],
          "name": "stdout"
        }
      ]
    },
    {
      "cell_type": "code",
      "metadata": {
        "id": "S0-YFVuZHT8s",
        "colab_type": "code",
        "colab": {
          "base_uri": "https://localhost:8080/",
          "height": 1000
        },
        "outputId": "9740c2b2-1396-4853-da34-265fa7b65816"
      },
      "source": [
        "valoresDeseados = []\n",
        "valores = np.arange(-10, 11, 0.05)\n",
        "for valorDeseado in valores:\n",
        "    valorDeseado = float(\"{0:.2f}\".format(valorDeseado))\n",
        "    valoresDeseados.append(valorDeseado)\n",
        "\n",
        "print(\"Total numeros buscar respuesta: \", len(valoresDeseados))\n",
        "respuestas, numerosNoEncontrados  =BuscarOperacionesPorListado(valoresDeseados)\n",
        "print(\"Con rta: \",len(respuestas))\n",
        "print(\"Sin rta: \",len(numerosNoEncontrados))\n",
        "\n",
        "\n",
        "\n",
        "print(\"Numeros no encontrados: \")\n",
        "for rta in numerosNoEncontrados:\n",
        "    print(rta)\n",
        "    pass\n",
        "\n",
        "print(\"Numeros con respuesta encontrada: \")\n",
        "for rta in respuestas:\n",
        "    print(rta)\n",
        "    pass\n"
      ],
      "execution_count": 63,
      "outputs": [
        {
          "output_type": "stream",
          "text": [
            "Total numeros buscar respuesta:  420\n",
            "Con rta:  162\n",
            "Sin rta:  258\n",
            "Numeros no encontrados: \n",
            "-9.95\n",
            "-9.9\n",
            "-9.85\n",
            "-9.7\n",
            "-9.65\n",
            "-9.6\n",
            "-9.55\n",
            "-9.45\n",
            "-9.35\n",
            "-9.3\n",
            "-9.15\n",
            "-9.1\n",
            "-9.05\n",
            "-8.95\n",
            "-8.9\n",
            "-8.85\n",
            "-8.7\n",
            "-8.65\n",
            "-8.6\n",
            "-8.55\n",
            "-8.45\n",
            "-8.35\n",
            "-8.3\n",
            "-8.15\n",
            "-8.1\n",
            "-8.05\n",
            "-7.95\n",
            "-7.9\n",
            "-7.85\n",
            "-7.7\n",
            "-7.65\n",
            "-7.6\n",
            "-7.55\n",
            "-7.45\n",
            "-7.35\n",
            "-7.3\n",
            "-7.15\n",
            "-7.1\n",
            "-7.05\n",
            "-6.95\n",
            "-6.9\n",
            "-6.85\n",
            "-6.7\n",
            "-6.65\n",
            "-6.6\n",
            "-6.55\n",
            "-6.45\n",
            "-6.35\n",
            "-6.3\n",
            "-6.15\n",
            "-6.1\n",
            "-6.05\n",
            "-5.95\n",
            "-5.9\n",
            "-5.85\n",
            "-5.7\n",
            "-5.65\n",
            "-5.55\n",
            "-5.45\n",
            "-5.35\n",
            "-5.3\n",
            "-5.25\n",
            "-5.2\n",
            "-5.15\n",
            "-5.1\n",
            "-5.05\n",
            "-4.95\n",
            "-4.9\n",
            "-4.85\n",
            "-4.7\n",
            "-4.65\n",
            "-4.55\n",
            "-4.45\n",
            "-4.35\n",
            "-4.3\n",
            "-4.15\n",
            "-4.1\n",
            "-4.05\n",
            "-3.95\n",
            "-3.9\n",
            "-3.85\n",
            "-3.7\n",
            "-3.65\n",
            "-3.55\n",
            "-3.45\n",
            "-3.35\n",
            "-3.3\n",
            "-3.15\n",
            "-3.1\n",
            "-3.05\n",
            "-2.95\n",
            "-2.9\n",
            "-2.85\n",
            "-2.7\n",
            "-2.65\n",
            "-2.55\n",
            "-2.45\n",
            "-2.35\n",
            "-2.3\n",
            "-2.15\n",
            "-2.1\n",
            "-2.05\n",
            "-1.95\n",
            "-1.9\n",
            "-1.85\n",
            "-1.7\n",
            "-1.65\n",
            "-1.55\n",
            "-1.45\n",
            "-1.35\n",
            "-1.3\n",
            "-1.15\n",
            "-1.1\n",
            "-1.05\n",
            "-0.95\n",
            "-0.9\n",
            "-0.85\n",
            "-0.7\n",
            "-0.65\n",
            "-0.55\n",
            "-0.45\n",
            "-0.35\n",
            "-0.3\n",
            "-0.15\n",
            "-0.1\n",
            "-0.05\n",
            "0.05\n",
            "0.1\n",
            "0.15\n",
            "0.3\n",
            "0.35\n",
            "0.45\n",
            "0.55\n",
            "0.65\n",
            "0.7\n",
            "0.85\n",
            "0.9\n",
            "0.95\n",
            "1.05\n",
            "1.1\n",
            "1.15\n",
            "1.3\n",
            "1.35\n",
            "1.45\n",
            "1.55\n",
            "1.65\n",
            "1.7\n",
            "1.85\n",
            "1.9\n",
            "1.95\n",
            "2.05\n",
            "2.1\n",
            "2.15\n",
            "2.3\n",
            "2.35\n",
            "2.45\n",
            "2.55\n",
            "2.65\n",
            "2.7\n",
            "2.85\n",
            "2.9\n",
            "2.95\n",
            "3.05\n",
            "3.1\n",
            "3.15\n",
            "3.3\n",
            "3.35\n",
            "3.45\n",
            "3.55\n",
            "3.65\n",
            "3.7\n",
            "3.85\n",
            "3.9\n",
            "3.95\n",
            "4.05\n",
            "4.1\n",
            "4.15\n",
            "4.3\n",
            "4.35\n",
            "4.45\n",
            "4.55\n",
            "4.65\n",
            "4.7\n",
            "4.85\n",
            "4.9\n",
            "4.95\n",
            "5.05\n",
            "5.1\n",
            "5.15\n",
            "5.3\n",
            "5.35\n",
            "5.45\n",
            "5.55\n",
            "5.65\n",
            "5.7\n",
            "5.85\n",
            "5.9\n",
            "5.95\n",
            "6.05\n",
            "6.1\n",
            "6.15\n",
            "6.3\n",
            "6.35\n",
            "6.45\n",
            "6.55\n",
            "6.65\n",
            "6.7\n",
            "6.85\n",
            "6.9\n",
            "6.95\n",
            "7.05\n",
            "7.1\n",
            "7.15\n",
            "7.3\n",
            "7.35\n",
            "7.45\n",
            "7.55\n",
            "7.65\n",
            "7.7\n",
            "7.85\n",
            "7.9\n",
            "7.95\n",
            "8.05\n",
            "8.1\n",
            "8.15\n",
            "8.3\n",
            "8.35\n",
            "8.45\n",
            "8.55\n",
            "8.65\n",
            "8.7\n",
            "8.85\n",
            "8.9\n",
            "8.95\n",
            "9.05\n",
            "9.1\n",
            "9.15\n",
            "9.3\n",
            "9.35\n",
            "9.45\n",
            "9.55\n",
            "9.65\n",
            "9.7\n",
            "9.85\n",
            "9.9\n",
            "9.95\n",
            "10.05\n",
            "10.1\n",
            "10.15\n",
            "10.3\n",
            "10.35\n",
            "10.45\n",
            "10.55\n",
            "10.65\n",
            "10.7\n",
            "10.85\n",
            "10.9\n",
            "10.95\n",
            "Numeros con respuesta encontrada: \n",
            "('3 + 5 - 8 * 9 / 4', '=', -10.0)\n",
            "('1 / 5 + 6 - 2 * 8', '=', -9.8)\n",
            "('1 - 2 * 6 + 5 / 4', '=', -9.75)\n",
            "('8 - 9 * 2 + 3 / 6', '=', -9.5)\n",
            "('1 - 8 / 5 * 9 + 4', '=', -9.4)\n",
            "('3 / 4 + 8 - 9 * 2', '=', -9.25)\n",
            "('4 / 5 + 8 - 2 * 9', '=', -9.2)\n",
            "('2 - 6 * 8 / 4 + 1', '=', -9.0)\n",
            "('7 - 8 * 2 + 1 / 5', '=', -8.8)\n",
            "('9 + 1 / 4 - 3 * 6', '=', -8.75)\n",
            "('2 + 9 / 6 - 4 * 3', '=', -8.5)\n",
            "('4 - 2 * 7 + 8 / 5', '=', -8.4)\n",
            "('5 + 3 / 4 - 2 * 7', '=', -8.25)\n",
            "('4 / 5 - 2 * 8 + 7', '=', -8.2)\n",
            "('8 + 5 - 7 * 3 / 1', '=', -8.0)\n",
            "('2 - 6 * 9 / 5 + 1', '=', -7.8)\n",
            "('7 + 5 / 4 - 8 * 2', '=', -7.75)\n",
            "('7 - 5 * 3 + 2 / 4', '=', -7.5)\n",
            "('8 / 5 - 3 * 6 + 9', '=', -7.4)\n",
            "('3 / 4 + 6 - 2 * 7', '=', -7.25)\n",
            "('6 - 7 * 2 + 4 / 5', '=', -7.2)\n",
            "('4 + 5 - 8 / 3 * 6', '=', -7.0)\n",
            "('1 + 3 * 2 / 5 - 9', '=', -6.8)\n",
            "('8 - 7 / 4 * 9 + 1', '=', -6.75)\n",
            "('9 - 8 * 2 + 3 / 6', '=', -6.5)\n",
            "('8 / 5 - 7 * 2 + 6', '=', -6.4)\n",
            "('2 + 3 - 9 / 4 * 5', '=', -6.25)\n",
            "('1 + 4 - 7 / 5 * 8', '=', -6.2)\n",
            "('2 - 7 / 4 * 8 + 6', '=', -6.0)\n",
            "('1 + 3 * 2 / 5 - 8', '=', -5.8)\n",
            "('2 / 8 + 9 - 5 * 3', '=', -5.75)\n",
            "('2 * 1 / 5 - 9 + 3', '=', -5.6)\n",
            "('7 - 3 * 9 / 2 + 1', '=', -5.5)\n",
            "('2 - 8 * 9 / 5 + 7', '=', -5.4)\n",
            "('1 + 2 / 6 * 3 - 7', '=', -5.0)\n",
            "('3 - 9 + 6 * 1 / 5', '=', -4.8)\n",
            "('5 + 6 - 9 / 4 * 7', '=', -4.75)\n",
            "('3 + 2 / 5 - 1 * 8', '=', -4.6)\n",
            "('8 - 7 * 2 + 6 / 4', '=', -4.5)\n",
            "('8 / 5 + 3 - 9 * 1', '=', -4.4)\n",
            "('3 - 9 + 2 * 7 / 8', '=', -4.25)\n",
            "('9 / 5 + 2 - 8 * 1', '=', -4.2)\n",
            "('9 + 7 - 5 * 4 / 1', '=', -4.0)\n",
            "('3 - 1 * 8 + 6 / 5', '=', -3.8)\n",
            "('8 + 1 / 4 - 2 * 6', '=', -3.75)\n",
            "('6 * 2 / 5 + 1 - 7', '=', -3.6)\n",
            "('6 + 1 - 3 / 2 * 7', '=', -3.5)\n",
            "('4 + 7 - 8 / 5 * 9', '=', -3.4)\n",
            "('3 * 1 / 4 + 5 - 9', '=', -3.25)\n",
            "('6 - 8 / 5 * 7 + 2', '=', -3.2)\n",
            "('7 - 8 / 4 * 6 + 2', '=', -3.0)\n",
            "('1 + 7 - 6 / 5 * 9', '=', -2.8)\n",
            "('3 + 1 - 6 / 8 * 9', '=', -2.75)\n",
            "('2 / 5 * 6 + 4 - 9', '=', -2.6)\n",
            "('9 / 6 * 3 - 8 + 1', '=', -2.5)\n",
            "('2 / 5 * 4 + 3 - 7', '=', -2.4)\n",
            "('6 - 1 * 9 + 3 / 4', '=', -2.25)\n",
            "('9 / 5 + 8 - 6 * 2', '=', -2.2)\n",
            "('8 - 4 / 1 * 3 + 2', '=', -2.0)\n",
            "('9 - 3 * 4 + 6 / 5', '=', -1.8)\n",
            "('2 / 8 * 9 + 1 - 5', '=', -1.75)\n",
            "('7 / 5 - 9 + 3 * 2', '=', -1.6)\n",
            "('1 - 6 + 7 * 4 / 8', '=', -1.5)\n",
            "('3 / 5 * 1 + 6 - 8', '=', -1.4)\n",
            "('6 - 9 + 1 / 4 * 7', '=', -1.25)\n",
            "('7 - 9 * 1 + 4 / 5', '=', -1.2)\n",
            "('6 - 8 / 1 * 2 + 9', '=', -1.0)\n",
            "('2 * 3 - 8 + 6 / 5', '=', -0.8)\n",
            "('9 - 2 * 5 + 1 / 4', '=', -0.75)\n",
            "('7 * 1 - 8 + 2 / 5', '=', -0.6)\n",
            "('1 / 2 * 3 + 6 - 8', '=', -0.5)\n",
            "('1 * 2 + 8 / 5 - 4', '=', -0.4)\n",
            "('3 / 4 + 5 - 6 * 1', '=', -0.25)\n",
            "('2 + 9 - 8 / 5 * 7', '=', -0.2)\n",
            "('6 * 2 / 3 + 1 - 5', '=', 0.0)\n",
            "('4 + 3 / 5 * 7 - 8', '=', 0.2)\n",
            "('2 - 4 + 3 / 8 * 6', '=', 0.25)\n",
            "('1 * 3 - 4 + 7 / 5', '=', 0.4)\n",
            "('1 + 7 - 6 * 5 / 4', '=', 0.5)\n",
            "('2 / 5 * 4 - 9 + 8', '=', 0.6)\n",
            "('1 - 9 + 7 / 4 * 5', '=', 0.75)\n",
            "('9 / 5 * 1 - 3 + 2', '=', 0.8)\n",
            "('3 - 4 * 2 + 6 / 1', '=', 1.0)\n",
            "('7 * 3 / 5 + 6 - 9', '=', 1.2)\n",
            "('6 - 7 + 9 / 8 * 2', '=', 1.25)\n",
            "('3 * 4 / 5 + 6 - 7', '=', 1.4)\n",
            "('3 / 6 - 7 + 2 * 4', '=', 1.5)\n",
            "('6 + 2 - 4 / 5 * 8', '=', 1.6)\n",
            "('3 / 4 - 8 * 1 + 9', '=', 1.75)\n",
            "('4 / 5 + 9 * 1 - 8', '=', 1.8)\n",
            "('6 * 4 / 8 + 1 - 2', '=', 2.0)\n",
            "('8 - 1 * 7 + 6 / 5', '=', 2.2)\n",
            "('2 / 8 - 5 + 7 * 1', '=', 2.25)\n",
            "('4 - 7 + 9 / 5 * 3', '=', 2.4)\n",
            "('3 / 6 * 9 - 4 + 2', '=', 2.5)\n",
            "('8 / 5 - 1 * 6 + 7', '=', 2.6)\n",
            "('8 + 6 - 5 * 9 / 4', '=', 2.75)\n",
            "('3 - 4 / 5 * 9 + 7', '=', 2.8)\n",
            "('2 / 6 * 3 - 7 + 9', '=', 3.0)\n",
            "('9 - 7 + 6 * 1 / 5', '=', 3.2)\n",
            "('9 / 4 * 1 + 7 - 6', '=', 3.25)\n",
            "('2 - 4 + 9 * 3 / 5', '=', 3.4)\n",
            "('5 * 3 / 6 - 1 + 2', '=', 3.5)\n",
            "('3 + 1 * 2 - 7 / 5', '=', 3.6)\n",
            "('5 + 2 / 8 * 7 - 3', '=', 3.75)\n",
            "('9 - 6 + 1 / 5 * 4', '=', 3.8)\n",
            "('9 - 4 * 3 / 2 + 1', '=', 4.0)\n",
            "('2 + 4 - 9 / 5 * 1', '=', 4.2)\n",
            "('7 - 5 + 2 * 9 / 8', '=', 4.25)\n",
            "('3 * 4 / 5 - 6 + 8', '=', 4.4)\n",
            "('5 * 3 / 6 + 9 - 7', '=', 4.5)\n",
            "('6 + 8 / 5 * 1 - 3', '=', 4.6)\n",
            "('7 * 1 / 4 + 9 - 6', '=', 4.75)\n",
            "('1 + 7 - 2 / 5 * 8', '=', 4.8)\n",
            "('3 * 4 / 2 - 9 + 8', '=', 5.0)\n",
            "('2 + 8 - 4 / 5 * 6', '=', 5.2)\n",
            "('5 / 4 * 9 + 1 - 7', '=', 5.25)\n",
            "('3 + 1 * 4 - 8 / 5', '=', 5.4)\n",
            "('2 + 4 * 9 / 8 - 1', '=', 5.5)\n",
            "('4 - 2 + 3 * 6 / 5', '=', 5.6)\n",
            "('9 - 5 + 1 * 7 / 4', '=', 5.75)\n",
            "('7 - 2 + 1 / 5 * 4', '=', 5.8)\n",
            "('5 * 2 - 7 + 3 / 1', '=', 6.0)\n",
            "('6 / 5 - 4 + 1 * 9', '=', 6.2)\n",
            "('6 - 7 / 4 * 5 + 9', '=', 6.25)\n",
            "('7 + 3 / 5 * 9 - 6', '=', 6.4)\n",
            "('6 + 9 / 2 * 1 - 4', '=', 6.5)\n",
            "('7 + 9 / 5 * 2 - 4', '=', 6.6)\n",
            "('6 / 8 * 1 + 9 - 3', '=', 6.75)\n",
            "('4 / 5 * 6 - 7 + 9', '=', 6.8)\n",
            "('6 / 3 - 4 + 1 * 9', '=', 7.0)\n",
            "('1 + 2 * 4 - 9 / 5', '=', 7.2)\n",
            "('2 / 8 * 5 - 1 + 7', '=', 7.25)\n",
            "('4 / 5 * 3 - 1 + 6', '=', 7.4)\n",
            "('1 - 4 + 7 / 2 * 3', '=', 7.5)\n",
            "('9 - 3 + 4 * 2 / 5', '=', 7.6)\n",
            "('9 + 1 - 3 * 6 / 8', '=', 7.75)\n",
            "('6 - 1 + 7 * 2 / 5', '=', 7.8)\n",
            "('1 - 5 + 4 / 3 * 9', '=', 8.0)\n",
            "('7 / 5 * 8 + 6 - 9', '=', 8.2)\n",
            "('7 / 8 * 6 + 5 - 2', '=', 8.25)\n",
            "('1 * 6 + 4 - 8 / 5', '=', 8.4)\n",
            "('9 + 3 - 1 * 7 / 2', '=', 8.5)\n",
            "('6 - 3 + 4 / 5 * 7', '=', 8.6)\n",
            "('2 - 1 / 4 * 5 + 8', '=', 8.75)\n",
            "('8 - 6 * 1 / 5 + 2', '=', 8.8)\n",
            "('6 / 3 * 2 + 9 - 4', '=', 9.0)\n",
            "('6 * 2 + 1 / 5 - 3', '=', 9.2)\n",
            "('2 + 1 * 8 - 3 / 4', '=', 9.25)\n",
            "('8 + 4 * 3 / 5 - 1', '=', 9.4)\n",
            "('2 - 3 + 7 * 9 / 6', '=', 9.5)\n",
            "('1 * 3 - 2 / 5 + 7', '=', 9.6)\n",
            "('3 / 4 * 9 + 5 - 2', '=', 9.75)\n",
            "('8 / 5 * 3 - 4 + 9', '=', 9.8)\n",
            "('6 / 2 * 3 + 8 - 7', '=', 10.0)\n",
            "('3 * 4 + 1 / 5 - 2', '=', 10.2)\n",
            "('6 * 7 / 8 + 9 - 4', '=', 10.25)\n",
            "('3 * 9 / 5 + 6 - 1', '=', 10.4)\n",
            "('6 / 4 - 1 + 5 * 2', '=', 10.5)\n",
            "('2 - 4 + 9 / 5 * 7', '=', 10.6)\n",
            "('6 - 2 + 9 * 3 / 4', '=', 10.75)\n",
            "('4 / 5 + 2 * 8 - 6', '=', 10.8)\n"
          ],
          "name": "stdout"
        }
      ]
    },
    {
      "cell_type": "markdown",
      "metadata": {
        "id": "zGT6hn-p10eQ",
        "colab_type": "text"
      },
      "source": [
        "Este algoritmo mejora al algoritmo de fuerza bruta debido a que al no tener que generar muchas soluciones para la misma entrada para luego elegir una, sino que se elije la qprimera que cumpla con lo solicitado, logrando así respuestas más rápidas."
      ]
    },
    {
      "cell_type": "markdown",
      "metadata": {
        "id": "eGDB4K6uk1iN",
        "colab_type": "text"
      },
      "source": [
        "(*)Calcula la complejidad del algoritmo "
      ]
    },
    {
      "cell_type": "markdown",
      "metadata": {
        "id": "NhpTh_BPk1ms",
        "colab_type": "text"
      },
      "source": [
        "Respuesta"
      ]
    },
    {
      "cell_type": "markdown",
      "metadata": {
        "id": "Sfb6KWMT2J8e",
        "colab_type": "text"
      },
      "source": [
        "O(n^2)"
      ]
    },
    {
      "cell_type": "markdown",
      "metadata": {
        "id": "3M6QjTsSkmYe",
        "colab_type": "text"
      },
      "source": [
        "Según el problema (y tenga sentido), diseña un juego de datos de entrada aleatorios"
      ]
    },
    {
      "cell_type": "code",
      "metadata": {
        "id": "ZANBdHPm4wjN",
        "colab_type": "code",
        "colab": {
          "base_uri": "https://localhost:8080/",
          "height": 54
        },
        "outputId": "2810510a-ac78-4758-9b19-44fe3ee9c863"
      },
      "source": [
        "sizeDataseet = 20\n",
        "\n",
        "\n",
        "valoresDeseados = []\n",
        "for valorDeseado in range(sizeDataseet):\n",
        "    valorAzar = random.random()*10\n",
        "    valorAzar = float(\"{0:.2f}\".format(valorAzar))\n",
        "    valoresDeseados.append(valorAzar)\n",
        "\n",
        "print(valoresDeseados)"
      ],
      "execution_count": 61,
      "outputs": [
        {
          "output_type": "stream",
          "text": [
            "[2.3, 9.82, 2.15, 8.72, 3.18, 4.42, 4.31, 2.75, 4.76, 1.19, 0.51, 7.58, 9.02, 2.12, 0.22, 6.34, 1.52, 8.96, 8.13, 5.09]\n"
          ],
          "name": "stdout"
        }
      ]
    },
    {
      "cell_type": "markdown",
      "metadata": {
        "id": "zy5ZROmjlGo1",
        "colab_type": "text"
      },
      "source": [
        "Aplica el algoritmo al juego de datos generado"
      ]
    },
    {
      "cell_type": "code",
      "metadata": {
        "id": "iZ347U2A4iT5",
        "colab_type": "code",
        "colab": {
          "base_uri": "https://localhost:8080/",
          "height": 442
        },
        "outputId": "994ea01b-6759-40d5-e91d-e68848427c2e"
      },
      "source": [
        "print(\"Total numeros buscar respuesta: \", len(valoresDeseados))\n",
        "respuestas, numerosNoEncontrados  =BuscarOperacionesPorListado(valoresDeseados)\n",
        "print(\"Con rta: \",len(respuestas))\n",
        "print(\"Sin rta: \",len(numerosNoEncontrados))\n",
        "\n",
        "\n",
        "\n",
        "print(\"Numeros no encontrados: \")\n",
        "for rta in numerosNoEncontrados:\n",
        "    print(rta)\n",
        "    pass\n",
        "\n",
        "print(\"Numeros con respuesta encontrada: \")\n",
        "for rta in respuestas:\n",
        "    print(rta)\n",
        "    pass"
      ],
      "execution_count": 62,
      "outputs": [
        {
          "output_type": "stream",
          "text": [
            "Total numeros buscar respuesta:  20\n",
            "Con rta:  3\n",
            "Sin rta:  17\n",
            "Numeros no encontrados: \n",
            "2.3\n",
            "9.82\n",
            "2.15\n",
            "8.72\n",
            "3.18\n",
            "4.42\n",
            "4.31\n",
            "4.76\n",
            "1.19\n",
            "0.51\n",
            "7.58\n",
            "9.02\n",
            "6.34\n",
            "1.52\n",
            "8.96\n",
            "8.13\n",
            "5.09\n",
            "Numeros con respuesta encontrada: \n",
            "('2 / 8 * 3 + 9 - 7', '=', 2.75)\n",
            "('4 - 3 + 9 * 1 / 8', '=', 2.12)\n",
            "('1 - 3 + 5 / 9 * 4', '=', 0.22)\n"
          ],
          "name": "stdout"
        }
      ]
    },
    {
      "cell_type": "markdown",
      "metadata": {
        "id": "uX_4sa-L5JvE",
        "colab_type": "text"
      },
      "source": [
        "## Conclusiones"
      ]
    },
    {
      "cell_type": "markdown",
      "metadata": {
        "id": "NdsuHTcQ5n2Y",
        "colab_type": "text"
      },
      "source": [
        "Para este problema se ha usado recursividad y el algoritmo de divide y venceras para la solución del problema, pero usando algoritmos heuristicos seguro se podrá lograr obtener los mismos resultados en un tiempo menor"
      ]
    },
    {
      "cell_type": "markdown",
      "metadata": {
        "id": "vfg2G9Zp6JCF",
        "colab_type": "text"
      },
      "source": [
        "Las restricciones del problema hacen que el algoritmo le resulte dificil generar soluciones para valores float no multiplos de 0.25.... "
      ]
    },
    {
      "cell_type": "markdown",
      "metadata": {
        "id": "x-O4nx_u6ZUW",
        "colab_type": "text"
      },
      "source": [
        "El algoritmo generado fue por métodos exactos, pero un ejercicio futuro sería usar algoritmos heuristicos para la solución. Incluso la posibilidad de generar los set de signos y set de numeros (ambos son el set de datos) mediante algoritmos geneticos, y comparar las soluciones."
      ]
    }
  ]
}