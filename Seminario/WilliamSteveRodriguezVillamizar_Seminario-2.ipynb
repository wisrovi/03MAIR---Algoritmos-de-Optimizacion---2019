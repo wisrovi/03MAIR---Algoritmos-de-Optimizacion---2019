{
  "nbformat": 4,
  "nbformat_minor": 0,
  "metadata": {
    "colab": {
      "name": "WilliamSteveRodriguezVillamizar_AG2",
      "provenance": [],
      "collapsed_sections": [],
      "include_colab_link": true
    },
    "kernelspec": {
      "name": "python3",
      "display_name": "Python 3"
    }
  },
  "cells": [
    {
      "cell_type": "markdown",
      "metadata": {
        "id": "view-in-github",
        "colab_type": "text"
      },
      "source": [
        "<a href=\"https://colab.research.google.com/github/wisrovi/03MAIR---Algoritmos-de-Optimizacion---2019/blob/master/Seminario/WilliamSteveRodriguezVillamizar_Seminario-2.ipynb\" target=\"_parent\"><img src=\"https://colab.research.google.com/assets/colab-badge.svg\" alt=\"Open In Colab\"/></a>"
      ]
    },
    {
      "cell_type": "markdown",
      "metadata": {
        "id": "hVbXYX-RfPWh",
        "colab_type": "text"
      },
      "source": [
        "# Algoritmos de optimización - Seminario<br>\n",
        "Nombre y Apellidos:   <br>\n",
        "Url: https://github.com/.../03MAIR---Algoritmos-de-Optimizacion---2019/tree/master/SEMINARIO<br>\n",
        "Problema:\n",
        "> 1. Elección de grupos de población homogéneos <br>\n",
        "\n",
        "Descripción del problema:\n",
        "\n",
        "Elección de grupos de población homogéneos\n",
        "\n",
        "• El problema consiste en analizar el siguiente problema y diseñar un algoritmo que lo resuelva.\n",
        "\n",
        "• Disponemos de las 9 cifras del 1 al 9 (excluimos el cero) y de los 4 signos básicos de las\n",
        "operaciones fundamentales: suma(+), resta(-), multiplicación(*) y división(/)\n",
        "\n",
        "• Debemos combinarlos alternativamente sin repetir ninguno de ellos para obtener una\n",
        "cantidad dada.\n",
        "\n",
        "....\n",
        "\n",
        "(*) La respuesta es obligatoria\n",
        "\n",
        "\n",
        "\n",
        "\n",
        "\n",
        "                                        "
      ]
    },
    {
      "cell_type": "markdown",
      "metadata": {
        "id": "3_-exlrTgLd-",
        "colab_type": "text"
      },
      "source": [
        "(*)¿Cuantas posibilidades hay sin tener en cuenta las restricciones?<br>\n",
        "\n",
        "\n",
        "\n",
        "¿Cuantas posibilidades hay teniendo en cuenta todas las restricciones.\n",
        "\n",
        "\n"
      ]
    },
    {
      "cell_type": "markdown",
      "metadata": {
        "id": "WfCUqJyKhPcw",
        "colab_type": "text"
      },
      "source": [
        "Respuesta"
      ]
    },
    {
      "cell_type": "code",
      "metadata": {
        "id": "iq6Fe32MgpDX",
        "colab_type": "code",
        "colab": {}
      },
      "source": [
        "#Sin ninguna restricción hay 2^n posibles soluciones, donde n es el numero de terneros en el dataset, \n",
        "#pero teniendo las restricciones y mirando que el tamaño de datos es limitado en el dataset, \n",
        "#y tambien mirando que el sistema solicita grupos homogeneos se generan tambien 2^x posibilidades, \n",
        "#donde x es la menor cantidad de inviduos ya sea machos o hembras, siempre y cuando los datos del dataset tengan pesos similares"
      ],
      "execution_count": 0,
      "outputs": []
    },
    {
      "cell_type": "markdown",
      "metadata": {
        "id": "dzynfVJahHoY",
        "colab_type": "text"
      },
      "source": [
        "Modelo para el espacio de soluciones<br>\n",
        "(*) ¿Cual es la estructura de datos que mejor se adapta al problema? Argumentalo.(Es posible que hayas elegido una al principio y veas la necesidad de cambiar, arguentalo)\n"
      ]
    },
    {
      "cell_type": "markdown",
      "metadata": {
        "id": "xFIJrOwKi2Ti",
        "colab_type": "text"
      },
      "source": [
        "Respuesta"
      ]
    },
    {
      "cell_type": "code",
      "metadata": {
        "id": "38c-7-ejhJmA",
        "colab_type": "code",
        "colab": {}
      },
      "source": [
        "#La estructura mas óptima sea aquella donde los pesos individuales de cada ternero sea muy cercano a la media, \n",
        "#puesto que asi, todos serian aptos para usarse en los grupos homogeneos sin descartar a terneros con mucho peso o poco peso, por la restricción que solicita el problema\n",
        "\n",
        "#Para este ejercicio, dado que no se contaba con un dataset inicial, se ópto por generar un dataset aleatorio lo mas real posible\n",
        "#para ello se indago sobre los pesos de terneros en el mercado, encontrandose que los terneros que se usan para este tipo de pruebas varian desde los 8 a los 12 meses\n",
        "#asi que se investigo los pesos para estas edades y se parametrizo esto en un diccionario (edadRangoPeso)\n",
        "#aleatoriamente genero un sexo para el ternero\n",
        "#seguidamente el algoritmo que crea este dataset, elije una de estas edades aleatoriamente y con esto, nuevamente aleatorio, genero un peso al azar, \n",
        "#pero como bien es sabido que en la naturaleza el macho es mas pesado que la hembra (en la mayoria de las veces),\n",
        "#si el sexo del ternero es macho, aleatoriamente elijo un porcentaje entre 3% y 10%, para incrementar el peso generado aleatoriamente\n",
        "#esto para hacer mas cercano a la realidad este dataset\n",
        "#finalmente para cada item del dataset (se generar tantos terneros como lo defina el usuario) se genera una etiqueta (diferente al index de la tabla),\n",
        "#simulando asi el marcado que se le hace a los terneros en las granjas, generalmente en la oreja, para luego identificarlo\n",
        "#y en este caso, decir que el ternero etiquetado_con_con_el_codigo_XXX ira a un grupo u otro de tal tratamiento.\n",
        "\n",
        "#Esto es una manera algo practica, donde se crean terneros al azar, pero sin salirse de la realidad de los terneros.\n",
        "#sin embargo, como es un metodo donde se usa la recursividad y el azar, se generan terneros muy gordos y otros muy flacos, \n",
        "#con lo cual estos mayormente no se usaran en la selección por alterar la homogeneidad de los grupos\n",
        "\n",
        "#Pero aún asi, una manera mas eficiente de generar este dataset sería usar un algoritmo genetico donde con un padre, generar hijos (con los cuales llenariamos el dataset) \n",
        "#lo mas parecidos al genoma del padre, con esto podriamos aprovechar mas cantidad de muestras del dataset, y asi el algoritmo daria resultados mas interesantes \n",
        "#a nivel de cantidad de sujetos para cada tratamiento"
      ],
      "execution_count": 0,
      "outputs": []
    },
    {
      "cell_type": "markdown",
      "metadata": {
        "id": "7Z9U2W7bi-XS",
        "colab_type": "text"
      },
      "source": [
        "Según el modelo para el espacio de soluciones<br>\n",
        "(*)¿Cual es la función objetivo?\n",
        "\n",
        "(*)¿Es un problema de maximización o minimización?"
      ]
    },
    {
      "cell_type": "markdown",
      "metadata": {
        "id": "hBalWLM7j1_d",
        "colab_type": "text"
      },
      "source": [
        "Respuesta"
      ]
    },
    {
      "cell_type": "code",
      "metadata": {
        "id": "pDA-rg3Gj5Lz",
        "colab_type": "code",
        "colab": {}
      },
      "source": [
        "#Este problema de minización es un ejemplo claro de efectuar ordenamiento sort y busqueda heuristica para encontrar a los mejores elementos a utilizar en la prueba \n",
        "#en otras palabras, los terneros con los mejores genes \n",
        "#(escribiendo esto veo que un algoritmo genetico hubiera sido interesante para generar el dataset, pero solo se me ocurrio cuando me pregunte: Que otras formas hay de crear el dataset... sera para la proxima)"
      ],
      "execution_count": 0,
      "outputs": []
    },
    {
      "cell_type": "markdown",
      "metadata": {
        "id": "rlnTYgY1j6I2",
        "colab_type": "text"
      },
      "source": [
        "Diseña un algoritmo para resolver el problema por fuerza bruta"
      ]
    },
    {
      "cell_type": "markdown",
      "metadata": {
        "id": "70rDgxYXkC8r",
        "colab_type": "text"
      },
      "source": [
        "Respuesta"
      ]
    },
    {
      "cell_type": "code",
      "metadata": {
        "id": "CJb5sQ0qkENy",
        "colab_type": "code",
        "colab": {}
      },
      "source": [
        ""
      ],
      "execution_count": 0,
      "outputs": []
    },
    {
      "cell_type": "markdown",
      "metadata": {
        "id": "tgrnsC2nkFa8",
        "colab_type": "text"
      },
      "source": [
        "Calcula la complejidad del algoritmo por fuerza bruta"
      ]
    },
    {
      "cell_type": "markdown",
      "metadata": {
        "id": "9eUd3xwckP68",
        "colab_type": "text"
      },
      "source": [
        "Respuesta"
      ]
    },
    {
      "cell_type": "code",
      "metadata": {
        "id": "rvZWwL-ckRST",
        "colab_type": "code",
        "colab": {}
      },
      "source": [
        "#O(n log n)"
      ],
      "execution_count": 0,
      "outputs": []
    },
    {
      "cell_type": "markdown",
      "metadata": {
        "id": "txbrmLmskReM",
        "colab_type": "text"
      },
      "source": [
        "ok - (*)Diseña un algoritmo que mejore la complejidad del algortimo por fuerza bruta. Argumenta porque crees que mejora el algoritmo por fuerza bruta"
      ]
    },
    {
      "cell_type": "markdown",
      "metadata": {
        "id": "hLrVwt5QkZPD",
        "colab_type": "text"
      },
      "source": [
        "Respuesta"
      ]
    },
    {
      "cell_type": "code",
      "metadata": {
        "id": "-mPl2HQ6HT5U",
        "colab_type": "code",
        "colab": {}
      },
      "source": [
        "import random\n",
        "from sympy.parsing.sympy_parser import parse_expr"
      ],
      "execution_count": 0,
      "outputs": []
    },
    {
      "cell_type": "code",
      "metadata": {
        "id": "7cbpFclZHUJl",
        "colab_type": "code",
        "colab": {}
      },
      "source": [
        "Diccionario_signos = {\n",
        "    \"suma\" : \"+\",\n",
        "    \"resta\" : \"-\",\n",
        "    \"multiplicacion\" : \"*\",\n",
        "    \"division\" : \"/\"\n",
        "    }\n",
        "\n",
        "Lista_Numeros_Posibles = (1,\n",
        "           2,\n",
        "           3,\n",
        "           4,\n",
        "           5,\n",
        "           6,\n",
        "           7,\n",
        "           8,\n",
        "           9\n",
        "          )"
      ],
      "execution_count": 0,
      "outputs": []
    },
    {
      "cell_type": "code",
      "metadata": {
        "id": "VTLVRtqKHUHJ",
        "colab_type": "code",
        "colab": {}
      },
      "source": [
        "def BuscarExiste(lista, item):\n",
        "    buscandoEncontrando = False\n",
        "    for i in lista:\n",
        "        if i == item:\n",
        "            buscandoEncontrando = True\n",
        "            break\n",
        "    return buscandoEncontrando\n",
        "\n",
        "def getNumeroAleatorio():\n",
        "    listaNumeros = []    \n",
        "    while(True):\n",
        "        numer = random.choice(Lista_Numeros_Posibles)\n",
        "        if not BuscarExiste(listaNumeros, numer):\n",
        "            listaNumeros.append(numer)\n",
        "            if len(listaNumeros) == 5:\n",
        "                break    \n",
        "    return tuple(listaNumeros) \n",
        "\n",
        "def getSignosAleatorios():\n",
        "    listaSignos = []\n",
        "    while(True):     \n",
        "        sign = random.choice( list(Diccionario_signos.keys()) )  \n",
        "        if not BuscarExiste(listaSignos, sign):\n",
        "            listaSignos.append(sign)\n",
        "            if len(listaSignos) == 4:\n",
        "                break              \n",
        "    return (listaSignos[0], listaSignos[1], listaSignos[2], listaSignos[3]) \n",
        "\n",
        "def HallarResultado(tuplaNumeros, tuplaSignos):\n",
        "    expresion = \"\"\"%s %s %s %s %s %s %s %s %s\"\"\" %(\n",
        "        str(tuplaNumeros[0]),\n",
        "        Diccionario_signos[tuplaSignos[0]],\n",
        "        str(tuplaNumeros[1]),\n",
        "        Diccionario_signos[tuplaSignos[1]],\n",
        "        str(tuplaNumeros[2]),\n",
        "        Diccionario_signos[tuplaSignos[2]],\n",
        "        str(tuplaNumeros[3]),\n",
        "        Diccionario_signos[tuplaSignos[3]],\n",
        "        str(tuplaNumeros[4])\n",
        "    )    \n",
        "    solucion = float(parse_expr(expresion))\n",
        "    solucion = \"{0:.2f}\".format(solucion)\n",
        "    solucion = float(solucion)\n",
        "    return (expresion, solucion)"
      ],
      "execution_count": 0,
      "outputs": []
    },
    {
      "cell_type": "code",
      "metadata": {
        "id": "-9pJSlolHUFD",
        "colab_type": "code",
        "outputId": "cbed6c91-f241-4ce8-ccd4-f50cfc718fa2",
        "colab": {
          "base_uri": "https://localhost:8080/",
          "height": 34
        }
      },
      "source": [
        "(expresion, solucion) = HallarResultado(getNumeroAleatorio(), getSignosAleatorios())\n",
        "print(expresion, \"=\", solucion)"
      ],
      "execution_count": 0,
      "outputs": [
        {
          "output_type": "stream",
          "text": [
            "5 - 9 * 1 + 7 / 4 = -2.25\n"
          ],
          "name": "stdout"
        }
      ]
    },
    {
      "cell_type": "code",
      "metadata": {
        "id": "4f0vrzlmHUB9",
        "colab_type": "code",
        "outputId": "bd924033-b4ee-4167-c3ba-4ae87ceaaff5",
        "colab": {
          "base_uri": "https://localhost:8080/",
          "height": 34
        }
      },
      "source": [
        "def HallarValorDeseado(valorDeseado):\n",
        "    expresionBuscada = None\n",
        "    for i in range(10000):\n",
        "        (expresion, solucion) = HallarResultado(getNumeroAleatorio(), getSignosAleatorios())\n",
        "        if valorDeseado == solucion:\n",
        "            expresionBuscada = expresion\n",
        "            break\n",
        "    return (expresionBuscada, \"=\", valorDeseado)\n",
        "\n",
        "print(HallarValorDeseado(5))"
      ],
      "execution_count": 0,
      "outputs": [
        {
          "output_type": "stream",
          "text": [
            "('1 * 6 + 9 / 3 - 4', '=', 5)\n"
          ],
          "name": "stdout"
        }
      ]
    },
    {
      "cell_type": "code",
      "metadata": {
        "id": "Fj37WDr7HT_F",
        "colab_type": "code",
        "colab": {}
      },
      "source": [
        "valoresDeseados = [-3.5, 2, 9, -9.5, 4, 1.3, 1,2,3,4,5,6,7,8,9]\n",
        "valoresDeseados = range (-1000, 1001, 1)\n",
        "\n",
        "respuestas = []\n",
        "for valorDeseado in valoresDeseados:\n",
        "    respuestas.append(HallarValorDeseado(valorDeseado))\n",
        "        \n",
        "for rta in respuestas:\n",
        "    print(rta)"
      ],
      "execution_count": 0,
      "outputs": []
    },
    {
      "cell_type": "code",
      "metadata": {
        "id": "S0-YFVuZHT8s",
        "colab_type": "code",
        "colab": {}
      },
      "source": [
        ""
      ],
      "execution_count": 0,
      "outputs": []
    },
    {
      "cell_type": "code",
      "metadata": {
        "id": "oW1SWWOGHT2j",
        "colab_type": "code",
        "colab": {}
      },
      "source": [
        ""
      ],
      "execution_count": 0,
      "outputs": []
    },
    {
      "cell_type": "markdown",
      "metadata": {
        "id": "eGDB4K6uk1iN",
        "colab_type": "text"
      },
      "source": [
        "(*)Calcula la complejidad del algoritmo "
      ]
    },
    {
      "cell_type": "markdown",
      "metadata": {
        "id": "NhpTh_BPk1ms",
        "colab_type": "text"
      },
      "source": [
        "Respuesta"
      ]
    },
    {
      "cell_type": "code",
      "metadata": {
        "id": "nREzhkStlCq8",
        "colab_type": "code",
        "colab": {}
      },
      "source": [
        "#O(n^2)"
      ],
      "execution_count": 0,
      "outputs": []
    },
    {
      "cell_type": "markdown",
      "metadata": {
        "id": "3M6QjTsSkmYe",
        "colab_type": "text"
      },
      "source": [
        "Según el problema (y tenga sentido), diseña un juego de datos de entrada aleatorios"
      ]
    },
    {
      "cell_type": "markdown",
      "metadata": {
        "id": "Jc3_OlyNkvjZ",
        "colab_type": "text"
      },
      "source": [
        "Respuesta"
      ]
    },
    {
      "cell_type": "markdown",
      "metadata": {
        "id": "zy5ZROmjlGo1",
        "colab_type": "text"
      },
      "source": [
        "Aplica el algoritmo al juego de datos generado"
      ]
    },
    {
      "cell_type": "code",
      "metadata": {
        "id": "GFwf0ZI5Ht-5",
        "colab_type": "code",
        "colab": {}
      },
      "source": [
        ""
      ],
      "execution_count": 0,
      "outputs": []
    },
    {
      "cell_type": "markdown",
      "metadata": {
        "id": "_Cmj-PVylMsa",
        "colab_type": "text"
      },
      "source": [
        "Respuesta"
      ]
    },
    {
      "cell_type": "markdown",
      "metadata": {
        "colab_type": "text",
        "id": "eTFWUJQrtGcv"
      },
      "source": [
        "Enumera las referencias que has utilizado(si ha sido necesario) para llevar a cabo el trabajo"
      ]
    },
    {
      "cell_type": "code",
      "metadata": {
        "id": "7jkuxKwUHwra",
        "colab_type": "code",
        "colab": {}
      },
      "source": [
        ""
      ],
      "execution_count": 0,
      "outputs": []
    },
    {
      "cell_type": "markdown",
      "metadata": {
        "id": "YKQ_mRBttWsP",
        "colab_type": "text"
      },
      "source": [
        "Respuesta"
      ]
    },
    {
      "cell_type": "markdown",
      "metadata": {
        "id": "kAkDPUyRtYyH",
        "colab_type": "text"
      },
      "source": [
        "Describe brevemente las lineas de como crees que es posible avanzar en el estudio del problema. Ten en cuenta incluso posibles variaciones del problema y/o variaciones al alza del tamaño"
      ]
    },
    {
      "cell_type": "markdown",
      "metadata": {
        "id": "IE0uZmo-tZu-",
        "colab_type": "text"
      },
      "source": [
        "Respuesta:\n",
        "Para mejorar el algoritmo se podria utilizar algoritmos geneticos para generar el dataset\n",
        "\n",
        "Y para su solucion se podria utilizar algoritmos heuristicos que da soluciones mas rapidas y algunas veces (al aplicar un poco soluciones aleatorias) logra soluciones mejores a un algoritmo cerrado como el diseñado en este trabajo."
      ]
    }
  ]
}