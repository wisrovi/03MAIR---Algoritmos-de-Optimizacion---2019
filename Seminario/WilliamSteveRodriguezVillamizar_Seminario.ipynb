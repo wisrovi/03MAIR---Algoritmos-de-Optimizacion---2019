{
  "nbformat": 4,
  "nbformat_minor": 0,
  "metadata": {
    "colab": {
      "name": "WilliamSteveRodriguezVillamizar_AG2",
      "provenance": [],
      "collapsed_sections": [],
      "include_colab_link": true
    },
    "kernelspec": {
      "name": "python3",
      "display_name": "Python 3"
    }
  },
  "cells": [
    {
      "cell_type": "markdown",
      "metadata": {
        "id": "view-in-github",
        "colab_type": "text"
      },
      "source": [
        "<a href=\"https://colab.research.google.com/github/wisrovi/03MAIR---Algoritmos-de-Optimizacion---2019/blob/master/Seminario/WilliamSteveRodriguezVillamizar_Seminario.ipynb\" target=\"_parent\"><img src=\"https://colab.research.google.com/assets/colab-badge.svg\" alt=\"Open In Colab\"/></a>"
      ]
    },
    {
      "cell_type": "markdown",
      "metadata": {
        "id": "hVbXYX-RfPWh",
        "colab_type": "text"
      },
      "source": [
        "# Algoritmos de optimización - Seminario<br>\n",
        "Nombre y Apellidos:   <br>\n",
        "Url: https://github.com/.../03MAIR---Algoritmos-de-Optimizacion---2019/tree/master/SEMINARIO<br>\n",
        "Problema:\n",
        "> 1. Elección de grupos de población homogéneos <br>\n",
        "\n",
        "Descripción del problema:(copiar enunciado)\n",
        "\n",
        "Elección de grupos de población homogéneos\n",
        "• Una productora ganadera nos encarga la tarea de seleccionar grupos de\n",
        "terneros para aplicar 3 tratamientos diferentes. Para cada uno de los\n",
        "tratamientos debemos seleccionar 3 grupos de terneros separados por sexos\n",
        "que sean lo mas homogéneos posible en peso para que en los resultados del\n",
        "tratamiento influya lo menos posible el peso del animal. Disponemos de una\n",
        "población de N animales entre machos y hembras\n",
        "• Se solicita diseñar un algoritmo para conseguir una agrupación que cumpla de la\n",
        "mejor manera posible las especificaciones de la productora.\n",
        "\n",
        "....\n",
        "\n",
        "(*) La respuesta es obligatoria\n",
        "\n",
        "\n",
        "\n",
        "\n",
        "\n",
        "                                        "
      ]
    },
    {
      "cell_type": "code",
      "metadata": {
        "id": "AiskKkzZfy4e",
        "colab_type": "code",
        "colab": {
          "base_uri": "https://localhost:8080/",
          "height": 34
        },
        "outputId": "87001031-93da-4304-bbd1-e87329c8a5e7"
      },
      "source": [
        "!pip install sorting"
      ],
      "execution_count": 1,
      "outputs": [
        {
          "output_type": "stream",
          "text": [
            "Requirement already satisfied: sorting in /usr/local/lib/python3.6/dist-packages (1.0.3)\n"
          ],
          "name": "stdout"
        }
      ]
    },
    {
      "cell_type": "markdown",
      "metadata": {
        "id": "3_-exlrTgLd-",
        "colab_type": "text"
      },
      "source": [
        "(*)¿Cuantas posibilidades hay sin tener en cuenta las restricciones?<br>\n",
        "\n",
        "\n",
        "\n",
        "¿Cuantas posibilidades hay teniendo en cuenta todas las restricciones.\n",
        "\n",
        "\n"
      ]
    },
    {
      "cell_type": "markdown",
      "metadata": {
        "id": "WfCUqJyKhPcw",
        "colab_type": "text"
      },
      "source": [
        "Respuesta"
      ]
    },
    {
      "cell_type": "code",
      "metadata": {
        "id": "iq6Fe32MgpDX",
        "colab_type": "code",
        "colab": {}
      },
      "source": [
        "#Sin ninguna restricción hay 2^n posibles soluciones, donde n es el numero de terneros en el dataset, \n",
        "#pero teniendo las restricciones y mirando que el tamaño de datos es limitado en el dataset, \n",
        "#y tambien mirando que el sistema solicita grupos homogeneos se generan tambien 2^x posibilidades, \n",
        "#donde x es la menor cantidad de inviduos ya sea machos o hembras, siempre y cuando los datos del dataset tengan pesos similares"
      ],
      "execution_count": 0,
      "outputs": []
    },
    {
      "cell_type": "markdown",
      "metadata": {
        "id": "dzynfVJahHoY",
        "colab_type": "text"
      },
      "source": [
        "Modelo para el espacio de soluciones<br>\n",
        "(*) ¿Cual es la estructura de datos que mejor se adapta al problema? Argumentalo.(Es posible que hayas elegido una al principio y veas la necesidad de cambiar, arguentalo)\n"
      ]
    },
    {
      "cell_type": "markdown",
      "metadata": {
        "id": "xFIJrOwKi2Ti",
        "colab_type": "text"
      },
      "source": [
        "Respuesta"
      ]
    },
    {
      "cell_type": "code",
      "metadata": {
        "id": "38c-7-ejhJmA",
        "colab_type": "code",
        "colab": {}
      },
      "source": [
        "#La estructura mas óptima sea aquella donde los pesos individuales de cada ternero sea muy cercano a la media, \n",
        "#puesto que asi, todos serian aptos para usarse en los grupos homogeneos sin descartar a terneros con mucho peso o poco peso, por la restricción que solicita el problema\n",
        "\n",
        "#Para este ejercicio, dado que no se contaba con un dataset inicial, se ópto por generar un dataset aleatorio lo mas real posible\n",
        "#para ello se indago sobre los pesos de terneros en el mercado, encontrandose que los terneros que se usan para este tipo de pruebas varian desde los 8 a los 12 meses\n",
        "#asi que se investigo los pesos para estas edades y se parametrizo esto en un diccionario (edadRangoPeso)\n",
        "#aleatoriamente genero un sexo para el ternero\n",
        "#seguidamente el algoritmo que crea este dataset, elije una de estas edades aleatoriamente y con esto, nuevamente aleatorio, genero un peso al azar, \n",
        "#pero como bien es sabido que en la naturaleza el macho es mas pesado que la hembra (en la mayoria de las veces),\n",
        "#si el sexo del ternero es macho, aleatoriamente elijo un porcentaje entre 3% y 10%, para incrementar el peso generado aleatoriamente\n",
        "#esto para hacer mas cercano a la realidad este dataset\n",
        "#finalmente para cada item del dataset (se generar tantos terneros como lo defina el usuario) se genera una etiqueta (diferente al index de la tabla),\n",
        "#simulando asi el marcado que se le hace a los terneros en las granjas, generalmente en la oreja, para luego identificarlo\n",
        "#y en este caso, decir que el ternero etiquetado_con_con_el_codigo_XXX ira a un grupo u otro de tal tratamiento.\n",
        "\n",
        "#Esto es una manera algo practica, donde se crean terneros al azar, pero sin salirse de la realidad de los terneros.\n",
        "#sin embargo, como es un metodo donde se usa la recursividad y el azar, se generan terneros muy gordos y otros muy flacos, \n",
        "#con lo cual estos mayormente no se usaran en la selección por alterar la homogeneidad de los grupos\n",
        "\n",
        "#Pero aún asi, una manera mas eficiente de generar este dataset sería usar un algoritmo genetico donde con un padre, generar hijos (con los cuales llenariamos el dataset) \n",
        "#lo mas parecidos al genoma del padre, con esto podriamos aprovechar mas cantidad de muestras del dataset, y asi el algoritmo daria resultados mas interesantes \n",
        "#a nivel de cantidad de sujetos para cada tratamiento"
      ],
      "execution_count": 0,
      "outputs": []
    },
    {
      "cell_type": "markdown",
      "metadata": {
        "id": "7Z9U2W7bi-XS",
        "colab_type": "text"
      },
      "source": [
        "Según el modelo para el espacio de soluciones<br>\n",
        "(*)¿Cual es la función objetivo?\n",
        "\n",
        "(*)¿Es un problema de maximización o minimización?"
      ]
    },
    {
      "cell_type": "markdown",
      "metadata": {
        "id": "hBalWLM7j1_d",
        "colab_type": "text"
      },
      "source": [
        "Respuesta"
      ]
    },
    {
      "cell_type": "code",
      "metadata": {
        "id": "pDA-rg3Gj5Lz",
        "colab_type": "code",
        "colab": {}
      },
      "source": [
        "#Este problema de minización es un ejemplo claro de efectuar ordenamiento sort y busqueda heuristica para encontrar a los mejores elementos a utilizar en la prueba \n",
        "#en otras palabras, los terneros con los mejores genes \n",
        "#(escribiendo esto veo que un algoritmo genetico hubiera sido interesante para generar el dataset, pero solo se me ocurrio cuando me pregunte: Que otras formas hay de crear el dataset... sera para la proxima)"
      ],
      "execution_count": 0,
      "outputs": []
    },
    {
      "cell_type": "markdown",
      "metadata": {
        "id": "rlnTYgY1j6I2",
        "colab_type": "text"
      },
      "source": [
        "Diseña un algoritmo para resolver el problema por fuerza bruta"
      ]
    },
    {
      "cell_type": "markdown",
      "metadata": {
        "id": "70rDgxYXkC8r",
        "colab_type": "text"
      },
      "source": [
        "Respuesta"
      ]
    },
    {
      "cell_type": "code",
      "metadata": {
        "id": "CJb5sQ0qkENy",
        "colab_type": "code",
        "colab": {}
      },
      "source": [
        ""
      ],
      "execution_count": 0,
      "outputs": []
    },
    {
      "cell_type": "markdown",
      "metadata": {
        "id": "tgrnsC2nkFa8",
        "colab_type": "text"
      },
      "source": [
        "Calcula la complejidad del algoritmo por fuerza bruta"
      ]
    },
    {
      "cell_type": "markdown",
      "metadata": {
        "id": "9eUd3xwckP68",
        "colab_type": "text"
      },
      "source": [
        "Respuesta"
      ]
    },
    {
      "cell_type": "code",
      "metadata": {
        "id": "rvZWwL-ckRST",
        "colab_type": "code",
        "colab": {}
      },
      "source": [
        "#O(n log n)"
      ],
      "execution_count": 0,
      "outputs": []
    },
    {
      "cell_type": "markdown",
      "metadata": {
        "id": "txbrmLmskReM",
        "colab_type": "text"
      },
      "source": [
        "ok - (*)Diseña un algoritmo que mejore la complejidad del algortimo por fuerza bruta. Argumenta porque crees que mejora el algoritmo por fuerza bruta"
      ]
    },
    {
      "cell_type": "markdown",
      "metadata": {
        "id": "hLrVwt5QkZPD",
        "colab_type": "text"
      },
      "source": [
        "Respuesta"
      ]
    },
    {
      "cell_type": "code",
      "metadata": {
        "id": "m1eyM21Vkabg",
        "colab_type": "code",
        "colab": {}
      },
      "source": [
        "import random\n",
        "import numpy as np\n",
        "import pandas as pd\n",
        "import matplotlib.pyplot as plt\n",
        "\n",
        "from time import time\n",
        "\n",
        "tiempoInicial = time()"
      ],
      "execution_count": 0,
      "outputs": []
    },
    {
      "cell_type": "code",
      "metadata": {
        "id": "KFxuabfWOi1d",
        "colab_type": "code",
        "colab": {}
      },
      "source": [
        "#Decorador de Ricardo Lebron\n",
        "from functools import wraps\n",
        "from time import time\n",
        "\n",
        "def calcular_tiempo(f):\n",
        "    @wraps(f)\n",
        "    def cronometro(*args, **kwargs):\n",
        "        t_inicial = time() #tomo la hora antes de ejecutar la funcion\n",
        "        salida = f(*args, **kwargs)\n",
        "        t_final = time() #tomo la hora despues de ejecutar la funcion\n",
        "        print('Tiempo transcurrido (en segundos): {}'.format(t_final - t_inicial))\n",
        "        return salida\n",
        "    return cronometro"
      ],
      "execution_count": 0,
      "outputs": []
    },
    {
      "cell_type": "code",
      "metadata": {
        "id": "IHtmE9NzOi4D",
        "colab_type": "code",
        "colab": {}
      },
      "source": [
        "nombreArchivo = \"TernerosProductoraGanadera.csv\"\n",
        "\n",
        "sexo = {\n",
        "    'Macho' : 'M',\n",
        "    'Hembra' : 'H'\n",
        "}"
      ],
      "execution_count": 0,
      "outputs": []
    },
    {
      "cell_type": "markdown",
      "metadata": {
        "id": "ClEo55bXTqXQ",
        "colab_type": "text"
      },
      "source": [
        "## Aunque estas tablas nos muestran el precio, tambien podemos usarlas para tener una guia de los pesos conforme a la edad del ternero, esto para tener datos mas realistas\n"
      ]
    },
    {
      "cell_type": "markdown",
      "metadata": {
        "id": "I38VtOJpOsQu",
        "colab_type": "text"
      },
      "source": [
        "<img src=\"https://github.com/wisrovi/03MAIR---Algoritmos-de-Optimizacion---2019/blob/master/Seminario/pesoTerneros.jpg?raw=1\">\n",
        "\n",
        "<img src=\"https://github.com/wisrovi/03MAIR---Algoritmos-de-Optimizacion---2019/blob/master/Seminario/pesoTerneros2.jpg?raw=1\">"
      ]
    },
    {
      "cell_type": "code",
      "metadata": {
        "id": "PAGzxEhkOi9X",
        "colab_type": "code",
        "colab": {}
      },
      "source": [
        "edadRangoPeso = {\n",
        "    \"8\" : (120, 160),\n",
        "    \"9\" : (160, 180),\n",
        "    \"10\" : (180, 200),\n",
        "    \"11\" : (200, 230),\n",
        "    \"12\" : (230, 260)\n",
        "}"
      ],
      "execution_count": 0,
      "outputs": []
    },
    {
      "cell_type": "code",
      "metadata": {
        "id": "Qufd5_BQOi_y",
        "colab_type": "code",
        "colab": {}
      },
      "source": [
        "NombreColumnas = [\n",
        "    'EtiquetaNacimientoTernero',\n",
        "    'Sexo',\n",
        "    'Edad (meses)',\n",
        "    'Peso'\n",
        "]\n",
        "\n",
        "Grupos = {\n",
        "    \"Grupo1\" : \"A\",\n",
        "    \"Grupo2\" : \"B\",\n",
        "    \"Grupo3\" : \"C\"\n",
        "}\n",
        "\n",
        "Tratamientos = [\n",
        "    \"1\",\n",
        "    \"2\",\n",
        "    \"3\"\n",
        "]\n",
        "\n",
        "\n",
        "Tratamientos_grupos = {\n",
        "    \"Tratamiento1_grupo1\" : Tratamientos[0] + Grupos[\"Grupo1\"],\n",
        "    \"Tratamiento1_grupo2\" : Tratamientos[0] + Grupos[\"Grupo2\"],\n",
        "    \"Tratamiento1_grupo3\" : Tratamientos[0] + Grupos[\"Grupo3\"],\n",
        "    \n",
        "    \"Tratamiento2_grupo1\" : Tratamientos[1] + Grupos[\"Grupo1\"],\n",
        "    \"Tratamiento2_grupo2\" : Tratamientos[1] + Grupos[\"Grupo2\"],\n",
        "    \"Tratamiento2_grupo3\" : Tratamientos[1] + Grupos[\"Grupo3\"],    \n",
        "    \n",
        "    \"Tratamiento3_grupo1\" : Tratamientos[2] + Grupos[\"Grupo1\"],\n",
        "    \"Tratamiento3_grupo2\" : Tratamientos[2] + Grupos[\"Grupo2\"],\n",
        "    \"Tratamiento3_grupo3\" : Tratamientos[2] + Grupos[\"Grupo3\"]\n",
        "}\n",
        "\n",
        "distanciaMinimaMedia = 10\n",
        "numero_minimo_terneros_cada_Tratamientos_grupos = 3"
      ],
      "execution_count": 0,
      "outputs": []
    },
    {
      "cell_type": "code",
      "metadata": {
        "id": "HHGc0--hOjCD",
        "colab_type": "code",
        "colab": {}
      },
      "source": [
        "import random\n",
        "def GenerarTerneroAleatorio(etiquetaTernero = None):\n",
        "    \"\"\"\n",
        "    Vamos a generar una edad al azar usando la libreria random, esto debido a que el enunciado dice que es un ternero, pero \n",
        "    un ternero se condidera ternero cuando esta en las edades entre 8 y 12 meses, luego se considera novillo,\n",
        "    y para cada edad hay un intervalo de peso estandarizado, \n",
        "    por ejemplo para un ternero de 10 meses su peso suele estar entre 200Kgr y 230Kgr,\n",
        "    en este orden de ideas, para generar datos lo mas realistas posibles, \n",
        "    vamos a generar terneros con pesos que cumplan los intervalos por edades, \n",
        "    luego podemos quitar la columna de edad y quedarnos con el genero (generado aleatoriamente) y el peso.\n",
        "    \"\"\"\n",
        "    edad = random.choice(list(edadRangoPeso.keys()) )\n",
        "    sexoTernero = sexo[random.choice(list(sexo.keys()) )]\n",
        "    pesoTernero = random.randint(edadRangoPeso[edad][0] , edadRangoPeso[edad][1])\n",
        "    if sexoTernero == sexo['Macho']:\n",
        "        #Generalmente los machos son mas pesados\n",
        "        #Por este motivo a los machos le damos de un 3% a un 10% mas de peso (valor elegido al azar)\n",
        "        porcentajePeroMayorPorSerMacho = random.randint(3 , 10) #Elegimos el porcentaje de peso que tendra de mas a comparacion si fuere una hembra\n",
        "        pesoTernero = pesoTernero + (pesoTernero*porcentajePeroMayorPorSerMacho)/100\n",
        "        \n",
        "    ternero = { \n",
        "        NombreColumnas[0] : etiquetaTernero,\n",
        "        NombreColumnas[1] : [sexoTernero] ,\n",
        "        NombreColumnas[2] : [int(edad)], \n",
        "        NombreColumnas[3] : [pesoTernero] \n",
        "          }\n",
        "    return ternero\n",
        "\n",
        "def GenerarGrupoTerneros(sizeDataframe, dataframe = None):\n",
        "    \"\"\"\n",
        "    Usando recursividad vamos a generar el dataframe del tamaño solicitado en la variable \"sizeDataframe\"\n",
        "    llenando el dataframe con terneros aleatorios\n",
        "    \"\"\"\n",
        "    ternero = GenerarTerneroAleatorio(sizeDataframe)\n",
        "    try:\n",
        "        temporal = pd.DataFrame(ternero)\n",
        "        dataframe = dataframe.append(temporal)\n",
        "    except:\n",
        "        dataframe = pd.DataFrame(ternero)        \n",
        "    \n",
        "    if 0 < sizeDataframe:        \n",
        "        GenerarGrupoTerneros(sizeDataframe -1, dataframe)\n",
        "    else:\n",
        "        export_csv = dataframe.to_csv (nombreArchivo, index = None, header=True) \n",
        "        \n",
        "@calcular_tiempo\n",
        "def GenerarDataframeDatos(sizeDataframe):   \n",
        "    \"\"\"\n",
        "    Colocamos esta funcion para poder medir el tiempo que toma el algoritmo para crear el conjunto de datos \n",
        "    (para terminos evaluativos en cuanto a optimizacion del codigo)\n",
        "    \"\"\"\n",
        "    total = numero_minimo_terneros_cada_Tratamientos_grupos * 18\n",
        "    if numero_minimo_terneros_cada_Tratamientos_grupos > sizeDataframe:\n",
        "      sizeDataframe = numero_minimo_terneros_cada_Tratamientos_grupos\n",
        "    GenerarGrupoTerneros(sizeDataframe)"
      ],
      "execution_count": 0,
      "outputs": []
    },
    {
      "cell_type": "code",
      "metadata": {
        "id": "C_YDOhfTOjGY",
        "colab_type": "code",
        "colab": {
          "base_uri": "https://localhost:8080/",
          "height": 34
        },
        "outputId": "7f199644-8009-4de7-b114-247f0a68a957"
      },
      "source": [
        "N_animales = 800\n",
        "\n",
        "#generamos un dataset aleatorio guardado en el archivo \"nombreArchivo\" declarado al inicio del codigo\n",
        "GenerarDataframeDatos(N_animales)"
      ],
      "execution_count": 12,
      "outputs": [
        {
          "output_type": "stream",
          "text": [
            "Tiempo transcurrido (en segundos): 2.1228156089782715\n"
          ],
          "name": "stdout"
        }
      ]
    },
    {
      "cell_type": "code",
      "metadata": {
        "id": "JOWeeLvlPnuI",
        "colab_type": "code",
        "colab": {}
      },
      "source": [
        "#cargamos el dataset que hemos guardado en el .csv\n",
        "\n",
        "@calcular_tiempo\n",
        "def LeerArchivo():\n",
        "    return pd.read_csv(nombreArchivo) "
      ],
      "execution_count": 0,
      "outputs": []
    },
    {
      "cell_type": "code",
      "metadata": {
        "id": "W-FzyJo3OjI6",
        "colab_type": "code",
        "colab": {
          "base_uri": "https://localhost:8080/",
          "height": 34
        },
        "outputId": "ab339344-4d3b-4a63-8153-10ef8c0bbd1d"
      },
      "source": [
        "purchases = LeerArchivo()"
      ],
      "execution_count": 14,
      "outputs": [
        {
          "output_type": "stream",
          "text": [
            "Tiempo transcurrido (en segundos): 0.009331226348876953\n"
          ],
          "name": "stdout"
        }
      ]
    },
    {
      "cell_type": "code",
      "metadata": {
        "id": "FNB7NiEYOjLa",
        "colab_type": "code",
        "colab": {}
      },
      "source": [
        "tiempoProcesar = time()"
      ],
      "execution_count": 0,
      "outputs": []
    },
    {
      "cell_type": "code",
      "metadata": {
        "id": "_NG7uf2aOjOJ",
        "colab_type": "code",
        "colab": {}
      },
      "source": [
        "#dado que la columna de edades solo se uso para generar aleatoriamente los pesos\n",
        "#conforme a la edad, no es necesario que de aca en adelante la sigamos conservando\n",
        "#por lo cual eliminamos esta columna del dataframe cargado para facilitar el analisis de los datos\n",
        "purchases = purchases.drop([NombreColumnas[2]], axis=1) \n",
        "purchases.dropna(inplace=True) #Borro valores nulos, si llegaren a existir"
      ],
      "execution_count": 0,
      "outputs": []
    },
    {
      "cell_type": "code",
      "metadata": {
        "id": "9Uh8aiYoOjEm",
        "colab_type": "code",
        "colab": {
          "base_uri": "https://localhost:8080/",
          "height": 50
        },
        "outputId": "df79b544-1d46-4c54-f068-1d824013d8b0"
      },
      "source": [
        "@calcular_tiempo\n",
        "def SepararPorGenero(df, genero):\n",
        "    return df[df[NombreColumnas[1]] == sexo[genero]]\n",
        "\n",
        "data_male = SepararPorGenero(purchases, \"Macho\" )\n",
        "\n",
        "data_female = SepararPorGenero(purchases, \"Hembra\" )\n",
        "\n",
        "#dado que ya hemos separado el conjunto de datos por sexos, ya no necesitamos esa columna, \n",
        "#por lo cual la podemos eliminar para facilitar el analisis de los datos\n",
        "data_male = data_male.drop([NombreColumnas[1]], axis=1)\n",
        "data_female = data_female.drop([NombreColumnas[1]], axis=1) "
      ],
      "execution_count": 17,
      "outputs": [
        {
          "output_type": "stream",
          "text": [
            "Tiempo transcurrido (en segundos): 0.004439592361450195\n",
            "Tiempo transcurrido (en segundos): 0.0030667781829833984\n"
          ],
          "name": "stdout"
        }
      ]
    },
    {
      "cell_type": "code",
      "metadata": {
        "id": "lINEMjF6PuEG",
        "colab_type": "code",
        "colab": {
          "base_uri": "https://localhost:8080/",
          "height": 50
        },
        "outputId": "71e27a3d-a243-41f9-b441-b2044bbe1040"
      },
      "source": [
        "#ordenamos los conjunto de datos para analizar mas facil la información\n",
        "\n",
        "@calcular_tiempo\n",
        "def OrdenarPorPeso(df):\n",
        "    return df.sort_values(by=[ NombreColumnas[3] ])\n",
        "\n",
        "data_male = OrdenarPorPeso(data_male)\n",
        "data_female = OrdenarPorPeso(data_female)"
      ],
      "execution_count": 18,
      "outputs": [
        {
          "output_type": "stream",
          "text": [
            "Tiempo transcurrido (en segundos): 0.0031485557556152344\n",
            "Tiempo transcurrido (en segundos): 0.002602100372314453\n"
          ],
          "name": "stdout"
        }
      ]
    },
    {
      "cell_type": "code",
      "metadata": {
        "id": "qwWTgDlHPuI7",
        "colab_type": "code",
        "colab": {}
      },
      "source": [
        "@calcular_tiempo\n",
        "def GruposPorTratamiento(df):\n",
        "    #print(\"Tamaño\",df.shape[0])    \n",
        "    #df = df.sort_index()    \n",
        "    split = int(round(df.shape[0]/3)-1)\n",
        "    grupoTratamiento = {}\n",
        "    \n",
        "    \"\"\"\n",
        "    Dividimos el dataframe para tres tratamientos creando 3 grupos\n",
        "    \"\"\"\n",
        "    for i in range(len(Tratamientos)):\n",
        "        tratamientto = Tratamientos[i]\n",
        "        grupoTratamiento[tratamientto] = df[:split]\n",
        "        df = df[split:]\n",
        "    \n",
        "    \"\"\"\n",
        "    Para cada tratamiento, genero tres grupos, tratando en lo mas posible que mantengan la media en los mismos\n",
        "    \"\"\"\n",
        "    grupos = {}\n",
        "    for keyTratamiento in grupoTratamiento:\n",
        "        grupo_para_tratamiento =  grupoTratamiento[keyTratamiento]\n",
        "        grupo_para_tratamiento = grupo_para_tratamiento.sort_index()\n",
        "        split = int(round(grupo_para_tratamiento.shape[0]/3)-1)\n",
        "        #print(keyTratamiento, grupo_para_tratamiento.mean()[1])\n",
        "        \n",
        "        for keyGrupo in Grupos:\n",
        "            llave = Grupos[keyGrupo]\n",
        "            grupos[keyTratamiento+llave] = grupo_para_tratamiento[:split]\n",
        "            grupo_para_tratamiento = grupo_para_tratamiento[split:]\n",
        "        \n",
        "    return grupos   "
      ],
      "execution_count": 0,
      "outputs": []
    },
    {
      "cell_type": "code",
      "metadata": {
        "id": "uiT0QsiLPuM3",
        "colab_type": "code",
        "colab": {
          "base_uri": "https://localhost:8080/",
          "height": 50
        },
        "outputId": "8a64eb97-7e9c-416c-ba04-73b575b91e75"
      },
      "source": [
        "\"\"\"\n",
        "Ahora tenermos dos subconjunto de datos (machos y hembras)\n",
        "Vamos a dividir cada subconjunto en 9, asi tendremos 3 grupos para cada uno de los tres tratamientos\n",
        "Seguidamente vamos a obtener la media de cada uno de estos 9 grupos y vamos a obtener la distancia de cada elemento del grupo a esta media\n",
        "Haremos lo mismo tanto para los masculinos como para el conjunto de datos femeninos\n",
        "\"\"\"\n",
        "\n",
        "grupos_data_male = GruposPorTratamiento(data_male)\n",
        "grupos_data_female = GruposPorTratamiento(data_female)"
      ],
      "execution_count": 20,
      "outputs": [
        {
          "output_type": "stream",
          "text": [
            "Tiempo transcurrido (en segundos): 0.011604547500610352\n",
            "Tiempo transcurrido (en segundos): 0.008509159088134766\n"
          ],
          "name": "stdout"
        }
      ]
    },
    {
      "cell_type": "code",
      "metadata": {
        "id": "ukhbK5eNPuPv",
        "colab_type": "code",
        "colab": {}
      },
      "source": [
        "@calcular_tiempo\n",
        "def LimpiarOrganizarGruposDatos(df, mediaMinima):\n",
        "    \"\"\"\n",
        "    Cada uno de los nueve grupos, los organizo por cual dato esta mas cercano a la media\n",
        "    \"\"\"\n",
        "    for key in Tratamientos_grupos:     \n",
        "        llave = Tratamientos_grupos[key]\n",
        "        dataframe = df[llave]\n",
        "        MediaDatos = dataframe.mean()[1] #calcular la media de los datos de este grupo\n",
        "\n",
        "        dataframe['DistanciaMedia'] = abs(MediaDatos - dataframe[NombreColumnas[3]]) #hallo la distancia a la media\n",
        "        \n",
        "        busquedaMinimoUno = True\n",
        "        incrementoRestriccion = 0\n",
        "        while busquedaMinimoUno:            \n",
        "            ternero_que_cumple_con_restriccion = dataframe['DistanciaMedia'] <= (mediaMinima + incrementoRestriccion)\n",
        "            temporal = dataframe[ternero_que_cumple_con_restriccion] #verifico que tenga la distancia minima a la media\n",
        "            \n",
        "            if temporal.shape[0] >(numero_minimo_terneros_cada_Tratamientos_grupos - 1):\n",
        "                dataframe = temporal\n",
        "                busquedaMinimoUno = False   \n",
        "            else:\n",
        "                incrementoRestriccion += 1\n",
        "        \n",
        "        dataframe = dataframe.sort_values(by=[ 'DistanciaMedia' ]) #ordeno segun quien este mas cercano a la media\n",
        "        dataframe = dataframe.drop(['DistanciaMedia'], axis=1)  #quitamos la columna añadida\n",
        "\n",
        "        df[llave] = dataframe \n",
        "    return df"
      ],
      "execution_count": 0,
      "outputs": []
    },
    {
      "cell_type": "code",
      "metadata": {
        "id": "5xL8BeqpPuSX",
        "colab_type": "code",
        "colab": {
          "base_uri": "https://localhost:8080/",
          "height": 50
        },
        "outputId": "01dd868d-fd02-485e-9ef2-78ce96bbce7c"
      },
      "source": [
        "\"\"\"\n",
        "Para cada grupo de cada tratamiento:\n",
        "Optenemos la media\n",
        "comparamos cada peso con esta media y hallamos la distancia encomparacion con la media\n",
        "ordeno los datos conforme a los que tengan menor distancia a la media\n",
        "\"\"\"\n",
        "\n",
        "grupos_data_male = LimpiarOrganizarGruposDatos(grupos_data_male, distanciaMinimaMedia)\n",
        "grupos_data_female = LimpiarOrganizarGruposDatos(grupos_data_female, distanciaMinimaMedia)"
      ],
      "execution_count": 22,
      "outputs": [
        {
          "output_type": "stream",
          "text": [
            "Tiempo transcurrido (en segundos): 0.5931625366210938\n",
            "Tiempo transcurrido (en segundos): 0.5652101039886475\n"
          ],
          "name": "stdout"
        }
      ]
    },
    {
      "cell_type": "code",
      "metadata": {
        "id": "f_snd6QtPuVa",
        "colab_type": "code",
        "colab": {
          "base_uri": "https://localhost:8080/",
          "height": 34
        },
        "outputId": "fdde6734-8cf4-44a5-954b-9d820cd65152"
      },
      "source": [
        "#Vamos a hallar la menor cantidad para cada grupo, esto para que todos los grupos queden del mismo tamaño\n",
        "\n",
        "@calcular_tiempo\n",
        "def determinarDimensionCadaGrupo():\n",
        "    cantidad_grupo_mas_pequeno = purchases.shape[0]\n",
        "    for key in Tratamientos_grupos:     \n",
        "        llave = Tratamientos_grupos[key]\n",
        "        if cantidad_grupo_mas_pequeno > grupos_data_male[llave].shape[0]:\n",
        "            cantidad_grupo_mas_pequeno = grupos_data_male[llave].shape[0]\n",
        "\n",
        "    for key in Tratamientos_grupos:     \n",
        "        llave = Tratamientos_grupos[key]\n",
        "        if cantidad_grupo_mas_pequeno > grupos_data_female[llave].shape[0]:\n",
        "            cantidad_grupo_mas_pequeno = grupos_data_female[llave].shape[0]\n",
        "    \n",
        "    return cantidad_grupo_mas_pequeno\n",
        "            \n",
        "cantidad_grupo_mas_pequeno = determinarDimensionCadaGrupo()"
      ],
      "execution_count": 23,
      "outputs": [
        {
          "output_type": "stream",
          "text": [
            "Tiempo transcurrido (en segundos): 0.00011205673217773438\n"
          ],
          "name": "stdout"
        }
      ]
    },
    {
      "cell_type": "code",
      "metadata": {
        "id": "Jo1k0aqMPuG9",
        "colab_type": "code",
        "colab": {
          "base_uri": "https://localhost:8080/",
          "height": 50
        },
        "outputId": "a4826768-19ad-43ef-f07f-9b70dd34142c"
      },
      "source": [
        "@calcular_tiempo\n",
        "def RecortarGruposDatos(df, corte):\n",
        "    \"\"\"\n",
        "    Cada uno de los nueve grupos, los organizo por cual dato esta mas cercano a la media\n",
        "    \"\"\"\n",
        "    for key in Tratamientos_grupos:     \n",
        "        llave = Tratamientos_grupos[key]\n",
        "        dataframe = df[llave]\n",
        "        dataframe = dataframe[:corte]\n",
        "        df[llave] = dataframe\n",
        "    return df\n",
        "\n",
        "grupos_data_male = RecortarGruposDatos(grupos_data_male, cantidad_grupo_mas_pequeno)\n",
        "grupos_data_female = RecortarGruposDatos(grupos_data_female, cantidad_grupo_mas_pequeno)"
      ],
      "execution_count": 24,
      "outputs": [
        {
          "output_type": "stream",
          "text": [
            "Tiempo transcurrido (en segundos): 0.0041637420654296875\n",
            "Tiempo transcurrido (en segundos): 0.0041043758392333984\n"
          ],
          "name": "stdout"
        }
      ]
    },
    {
      "cell_type": "code",
      "metadata": {
        "id": "4WPPDdooQEa7",
        "colab_type": "code",
        "colab": {}
      },
      "source": [
        "tiempoFinal = time()"
      ],
      "execution_count": 0,
      "outputs": []
    },
    {
      "cell_type": "code",
      "metadata": {
        "id": "O5qtDCubQEd_",
        "colab_type": "code",
        "colab": {
          "base_uri": "https://localhost:8080/",
          "height": 437
        },
        "outputId": "a90dc60b-54a9-4a83-c792-90a579f5b0ba"
      },
      "source": [
        "conteo = 0\n",
        "for key in Tratamientos_grupos:     \n",
        "    llave = Tratamientos_grupos[key]    \n",
        "    if conteo >= 3:\n",
        "      conteo = 0\n",
        "      print(\"\")\n",
        "    conteo += 1\n",
        "    print(\"Male: \", llave, \" terneros: \" ,grupos_data_male[llave].shape[0],\"Media grupo: \" , round(grupos_data_male[llave].mean()[1]) )\n",
        "    \n",
        "print()\n",
        "conteo = 0\n",
        "for key in Tratamientos_grupos:     \n",
        "    llave = Tratamientos_grupos[key]\n",
        "    if conteo >= 3:\n",
        "      conteo = 0\n",
        "      print(\"\")\n",
        "    conteo += 1\n",
        "    print(\"Female: \", llave, \" terneros: \" ,grupos_data_female[llave].shape[0] ,\"Media grupo: \" , round(grupos_data_female[llave].mean()[1]) )\n",
        "\n",
        "print()\n",
        "print(\"Terneros total utilizados: \", cantidad_grupo_mas_pequeno * 18, \", de un total de \", N_animales)"
      ],
      "execution_count": 26,
      "outputs": [
        {
          "output_type": "stream",
          "text": [
            "Male:  1A  terneros:  9 Media grupo:  162.0\n",
            "Male:  1B  terneros:  9 Media grupo:  160.0\n",
            "Male:  1C  terneros:  9 Media grupo:  157.0\n",
            "\n",
            "Male:  2A  terneros:  9 Media grupo:  201.0\n",
            "Male:  2B  terneros:  9 Media grupo:  197.0\n",
            "Male:  2C  terneros:  9 Media grupo:  198.0\n",
            "\n",
            "Male:  3A  terneros:  9 Media grupo:  249.0\n",
            "Male:  3B  terneros:  9 Media grupo:  246.0\n",
            "Male:  3C  terneros:  9 Media grupo:  244.0\n",
            "\n",
            "Female:  1A  terneros:  9 Media grupo:  151.0\n",
            "Female:  1B  terneros:  9 Media grupo:  151.0\n",
            "Female:  1C  terneros:  9 Media grupo:  147.0\n",
            "\n",
            "Female:  2A  terneros:  9 Media grupo:  194.0\n",
            "Female:  2B  terneros:  9 Media grupo:  196.0\n",
            "Female:  2C  terneros:  9 Media grupo:  191.0\n",
            "\n",
            "Female:  3A  terneros:  9 Media grupo:  236.0\n",
            "Female:  3B  terneros:  9 Media grupo:  241.0\n",
            "Female:  3C  terneros:  9 Media grupo:  233.0\n",
            "\n",
            "Terneros total utilizados:  162 , de un total de  800\n"
          ],
          "name": "stdout"
        }
      ]
    },
    {
      "cell_type": "code",
      "metadata": {
        "id": "IQUDhzl0QKkf",
        "colab_type": "code",
        "colab": {
          "base_uri": "https://localhost:8080/",
          "height": 50
        },
        "outputId": "e678b77c-49bd-4ff7-f15d-328e9617d722"
      },
      "source": [
        "print('Tiempo transcurrido generar dataset (en segundos): {}'.format(tiempoProcesar - tiempoInicial))\n",
        "print('Tiempo transcurrido generar respuesta problema (en segundos): {}'.format(tiempoFinal - tiempoProcesar))"
      ],
      "execution_count": 27,
      "outputs": [
        {
          "output_type": "stream",
          "text": [
            "Tiempo transcurrido generar dataset (en segundos): 2.2683916091918945\n",
            "Tiempo transcurrido generar respuesta problema (en segundos): 1.3600542545318604\n"
          ],
          "name": "stdout"
        }
      ]
    },
    {
      "cell_type": "markdown",
      "metadata": {
        "id": "jGPYiLDbTgKh",
        "colab_type": "text"
      },
      "source": [
        "<img src=\"https://github.com/wisrovi/03MAIR---Algoritmos-de-Optimizacion---2019/blob/master/Seminario/ternero.jpg?raw=1\">"
      ]
    },
    {
      "cell_type": "markdown",
      "metadata": {
        "id": "eGDB4K6uk1iN",
        "colab_type": "text"
      },
      "source": [
        "(*)Calcula la complejidad del algoritmo "
      ]
    },
    {
      "cell_type": "markdown",
      "metadata": {
        "id": "NhpTh_BPk1ms",
        "colab_type": "text"
      },
      "source": [
        "Respuesta"
      ]
    },
    {
      "cell_type": "code",
      "metadata": {
        "id": "nREzhkStlCq8",
        "colab_type": "code",
        "colab": {}
      },
      "source": [
        "#O(n^2)"
      ],
      "execution_count": 0,
      "outputs": []
    },
    {
      "cell_type": "markdown",
      "metadata": {
        "id": "3M6QjTsSkmYe",
        "colab_type": "text"
      },
      "source": [
        "Según el problema (y tenga sentido), diseña un juego de datos de entrada aleatorios"
      ]
    },
    {
      "cell_type": "markdown",
      "metadata": {
        "id": "Jc3_OlyNkvjZ",
        "colab_type": "text"
      },
      "source": [
        "Respuesta"
      ]
    },
    {
      "cell_type": "code",
      "metadata": {
        "id": "sJ-N2etjkyWc",
        "colab_type": "code",
        "colab": {
          "base_uri": "https://localhost:8080/",
          "height": 1000
        },
        "outputId": "589771cb-151d-4cf9-de2c-cfb6d4a017c7"
      },
      "source": [
        "N_animales = 800\n",
        "\n",
        "#generamos un dataset aleatorio guardado en el archivo \"nombreArchivo\" declarado al inicio del codigo\n",
        "GenerarDataframeDatos(N_animales) #esta funcion usada antes me guarda los datos en un archivo\n",
        "\n",
        "LeerArchivo()"
      ],
      "execution_count": 29,
      "outputs": [
        {
          "output_type": "stream",
          "text": [
            "Tiempo transcurrido (en segundos): 1.9210925102233887\n",
            "Tiempo transcurrido (en segundos): 0.003945350646972656\n"
          ],
          "name": "stdout"
        },
        {
          "output_type": "execute_result",
          "data": {
            "text/html": [
              "<div>\n",
              "<style scoped>\n",
              "    .dataframe tbody tr th:only-of-type {\n",
              "        vertical-align: middle;\n",
              "    }\n",
              "\n",
              "    .dataframe tbody tr th {\n",
              "        vertical-align: top;\n",
              "    }\n",
              "\n",
              "    .dataframe thead th {\n",
              "        text-align: right;\n",
              "    }\n",
              "</style>\n",
              "<table border=\"1\" class=\"dataframe\">\n",
              "  <thead>\n",
              "    <tr style=\"text-align: right;\">\n",
              "      <th></th>\n",
              "      <th>EtiquetaNacimientoTernero</th>\n",
              "      <th>Sexo</th>\n",
              "      <th>Edad (meses)</th>\n",
              "      <th>Peso</th>\n",
              "    </tr>\n",
              "  </thead>\n",
              "  <tbody>\n",
              "    <tr>\n",
              "      <th>0</th>\n",
              "      <td>800</td>\n",
              "      <td>H</td>\n",
              "      <td>12</td>\n",
              "      <td>244.00</td>\n",
              "    </tr>\n",
              "    <tr>\n",
              "      <th>1</th>\n",
              "      <td>799</td>\n",
              "      <td>H</td>\n",
              "      <td>8</td>\n",
              "      <td>123.00</td>\n",
              "    </tr>\n",
              "    <tr>\n",
              "      <th>2</th>\n",
              "      <td>798</td>\n",
              "      <td>M</td>\n",
              "      <td>12</td>\n",
              "      <td>281.22</td>\n",
              "    </tr>\n",
              "    <tr>\n",
              "      <th>3</th>\n",
              "      <td>797</td>\n",
              "      <td>M</td>\n",
              "      <td>9</td>\n",
              "      <td>181.90</td>\n",
              "    </tr>\n",
              "    <tr>\n",
              "      <th>4</th>\n",
              "      <td>796</td>\n",
              "      <td>M</td>\n",
              "      <td>11</td>\n",
              "      <td>226.80</td>\n",
              "    </tr>\n",
              "    <tr>\n",
              "      <th>5</th>\n",
              "      <td>795</td>\n",
              "      <td>H</td>\n",
              "      <td>12</td>\n",
              "      <td>240.00</td>\n",
              "    </tr>\n",
              "    <tr>\n",
              "      <th>6</th>\n",
              "      <td>794</td>\n",
              "      <td>H</td>\n",
              "      <td>11</td>\n",
              "      <td>200.00</td>\n",
              "    </tr>\n",
              "    <tr>\n",
              "      <th>7</th>\n",
              "      <td>793</td>\n",
              "      <td>M</td>\n",
              "      <td>8</td>\n",
              "      <td>164.85</td>\n",
              "    </tr>\n",
              "    <tr>\n",
              "      <th>8</th>\n",
              "      <td>792</td>\n",
              "      <td>M</td>\n",
              "      <td>12</td>\n",
              "      <td>278.64</td>\n",
              "    </tr>\n",
              "    <tr>\n",
              "      <th>9</th>\n",
              "      <td>791</td>\n",
              "      <td>M</td>\n",
              "      <td>9</td>\n",
              "      <td>188.68</td>\n",
              "    </tr>\n",
              "    <tr>\n",
              "      <th>10</th>\n",
              "      <td>790</td>\n",
              "      <td>H</td>\n",
              "      <td>12</td>\n",
              "      <td>247.00</td>\n",
              "    </tr>\n",
              "    <tr>\n",
              "      <th>11</th>\n",
              "      <td>789</td>\n",
              "      <td>H</td>\n",
              "      <td>12</td>\n",
              "      <td>256.00</td>\n",
              "    </tr>\n",
              "    <tr>\n",
              "      <th>12</th>\n",
              "      <td>788</td>\n",
              "      <td>M</td>\n",
              "      <td>12</td>\n",
              "      <td>260.00</td>\n",
              "    </tr>\n",
              "    <tr>\n",
              "      <th>13</th>\n",
              "      <td>787</td>\n",
              "      <td>H</td>\n",
              "      <td>8</td>\n",
              "      <td>157.00</td>\n",
              "    </tr>\n",
              "    <tr>\n",
              "      <th>14</th>\n",
              "      <td>786</td>\n",
              "      <td>H</td>\n",
              "      <td>12</td>\n",
              "      <td>246.00</td>\n",
              "    </tr>\n",
              "    <tr>\n",
              "      <th>15</th>\n",
              "      <td>785</td>\n",
              "      <td>H</td>\n",
              "      <td>12</td>\n",
              "      <td>243.00</td>\n",
              "    </tr>\n",
              "    <tr>\n",
              "      <th>16</th>\n",
              "      <td>784</td>\n",
              "      <td>M</td>\n",
              "      <td>10</td>\n",
              "      <td>203.83</td>\n",
              "    </tr>\n",
              "    <tr>\n",
              "      <th>17</th>\n",
              "      <td>783</td>\n",
              "      <td>H</td>\n",
              "      <td>12</td>\n",
              "      <td>253.00</td>\n",
              "    </tr>\n",
              "    <tr>\n",
              "      <th>18</th>\n",
              "      <td>782</td>\n",
              "      <td>M</td>\n",
              "      <td>11</td>\n",
              "      <td>227.85</td>\n",
              "    </tr>\n",
              "    <tr>\n",
              "      <th>19</th>\n",
              "      <td>781</td>\n",
              "      <td>M</td>\n",
              "      <td>11</td>\n",
              "      <td>246.24</td>\n",
              "    </tr>\n",
              "    <tr>\n",
              "      <th>20</th>\n",
              "      <td>780</td>\n",
              "      <td>H</td>\n",
              "      <td>12</td>\n",
              "      <td>231.00</td>\n",
              "    </tr>\n",
              "    <tr>\n",
              "      <th>21</th>\n",
              "      <td>779</td>\n",
              "      <td>H</td>\n",
              "      <td>11</td>\n",
              "      <td>200.00</td>\n",
              "    </tr>\n",
              "    <tr>\n",
              "      <th>22</th>\n",
              "      <td>778</td>\n",
              "      <td>H</td>\n",
              "      <td>12</td>\n",
              "      <td>254.00</td>\n",
              "    </tr>\n",
              "    <tr>\n",
              "      <th>23</th>\n",
              "      <td>777</td>\n",
              "      <td>H</td>\n",
              "      <td>8</td>\n",
              "      <td>144.00</td>\n",
              "    </tr>\n",
              "    <tr>\n",
              "      <th>24</th>\n",
              "      <td>776</td>\n",
              "      <td>H</td>\n",
              "      <td>11</td>\n",
              "      <td>223.00</td>\n",
              "    </tr>\n",
              "    <tr>\n",
              "      <th>25</th>\n",
              "      <td>775</td>\n",
              "      <td>M</td>\n",
              "      <td>8</td>\n",
              "      <td>161.70</td>\n",
              "    </tr>\n",
              "    <tr>\n",
              "      <th>26</th>\n",
              "      <td>774</td>\n",
              "      <td>H</td>\n",
              "      <td>12</td>\n",
              "      <td>240.00</td>\n",
              "    </tr>\n",
              "    <tr>\n",
              "      <th>27</th>\n",
              "      <td>773</td>\n",
              "      <td>H</td>\n",
              "      <td>8</td>\n",
              "      <td>139.00</td>\n",
              "    </tr>\n",
              "    <tr>\n",
              "      <th>28</th>\n",
              "      <td>772</td>\n",
              "      <td>M</td>\n",
              "      <td>8</td>\n",
              "      <td>148.05</td>\n",
              "    </tr>\n",
              "    <tr>\n",
              "      <th>29</th>\n",
              "      <td>771</td>\n",
              "      <td>H</td>\n",
              "      <td>8</td>\n",
              "      <td>132.00</td>\n",
              "    </tr>\n",
              "    <tr>\n",
              "      <th>...</th>\n",
              "      <td>...</td>\n",
              "      <td>...</td>\n",
              "      <td>...</td>\n",
              "      <td>...</td>\n",
              "    </tr>\n",
              "    <tr>\n",
              "      <th>771</th>\n",
              "      <td>29</td>\n",
              "      <td>M</td>\n",
              "      <td>11</td>\n",
              "      <td>220.48</td>\n",
              "    </tr>\n",
              "    <tr>\n",
              "      <th>772</th>\n",
              "      <td>28</td>\n",
              "      <td>M</td>\n",
              "      <td>9</td>\n",
              "      <td>185.30</td>\n",
              "    </tr>\n",
              "    <tr>\n",
              "      <th>773</th>\n",
              "      <td>27</td>\n",
              "      <td>H</td>\n",
              "      <td>8</td>\n",
              "      <td>147.00</td>\n",
              "    </tr>\n",
              "    <tr>\n",
              "      <th>774</th>\n",
              "      <td>26</td>\n",
              "      <td>H</td>\n",
              "      <td>9</td>\n",
              "      <td>168.00</td>\n",
              "    </tr>\n",
              "    <tr>\n",
              "      <th>775</th>\n",
              "      <td>25</td>\n",
              "      <td>M</td>\n",
              "      <td>9</td>\n",
              "      <td>174.72</td>\n",
              "    </tr>\n",
              "    <tr>\n",
              "      <th>776</th>\n",
              "      <td>24</td>\n",
              "      <td>M</td>\n",
              "      <td>12</td>\n",
              "      <td>255.44</td>\n",
              "    </tr>\n",
              "    <tr>\n",
              "      <th>777</th>\n",
              "      <td>23</td>\n",
              "      <td>M</td>\n",
              "      <td>8</td>\n",
              "      <td>153.92</td>\n",
              "    </tr>\n",
              "    <tr>\n",
              "      <th>778</th>\n",
              "      <td>22</td>\n",
              "      <td>M</td>\n",
              "      <td>10</td>\n",
              "      <td>187.46</td>\n",
              "    </tr>\n",
              "    <tr>\n",
              "      <th>779</th>\n",
              "      <td>21</td>\n",
              "      <td>M</td>\n",
              "      <td>10</td>\n",
              "      <td>200.55</td>\n",
              "    </tr>\n",
              "    <tr>\n",
              "      <th>780</th>\n",
              "      <td>20</td>\n",
              "      <td>M</td>\n",
              "      <td>11</td>\n",
              "      <td>214.24</td>\n",
              "    </tr>\n",
              "    <tr>\n",
              "      <th>781</th>\n",
              "      <td>19</td>\n",
              "      <td>M</td>\n",
              "      <td>12</td>\n",
              "      <td>244.11</td>\n",
              "    </tr>\n",
              "    <tr>\n",
              "      <th>782</th>\n",
              "      <td>18</td>\n",
              "      <td>M</td>\n",
              "      <td>11</td>\n",
              "      <td>251.90</td>\n",
              "    </tr>\n",
              "    <tr>\n",
              "      <th>783</th>\n",
              "      <td>17</td>\n",
              "      <td>H</td>\n",
              "      <td>11</td>\n",
              "      <td>222.00</td>\n",
              "    </tr>\n",
              "    <tr>\n",
              "      <th>784</th>\n",
              "      <td>16</td>\n",
              "      <td>H</td>\n",
              "      <td>11</td>\n",
              "      <td>207.00</td>\n",
              "    </tr>\n",
              "    <tr>\n",
              "      <th>785</th>\n",
              "      <td>15</td>\n",
              "      <td>H</td>\n",
              "      <td>10</td>\n",
              "      <td>185.00</td>\n",
              "    </tr>\n",
              "    <tr>\n",
              "      <th>786</th>\n",
              "      <td>14</td>\n",
              "      <td>H</td>\n",
              "      <td>11</td>\n",
              "      <td>215.00</td>\n",
              "    </tr>\n",
              "    <tr>\n",
              "      <th>787</th>\n",
              "      <td>13</td>\n",
              "      <td>H</td>\n",
              "      <td>11</td>\n",
              "      <td>203.00</td>\n",
              "    </tr>\n",
              "    <tr>\n",
              "      <th>788</th>\n",
              "      <td>12</td>\n",
              "      <td>H</td>\n",
              "      <td>12</td>\n",
              "      <td>235.00</td>\n",
              "    </tr>\n",
              "    <tr>\n",
              "      <th>789</th>\n",
              "      <td>11</td>\n",
              "      <td>H</td>\n",
              "      <td>11</td>\n",
              "      <td>229.00</td>\n",
              "    </tr>\n",
              "    <tr>\n",
              "      <th>790</th>\n",
              "      <td>10</td>\n",
              "      <td>H</td>\n",
              "      <td>8</td>\n",
              "      <td>134.00</td>\n",
              "    </tr>\n",
              "    <tr>\n",
              "      <th>791</th>\n",
              "      <td>9</td>\n",
              "      <td>H</td>\n",
              "      <td>12</td>\n",
              "      <td>234.00</td>\n",
              "    </tr>\n",
              "    <tr>\n",
              "      <th>792</th>\n",
              "      <td>8</td>\n",
              "      <td>H</td>\n",
              "      <td>11</td>\n",
              "      <td>219.00</td>\n",
              "    </tr>\n",
              "    <tr>\n",
              "      <th>793</th>\n",
              "      <td>7</td>\n",
              "      <td>H</td>\n",
              "      <td>11</td>\n",
              "      <td>210.00</td>\n",
              "    </tr>\n",
              "    <tr>\n",
              "      <th>794</th>\n",
              "      <td>6</td>\n",
              "      <td>H</td>\n",
              "      <td>12</td>\n",
              "      <td>256.00</td>\n",
              "    </tr>\n",
              "    <tr>\n",
              "      <th>795</th>\n",
              "      <td>5</td>\n",
              "      <td>H</td>\n",
              "      <td>8</td>\n",
              "      <td>124.00</td>\n",
              "    </tr>\n",
              "    <tr>\n",
              "      <th>796</th>\n",
              "      <td>4</td>\n",
              "      <td>M</td>\n",
              "      <td>8</td>\n",
              "      <td>134.20</td>\n",
              "    </tr>\n",
              "    <tr>\n",
              "      <th>797</th>\n",
              "      <td>3</td>\n",
              "      <td>M</td>\n",
              "      <td>10</td>\n",
              "      <td>200.20</td>\n",
              "    </tr>\n",
              "    <tr>\n",
              "      <th>798</th>\n",
              "      <td>2</td>\n",
              "      <td>M</td>\n",
              "      <td>12</td>\n",
              "      <td>263.22</td>\n",
              "    </tr>\n",
              "    <tr>\n",
              "      <th>799</th>\n",
              "      <td>1</td>\n",
              "      <td>H</td>\n",
              "      <td>8</td>\n",
              "      <td>130.00</td>\n",
              "    </tr>\n",
              "    <tr>\n",
              "      <th>800</th>\n",
              "      <td>0</td>\n",
              "      <td>M</td>\n",
              "      <td>8</td>\n",
              "      <td>167.99</td>\n",
              "    </tr>\n",
              "  </tbody>\n",
              "</table>\n",
              "<p>801 rows × 4 columns</p>\n",
              "</div>"
            ],
            "text/plain": [
              "     EtiquetaNacimientoTernero Sexo  Edad (meses)    Peso\n",
              "0                          800    H            12  244.00\n",
              "1                          799    H             8  123.00\n",
              "2                          798    M            12  281.22\n",
              "3                          797    M             9  181.90\n",
              "4                          796    M            11  226.80\n",
              "5                          795    H            12  240.00\n",
              "6                          794    H            11  200.00\n",
              "7                          793    M             8  164.85\n",
              "8                          792    M            12  278.64\n",
              "9                          791    M             9  188.68\n",
              "10                         790    H            12  247.00\n",
              "11                         789    H            12  256.00\n",
              "12                         788    M            12  260.00\n",
              "13                         787    H             8  157.00\n",
              "14                         786    H            12  246.00\n",
              "15                         785    H            12  243.00\n",
              "16                         784    M            10  203.83\n",
              "17                         783    H            12  253.00\n",
              "18                         782    M            11  227.85\n",
              "19                         781    M            11  246.24\n",
              "20                         780    H            12  231.00\n",
              "21                         779    H            11  200.00\n",
              "22                         778    H            12  254.00\n",
              "23                         777    H             8  144.00\n",
              "24                         776    H            11  223.00\n",
              "25                         775    M             8  161.70\n",
              "26                         774    H            12  240.00\n",
              "27                         773    H             8  139.00\n",
              "28                         772    M             8  148.05\n",
              "29                         771    H             8  132.00\n",
              "..                         ...  ...           ...     ...\n",
              "771                         29    M            11  220.48\n",
              "772                         28    M             9  185.30\n",
              "773                         27    H             8  147.00\n",
              "774                         26    H             9  168.00\n",
              "775                         25    M             9  174.72\n",
              "776                         24    M            12  255.44\n",
              "777                         23    M             8  153.92\n",
              "778                         22    M            10  187.46\n",
              "779                         21    M            10  200.55\n",
              "780                         20    M            11  214.24\n",
              "781                         19    M            12  244.11\n",
              "782                         18    M            11  251.90\n",
              "783                         17    H            11  222.00\n",
              "784                         16    H            11  207.00\n",
              "785                         15    H            10  185.00\n",
              "786                         14    H            11  215.00\n",
              "787                         13    H            11  203.00\n",
              "788                         12    H            12  235.00\n",
              "789                         11    H            11  229.00\n",
              "790                         10    H             8  134.00\n",
              "791                          9    H            12  234.00\n",
              "792                          8    H            11  219.00\n",
              "793                          7    H            11  210.00\n",
              "794                          6    H            12  256.00\n",
              "795                          5    H             8  124.00\n",
              "796                          4    M             8  134.20\n",
              "797                          3    M            10  200.20\n",
              "798                          2    M            12  263.22\n",
              "799                          1    H             8  130.00\n",
              "800                          0    M             8  167.99\n",
              "\n",
              "[801 rows x 4 columns]"
            ]
          },
          "metadata": {
            "tags": []
          },
          "execution_count": 29
        }
      ]
    },
    {
      "cell_type": "markdown",
      "metadata": {
        "id": "zy5ZROmjlGo1",
        "colab_type": "text"
      },
      "source": [
        "Aplica el algoritmo al juego de datos generado"
      ]
    },
    {
      "cell_type": "markdown",
      "metadata": {
        "id": "_Cmj-PVylMsa",
        "colab_type": "text"
      },
      "source": [
        "Respuesta"
      ]
    },
    {
      "cell_type": "code",
      "metadata": {
        "id": "Jkx8GeiYlUz1",
        "colab_type": "code",
        "colab": {
          "base_uri": "https://localhost:8080/",
          "height": 655
        },
        "outputId": "aa82e294-a13a-43e0-916b-06c745048946"
      },
      "source": [
        "purchases = LeerArchivo()\n",
        "\n",
        "purchases = purchases.drop([NombreColumnas[2]], axis=1) \n",
        "purchases.dropna(inplace=True)\n",
        "\n",
        "data_male = SepararPorGenero(purchases, \"Macho\" )\n",
        "data_female = SepararPorGenero(purchases, \"Hembra\" )\n",
        "\n",
        "data_male = data_male.drop([NombreColumnas[1]], axis=1)\n",
        "data_female = data_female.drop([NombreColumnas[1]], axis=1)\n",
        "\n",
        "data_male = OrdenarPorPeso(data_male)\n",
        "data_female = OrdenarPorPeso(data_female)\n",
        "\n",
        "grupos_data_male = GruposPorTratamiento(data_male)\n",
        "grupos_data_female = GruposPorTratamiento(data_female)\n",
        "\n",
        "grupos_data_male = LimpiarOrganizarGruposDatos(grupos_data_male, distanciaMinimaMedia)\n",
        "grupos_data_female = LimpiarOrganizarGruposDatos(grupos_data_female, distanciaMinimaMedia)\n",
        "\n",
        "cantidad_grupo_mas_pequeno = determinarDimensionCadaGrupo()\n",
        "\n",
        "grupos_data_male = RecortarGruposDatos(grupos_data_male, cantidad_grupo_mas_pequeno)\n",
        "grupos_data_female = RecortarGruposDatos(grupos_data_female, cantidad_grupo_mas_pequeno)\n",
        "\n",
        "print()\n",
        "conteo = 0\n",
        "for key in Tratamientos_grupos:     \n",
        "    llave = Tratamientos_grupos[key]    \n",
        "    if conteo >= 3:\n",
        "      conteo = 0\n",
        "      print(\"\")\n",
        "    conteo += 1\n",
        "    print(\"Male: \", llave, \" terneros: \" ,grupos_data_male[llave].shape[0],\"Media grupo: \" , round(grupos_data_male[llave].mean()[1]) )\n",
        "    \n",
        "print()\n",
        "conteo = 0\n",
        "for key in Tratamientos_grupos:     \n",
        "    llave = Tratamientos_grupos[key]\n",
        "    if conteo >= 3:\n",
        "      conteo = 0\n",
        "      print(\"\")\n",
        "    conteo += 1\n",
        "    print(\"Female: \", llave, \" terneros: \" ,grupos_data_female[llave].shape[0] ,\"Media grupo: \" , round(grupos_data_female[llave].mean()[1]) )\n",
        "\n",
        "print()\n",
        "print(\"Terneros total utilizados: \", cantidad_grupo_mas_pequeno * 18, \", de un total de \", N_animales)"
      ],
      "execution_count": 30,
      "outputs": [
        {
          "output_type": "stream",
          "text": [
            "Tiempo transcurrido (en segundos): 0.005388021469116211\n",
            "Tiempo transcurrido (en segundos): 0.001954793930053711\n",
            "Tiempo transcurrido (en segundos): 0.0010385513305664062\n",
            "Tiempo transcurrido (en segundos): 0.0006928443908691406\n",
            "Tiempo transcurrido (en segundos): 0.000644683837890625\n",
            "Tiempo transcurrido (en segundos): 0.005186796188354492\n",
            "Tiempo transcurrido (en segundos): 0.005102634429931641\n",
            "Tiempo transcurrido (en segundos): 0.7711608409881592\n",
            "Tiempo transcurrido (en segundos): 0.5753850936889648\n",
            "Tiempo transcurrido (en segundos): 8.96453857421875e-05\n",
            "Tiempo transcurrido (en segundos): 0.0025081634521484375\n",
            "Tiempo transcurrido (en segundos): 0.001995563507080078\n",
            "\n",
            "Male:  1A  terneros:  10 Media grupo:  163.0\n",
            "Male:  1B  terneros:  10 Media grupo:  162.0\n",
            "Male:  1C  terneros:  10 Media grupo:  156.0\n",
            "\n",
            "Male:  2A  terneros:  10 Media grupo:  200.0\n",
            "Male:  2B  terneros:  10 Media grupo:  201.0\n",
            "Male:  2C  terneros:  10 Media grupo:  201.0\n",
            "\n",
            "Male:  3A  terneros:  10 Media grupo:  252.0\n",
            "Male:  3B  terneros:  10 Media grupo:  249.0\n",
            "Male:  3C  terneros:  10 Media grupo:  249.0\n",
            "\n",
            "Female:  1A  terneros:  10 Media grupo:  152.0\n",
            "Female:  1B  terneros:  10 Media grupo:  152.0\n",
            "Female:  1C  terneros:  10 Media grupo:  150.0\n",
            "\n",
            "Female:  2A  terneros:  10 Media grupo:  195.0\n",
            "Female:  2B  terneros:  10 Media grupo:  195.0\n",
            "Female:  2C  terneros:  10 Media grupo:  191.0\n",
            "\n",
            "Female:  3A  terneros:  10 Media grupo:  241.0\n",
            "Female:  3B  terneros:  10 Media grupo:  238.0\n",
            "Female:  3C  terneros:  10 Media grupo:  234.0\n",
            "\n",
            "Terneros total utilizados:  180 , de un total de  800\n"
          ],
          "name": "stdout"
        }
      ]
    },
    {
      "cell_type": "markdown",
      "metadata": {
        "colab_type": "text",
        "id": "eTFWUJQrtGcv"
      },
      "source": [
        "Enumera las referencias que has utilizado(si ha sido necesario) para llevar a cabo el trabajo"
      ]
    },
    {
      "cell_type": "markdown",
      "metadata": {
        "id": "YKQ_mRBttWsP",
        "colab_type": "text"
      },
      "source": [
        "Respuesta"
      ]
    },
    {
      "cell_type": "markdown",
      "metadata": {
        "id": "kAkDPUyRtYyH",
        "colab_type": "text"
      },
      "source": [
        "Describe brevemente las lineas de como crees que es posible avanzar en el estudio del problema. Ten en cuenta incluso posibles variaciones del problema y/o variaciones al alza del tamaño"
      ]
    },
    {
      "cell_type": "markdown",
      "metadata": {
        "id": "IE0uZmo-tZu-",
        "colab_type": "text"
      },
      "source": [
        "Respuesta:\n",
        "Para mejorar el algoritmo se podria utilizar algoritmos geneticos para generar el dataset\n",
        "\n",
        "Y para su solucion se podria utilizar algoritmos heuristicos que da soluciones mas rapidas y algunas veces (al aplicar un poco soluciones aleatorias) logra soluciones mejores a un algoritmo cerrado como el diseñado en este trabajo."
      ]
    }
  ]
}