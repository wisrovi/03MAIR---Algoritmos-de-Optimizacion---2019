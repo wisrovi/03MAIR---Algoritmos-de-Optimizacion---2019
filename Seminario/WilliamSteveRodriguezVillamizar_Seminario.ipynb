{
  "nbformat": 4,
  "nbformat_minor": 0,
  "metadata": {
    "colab": {
      "name": "WilliamSteveRodriguezVillamizar_AG2",
      "provenance": [],
      "collapsed_sections": [],
      "include_colab_link": true
    },
    "kernelspec": {
      "name": "python3",
      "display_name": "Python 3"
    }
  },
  "cells": [
    {
      "cell_type": "markdown",
      "metadata": {
        "id": "view-in-github",
        "colab_type": "text"
      },
      "source": [
        "<a href=\"https://colab.research.google.com/github/wisrovi/03MAIR---Algoritmos-de-Optimizacion---2019/blob/master/Seminario/WilliamSteveRodriguezVillamizar_Seminario.ipynb\" target=\"_parent\"><img src=\"https://colab.research.google.com/assets/colab-badge.svg\" alt=\"Open In Colab\"/></a>"
      ]
    },
    {
      "cell_type": "markdown",
      "metadata": {
        "id": "hVbXYX-RfPWh",
        "colab_type": "text"
      },
      "source": [
        "# Algoritmos de optimización - Seminario<br>\n",
        "Nombre y Apellidos:   <br>\n",
        "Url: https://github.com/.../03MAIR---Algoritmos-de-Optimizacion---2019/tree/master/SEMINARIO<br>\n",
        "Problema:\n",
        "> 1. Elección de grupos de población homogéneos <br>\n",
        ">2. Organizar los horarios de partidos de La Liga<br>\n",
        ">3. Combinar cifras y operaciones\n",
        "\n",
        "Descripción del problema:(copiar enunciado)\n",
        "\n",
        "Elección de grupos de población homogéneos\n",
        "• Una productora ganadera nos encarga la tarea de seleccionar grupos de\n",
        "terneros para aplicar 3 tratamientos diferentes. Para cada uno de los\n",
        "tratamientos debemos seleccionar 3 grupos de terneros separados por sexos\n",
        "que sean lo mas homogéneos posible en peso para que en los resultados del\n",
        "tratamiento influya lo menos posible el peso del animal. Disponemos de una\n",
        "población de N animales entre machos y hembras\n",
        "• Se solicita diseñar un algoritmo para conseguir una agrupación que cumpla de la\n",
        "mejor manera posible las especificaciones de la productora.\n",
        "\n",
        "....\n",
        "\n",
        "(*) La respuesta es obligatoria\n",
        "\n",
        "\n",
        "\n",
        "\n",
        "\n",
        "                                        "
      ]
    },
    {
      "cell_type": "code",
      "metadata": {
        "id": "AiskKkzZfy4e",
        "colab_type": "code",
        "colab": {
          "base_uri": "https://localhost:8080/",
          "height": 34
        },
        "outputId": "701591c2-0027-4d48-d8d4-4045a5312e68"
      },
      "source": [
        "!pip install sorting"
      ],
      "execution_count": 44,
      "outputs": [
        {
          "output_type": "stream",
          "text": [
            "Requirement already satisfied: sorting in /usr/local/lib/python3.6/dist-packages (1.0.3)\n"
          ],
          "name": "stdout"
        }
      ]
    },
    {
      "cell_type": "markdown",
      "metadata": {
        "id": "3_-exlrTgLd-",
        "colab_type": "text"
      },
      "source": [
        "(*)¿Cuantas posibilidades hay sin tener en cuenta las restricciones?<br>\n",
        "\n",
        "\n",
        "\n",
        "¿Cuantas posibilidades hay teniendo en cuenta todas las restricciones.\n",
        "\n",
        "\n"
      ]
    },
    {
      "cell_type": "markdown",
      "metadata": {
        "id": "WfCUqJyKhPcw",
        "colab_type": "text"
      },
      "source": [
        "Respuesta"
      ]
    },
    {
      "cell_type": "code",
      "metadata": {
        "id": "iq6Fe32MgpDX",
        "colab_type": "code",
        "colab": {}
      },
      "source": [
        "#Sin ninguna restricción hay 2^n posibles soluciones, donde n es el numero de terneros en el dataset, \n",
        "#pero teniendo las restricciones y mirando que el tamaño de datos es limitado en el dataset, \n",
        "#y tambien mirando que el sistema solicita grupos homogeneos se generan tambien 2^x posibilidades, \n",
        "#donde x es la menor cantidad de inviduos ya sea machos o hembras, siempre y cuando los datos del dataset tengan pesos similares"
      ],
      "execution_count": 0,
      "outputs": []
    },
    {
      "cell_type": "markdown",
      "metadata": {
        "id": "dzynfVJahHoY",
        "colab_type": "text"
      },
      "source": [
        "Modelo para el espacio de soluciones<br>\n",
        "(*) ¿Cual es la estructura de datos que mejor se adapta al problema? Argumentalo.(Es posible que hayas elegido una al principio y veas la necesidad de cambiar, arguentalo)\n"
      ]
    },
    {
      "cell_type": "markdown",
      "metadata": {
        "id": "xFIJrOwKi2Ti",
        "colab_type": "text"
      },
      "source": [
        "Respuesta"
      ]
    },
    {
      "cell_type": "code",
      "metadata": {
        "id": "38c-7-ejhJmA",
        "colab_type": "code",
        "colab": {}
      },
      "source": [
        "#La estructura mas óptima sea aquella donde los pesos individuales de cada ternero sea muy cercano a la media, \n",
        "#puesto que asi, todos serian aptos para usarse en los grupos homogeneos sin descartar a terneros con mucho peso o poco peso, por la restricción que solicita el problema"
      ],
      "execution_count": 0,
      "outputs": []
    },
    {
      "cell_type": "markdown",
      "metadata": {
        "id": "7Z9U2W7bi-XS",
        "colab_type": "text"
      },
      "source": [
        "Según el modelo para el espacio de soluciones<br>\n",
        "(*)¿Cual es la función objetivo?\n",
        "\n",
        "(*)¿Es un problema de maximización o minimización?"
      ]
    },
    {
      "cell_type": "markdown",
      "metadata": {
        "id": "hBalWLM7j1_d",
        "colab_type": "text"
      },
      "source": [
        "Respuesta"
      ]
    },
    {
      "cell_type": "code",
      "metadata": {
        "id": "pDA-rg3Gj5Lz",
        "colab_type": "code",
        "colab": {}
      },
      "source": [
        ""
      ],
      "execution_count": 0,
      "outputs": []
    },
    {
      "cell_type": "markdown",
      "metadata": {
        "id": "rlnTYgY1j6I2",
        "colab_type": "text"
      },
      "source": [
        "Diseña un algoritmo para resolver el problema por fuerza bruta"
      ]
    },
    {
      "cell_type": "markdown",
      "metadata": {
        "id": "70rDgxYXkC8r",
        "colab_type": "text"
      },
      "source": [
        "Respuesta"
      ]
    },
    {
      "cell_type": "code",
      "metadata": {
        "id": "CJb5sQ0qkENy",
        "colab_type": "code",
        "colab": {}
      },
      "source": [
        ""
      ],
      "execution_count": 0,
      "outputs": []
    },
    {
      "cell_type": "markdown",
      "metadata": {
        "id": "tgrnsC2nkFa8",
        "colab_type": "text"
      },
      "source": [
        "Calcula la complejidad del algoritmo por fuerza bruta"
      ]
    },
    {
      "cell_type": "markdown",
      "metadata": {
        "id": "9eUd3xwckP68",
        "colab_type": "text"
      },
      "source": [
        "Respuesta"
      ]
    },
    {
      "cell_type": "code",
      "metadata": {
        "id": "rvZWwL-ckRST",
        "colab_type": "code",
        "colab": {}
      },
      "source": [
        ""
      ],
      "execution_count": 0,
      "outputs": []
    },
    {
      "cell_type": "markdown",
      "metadata": {
        "id": "txbrmLmskReM",
        "colab_type": "text"
      },
      "source": [
        "ok - (*)Diseña un algoritmo que mejore la complejidad del algortimo por fuerza bruta. Argumenta porque crees que mejora el algoritmo por fuerza bruta"
      ]
    },
    {
      "cell_type": "markdown",
      "metadata": {
        "id": "hLrVwt5QkZPD",
        "colab_type": "text"
      },
      "source": [
        "Respuesta"
      ]
    },
    {
      "cell_type": "code",
      "metadata": {
        "id": "m1eyM21Vkabg",
        "colab_type": "code",
        "colab": {}
      },
      "source": [
        "import random\n",
        "import numpy as np\n",
        "import pandas as pd\n",
        "import matplotlib.pyplot as plt\n",
        "\n",
        "from time import time\n",
        "\n",
        "tiempoInicial = time()"
      ],
      "execution_count": 0,
      "outputs": []
    },
    {
      "cell_type": "code",
      "metadata": {
        "id": "KFxuabfWOi1d",
        "colab_type": "code",
        "colab": {}
      },
      "source": [
        "#Decorador de Ricardo Lebron\n",
        "from functools import wraps\n",
        "from time import time\n",
        "\n",
        "def calcular_tiempo(f):\n",
        "    @wraps(f)\n",
        "    def cronometro(*args, **kwargs):\n",
        "        t_inicial = time() #tomo la hora antes de ejecutar la funcion\n",
        "        salida = f(*args, **kwargs)\n",
        "        t_final = time() #tomo la hora despues de ejecutar la funcion\n",
        "        print('Tiempo transcurrido (en segundos): {}'.format(t_final - t_inicial))\n",
        "        return salida\n",
        "    return cronometro"
      ],
      "execution_count": 0,
      "outputs": []
    },
    {
      "cell_type": "code",
      "metadata": {
        "id": "IHtmE9NzOi4D",
        "colab_type": "code",
        "colab": {}
      },
      "source": [
        "nombreArchivo = \"TernerosProductoraGanadera.csv\"\n",
        "\n",
        "sexo = {\n",
        "    'Macho' : 'M',\n",
        "    'Hembra' : 'H'\n",
        "}"
      ],
      "execution_count": 0,
      "outputs": []
    },
    {
      "cell_type": "markdown",
      "metadata": {
        "id": "ClEo55bXTqXQ",
        "colab_type": "text"
      },
      "source": [
        "## Aunque estas tablas nos muestran el precio, tambien podemos usarlas para tener una guia de los pesos conforme a la edad del ternero, esto para tener datos mas realistas\n"
      ]
    },
    {
      "cell_type": "markdown",
      "metadata": {
        "id": "I38VtOJpOsQu",
        "colab_type": "text"
      },
      "source": [
        "<img src=\"https://github.com/wisrovi/03MAIR---Algoritmos-de-Optimizacion---2019/blob/master/Seminario/pesoTerneros.jpg?raw=1\">\n",
        "\n",
        "<img src=\"https://github.com/wisrovi/03MAIR---Algoritmos-de-Optimizacion---2019/blob/master/Seminario/pesoTerneros2.jpg?raw=1\">"
      ]
    },
    {
      "cell_type": "code",
      "metadata": {
        "id": "PAGzxEhkOi9X",
        "colab_type": "code",
        "colab": {}
      },
      "source": [
        "edadRangoPeso = {\n",
        "    \"8\" : (120, 160),\n",
        "    \"9\" : (160, 180),\n",
        "    \"10\" : (180, 200),\n",
        "    \"11\" : (200, 230),\n",
        "    \"12\" : (230, 260)\n",
        "}"
      ],
      "execution_count": 0,
      "outputs": []
    },
    {
      "cell_type": "code",
      "metadata": {
        "id": "Qufd5_BQOi_y",
        "colab_type": "code",
        "colab": {}
      },
      "source": [
        "NombreColumnas = [\n",
        "    'EtiquetaNacimientoTernero',\n",
        "    'Sexo',\n",
        "    'Edad (meses)',\n",
        "    'Peso'\n",
        "]\n",
        "\n",
        "Grupos = {\n",
        "    \"Grupo1\" : \"A\",\n",
        "    \"Grupo2\" : \"B\",\n",
        "    \"Grupo3\" : \"C\"\n",
        "}\n",
        "\n",
        "Tratamientos = [\n",
        "    \"1\",\n",
        "    \"2\",\n",
        "    \"3\"\n",
        "]\n",
        "\n",
        "\n",
        "Tratamientos_grupos = {\n",
        "    \"Tratamiento1_grupo1\" : Tratamientos[0] + Grupos[\"Grupo1\"],\n",
        "    \"Tratamiento1_grupo2\" : Tratamientos[0] + Grupos[\"Grupo2\"],\n",
        "    \"Tratamiento1_grupo3\" : Tratamientos[0] + Grupos[\"Grupo3\"],\n",
        "    \n",
        "    \"Tratamiento2_grupo1\" : Tratamientos[1] + Grupos[\"Grupo1\"],\n",
        "    \"Tratamiento2_grupo2\" : Tratamientos[1] + Grupos[\"Grupo2\"],\n",
        "    \"Tratamiento2_grupo3\" : Tratamientos[1] + Grupos[\"Grupo3\"],    \n",
        "    \n",
        "    \"Tratamiento3_grupo1\" : Tratamientos[2] + Grupos[\"Grupo1\"],\n",
        "    \"Tratamiento3_grupo2\" : Tratamientos[2] + Grupos[\"Grupo2\"],\n",
        "    \"Tratamiento3_grupo3\" : Tratamientos[2] + Grupos[\"Grupo3\"]\n",
        "}\n",
        "\n",
        "distanciaMinimaMedia = 10\n",
        "numero_minimo_terneros_cada_Tratamientos_grupos = 3"
      ],
      "execution_count": 0,
      "outputs": []
    },
    {
      "cell_type": "code",
      "metadata": {
        "id": "HHGc0--hOjCD",
        "colab_type": "code",
        "colab": {}
      },
      "source": [
        "import random\n",
        "def GenerarTerneroAleatorio(etiquetaTernero = None):\n",
        "    \"\"\"\n",
        "    Vamos a generar una edad al azar usando la libreria random, esto debido a que el enunciado dice que es un ternero, pero \n",
        "    un ternero se condidera ternero cuando esta en las edades entre 8 y 12 meses, luego se considera novillo,\n",
        "    y para cada edad hay un intervalo de peso estandarizado, \n",
        "    por ejemplo para un ternero de 10 meses su peso suele estar entre 200Kgr y 230Kgr,\n",
        "    en este orden de ideas, para generar datos lo mas realistas posibles, \n",
        "    vamos a generar terneros con pesos que cumplan los intervalos por edades, \n",
        "    luego podemos quitar la columna de edad y quedarnos con el genero (generado aleatoriamente) y el peso.\n",
        "    \"\"\"\n",
        "    edad = random.choice(list(edadRangoPeso.keys()) )\n",
        "    sexoTernero = sexo[random.choice(list(sexo.keys()) )]\n",
        "    pesoTernero = random.randint(edadRangoPeso[edad][0] , edadRangoPeso[edad][1])\n",
        "    if sexoTernero == sexo['Macho']:\n",
        "        #Generalmente los machos son mas pesados\n",
        "        #Por este motivo a los machos le damos de un 3% a un 10% mas de peso (valor elegido al azar)\n",
        "        porcentajePeroMayorPorSerMacho = random.randint(3 , 10) #Elegimos el porcentaje de peso que tendra de mas a comparacion si fuere una hembra\n",
        "        pesoTernero = pesoTernero + (pesoTernero*porcentajePeroMayorPorSerMacho)/100\n",
        "        \n",
        "    ternero = { \n",
        "        NombreColumnas[0] : etiquetaTernero,\n",
        "        NombreColumnas[1] : [sexoTernero] ,\n",
        "        NombreColumnas[2] : [int(edad)], \n",
        "        NombreColumnas[3] : [pesoTernero] \n",
        "          }\n",
        "    return ternero\n",
        "\n",
        "def GenerarGrupoTerneros(sizeDataframe, dataframe = None):\n",
        "    \"\"\"\n",
        "    Usando recursividad vamos a generar el dataframe del tamaño solicitado en la variable \"sizeDataframe\"\n",
        "    llenando el dataframe con terneros aleatorios\n",
        "    \"\"\"\n",
        "    ternero = GenerarTerneroAleatorio(sizeDataframe)\n",
        "    try:\n",
        "        temporal = pd.DataFrame(ternero)\n",
        "        dataframe = dataframe.append(temporal)\n",
        "    except:\n",
        "        dataframe = pd.DataFrame(ternero)        \n",
        "    \n",
        "    if 0 < sizeDataframe:        \n",
        "        GenerarGrupoTerneros(sizeDataframe -1, dataframe)\n",
        "    else:\n",
        "        export_csv = dataframe.to_csv (nombreArchivo, index = None, header=True) \n",
        "        \n",
        "@calcular_tiempo\n",
        "def GenerarDataframeDatos(sizeDataframe):   \n",
        "    \"\"\"\n",
        "    Colocamos esta funcion para poder medir el tiempo que toma el algoritmo para crear el conjunto de datos \n",
        "    (para terminos evaluativos en cuanto a optimizacion del codigo)\n",
        "    \"\"\"\n",
        "    total = numero_minimo_terneros_cada_Tratamientos_grupos * 18\n",
        "    if numero_minimo_terneros_cada_Tratamientos_grupos > sizeDataframe:\n",
        "      sizeDataframe = numero_minimo_terneros_cada_Tratamientos_grupos\n",
        "    GenerarGrupoTerneros(sizeDataframe)"
      ],
      "execution_count": 0,
      "outputs": []
    },
    {
      "cell_type": "code",
      "metadata": {
        "id": "C_YDOhfTOjGY",
        "colab_type": "code",
        "colab": {
          "base_uri": "https://localhost:8080/",
          "height": 34
        },
        "outputId": "793de572-b874-44a4-8589-3852f8a64edc"
      },
      "source": [
        "N_animales = 800\n",
        "\n",
        "#generamos un dataset aleatorio guardado en el archivo \"nombreArchivo\" declarado al inicio del codigo\n",
        "GenerarDataframeDatos(N_animales)"
      ],
      "execution_count": 52,
      "outputs": [
        {
          "output_type": "stream",
          "text": [
            "Tiempo transcurrido (en segundos): 1.8958361148834229\n"
          ],
          "name": "stdout"
        }
      ]
    },
    {
      "cell_type": "code",
      "metadata": {
        "id": "JOWeeLvlPnuI",
        "colab_type": "code",
        "colab": {}
      },
      "source": [
        "#cargamos el dataset que hemos guardado en el .csv\n",
        "\n",
        "@calcular_tiempo\n",
        "def LeerArchivo():\n",
        "    return pd.read_csv(nombreArchivo) "
      ],
      "execution_count": 0,
      "outputs": []
    },
    {
      "cell_type": "code",
      "metadata": {
        "id": "W-FzyJo3OjI6",
        "colab_type": "code",
        "colab": {
          "base_uri": "https://localhost:8080/",
          "height": 34
        },
        "outputId": "7878057b-7bb3-4d67-c984-165e15e55ff5"
      },
      "source": [
        "purchases = LeerArchivo()"
      ],
      "execution_count": 54,
      "outputs": [
        {
          "output_type": "stream",
          "text": [
            "Tiempo transcurrido (en segundos): 0.007236957550048828\n"
          ],
          "name": "stdout"
        }
      ]
    },
    {
      "cell_type": "code",
      "metadata": {
        "id": "FNB7NiEYOjLa",
        "colab_type": "code",
        "colab": {}
      },
      "source": [
        "tiempoProcesar = time()"
      ],
      "execution_count": 0,
      "outputs": []
    },
    {
      "cell_type": "code",
      "metadata": {
        "id": "_NG7uf2aOjOJ",
        "colab_type": "code",
        "colab": {}
      },
      "source": [
        "#dado que la columna de edades solo se uso para generar aleatoriamente los pesos\n",
        "#conforme a la edad, no es necesario que de aca en adelante la sigamos conservando\n",
        "#por lo cual eliminamos esta columna del dataframe cargado para facilitar el analisis de los datos\n",
        "purchases = purchases.drop([NombreColumnas[2]], axis=1) \n",
        "purchases.dropna(inplace=True) #Borro valores nulos, si llegaren a existir"
      ],
      "execution_count": 0,
      "outputs": []
    },
    {
      "cell_type": "code",
      "metadata": {
        "id": "9Uh8aiYoOjEm",
        "colab_type": "code",
        "colab": {
          "base_uri": "https://localhost:8080/",
          "height": 50
        },
        "outputId": "ca94f1f0-0375-413d-ff82-e2b35f1fe456"
      },
      "source": [
        "@calcular_tiempo\n",
        "def SepararPorGenero(df, genero):\n",
        "    return df[df[NombreColumnas[1]] == sexo[genero]]\n",
        "\n",
        "data_male = SepararPorGenero(purchases, \"Macho\" )\n",
        "\n",
        "data_female = SepararPorGenero(purchases, \"Hembra\" )\n",
        "\n",
        "#dado que ya hemos separado el conjunto de datos por sexos, ya no necesitamos esa columna, \n",
        "#por lo cual la podemos eliminar para facilitar el analisis de los datos\n",
        "data_male = data_male.drop([NombreColumnas[1]], axis=1)\n",
        "data_female = data_female.drop([NombreColumnas[1]], axis=1) "
      ],
      "execution_count": 57,
      "outputs": [
        {
          "output_type": "stream",
          "text": [
            "Tiempo transcurrido (en segundos): 0.002877473831176758\n",
            "Tiempo transcurrido (en segundos): 0.0018362998962402344\n"
          ],
          "name": "stdout"
        }
      ]
    },
    {
      "cell_type": "code",
      "metadata": {
        "id": "lINEMjF6PuEG",
        "colab_type": "code",
        "colab": {
          "base_uri": "https://localhost:8080/",
          "height": 50
        },
        "outputId": "19626c6d-1ca1-4895-a9b8-9c905f7c36e9"
      },
      "source": [
        "#ordenamos los conjunto de datos para analizar mas facil la información\n",
        "\n",
        "@calcular_tiempo\n",
        "def OrdenarPorPeso(df):\n",
        "    return df.sort_values(by=[ NombreColumnas[3] ])\n",
        "\n",
        "data_male = OrdenarPorPeso(data_male)\n",
        "data_female = OrdenarPorPeso(data_female)"
      ],
      "execution_count": 58,
      "outputs": [
        {
          "output_type": "stream",
          "text": [
            "Tiempo transcurrido (en segundos): 0.0024213790893554688\n",
            "Tiempo transcurrido (en segundos): 0.001402139663696289\n"
          ],
          "name": "stdout"
        }
      ]
    },
    {
      "cell_type": "code",
      "metadata": {
        "id": "qwWTgDlHPuI7",
        "colab_type": "code",
        "colab": {}
      },
      "source": [
        "@calcular_tiempo\n",
        "def GruposPorTratamiento(df):\n",
        "    #print(\"Tamaño\",df.shape[0])    \n",
        "    #df = df.sort_index()    \n",
        "    split = int(round(df.shape[0]/3)-1)\n",
        "    grupoTratamiento = {}\n",
        "    \n",
        "    \"\"\"\n",
        "    Dividimos el dataframe para tres tratamientos creando 3 grupos\n",
        "    \"\"\"\n",
        "    for i in range(len(Tratamientos)):\n",
        "        tratamientto = Tratamientos[i]\n",
        "        grupoTratamiento[tratamientto] = df[:split]\n",
        "        df = df[split:]\n",
        "    \n",
        "    \"\"\"\n",
        "    Para cada tratamiento, genero tres grupos, tratando en lo mas posible que mantengan la media en los mismos\n",
        "    \"\"\"\n",
        "    grupos = {}\n",
        "    for keyTratamiento in grupoTratamiento:\n",
        "        grupo_para_tratamiento =  grupoTratamiento[keyTratamiento]\n",
        "        grupo_para_tratamiento = grupo_para_tratamiento.sort_index()\n",
        "        split = int(round(grupo_para_tratamiento.shape[0]/3)-1)\n",
        "        #print(keyTratamiento, grupo_para_tratamiento.mean()[1])\n",
        "        \n",
        "        for keyGrupo in Grupos:\n",
        "            llave = Grupos[keyGrupo]\n",
        "            grupos[keyTratamiento+llave] = grupo_para_tratamiento[:split]\n",
        "            grupo_para_tratamiento = grupo_para_tratamiento[split:]\n",
        "        \n",
        "    return grupos   "
      ],
      "execution_count": 0,
      "outputs": []
    },
    {
      "cell_type": "code",
      "metadata": {
        "id": "uiT0QsiLPuM3",
        "colab_type": "code",
        "colab": {
          "base_uri": "https://localhost:8080/",
          "height": 50
        },
        "outputId": "56b43303-8cc7-42cc-bd6c-cd29e9a9c732"
      },
      "source": [
        "\"\"\"\n",
        "Ahora tenermos dos subconjunto de datos (machos y hembras)\n",
        "Vamos a dividir cada subconjunto en 9, asi tendremos 3 grupos para cada uno de los tres tratamientos\n",
        "Seguidamente vamos a obtener la media de cada uno de estos 9 grupos y vamos a obtener la distancia de cada elemento del grupo a esta media\n",
        "Haremos lo mismo tanto para los masculinos como para el conjunto de datos femeninos\n",
        "\"\"\"\n",
        "\n",
        "grupos_data_male = GruposPorTratamiento(data_male)\n",
        "grupos_data_female = GruposPorTratamiento(data_female)"
      ],
      "execution_count": 60,
      "outputs": [
        {
          "output_type": "stream",
          "text": [
            "Tiempo transcurrido (en segundos): 0.007010221481323242\n",
            "Tiempo transcurrido (en segundos): 0.0054683685302734375\n"
          ],
          "name": "stdout"
        }
      ]
    },
    {
      "cell_type": "code",
      "metadata": {
        "id": "ukhbK5eNPuPv",
        "colab_type": "code",
        "colab": {}
      },
      "source": [
        "@calcular_tiempo\n",
        "def LimpiarOrganizarGruposDatos(df, mediaMinima):\n",
        "    \"\"\"\n",
        "    Cada uno de los nueve grupos, los organizo por cual dato esta mas cercano a la media\n",
        "    \"\"\"\n",
        "    for key in Tratamientos_grupos:     \n",
        "        llave = Tratamientos_grupos[key]\n",
        "        dataframe = df[llave]\n",
        "        MediaDatos = dataframe.mean()[1] #calcular la media de los datos de este grupo\n",
        "\n",
        "        dataframe['DistanciaMedia'] = abs(MediaDatos - dataframe[NombreColumnas[3]]) #hallo la distancia a la media\n",
        "        \n",
        "        busquedaMinimoUno = True\n",
        "        incrementoRestriccion = 0\n",
        "        while busquedaMinimoUno:            \n",
        "            ternero_que_cumple_con_restriccion = dataframe['DistanciaMedia'] <= (mediaMinima + incrementoRestriccion)\n",
        "            temporal = dataframe[ternero_que_cumple_con_restriccion] #verifico que tenga la distancia minima a la media\n",
        "            \n",
        "            if temporal.shape[0] >(numero_minimo_terneros_cada_Tratamientos_grupos - 1):\n",
        "                dataframe = temporal\n",
        "                busquedaMinimoUno = False   \n",
        "            else:\n",
        "                incrementoRestriccion += 1\n",
        "        \n",
        "        dataframe = dataframe.sort_values(by=[ 'DistanciaMedia' ]) #ordeno segun quien este mas cercano a la media\n",
        "        dataframe = dataframe.drop(['DistanciaMedia'], axis=1)  #quitamos la columna añadida\n",
        "\n",
        "        df[llave] = dataframe \n",
        "    return df"
      ],
      "execution_count": 0,
      "outputs": []
    },
    {
      "cell_type": "code",
      "metadata": {
        "id": "5xL8BeqpPuSX",
        "colab_type": "code",
        "colab": {
          "base_uri": "https://localhost:8080/",
          "height": 50
        },
        "outputId": "8c21275d-33c5-4ede-ebe2-49bf8390f018"
      },
      "source": [
        "\"\"\"\n",
        "Para cada grupo de cada tratamiento:\n",
        "Optenemos la media\n",
        "comparamos cada peso con esta media y hallamos la distancia encomparacion con la media\n",
        "ordeno los datos conforme a los que tengan menor distancia a la media\n",
        "\"\"\"\n",
        "\n",
        "grupos_data_male = LimpiarOrganizarGruposDatos(grupos_data_male, distanciaMinimaMedia)\n",
        "grupos_data_female = LimpiarOrganizarGruposDatos(grupos_data_female, distanciaMinimaMedia)"
      ],
      "execution_count": 62,
      "outputs": [
        {
          "output_type": "stream",
          "text": [
            "Tiempo transcurrido (en segundos): 0.713468074798584\n",
            "Tiempo transcurrido (en segundos): 0.7159955501556396\n"
          ],
          "name": "stdout"
        }
      ]
    },
    {
      "cell_type": "code",
      "metadata": {
        "id": "f_snd6QtPuVa",
        "colab_type": "code",
        "colab": {
          "base_uri": "https://localhost:8080/",
          "height": 34
        },
        "outputId": "3e66741a-3b9a-438b-dddd-9fd2bc3044eb"
      },
      "source": [
        "#Vamos a hallar la menor cantidad para cada grupo, esto para que todos los grupos queden del mismo tamaño\n",
        "\n",
        "@calcular_tiempo\n",
        "def determinarDimensionCadaGrupo():\n",
        "    cantidad_grupo_mas_pequeno = purchases.shape[0]\n",
        "    for key in Tratamientos_grupos:     \n",
        "        llave = Tratamientos_grupos[key]\n",
        "        if cantidad_grupo_mas_pequeno > grupos_data_male[llave].shape[0]:\n",
        "            cantidad_grupo_mas_pequeno = grupos_data_male[llave].shape[0]\n",
        "\n",
        "    for key in Tratamientos_grupos:     \n",
        "        llave = Tratamientos_grupos[key]\n",
        "        if cantidad_grupo_mas_pequeno > grupos_data_female[llave].shape[0]:\n",
        "            cantidad_grupo_mas_pequeno = grupos_data_female[llave].shape[0]\n",
        "    \n",
        "    return cantidad_grupo_mas_pequeno\n",
        "            \n",
        "cantidad_grupo_mas_pequeno = determinarDimensionCadaGrupo()"
      ],
      "execution_count": 63,
      "outputs": [
        {
          "output_type": "stream",
          "text": [
            "Tiempo transcurrido (en segundos): 9.131431579589844e-05\n"
          ],
          "name": "stdout"
        }
      ]
    },
    {
      "cell_type": "code",
      "metadata": {
        "id": "Jo1k0aqMPuG9",
        "colab_type": "code",
        "colab": {
          "base_uri": "https://localhost:8080/",
          "height": 50
        },
        "outputId": "bf6aa3be-b338-4884-aa9b-fc0668766b81"
      },
      "source": [
        "@calcular_tiempo\n",
        "def RecortarGruposDatos(df, corte):\n",
        "    \"\"\"\n",
        "    Cada uno de los nueve grupos, los organizo por cual dato esta mas cercano a la media\n",
        "    \"\"\"\n",
        "    for key in Tratamientos_grupos:     \n",
        "        llave = Tratamientos_grupos[key]\n",
        "        dataframe = df[llave]\n",
        "        dataframe = dataframe[:corte]\n",
        "        df[llave] = dataframe\n",
        "    return df\n",
        "\n",
        "grupos_data_male = RecortarGruposDatos(grupos_data_male, cantidad_grupo_mas_pequeno)\n",
        "grupos_data_female = RecortarGruposDatos(grupos_data_female, cantidad_grupo_mas_pequeno)"
      ],
      "execution_count": 64,
      "outputs": [
        {
          "output_type": "stream",
          "text": [
            "Tiempo transcurrido (en segundos): 0.0048944950103759766\n",
            "Tiempo transcurrido (en segundos): 0.0047702789306640625\n"
          ],
          "name": "stdout"
        }
      ]
    },
    {
      "cell_type": "code",
      "metadata": {
        "id": "4WPPDdooQEa7",
        "colab_type": "code",
        "colab": {}
      },
      "source": [
        "tiempoFinal = time()"
      ],
      "execution_count": 0,
      "outputs": []
    },
    {
      "cell_type": "code",
      "metadata": {
        "id": "O5qtDCubQEd_",
        "colab_type": "code",
        "colab": {
          "base_uri": "https://localhost:8080/",
          "height": 437
        },
        "outputId": "96bbc7da-8119-4bbb-cc95-2b1dcc76356c"
      },
      "source": [
        "conteo = 0\n",
        "for key in Tratamientos_grupos:     \n",
        "    llave = Tratamientos_grupos[key]    \n",
        "    if conteo >= 3:\n",
        "      conteo = 0\n",
        "      print(\"\")\n",
        "    conteo += 1\n",
        "    print(\"Male: \", llave, \" terneros: \" ,grupos_data_male[llave].shape[0],\"Media grupo: \" , round(grupos_data_male[llave].mean()[1]) )\n",
        "    \n",
        "print()\n",
        "conteo = 0\n",
        "for key in Tratamientos_grupos:     \n",
        "    llave = Tratamientos_grupos[key]\n",
        "    if conteo >= 3:\n",
        "      conteo = 0\n",
        "      print(\"\")\n",
        "    conteo += 1\n",
        "    print(\"Female: \", llave, \" terneros: \" ,grupos_data_female[llave].shape[0] ,\"Media grupo: \" , round(grupos_data_female[llave].mean()[1]) )\n",
        "\n",
        "print()\n",
        "print(\"Terneros total utilizados: \", cantidad_grupo_mas_pequeno * 18, \", de un total de \", N_animales)"
      ],
      "execution_count": 80,
      "outputs": [
        {
          "output_type": "stream",
          "text": [
            "Male:  1A  terneros:  7 Media grupo:  164.0\n",
            "Male:  1B  terneros:  7 Media grupo:  156.0\n",
            "Male:  1C  terneros:  7 Media grupo:  160.0\n",
            "\n",
            "Male:  2A  terneros:  7 Media grupo:  201.0\n",
            "Male:  2B  terneros:  7 Media grupo:  203.0\n",
            "Male:  2C  terneros:  7 Media grupo:  200.0\n",
            "\n",
            "Male:  3A  terneros:  7 Media grupo:  250.0\n",
            "Male:  3B  terneros:  7 Media grupo:  248.0\n",
            "Male:  3C  terneros:  7 Media grupo:  249.0\n",
            "\n",
            "Female:  1A  terneros:  7 Media grupo:  154.0\n",
            "Female:  1B  terneros:  7 Media grupo:  151.0\n",
            "Female:  1C  terneros:  7 Media grupo:  155.0\n",
            "\n",
            "Female:  2A  terneros:  7 Media grupo:  194.0\n",
            "Female:  2B  terneros:  7 Media grupo:  191.0\n",
            "Female:  2C  terneros:  7 Media grupo:  192.0\n",
            "\n",
            "Female:  3A  terneros:  7 Media grupo:  237.0\n",
            "Female:  3B  terneros:  7 Media grupo:  233.0\n",
            "Female:  3C  terneros:  7 Media grupo:  233.0\n",
            "\n",
            "Terneros total utilizados:  126 , de un total de  800\n"
          ],
          "name": "stdout"
        }
      ]
    },
    {
      "cell_type": "code",
      "metadata": {
        "id": "IQUDhzl0QKkf",
        "colab_type": "code",
        "colab": {
          "base_uri": "https://localhost:8080/",
          "height": 50
        },
        "outputId": "8f294e08-7753-41e7-b22c-a565099205ba"
      },
      "source": [
        "print('Tiempo transcurrido generar dataset (en segundos): {}'.format(tiempoProcesar - tiempoInicial))\n",
        "print('Tiempo transcurrido generar respuesta problema (en segundos): {}'.format(tiempoFinal - tiempoProcesar))"
      ],
      "execution_count": 67,
      "outputs": [
        {
          "output_type": "stream",
          "text": [
            "Tiempo transcurrido generar dataset (en segundos): 2.0550713539123535\n",
            "Tiempo transcurrido generar respuesta problema (en segundos): 1.6089863777160645\n"
          ],
          "name": "stdout"
        }
      ]
    },
    {
      "cell_type": "markdown",
      "metadata": {
        "id": "jGPYiLDbTgKh",
        "colab_type": "text"
      },
      "source": [
        "<img src=\"https://github.com/wisrovi/03MAIR---Algoritmos-de-Optimizacion---2019/blob/master/Seminario/ternero.jpg?raw=1\">"
      ]
    },
    {
      "cell_type": "markdown",
      "metadata": {
        "id": "eGDB4K6uk1iN",
        "colab_type": "text"
      },
      "source": [
        "(*)Calcula la complejidad del algoritmo "
      ]
    },
    {
      "cell_type": "markdown",
      "metadata": {
        "id": "NhpTh_BPk1ms",
        "colab_type": "text"
      },
      "source": [
        "Respuesta"
      ]
    },
    {
      "cell_type": "code",
      "metadata": {
        "id": "nREzhkStlCq8",
        "colab_type": "code",
        "colab": {}
      },
      "source": [
        ""
      ],
      "execution_count": 0,
      "outputs": []
    },
    {
      "cell_type": "markdown",
      "metadata": {
        "id": "3M6QjTsSkmYe",
        "colab_type": "text"
      },
      "source": [
        "Según el problema (y tenga sentido), diseña un juego de datos de entrada aleatorios"
      ]
    },
    {
      "cell_type": "markdown",
      "metadata": {
        "id": "Jc3_OlyNkvjZ",
        "colab_type": "text"
      },
      "source": [
        "Respuesta"
      ]
    },
    {
      "cell_type": "code",
      "metadata": {
        "id": "sJ-N2etjkyWc",
        "colab_type": "code",
        "colab": {}
      },
      "source": [
        ""
      ],
      "execution_count": 0,
      "outputs": []
    },
    {
      "cell_type": "markdown",
      "metadata": {
        "id": "zy5ZROmjlGo1",
        "colab_type": "text"
      },
      "source": [
        "Aplica el algoritmo al juego de datos generado"
      ]
    },
    {
      "cell_type": "markdown",
      "metadata": {
        "id": "_Cmj-PVylMsa",
        "colab_type": "text"
      },
      "source": [
        "Respuesta"
      ]
    },
    {
      "cell_type": "code",
      "metadata": {
        "id": "Jkx8GeiYlUz1",
        "colab_type": "code",
        "colab": {}
      },
      "source": [
        ""
      ],
      "execution_count": 0,
      "outputs": []
    },
    {
      "cell_type": "markdown",
      "metadata": {
        "colab_type": "text",
        "id": "eTFWUJQrtGcv"
      },
      "source": [
        "Enumera las referencias que has utilizado(si ha sido necesario) para llevar a cabo el trabajo"
      ]
    },
    {
      "cell_type": "markdown",
      "metadata": {
        "id": "YKQ_mRBttWsP",
        "colab_type": "text"
      },
      "source": [
        "Respuesta"
      ]
    },
    {
      "cell_type": "markdown",
      "metadata": {
        "id": "kAkDPUyRtYyH",
        "colab_type": "text"
      },
      "source": [
        "Describe brevemente las lineas de como crees que es posible avanzar en el estudio del problema. Ten en cuenta incluso posibles variaciones del problema y/o variaciones al alza del tamaño"
      ]
    },
    {
      "cell_type": "markdown",
      "metadata": {
        "id": "IE0uZmo-tZu-",
        "colab_type": "text"
      },
      "source": [
        "Respuesta"
      ]
    }
  ]
}