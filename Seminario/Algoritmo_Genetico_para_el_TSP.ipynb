{
  "nbformat": 4,
  "nbformat_minor": 0,
  "metadata": {
    "colab": {
      "name": "Algoritmo Genetico para el TSP.ipynb",
      "provenance": [],
      "collapsed_sections": [],
      "include_colab_link": true
    },
    "kernelspec": {
      "name": "python3",
      "display_name": "Python 3"
    }
  },
  "cells": [
    {
      "cell_type": "markdown",
      "metadata": {
        "id": "view-in-github",
        "colab_type": "text"
      },
      "source": [
        "<a href=\"https://colab.research.google.com/github/wisrovi/03MAIR---Algoritmos-de-Optimizacion---2019/blob/master/Seminario/Algoritmo_Genetico_para_el_TSP.ipynb\" target=\"_parent\"><img src=\"https://colab.research.google.com/assets/colab-badge.svg\" alt=\"Open In Colab\"/></a>"
      ]
    },
    {
      "cell_type": "code",
      "metadata": {
        "id": "phDZ4-u9GaNq",
        "colab_type": "code",
        "colab": {}
      },
      "source": [
        "!pip install requests\n",
        "import urllib.request\n",
        "\n",
        "!pip install tsplib95\n",
        "import tsplib95"
      ],
      "execution_count": 0,
      "outputs": []
    },
    {
      "cell_type": "code",
      "metadata": {
        "id": "XdoTuK6DZMKb",
        "colab_type": "code",
        "colab": {}
      },
      "source": [
        "import random   #Libreria para generar numeros y listas aleatorias\n",
        "import copy     #Permite hacer copias de objetos en python: listas, diccionarios,..."
      ],
      "execution_count": 0,
      "outputs": []
    },
    {
      "cell_type": "code",
      "metadata": {
        "id": "Z-LCc1iNGrYd",
        "colab_type": "code",
        "outputId": "3885f6bb-79c5-43f7-a3f6-cd970c3fa482",
        "colab": {
          "base_uri": "https://localhost:8080/",
          "height": 34
        }
      },
      "source": [
        "#Librerias y carga del problema\n",
        "\n",
        "#http://elib.zib.de/pub/mp-testdata/tsp/tsplib/\n",
        "#Documentacion : \n",
        "  # https://wwwproxy.iwr.uni-heidelberg.de/groups/comopt/software/TSPLIB95/tsp95.pdf\n",
        "  # https://tsplib95.readthedocs.io/usage.html\n",
        "  # https://tsplib95.readthedocs.io/modules.html#module-tsplib95.models\n",
        "\n",
        "#Matriz de distancias\n",
        "file = \"swiss42.tsp\" ; urllib.request.urlretrieve(\"http://elib.zib.de/pub/mp-testdata/tsp/tsplib/tsp/swiss42.tsp\", file)\n",
        "\n",
        "#Objeto de tsplib95 para nuestro problema problema\n",
        "problem = tsplib95.load_problem(file)\n",
        "\n",
        "#Nodos\n",
        "Nodos = list(problem.get_nodes())\n",
        "\n",
        "#Aristas\n",
        "Aristas = list(problem.get_edges())\n",
        "\n",
        "#Coordenadas(si estan disponibles en el ficher)\n",
        "problem.get_display(1)\n",
        "\n",
        "#Distancia \n",
        "problem.wfunc(1, 2)\n",
        "\n",
        "#Matriz de distancias\n",
        "# [ [problem.wfunc(i, j)   for i in  list(problem.get_nodes()) ]  for j in  list(problem.get_nodes()) ]  "
      ],
      "execution_count": 0,
      "outputs": [
        {
          "output_type": "execute_result",
          "data": {
            "text/plain": [
              "34"
            ]
          },
          "metadata": {
            "tags": []
          },
          "execution_count": 14
        }
      ]
    },
    {
      "cell_type": "code",
      "metadata": {
        "id": "dbuLencrYqr6",
        "colab_type": "code",
        "colab": {}
      },
      "source": [
        "#Funciones de la Actividad Guiada 3\n",
        "#Se genera una solucion aleatoria con comienzo en en el nodo 0\n",
        "def crear_solucion(Nodos): \n",
        "  solucion = [Nodos[0]]\n",
        "  for n in Nodos[1:]:\n",
        "    solucion = solucion + [random.choice(list(set(Nodos) - set({Nodos[0]}) - set(solucion)))]\n",
        "  return solucion \n",
        "\n",
        "#Devuelve la distancia entre dos nodos\n",
        "def distancia(a,b, problem):\n",
        "  return problem.wfunc(a,b)\n",
        "\n",
        "\n",
        "#Devuelve la distancia total de una trayectoria/solucion\n",
        "def distancia_total(solucion, problem):\n",
        "  distancia_total = 0\n",
        "  for i in range(len(solucion)-1):\n",
        "    distancia_total += distancia(solucion[i] ,solucion[i+1] ,  problem)\n",
        "  return distancia_total + distancia(solucion[len(solucion)-1] ,solucion[0], problem)"
      ],
      "execution_count": 0,
      "outputs": []
    },
    {
      "cell_type": "code",
      "metadata": {
        "id": "qFRQvqyeY7aZ",
        "colab_type": "code",
        "colab": {}
      },
      "source": [
        "\n",
        " "
      ],
      "execution_count": 0,
      "outputs": []
    },
    {
      "cell_type": "code",
      "metadata": {
        "id": "lS5W7ERIa9Mn",
        "colab_type": "code",
        "colab": {}
      },
      "source": [
        ""
      ],
      "execution_count": 0,
      "outputs": []
    },
    {
      "cell_type": "code",
      "metadata": {
        "id": "c9LuGRUEGbCr",
        "colab_type": "code",
        "colab": {}
      },
      "source": [
        "#Funcion principal del algoritmo genetico\n",
        "#######################################################3\n",
        "def algoritmo_genetico(problem=problem,N=100,mutacion=.15,elitismo=.1,generaciones=100):\n",
        "  # problem = datos del problema\n",
        "  # N = Tamaño de la población\n",
        "  # mutacion = probabilidad de una mutación\n",
        "  # elitismo = porcion de la mejor poblacion a mantener\n",
        "  # generaciones = nº de generaciones a generar para finalizar\n",
        "\n",
        "  #Genera la poblacion inicial\n",
        "  Nodos = list(problem.get_nodes())\n",
        "  poblacion = generar_poblacion(Nodos,N)\n",
        "  \n",
        "  #Inicializamos valores para la mejor solucion\n",
        "  (mejor_solucion, mejor_distancia) = Evaluar_Poblacion(poblacion, problem)\n",
        " \n",
        "  \n",
        "  #Condicion de parada\n",
        "  parar = False\n",
        "  n=0\n",
        "  #Inciamos el cliclo de generaciones\n",
        "  while(parar == False) :\n",
        "    \n",
        "    #Cruce de la poblacion(incluye mutación)\n",
        "    poblacion = Cruzar(poblacion,mutacion, problem)\n",
        "  \n",
        "    #Seleccionamos la población\n",
        "    poblacion = Seleccionar(problem,poblacion, N, elitismo)\n",
        "      \n",
        "    #Evaluamos la nueva población\n",
        "    (mejor_solucion, mejor_distancia) = Evaluar_Poblacion(poblacion, problem)\n",
        "  \n",
        "    print(\"Generacion #\", n, \"\\nLa mejor solución es:\" , mejor_solucion, \"\\ncon distancia \" , mejor_distancia, \"\\n\")\n",
        " \n",
        "    #Numero de generaciones. Criterio de parada\n",
        "    if n==generaciones:\n",
        "      parar = True\n",
        "    n +=1\n",
        "    \n",
        "  return mejor_solucion\n",
        "  \n",
        "#1º intento  :2113\n",
        "#sol = algoritmo_genetico(problem=problem,N=100,mutacion=.15,elitismo=.1,generaciones=200)\n",
        "\n",
        "#2º intento. Aumentamos la poblacion:1654\n",
        "#sol = algoritmo_genetico(problem=problem,N=500,mutacion=.15,elitismo=.1,generaciones=200)\n",
        "\n",
        "#3º intento. Aumentamos las generaciones:2055\n",
        "#sol = algoritmo_genetico(problem=problem,N=500,mutacion=.15,elitismo=.1,generaciones=250)\n",
        "\n",
        "#4º intento. Aumentamos el elitismo: 1728\n",
        "#sol = algoritmo_genetico(problem=problem,N=500,mutacion=.15,elitismo=.40,generaciones=250)\n",
        "\n",
        "#5º intento. Aumentamos la mutacion : 1653\n",
        "#sol = algoritmo_genetico(problem=problem,N=500,mutacion=.3,elitismo=.40,generaciones=250)"
      ],
      "execution_count": 0,
      "outputs": []
    },
    {
      "cell_type": "code",
      "metadata": {
        "id": "YrdWh37POQjM",
        "colab_type": "code",
        "colab": {}
      },
      "source": [
        "#Genera una poblacion inicial de soluciones de tamaño N\n",
        "def generar_poblacion(Nodos,N):\n",
        "  return [crear_solucion(Nodos) for _ in range(N) ]\n",
        "\n",
        "\n",
        "#Evalua la población y devuelve el mejor individuo\n",
        "def Evaluar_Poblacion(poblacion, problem):\n",
        "  mejor_solucion = []\n",
        "  mejor_distancia = 10e100\n",
        "  for p in poblacion:\n",
        "    #print(\"solucion:\", p)\n",
        "    distancia_referencia = distancia_total(p, problem)\n",
        "    if distancia_referencia < mejor_distancia:\n",
        "      mejor_solucion = p\n",
        "      mejor_distancia = distancia_referencia\n",
        "  return mejor_solucion, mejor_distancia   \n",
        "\n",
        "#Funcion de cruce. Recibe una poblacion(lista de soluciones) y devuelve la población ampliada con los hijos.\n",
        "# Todos los individuos de la población son selecionados para el cruce(si la población es par)\n",
        "# Podría aplicarse un proceso previo de selección para elegir los individuos que se desea cruzar.\n",
        "def Cruzar(poblacion,mutacion, problem):\n",
        "  #Definimos en una variable la copia de la población para ir eliminando los padres seleccionados\n",
        "  poblacion_copia = copy.deepcopy(poblacion)\n",
        "\n",
        "  #Definimos en una variable la copia de la población para ir añadiendo los hijos creados\n",
        "  poblacion_final = copy.deepcopy(poblacion)\n",
        "\n",
        "  while len(poblacion_copia) > 1:  #Iteramos mientras haya padres disponibles\n",
        "    #Seleccionamos dos padres\n",
        "    padre1,padre2 = random.sample(poblacion_copia   ,2)\n",
        "    poblacion_copia.remove(padre1)\n",
        "    poblacion_copia.remove(padre2)\n",
        "    poblacion_final.extend(Descendencia([padre1,padre2],problem,mutacion))\n",
        "  return poblacion_final\n",
        "\n",
        "#Funcion para generar hijos a partir de 2 padres:\n",
        "# Se elige el metodo de 1-punto de corte pero es posible usar otros n-puntos, uniforme, dependiendo del problema\n",
        "def Descendencia(padres, problem,mutacion):\n",
        "  #Se elige un punto de corte aleatorio:\n",
        "  pc = random.sample( range(1,len(padres[0])),1)[0]\n",
        "  hijo1 =  Factibilizar(padres[0][:pc] + padres[1][pc:] ,problem) \n",
        "  hijo2 =  Factibilizar(padres[1][:pc] + padres[0][pc:] ,problem)\n",
        "  return [hijo1,hijo2,Mutar(hijo1,mutacion),Mutar(hijo2,mutacion)]\n",
        "\n",
        "#Para el operador de cruce 1-punto los hijos generados no son soluciones(algunos nodos se repiten y otros no están)\n",
        "def Factibilizar(solucion,problem):\n",
        "  Nodos = list(problem.get_nodes())\n",
        "  nodos_desaparecidos = list(set(Nodos) - set(solucion))\n",
        "  #Recorremos todos los nodos, cuando haya uno que ya esté en la lista los cambiamos por uno de la lista de nodos_desaparecidos\n",
        "  for i in range(len(solucion) ):\n",
        "    if solucion[i] in solucion[:i]:\n",
        "      #print(\"\\tSe repite el\",solucion[i] )\n",
        "      #print(\"\\tSe cambia en la posicion \",i , \" \" ,solucion[i] , \" por \", nodos_desaparecidos[0] )\n",
        "      solucion[i] = nodos_desaparecidos.pop(0) #Cambiamos el nodo y a la vez eliminamos el nodo usado de nodos_desaparecidos\n",
        "  return solucion \n",
        "\n",
        "#Funcion de mutación. Se eligen dos nodos y se intercambia. Se podrian añadir otros operaradores\n",
        "# Se hace mutaciones mutacion% de las veces\n",
        "def Mutar(solucion,mutacion):\n",
        "  if random.random() < mutacion:\n",
        "    sel1,sel2 = sorted(random.sample(set(solucion)-{solucion[0]},2))\n",
        "    return solucion[:sel1] + [solucion[sel2]] + solucion[sel1+1:sel2] + [solucion[sel1]]  + solucion[sel2+1:] \n",
        "  else:\n",
        "    return solucion[::] \n",
        "\n",
        "#Funcion de seleccion de la población. Recibe como parametro una poblacion y \n",
        "# devuelve una poblacion a la que se ha eliminado individuos poco aptos(fitness alto) y para mantener una poblacion estable de N individuos\n",
        "#Se tiene en cuenta el porcentaje elitismo pasado como parametro \n",
        "# Para los individuos que no son de la elite podríamos usar una selección de ruleta(proporcional a su fitness)\n",
        "def Seleccionar(problem,poblacion, N, elitismo):\n",
        "  #Se ordena la población según el fitness(tamaño del recorrido) en una lista de elementos [distancia, solucion]\n",
        "  poblacion_ordenada = sorted([ [distancia_total(solucion, problem), solucion] for solucion in poblacion ], key= lambda x:x[0] )\n",
        "\n",
        "  #Devolvemos elitismo% y el resto se eligen aleatoriamente\n",
        "  return [x[1] for x in poblacion_ordenada][:int(N*elitismo)]  + \\\n",
        "  random.sample([x[1] for x in poblacion_ordenada][int(N*elitismo):] , int(N*(1-elitismo))  ) \n",
        "  \n",
        "     "
      ],
      "execution_count": 0,
      "outputs": []
    }
  ]
}