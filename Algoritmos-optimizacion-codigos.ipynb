{
  "nbformat": 4,
  "nbformat_minor": 0,
  "metadata": {
    "colab": {
      "name": "WilliamSteveRodriguezVillamizar_AG2",
      "version": "0.3.2",
      "provenance": [],
      "collapsed_sections": [],
      "include_colab_link": true
    },
    "kernelspec": {
      "name": "python3",
      "display_name": "Python 3"
    }
  },
  "cells": [
    {
      "cell_type": "markdown",
      "metadata": {
        "id": "view-in-github",
        "colab_type": "text"
      },
      "source": [
        "<a href=\"https://colab.research.google.com/github/wisrovi/03MAIR---Algoritmos-de-Optimizacion---2019/blob/master/Algoritmos-optimizacion-codigos.ipynb\" target=\"_parent\"><img src=\"https://colab.research.google.com/assets/colab-badge.svg\" alt=\"Open In Colab\"/></a>"
      ]
    },
    {
      "cell_type": "markdown",
      "metadata": {
        "id": "hVbXYX-RfPWh",
        "colab_type": "text"
      },
      "source": [
        "#  AG1- Actividad Guiada 1<br>\n",
        "Nombre y Apellidos: William Steve Rodriguez Villamizar  <br>\n",
        "Colab: https://colab.research.google.com/github/wisrovi/03MAIR---Algoritmos-de-Optimizacion---2019/blob/master/AG1/WilliamSteveRodriguezVillamizar_AG1.ipynb <br>\n",
        "Url: https://github.com/wisrovi/03MAIR---Algoritmos-de-Optimizacion---2019/blob/master/AG1/WilliamSteveRodriguezVillamizar_AG1.ipynb<br>\n",
        "\n"
      ]
    },
    {
      "cell_type": "code",
      "metadata": {
        "id": "AiskKkzZfy4e",
        "colab_type": "code",
        "colab": {}
      },
      "source": [
        "#Decorador de Ricardo Lebron\n",
        "from functools import wraps\n",
        "from time import time\n",
        "\n",
        "def calcular_tiempo(f):\n",
        "    @wraps(f)\n",
        "    def cronometro(*args, **kwargs):\n",
        "        t_inicial = time() #tomo la hora antes de ejecutar la funcion\n",
        "        salida = f(*args, **kwargs)\n",
        "        t_final = time() #tomo la hora despues de ejecutar la funcion\n",
        "        print('Tiempo transcurrido (en segundos): {}'.format(t_final - t_inicial))\n",
        "        return salida\n",
        "    return cronometro\n",
        "\n",
        "#Decorador de William\n",
        "from functools import wraps\n",
        "def debug(f):\n",
        "    @wraps(f)\n",
        "    def new_function(*args, **kwargs):\n",
        "        print(\"Función {}() invocada!\".format(f.__name__))\n",
        "        return f(*args, **kwargs)\n",
        "    return new_function"
      ],
      "execution_count": 0,
      "outputs": []
    },
    {
      "cell_type": "code",
      "metadata": {
        "id": "8t274gL8NBKB",
        "colab_type": "code",
        "colab": {}
      },
      "source": [
        "def quick_sort(A):\n",
        "    if len(A)==1:\n",
        "        return A\n",
        "    \n",
        "    if len(A)==2:\n",
        "        return [min(A), max (A)]\n",
        "    \n",
        "    pivote = (A[0] + A[1] + A[2])/3\n",
        "    IZQ = []\n",
        "    DER = []\n",
        "    \n",
        "    for i in A:\n",
        "        if i <= pivote:\n",
        "            IZQ.append(i)\n",
        "        else:\n",
        "            DER.append(i)\n",
        "    return quick_sort(IZQ) + quick_sort(DER)\n",
        "  \n",
        "@calcular_tiempo\n",
        "def QS(A):\n",
        "    return quick_sort(A)"
      ],
      "execution_count": 0,
      "outputs": []
    },
    {
      "cell_type": "code",
      "metadata": {
        "id": "yl0TMeiXodNN",
        "colab_type": "code",
        "colab": {}
      },
      "source": [
        "@calcular_tiempo\n",
        "def buble_sort(l):\n",
        "  for i in range(len(l)-1):\n",
        "    for j in range(len(l)-1):\n",
        "      if l[j] > l[j+1]:\n",
        "        l[j],l[j+1]= l[j+1], l[j]\n",
        "  return l"
      ],
      "execution_count": 0,
      "outputs": []
    },
    {
      "cell_type": "code",
      "metadata": {
        "id": "wAEbJ-dH75Uo",
        "colab_type": "code",
        "outputId": "2966c993-cfd4-49fa-aed2-812cc3ce3854",
        "colab": {
          "base_uri": "https://localhost:8080/",
          "height": 156
        }
      },
      "source": [
        "A = [1132, 4322, 8939, 9187, 244, 4054, 9222,8373,5265, 225, 5470, 4519, 3, 18, 729, 7182, 2035, 3506, 4337, 7580, 2554, 2824, 8257, 4447, 7379, 3825, 9263, 1115, 1125]\n",
        "print(\"Quick Sort\",QS(A))\n",
        "print(\"\\n\")\n",
        "\n",
        "print(\"Bubble sort\", buble_sort(A))\n"
      ],
      "execution_count": 39,
      "outputs": [
        {
          "output_type": "stream",
          "text": [
            "Tiempo transcurrido (en segundos): 4.100799560546875e-05\n",
            "Quick Sort [3, 18, 225, 244, 729, 1115, 1125, 1132, 2035, 2554, 2824, 3506, 3825, 4054, 4322, 4337, 4447, 4519, 5265, 5470, 7182, 7379, 7580, 8257, 8373, 8939, 9187, 9222, 9263]\n",
            "\n",
            "\n",
            "Función buble_sort() invocada!\n",
            "Tiempo transcurrido (en segundos): 0.00013756752014160156\n",
            "Bubble sort [3, 18, 225, 244, 729, 1115, 1125, 1132, 2035, 2554, 2824, 3506, 3825, 4054, 4322, 4337, 4447, 4519, 5265, 5470, 7182, 7379, 7580, 8257, 8373, 8939, 9187, 9222, 9263]\n"
          ],
          "name": "stdout"
        }
      ]
    },
    {
      "cell_type": "code",
      "metadata": {
        "id": "OLF3ZcxjpE7S",
        "colab_type": "code",
        "colab": {
          "base_uri": "https://localhost:8080/",
          "height": 289
        },
        "outputId": "8dec5353-9af3-4ed4-8345-bc7c11c5e886"
      },
      "source": [
        "def torres_hanoi(N, desde, hasta):\n",
        "  if N==1:\n",
        "    print(\"Llevar desde \" + str(desde) + \" hasta \" + str(hasta))\n",
        "  else:\n",
        "    torres_hanoi(N-1, desde, 6 - desde - hasta)\n",
        "    print(\"Llevar desde \" + str(desde) + \" hasta \" + str(hasta))\n",
        "    torres_hanoi(N-1, 6 - desde - hasta, hasta)\n",
        "    \n",
        "\n",
        "print(torres_hanoi(4,1,3))\n"
      ],
      "execution_count": 42,
      "outputs": [
        {
          "output_type": "stream",
          "text": [
            "Llevar desde 1 hasta 2\n",
            "Llevar desde 1 hasta 3\n",
            "Llevar desde 2 hasta 3\n",
            "Llevar desde 1 hasta 2\n",
            "Llevar desde 3 hasta 1\n",
            "Llevar desde 3 hasta 2\n",
            "Llevar desde 1 hasta 2\n",
            "Llevar desde 1 hasta 3\n",
            "Llevar desde 2 hasta 3\n",
            "Llevar desde 2 hasta 1\n",
            "Llevar desde 3 hasta 1\n",
            "Llevar desde 2 hasta 3\n",
            "Llevar desde 1 hasta 2\n",
            "Llevar desde 1 hasta 3\n",
            "Llevar desde 2 hasta 3\n",
            "None\n"
          ],
          "name": "stdout"
        }
      ]
    },
    {
      "cell_type": "code",
      "metadata": {
        "id": "Ty2ECtJGBw3m",
        "colab_type": "code",
        "colab": {
          "base_uri": "https://localhost:8080/",
          "height": 238
        },
        "outputId": "680b4de9-0ae3-4de9-f8d5-bda89b7a4cee"
      },
      "source": [
        "def Fibonacci(final, valor = 0, anterior = 0):\n",
        "  if valor <= final:        \n",
        "    print(\"Valor: \", valor)\n",
        "    if valor ==0:\n",
        "      Fibonacci(final, 1, 0)      \n",
        "    else:\n",
        "      Fibonacci(final, valor + anterior, valor)\n",
        "    \n",
        "Fibonacci(200)    \n",
        "  "
      ],
      "execution_count": 49,
      "outputs": [
        {
          "output_type": "stream",
          "text": [
            "Valor:  0\n",
            "Valor:  1\n",
            "Valor:  1\n",
            "Valor:  2\n",
            "Valor:  3\n",
            "Valor:  5\n",
            "Valor:  8\n",
            "Valor:  13\n",
            "Valor:  21\n",
            "Valor:  34\n",
            "Valor:  55\n",
            "Valor:  89\n",
            "Valor:  144\n"
          ],
          "name": "stdout"
        }
      ]
    },
    {
      "cell_type": "code",
      "metadata": {
        "id": "7i2N9VslMZzR",
        "colab_type": "code",
        "colab": {}
      },
      "source": [
        ""
      ],
      "execution_count": 0,
      "outputs": []
    }
  ]
}