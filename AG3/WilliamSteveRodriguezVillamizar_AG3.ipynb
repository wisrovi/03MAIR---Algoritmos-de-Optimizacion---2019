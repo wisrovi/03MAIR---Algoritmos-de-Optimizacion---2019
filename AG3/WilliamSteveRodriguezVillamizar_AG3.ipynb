{
  "nbformat": 4,
  "nbformat_minor": 0,
  "metadata": {
    "colab": {
      "name": "WilliamSteveRodriguezVillamizar_AG2",
      "version": "0.3.2",
      "provenance": [],
      "collapsed_sections": [],
      "include_colab_link": true
    },
    "kernelspec": {
      "name": "python3",
      "display_name": "Python 3"
    }
  },
  "cells": [
    {
      "cell_type": "markdown",
      "metadata": {
        "id": "view-in-github",
        "colab_type": "text"
      },
      "source": [
        "<a href=\"https://colab.research.google.com/github/wisrovi/03MAIR---Algoritmos-de-Optimizacion---2019/blob/master/AG3/WilliamSteveRodriguezVillamizar_AG3.ipynb\" target=\"_parent\"><img src=\"https://colab.research.google.com/assets/colab-badge.svg\" alt=\"Open In Colab\"/></a>"
      ]
    },
    {
      "cell_type": "markdown",
      "metadata": {
        "id": "hVbXYX-RfPWh",
        "colab_type": "text"
      },
      "source": [
        "#  AG3- Actividad Guiada 3<br>\n",
        "\n",
        "Nombre y Apellidos: William Steve Rodriguez Villamizar  <br>\n",
        "\n"
      ]
    },
    {
      "cell_type": "markdown",
      "metadata": {
        "id": "P1iCbFtl_93R",
        "colab_type": "text"
      },
      "source": [
        "Colab: https://colab.research.google.com/github/wisrovi/03MAIR---Algoritmos-de-Optimizacion---2019/blob/master/AG3/WilliamSteveRodriguezVillamizar_AG3.ipynb <br>"
      ]
    },
    {
      "cell_type": "markdown",
      "metadata": {
        "id": "__hhiXIa_-Oc",
        "colab_type": "text"
      },
      "source": [
        "Url: https://github.com/wisrovi/03MAIR---Algoritmos-de-Optimizacion---2019/blob/master/AG3/WilliamSteveRodriguezVillamizar_AG3.ipynb<br>"
      ]
    },
    {
      "cell_type": "code",
      "metadata": {
        "id": "7i2N9VslMZzR",
        "colab_type": "code",
        "outputId": "8c494a57-769e-4187-ea6e-adb636448079",
        "colab": {
          "base_uri": "https://localhost:8080/",
          "height": 530
        }
      },
      "source": [
        "!pip install request\n",
        "!pip install imgaug\n",
        "!pip install tsplib95"
      ],
      "execution_count": 0,
      "outputs": [
        {
          "output_type": "stream",
          "text": [
            "Requirement already satisfied: request in /usr/local/lib/python3.6/dist-packages (2019.4.13)\n",
            "Requirement already satisfied: post in /usr/local/lib/python3.6/dist-packages (from request) (2019.4.13)\n",
            "Requirement already satisfied: setuptools in /usr/local/lib/python3.6/dist-packages (from request) (41.2.0)\n",
            "Requirement already satisfied: get in /usr/local/lib/python3.6/dist-packages (from request) (2019.4.13)\n",
            "Requirement already satisfied: query-string in /usr/local/lib/python3.6/dist-packages (from get->request) (2019.4.13)\n",
            "Requirement already satisfied: public in /usr/local/lib/python3.6/dist-packages (from query-string->get->request) (2019.4.13)\n",
            "Requirement already satisfied: imgaug in /usr/local/lib/python3.6/dist-packages (0.2.9)\n",
            "Requirement already satisfied: six in /usr/local/lib/python3.6/dist-packages (from imgaug) (1.12.0)\n",
            "Requirement already satisfied: scipy in /usr/local/lib/python3.6/dist-packages (from imgaug) (1.3.1)\n",
            "Requirement already satisfied: scikit-image>=0.11.0 in /usr/local/lib/python3.6/dist-packages (from imgaug) (0.15.0)\n",
            "Requirement already satisfied: opencv-python in /usr/local/lib/python3.6/dist-packages (from imgaug) (3.4.5.20)\n",
            "Requirement already satisfied: matplotlib in /usr/local/lib/python3.6/dist-packages (from imgaug) (3.0.3)\n",
            "Requirement already satisfied: numpy>=1.15.0 in /usr/local/lib/python3.6/dist-packages (from imgaug) (1.16.5)\n",
            "Requirement already satisfied: Pillow in /usr/local/lib/python3.6/dist-packages (from imgaug) (4.3.0)\n",
            "Requirement already satisfied: Shapely in /usr/local/lib/python3.6/dist-packages (from imgaug) (1.6.4.post2)\n",
            "Requirement already satisfied: imageio in /usr/local/lib/python3.6/dist-packages (from imgaug) (2.4.1)\n",
            "Requirement already satisfied: networkx>=2.0 in /usr/local/lib/python3.6/dist-packages (from scikit-image>=0.11.0->imgaug) (2.1)\n",
            "Requirement already satisfied: PyWavelets>=0.4.0 in /usr/local/lib/python3.6/dist-packages (from scikit-image>=0.11.0->imgaug) (1.0.3)\n",
            "Requirement already satisfied: pyparsing!=2.0.4,!=2.1.2,!=2.1.6,>=2.0.1 in /usr/local/lib/python3.6/dist-packages (from matplotlib->imgaug) (2.4.2)\n",
            "Requirement already satisfied: python-dateutil>=2.1 in /usr/local/lib/python3.6/dist-packages (from matplotlib->imgaug) (2.5.3)\n",
            "Requirement already satisfied: cycler>=0.10 in /usr/local/lib/python3.6/dist-packages (from matplotlib->imgaug) (0.10.0)\n",
            "Requirement already satisfied: kiwisolver>=1.0.1 in /usr/local/lib/python3.6/dist-packages (from matplotlib->imgaug) (1.1.0)\n",
            "Requirement already satisfied: olefile in /usr/local/lib/python3.6/dist-packages (from Pillow->imgaug) (0.46)\n",
            "Requirement already satisfied: decorator>=4.1.0 in /usr/local/lib/python3.6/dist-packages (from networkx>=2.0->scikit-image>=0.11.0->imgaug) (4.4.0)\n",
            "Requirement already satisfied: setuptools in /usr/local/lib/python3.6/dist-packages (from kiwisolver>=1.0.1->matplotlib->imgaug) (41.2.0)\n",
            "Requirement already satisfied: tsplib95 in /usr/local/lib/python3.6/dist-packages (0.3.3)\n",
            "Requirement already satisfied: Click>=6.0 in /usr/local/lib/python3.6/dist-packages (from tsplib95) (7.0)\n",
            "Requirement already satisfied: networkx==2.1 in /usr/local/lib/python3.6/dist-packages (from tsplib95) (2.1)\n",
            "Requirement already satisfied: decorator>=4.1.0 in /usr/local/lib/python3.6/dist-packages (from networkx==2.1->tsplib95) (4.4.0)\n"
          ],
          "name": "stdout"
        }
      ]
    },
    {
      "cell_type": "code",
      "metadata": {
        "id": "v-1aMb-5sBsK",
        "colab_type": "code",
        "outputId": "2e123ace-d4ce-4d49-b80e-6175c3728bf5",
        "colab": {
          "base_uri": "https://localhost:8080/",
          "height": 34
        }
      },
      "source": [
        "import urllib.request\n",
        "file = \"swiss42.tsp\"\n",
        "\n",
        "urllib.request.urlretrieve(\"http://elib.zib.de/pub/mp-testdata/tsp/tsplib/tsp/swiss42.tsp\", file)"
      ],
      "execution_count": 0,
      "outputs": [
        {
          "output_type": "execute_result",
          "data": {
            "text/plain": [
              "('swiss42.tsp', <http.client.HTTPMessage at 0x7fd4da0a5eb8>)"
            ]
          },
          "metadata": {
            "tags": []
          },
          "execution_count": 2
        }
      ]
    },
    {
      "cell_type": "code",
      "metadata": {
        "id": "tT1JGOpuiCNT",
        "colab_type": "code",
        "colab": {}
      },
      "source": [
        "import tsplib95\n",
        "import random\n",
        "from math import e"
      ],
      "execution_count": 0,
      "outputs": []
    },
    {
      "cell_type": "code",
      "metadata": {
        "id": "eiFcx9xBSZtA",
        "colab_type": "code",
        "outputId": "0cb7520a-3854-4c06-ec9c-8ac7b569b497",
        "colab": {
          "base_uri": "https://localhost:8080/",
          "height": 34
        }
      },
      "source": [
        "problem = tsplib95.load_problem(file)\n",
        "Nodos = list(problem.get_nodes())\n",
        "aristas = list(problem.get_edges())\n",
        "\n",
        "problem.wfunc(0,1)"
      ],
      "execution_count": 0,
      "outputs": [
        {
          "output_type": "execute_result",
          "data": {
            "text/plain": [
              "15"
            ]
          },
          "metadata": {
            "tags": []
          },
          "execution_count": 4
        }
      ]
    },
    {
      "cell_type": "code",
      "metadata": {
        "id": "LENbSQV_SVsj",
        "colab_type": "code",
        "colab": {}
      },
      "source": [
        "def distancia(a,b, problem):\n",
        "  return problem.wfunc(a,b)\n",
        "\n",
        "def crear_solucion(Nodos): \n",
        "  solucion = [0]\n",
        "  for _ in range(len(Nodos)-1):\n",
        "    solucion = solucion + [random.choice(list(set(Nodos) - set({0}) - set(solucion)))]\n",
        "  return solucion \n",
        "\n",
        "def distancia_total(solucion, problem):\n",
        "  distancia_total = 0\n",
        "  for i in range(len(solucion)-1):\n",
        "    distancia_total  += distancia(solucion[i], solucion[i+1], problem)\n",
        "  return distancia_total + distancia(solucion[len(solucion)-1], solucion[0], problem)"
      ],
      "execution_count": 0,
      "outputs": []
    },
    {
      "cell_type": "code",
      "metadata": {
        "id": "Gih9SwjaUKSB",
        "colab_type": "code",
        "outputId": "36cc6ba6-8bea-41ce-b16d-10ae7222ed3e",
        "colab": {
          "base_uri": "https://localhost:8080/",
          "height": 71
        }
      },
      "source": [
        "solucion = crear_solucion(Nodos)\n",
        "\n",
        "print(\"Solución: \", end=\"\")\n",
        "print(solucion)\n",
        "\n",
        "distancia_recorrida = distancia_total(solucion, problem)\n",
        "print(\"Distancia recorrida: \", end=\"\")\n",
        "print(distancia_recorrida)"
      ],
      "execution_count": 0,
      "outputs": [
        {
          "output_type": "stream",
          "text": [
            "Solución: [0, 31, 20, 19, 38, 32, 41, 17, 2, 33, 40, 28, 10, 37, 29, 3, 16, 4, 39, 15, 1, 13, 22, 27, 21, 7, 9, 8, 35, 26, 30, 36, 14, 5, 34, 11, 23, 25, 6, 12, 18, 24]\n",
            "Distancia recorrida: 5211\n"
          ],
          "name": "stdout"
        }
      ]
    },
    {
      "cell_type": "code",
      "metadata": {
        "id": "DbswPTqJtWdz",
        "colab_type": "code",
        "colab": {}
      },
      "source": [
        "def busqueda_aleatoria(problem, N):\n",
        "  Nodos = list(problem.get_nodes())\n",
        "  \n",
        "  mejor_solucion = []\n",
        "  mejor_distancia = 10e100\n",
        "  \n",
        "  for i in range(N):\n",
        "    solucion = crear_solucion(Nodos)\n",
        "    distancia_solucion = distancia_total(solucion, problem)\n",
        "    if distancia_solucion < mejor_distancia:\n",
        "      mejor_solucion =  solucion\n",
        "      mejor_distancia =  distancia_solucion\n",
        "     \n",
        "  #print(\"La mejor solucion encontrada es \", end=\"\")\n",
        "  #print(mejor_solucion)\n",
        "  #print(\"Con una distancia total de \", end=\"\")\n",
        "  #print(mejor_distancia)\n",
        "  #print(mejor_distancia,mejor_solucion )\n",
        "  return mejor_solucion\n"
      ],
      "execution_count": 0,
      "outputs": []
    },
    {
      "cell_type": "code",
      "metadata": {
        "id": "v9fbxZ3FvSxs",
        "colab_type": "code",
        "outputId": "6ad0bdaf-e584-44fe-d685-7a63dec13b93",
        "colab": {
          "base_uri": "https://localhost:8080/",
          "height": 71
        }
      },
      "source": [
        "solucion = busqueda_aleatoria(problem, 100)\n",
        "print(\"Recocido simulado: \", end=\"\")\n",
        "print(solucion)\n",
        "print(\"Distancia: \", end=\"\")\n",
        "print(distancia_total(solucion, problem))"
      ],
      "execution_count": 0,
      "outputs": [
        {
          "output_type": "stream",
          "text": [
            "Recocido simulado: [0, 34, 30, 3, 16, 5, 11, 23, 9, 1, 15, 36, 14, 29, 20, 10, 8, 35, 31, 27, 17, 41, 39, 37, 4, 28, 2, 33, 6, 7, 13, 19, 26, 38, 22, 21, 32, 12, 24, 40, 18, 25]\n",
            "Distancia: 4020\n"
          ],
          "name": "stdout"
        }
      ]
    },
    {
      "cell_type": "code",
      "metadata": {
        "id": "w5kQjNkdviGj",
        "colab_type": "code",
        "colab": {}
      },
      "source": [
        "def generar_vecina(solucion):\n",
        "  mejor_solucion = []\n",
        "  mejor_distancia = 10e10\n",
        "  for i in range(1,len(solucion)-1):\n",
        "    for j in range(i+1,len(solucion)):\n",
        "      vecina = solucion[:i] + [solucion[j]] + solucion[i+1:j] + [solucion[i]] + solucion[j+1:]\n",
        "      distancia_vecina = distancia_total(vecina, problem)\n",
        "      if distancia_vecina <= mejor_distancia:\n",
        "        mejor_distancia = distancia_vecina\n",
        "        mejor_solucion = vecina\n",
        "  return mejor_solucion"
      ],
      "execution_count": 0,
      "outputs": []
    },
    {
      "cell_type": "code",
      "metadata": {
        "id": "R3AKcHzYw25m",
        "colab_type": "code",
        "colab": {}
      },
      "source": [
        "def busqueda_local(problem, N):\n",
        "  mejor_solucion = []\n",
        "  mejor_distancia = 10e100\n",
        "  \n",
        "  Nodos = list(problem.get_nodes())\n",
        "  solucion_referencia = crear_solucion(Nodos)\n",
        "  \n",
        "  for i in range(N):\n",
        "    vecina = generar_vecina(solucion_referencia)\n",
        "    distancia_vecina =  distancia_total(vecina, problem)\n",
        "    if distancia_vecina <= mejor_distancia:\n",
        "        mejor_distancia = distancia_vecina\n",
        "        mejor_solucion = vecina\n",
        "        \n",
        "        solucion_referencia = vecina\n",
        "        \n",
        "  #print(\"La mejor solucion encontrada es \", end=\"\")\n",
        "  #print(mejor_solucion)\n",
        "  #print(\"Con una distancia total de \", end=\"\")\n",
        "  #print(mejor_distancia)\n",
        "  #print(mejor_distancia, mejor_solucion)\n",
        "  return mejor_solucion\n",
        "\n"
      ],
      "execution_count": 0,
      "outputs": []
    },
    {
      "cell_type": "code",
      "metadata": {
        "id": "dKToJYaZjiTj",
        "colab_type": "code",
        "outputId": "2e9b1d36-38c0-4aa7-bd41-4a1cfeeae2ee",
        "colab": {
          "base_uri": "https://localhost:8080/",
          "height": 71
        }
      },
      "source": [
        "solucion = busqueda_local(problem, 1000)\n",
        "print(\"Recocido simulado: \", end=\"\")\n",
        "print(solucion)\n",
        "print(\"Distancia: \", end=\"\")\n",
        "print(distancia_total(solucion, problem))"
      ],
      "execution_count": 0,
      "outputs": [
        {
          "output_type": "stream",
          "text": [
            "Recocido simulado: [0, 32, 34, 33, 20, 31, 7, 2, 8, 41, 23, 9, 21, 40, 24, 39, 22, 38, 35, 36, 17, 37, 15, 16, 14, 6, 4, 26, 5, 19, 13, 18, 12, 11, 25, 10, 29, 30, 28, 27, 3, 1]\n",
            "Distancia: 1602\n"
          ],
          "name": "stdout"
        }
      ]
    },
    {
      "cell_type": "code",
      "metadata": {
        "id": "6a4IDfR42kCV",
        "colab_type": "code",
        "colab": {}
      },
      "source": [
        "def probabilidad(T,d):\n",
        "  r = random.random()\n",
        "  if r >= (e**(-1*d)/((T*0.5*10**(-5)))):\n",
        "    return True\n",
        "  else:\n",
        "    return False\n",
        "  \n",
        "def bajar_temperatura(T):\n",
        "  return T*0.9"
      ],
      "execution_count": 0,
      "outputs": []
    },
    {
      "cell_type": "code",
      "metadata": {
        "id": "BqZVj3iXXxmF",
        "colab_type": "code",
        "colab": {}
      },
      "source": [
        "def recocido_simulado(problem, TEMPERATURA):\n",
        "  solucion_referencia = crear_solucion(Nodos)\n",
        "  distancia_referencia = distancia_total(solucion_referencia, problem)\n",
        "  \n",
        "  mejor_solucion = []\n",
        "  mejor_distancia = 10e100\n",
        "  \n",
        "  while(TEMPERATURA > 1):\n",
        "    #print(\"#Temperatura: \", TEMPERATURA, \" Fitness: \" , mejor_distancia)\n",
        "    vecina = generar_vecina(solucion_referencia)\n",
        "    distancia_vecina =  distancia_total(vecina, problem)\n",
        "    \n",
        "    if distancia_vecina < mejor_distancia:\n",
        "        mejor_distancia = distancia_vecina\n",
        "        mejor_solucion = vecina\n",
        "        \n",
        "    if distancia_vecina < distancia_referencia or probabilidad(TEMPERATURA, abs(distancia_referencia - distancia_vecina)):\n",
        "        solucion_referencia = vecina\n",
        "        distancia_referencia = distancia_vecina\n",
        "        \n",
        "    TEMPERATURA = bajar_temperatura(TEMPERATURA)\n",
        "    \n",
        "  #print(mejor_distancia, mejor_solucion )\n",
        "\n",
        "  return mejor_solucion\n",
        "    "
      ],
      "execution_count": 0,
      "outputs": []
    },
    {
      "cell_type": "code",
      "metadata": {
        "id": "qK2bqsCVJ8hR",
        "colab_type": "code",
        "outputId": "b00e6490-4e0a-43e9-96e0-a1298ca99e24",
        "colab": {
          "base_uri": "https://localhost:8080/",
          "height": 71
        }
      },
      "source": [
        "solucion = recocido_simulado(problem, 10000)\n",
        "print(\"Recocido simulado: \", end=\"\")\n",
        "print(solucion)\n",
        "print(\"Distancia: \", end=\"\")\n",
        "print(distancia_total(solucion, problem))"
      ],
      "execution_count": 0,
      "outputs": [
        {
          "output_type": "stream",
          "text": [
            "Recocido simulado: [0, 27, 28, 34, 33, 35, 36, 32, 30, 29, 8, 23, 41, 10, 18, 26, 4, 2, 12, 11, 25, 9, 21, 40, 24, 39, 22, 38, 20, 31, 17, 1, 7, 37, 15, 16, 14, 19, 13, 5, 6, 3]\n",
            "Distancia: 1731\n"
          ],
          "name": "stdout"
        }
      ]
    },
    {
      "cell_type": "code",
      "metadata": {
        "id": "tBAMHF6Y4uyn",
        "colab_type": "code",
        "colab": {}
      },
      "source": [
        "def Add_Nodo(problem, H, T):\n",
        "  Nodos = list(problem.get_nodes())\n",
        "  return random.choice(     list(set(range(1, len(Nodos))) - set(H)))\n",
        "  \n",
        "def Incrementa_Feromona(problem, T, H):\n",
        "  for i in range(len(H)-1):\n",
        "    T[H[i]][H[i+1]] += 1000/distancia_total(H, problem)\n",
        "  return T\n",
        "\n",
        "def Evaporar_Feromonas(T):\n",
        "  T = [[max(T[i][j] - 0.3, 1) for i in range(len(Nodos)) ] for j in range(len(Nodos))  ]\n",
        "  return T\n",
        "\n",
        "def hormigas(problem, N):\n",
        "  Nodos = list(problem.get_nodes())\n",
        "  Aristas = list(problem.get_edges())\n",
        "  \n",
        "  T = [[1 for _ in range(len(Nodos))] for _ in range(len(Nodos))]\n",
        "  \n",
        "  Hormiga = [[0] for _ in range(N)]\n",
        "  \n",
        "  for h in range(N):\n",
        "    for i in range(len(Nodos)-1):\n",
        "      Nuevo_Nodo = Add_Nodo(problem, Hormiga[h], T)\n",
        "      Hormiga[h].append(Nuevo_Nodo)\n",
        "    \n",
        "    T = Incrementa_Feromona(problem, T, Hormiga[h])\n",
        "    \n",
        "    T = Evaporar_Feromonas(T)    \n",
        "  \n",
        "  mejor_solucion = []\n",
        "  mejor_distancia = 10e100  \n",
        "  for h in range(N):\n",
        "    distancia_actual = distancia_total(Hormiga[h], problem)\n",
        "    if distancia_actual < mejor_distancia:\n",
        "      mejor_solucion = Hormiga[h]\n",
        "      mejor_distancia = distancia_actual\n",
        "      \n",
        "  #print(mejor_distancia, mejor_solucion )\n",
        "  return mejor_solucion"
      ],
      "execution_count": 0,
      "outputs": []
    },
    {
      "cell_type": "code",
      "metadata": {
        "id": "7VkjvaT4ZaAA",
        "colab_type": "code",
        "outputId": "bd3edce7-b17a-4fd9-e63a-8cbaf2f48c24",
        "colab": {
          "base_uri": "https://localhost:8080/",
          "height": 71
        }
      },
      "source": [
        "solucion = hormigas(problem, 1000)\n",
        "print(\"Colonia hormigas: \", end=\"\")\n",
        "print(solucion)\n",
        "print(\"Distancia: \", end=\"\")\n",
        "print(distancia_total(solucion, problem))"
      ],
      "execution_count": 0,
      "outputs": [
        {
          "output_type": "stream",
          "text": [
            "Colonia hormigas: [0, 4, 18, 39, 21, 40, 23, 20, 31, 16, 14, 27, 33, 37, 6, 13, 5, 12, 24, 35, 11, 26, 29, 10, 8, 9, 15, 28, 2, 41, 1, 34, 38, 22, 32, 36, 17, 7, 30, 25, 3, 19]\n",
            "Distancia: 3772\n"
          ],
          "name": "stdout"
        }
      ]
    },
    {
      "cell_type": "code",
      "metadata": {
        "id": "Vqeat90LAaZV",
        "colab_type": "code",
        "colab": {}
      },
      "source": [
        ""
      ],
      "execution_count": 0,
      "outputs": []
    }
  ]
}