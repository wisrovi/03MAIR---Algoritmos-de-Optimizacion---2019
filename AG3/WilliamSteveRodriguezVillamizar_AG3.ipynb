{
  "nbformat": 4,
  "nbformat_minor": 0,
  "metadata": {
    "colab": {
      "name": "WilliamSteveRodriguezVillamizar_AG2",
      "version": "0.3.2",
      "provenance": [],
      "collapsed_sections": [],
      "include_colab_link": true
    },
    "kernelspec": {
      "name": "python3",
      "display_name": "Python 3"
    }
  },
  "cells": [
    {
      "cell_type": "markdown",
      "metadata": {
        "id": "view-in-github",
        "colab_type": "text"
      },
      "source": [
        "<a href=\"https://colab.research.google.com/github/wisrovi/03MAIR---Algoritmos-de-Optimizacion---2019/blob/master/AG3/WilliamSteveRodriguezVillamizar_AG3.ipynb\" target=\"_parent\"><img src=\"https://colab.research.google.com/assets/colab-badge.svg\" alt=\"Open In Colab\"/></a>"
      ]
    },
    {
      "cell_type": "markdown",
      "metadata": {
        "id": "hVbXYX-RfPWh",
        "colab_type": "text"
      },
      "source": [
        "#  AG3- Actividad Guiada 3<br>\n",
        "\n",
        "Nombre y Apellidos: William Steve Rodriguez Villamizar  <br>\n",
        "\n"
      ]
    },
    {
      "cell_type": "markdown",
      "metadata": {
        "id": "P1iCbFtl_93R",
        "colab_type": "text"
      },
      "source": [
        "Colab: https://colab.research.google.com/github/wisrovi/03MAIR---Algoritmos-de-Optimizacion---2019/blob/master/AG3/WilliamSteveRodriguezVillamizar_AG3.ipynb <br>"
      ]
    },
    {
      "cell_type": "markdown",
      "metadata": {
        "id": "__hhiXIa_-Oc",
        "colab_type": "text"
      },
      "source": [
        "Url: https://github.com/wisrovi/03MAIR---Algoritmos-de-Optimizacion---2019/blob/master/AG3/WilliamSteveRodriguezVillamizar_AG3.ipynb<br>"
      ]
    },
    {
      "cell_type": "code",
      "metadata": {
        "id": "7i2N9VslMZzR",
        "colab_type": "code",
        "outputId": "dbd9887b-6ae9-48ec-dc5f-9f47a94cb0ab",
        "colab": {
          "base_uri": "https://localhost:8080/",
          "height": 1000
        }
      },
      "source": [
        "!pip install request\n",
        "!pip install imgaug\n",
        "!pip install tsplib95"
      ],
      "execution_count": 1,
      "outputs": [
        {
          "output_type": "stream",
          "text": [
            "Collecting request\n",
            "  Downloading https://files.pythonhosted.org/packages/f1/27/7cbde262d854aedf217061a97020d66a63163c5c04e0ec02ff98c5d8f44e/request-2019.4.13.tar.gz\n",
            "Collecting get (from request)\n",
            "  Downloading https://files.pythonhosted.org/packages/3f/ef/bb46f77f7220ac1b7edba0c76d810c89fddb24ddd8c08f337b9b4a618db7/get-2019.4.13.tar.gz\n",
            "Collecting post (from request)\n",
            "  Downloading https://files.pythonhosted.org/packages/0f/05/bd79da5849ea6a92485ed7029ef97b1b75e55c26bc0ed3a7ec769af666f3/post-2019.4.13.tar.gz\n",
            "Requirement already satisfied: setuptools in /usr/local/lib/python3.6/dist-packages (from request) (41.2.0)\n",
            "Collecting query_string (from get->request)\n",
            "  Downloading https://files.pythonhosted.org/packages/12/3c/412a45daf5bea9b1d06d7de41787ec4168001dfa418db7ec8723356b119f/query-string-2019.4.13.tar.gz\n",
            "Collecting public (from query_string->get->request)\n",
            "  Downloading https://files.pythonhosted.org/packages/54/4d/b40004cc6c07665e48af22cfe1e631f219bf4282e15fa76a5b6364f6885c/public-2019.4.13.tar.gz\n",
            "Building wheels for collected packages: request, get, post, query-string, public\n",
            "  Building wheel for request (setup.py) ... \u001b[?25l\u001b[?25hdone\n",
            "  Created wheel for request: filename=request-2019.4.13-cp36-none-any.whl size=1676 sha256=e159f889dd950a25ba0c9fdc356130ad017bb4c7f2ead513c231ffb21a755244\n",
            "  Stored in directory: /root/.cache/pip/wheels/30/84/5f/484cfba678967ef58c16fce6890925d5c7172622f20111fbfd\n",
            "  Building wheel for get (setup.py) ... \u001b[?25l\u001b[?25hdone\n",
            "  Created wheel for get: filename=get-2019.4.13-cp36-none-any.whl size=1692 sha256=ccfaeaa6a55b595245c011898fe51e3469ff5a6fa8543efa6a19ba64c009671b\n",
            "  Stored in directory: /root/.cache/pip/wheels/c1/e3/c1/d02c8c58538853e4c9b78cadb74f6d5c5c370b48a69a7271aa\n",
            "  Building wheel for post (setup.py) ... \u001b[?25l\u001b[?25hdone\n",
            "  Created wheel for post: filename=post-2019.4.13-cp36-none-any.whl size=1661 sha256=28798df1207866be8b4c59a29214af00ed7ddcf6ddb462f4cb9c3f4d7b9cf703\n",
            "  Stored in directory: /root/.cache/pip/wheels/c3/c3/24/b5c132b537ab380c02d69e6bd4dec1f5db56b5fe19030473d7\n",
            "  Building wheel for query-string (setup.py) ... \u001b[?25l\u001b[?25hdone\n",
            "  Created wheel for query-string: filename=query_string-2019.4.13-cp36-none-any.whl size=2049 sha256=f0d792631eab28fd597b25162c4d7c1ca797988ccb6f86475b5339a0ad7945e5\n",
            "  Stored in directory: /root/.cache/pip/wheels/d6/a4/78/01b20a9dc224dcc009fab669f7f27b943b8889c5150bd68d8a\n",
            "  Building wheel for public (setup.py) ... \u001b[?25l\u001b[?25hdone\n",
            "  Created wheel for public: filename=public-2019.4.13-cp36-none-any.whl size=2536 sha256=3eb910460316e1c79adee8264794456eedc5cd3669f4501c10648eb9c036ac86\n",
            "  Stored in directory: /root/.cache/pip/wheels/23/7c/6e/f5b4e09d6596c8b8802b347e48f149031e2363368048f1347a\n",
            "Successfully built request get post query-string public\n",
            "Installing collected packages: public, query-string, get, post, request\n",
            "Successfully installed get-2019.4.13 post-2019.4.13 public-2019.4.13 query-string-2019.4.13 request-2019.4.13\n",
            "Requirement already satisfied: imgaug in /usr/local/lib/python3.6/dist-packages (0.2.9)\n",
            "Requirement already satisfied: numpy>=1.15.0 in /usr/local/lib/python3.6/dist-packages (from imgaug) (1.16.5)\n",
            "Requirement already satisfied: Pillow in /usr/local/lib/python3.6/dist-packages (from imgaug) (4.3.0)\n",
            "Requirement already satisfied: matplotlib in /usr/local/lib/python3.6/dist-packages (from imgaug) (3.0.3)\n",
            "Requirement already satisfied: six in /usr/local/lib/python3.6/dist-packages (from imgaug) (1.12.0)\n",
            "Requirement already satisfied: Shapely in /usr/local/lib/python3.6/dist-packages (from imgaug) (1.6.4.post2)\n",
            "Requirement already satisfied: scipy in /usr/local/lib/python3.6/dist-packages (from imgaug) (1.3.1)\n",
            "Requirement already satisfied: imageio in /usr/local/lib/python3.6/dist-packages (from imgaug) (2.4.1)\n",
            "Requirement already satisfied: opencv-python in /usr/local/lib/python3.6/dist-packages (from imgaug) (3.4.5.20)\n",
            "Requirement already satisfied: scikit-image>=0.11.0 in /usr/local/lib/python3.6/dist-packages (from imgaug) (0.15.0)\n",
            "Requirement already satisfied: olefile in /usr/local/lib/python3.6/dist-packages (from Pillow->imgaug) (0.46)\n",
            "Requirement already satisfied: python-dateutil>=2.1 in /usr/local/lib/python3.6/dist-packages (from matplotlib->imgaug) (2.5.3)\n",
            "Requirement already satisfied: cycler>=0.10 in /usr/local/lib/python3.6/dist-packages (from matplotlib->imgaug) (0.10.0)\n",
            "Requirement already satisfied: pyparsing!=2.0.4,!=2.1.2,!=2.1.6,>=2.0.1 in /usr/local/lib/python3.6/dist-packages (from matplotlib->imgaug) (2.4.2)\n",
            "Requirement already satisfied: kiwisolver>=1.0.1 in /usr/local/lib/python3.6/dist-packages (from matplotlib->imgaug) (1.1.0)\n",
            "Requirement already satisfied: networkx>=2.0 in /usr/local/lib/python3.6/dist-packages (from scikit-image>=0.11.0->imgaug) (2.3)\n",
            "Requirement already satisfied: PyWavelets>=0.4.0 in /usr/local/lib/python3.6/dist-packages (from scikit-image>=0.11.0->imgaug) (1.0.3)\n",
            "Requirement already satisfied: setuptools in /usr/local/lib/python3.6/dist-packages (from kiwisolver>=1.0.1->matplotlib->imgaug) (41.2.0)\n",
            "Requirement already satisfied: decorator>=4.3.0 in /usr/local/lib/python3.6/dist-packages (from networkx>=2.0->scikit-image>=0.11.0->imgaug) (4.4.0)\n",
            "Collecting tsplib95\n",
            "  Downloading https://files.pythonhosted.org/packages/90/9f/5fbf6118d00719cc4688b175a04da09b89c3780db6b0c55bc646a20a6a07/tsplib95-0.3.3-py2.py3-none-any.whl\n",
            "Requirement already satisfied: Click>=6.0 in /usr/local/lib/python3.6/dist-packages (from tsplib95) (7.0)\n",
            "Collecting networkx==2.1 (from tsplib95)\n",
            "\u001b[?25l  Downloading https://files.pythonhosted.org/packages/11/42/f951cc6838a4dff6ce57211c4d7f8444809ccbe2134179950301e5c4c83c/networkx-2.1.zip (1.6MB)\n",
            "\u001b[K     |████████████████████████████████| 1.6MB 4.1MB/s \n",
            "\u001b[?25hRequirement already satisfied: decorator>=4.1.0 in /usr/local/lib/python3.6/dist-packages (from networkx==2.1->tsplib95) (4.4.0)\n",
            "Building wheels for collected packages: networkx\n",
            "  Building wheel for networkx (setup.py) ... \u001b[?25l\u001b[?25hdone\n",
            "  Created wheel for networkx: filename=networkx-2.1-py2.py3-none-any.whl size=1447766 sha256=632a33349f7e15cd045cdbf53494ddaad40e07f0d3904496615958ca09fd8185\n",
            "  Stored in directory: /root/.cache/pip/wheels/44/c0/34/6f98693a554301bdb405f8d65d95bbcd3e50180cbfdd98a94e\n",
            "Successfully built networkx\n",
            "\u001b[31mERROR: albumentations 0.1.12 has requirement imgaug<0.2.7,>=0.2.5, but you'll have imgaug 0.2.9 which is incompatible.\u001b[0m\n",
            "Installing collected packages: networkx, tsplib95\n",
            "  Found existing installation: networkx 2.3\n",
            "    Uninstalling networkx-2.3:\n",
            "      Successfully uninstalled networkx-2.3\n",
            "Successfully installed networkx-2.1 tsplib95-0.3.3\n"
          ],
          "name": "stdout"
        }
      ]
    },
    {
      "cell_type": "code",
      "metadata": {
        "id": "v-1aMb-5sBsK",
        "colab_type": "code",
        "outputId": "2291201e-58b9-434e-919d-7b8a079007a8",
        "colab": {
          "base_uri": "https://localhost:8080/",
          "height": 34
        }
      },
      "source": [
        "import urllib.request\n",
        "file = \"swiss42.tsp\"\n",
        "\n",
        "urllib.request.urlretrieve(\"http://elib.zib.de/pub/mp-testdata/tsp/tsplib/tsp/swiss42.tsp\", file)"
      ],
      "execution_count": 2,
      "outputs": [
        {
          "output_type": "execute_result",
          "data": {
            "text/plain": [
              "('swiss42.tsp', <http.client.HTTPMessage at 0x7f18d3c6b7b8>)"
            ]
          },
          "metadata": {
            "tags": []
          },
          "execution_count": 2
        }
      ]
    },
    {
      "cell_type": "code",
      "metadata": {
        "id": "tT1JGOpuiCNT",
        "colab_type": "code",
        "colab": {}
      },
      "source": [
        "import tsplib95\n",
        "import random\n",
        "from math import e"
      ],
      "execution_count": 0,
      "outputs": []
    },
    {
      "cell_type": "code",
      "metadata": {
        "id": "eiFcx9xBSZtA",
        "colab_type": "code",
        "outputId": "775f24ae-d3dd-4d92-c66c-d6cdffe299a4",
        "colab": {
          "base_uri": "https://localhost:8080/",
          "height": 34
        }
      },
      "source": [
        "problem = tsplib95.load_problem(file)\n",
        "Nodos = list(problem.get_nodes())\n",
        "aristas = list(problem.get_edges())\n",
        "\n",
        "problem.wfunc(0,1)"
      ],
      "execution_count": 4,
      "outputs": [
        {
          "output_type": "execute_result",
          "data": {
            "text/plain": [
              "15"
            ]
          },
          "metadata": {
            "tags": []
          },
          "execution_count": 4
        }
      ]
    },
    {
      "cell_type": "code",
      "metadata": {
        "id": "LENbSQV_SVsj",
        "colab_type": "code",
        "colab": {}
      },
      "source": [
        "def distancia(a,b, problem):\n",
        "  return problem.wfunc(a,b)\n",
        "\n",
        "def crear_solucion(Nodos): \n",
        "  solucion = [0]\n",
        "  for _ in range(len(Nodos)-1):\n",
        "    solucion = solucion + [random.choice(list(set(Nodos) - set({0}) - set(solucion)))]\n",
        "  return solucion \n",
        "\n",
        "def distancia_total(solucion, problem):\n",
        "  distancia_total = 0\n",
        "  for i in range(len(solucion)-1):\n",
        "    distancia_total  += distancia(solucion[i], solucion[i+1], problem)\n",
        "  return distancia_total + distancia(solucion[len(solucion)-1], solucion[0], problem)"
      ],
      "execution_count": 0,
      "outputs": []
    },
    {
      "cell_type": "code",
      "metadata": {
        "id": "Gih9SwjaUKSB",
        "colab_type": "code",
        "outputId": "39d824f9-8103-442a-fd7e-dcf842a8b8ce",
        "colab": {
          "base_uri": "https://localhost:8080/",
          "height": 71
        }
      },
      "source": [
        "solucion = crear_solucion(Nodos)\n",
        "\n",
        "print(\"Solución: \", end=\"\")\n",
        "print(solucion)\n",
        "\n",
        "distancia_recorrida = distancia_total(solucion, problem)\n",
        "print(\"Distancia recorrida: \", end=\"\")\n",
        "print(distancia_recorrida)"
      ],
      "execution_count": 6,
      "outputs": [
        {
          "output_type": "stream",
          "text": [
            "Solución: [0, 6, 29, 32, 11, 13, 5, 16, 17, 36, 20, 37, 22, 39, 3, 28, 27, 7, 34, 4, 10, 33, 30, 8, 31, 14, 1, 38, 19, 35, 9, 12, 40, 18, 23, 21, 15, 25, 26, 2, 24, 41]\n",
            "Distancia recorrida: 4427\n"
          ],
          "name": "stdout"
        }
      ]
    },
    {
      "cell_type": "code",
      "metadata": {
        "id": "DbswPTqJtWdz",
        "colab_type": "code",
        "colab": {}
      },
      "source": [
        "def busqueda_aleatoria(problem, N):\n",
        "  Nodos = list(problem.get_nodes())\n",
        "  \n",
        "  mejor_solucion = []\n",
        "  mejor_distancia = 10e100\n",
        "  \n",
        "  for i in range(N):\n",
        "    solucion = crear_solucion(Nodos)\n",
        "    distancia_solucion = distancia_total(solucion, problem)\n",
        "    if distancia_solucion < mejor_distancia:\n",
        "      mejor_solucion =  solucion\n",
        "      mejor_distancia =  distancia_solucion\n",
        "     \n",
        "  #print(\"La mejor solucion encontrada es \", end=\"\")\n",
        "  #print(mejor_solucion)\n",
        "  #print(\"Con una distancia total de \", end=\"\")\n",
        "  #print(mejor_distancia)\n",
        "  #print(mejor_distancia,mejor_solucion )\n",
        "  return mejor_solucion\n"
      ],
      "execution_count": 0,
      "outputs": []
    },
    {
      "cell_type": "code",
      "metadata": {
        "id": "v9fbxZ3FvSxs",
        "colab_type": "code",
        "outputId": "699115b4-ef15-4b23-b5c6-4c9bd18a1971",
        "colab": {
          "base_uri": "https://localhost:8080/",
          "height": 71
        }
      },
      "source": [
        "solucion = busqueda_aleatoria(problem, 100)\n",
        "print(\"Recocido simulado: \", end=\"\")\n",
        "print(solucion)\n",
        "print(\"Distancia: \", end=\"\")\n",
        "print(distancia_total(solucion, problem))"
      ],
      "execution_count": 8,
      "outputs": [
        {
          "output_type": "stream",
          "text": [
            "Recocido simulado: [0, 7, 30, 15, 25, 24, 35, 36, 38, 14, 4, 6, 27, 26, 3, 29, 16, 33, 32, 28, 34, 18, 5, 11, 41, 10, 37, 17, 1, 20, 19, 12, 8, 9, 40, 21, 39, 2, 23, 13, 31, 22]\n",
            "Distancia: 4098\n"
          ],
          "name": "stdout"
        }
      ]
    },
    {
      "cell_type": "code",
      "metadata": {
        "id": "w5kQjNkdviGj",
        "colab_type": "code",
        "colab": {}
      },
      "source": [
        "def generar_vecina(solucion):\n",
        "  mejor_solucion = []\n",
        "  mejor_distancia = 10e10\n",
        "  for i in range(1,len(solucion)-1):\n",
        "    for j in range(i+1,len(solucion)):\n",
        "      vecina = solucion[:i] + [solucion[j]] + solucion[i+1:j] + [solucion[i]] + solucion[j+1:]\n",
        "      distancia_vecina = distancia_total(vecina, problem)\n",
        "      if distancia_vecina <= mejor_distancia:\n",
        "        mejor_distancia = distancia_vecina\n",
        "        mejor_solucion = vecina\n",
        "  return mejor_solucion"
      ],
      "execution_count": 0,
      "outputs": []
    },
    {
      "cell_type": "code",
      "metadata": {
        "id": "R3AKcHzYw25m",
        "colab_type": "code",
        "colab": {}
      },
      "source": [
        "def busqueda_local(problem, N):\n",
        "  mejor_solucion = []\n",
        "  mejor_distancia = 10e100\n",
        "  \n",
        "  Nodos = list(problem.get_nodes())\n",
        "  solucion_referencia = crear_solucion(Nodos)\n",
        "  \n",
        "  for i in range(N):\n",
        "    vecina = generar_vecina(solucion_referencia)\n",
        "    distancia_vecina =  distancia_total(vecina, problem)\n",
        "    if distancia_vecina <= mejor_distancia:\n",
        "        mejor_distancia = distancia_vecina\n",
        "        mejor_solucion = vecina\n",
        "        \n",
        "        solucion_referencia = vecina\n",
        "        \n",
        "  #print(\"La mejor solucion encontrada es \", end=\"\")\n",
        "  #print(mejor_solucion)\n",
        "  #print(\"Con una distancia total de \", end=\"\")\n",
        "  #print(mejor_distancia)\n",
        "  #print(mejor_distancia, mejor_solucion)\n",
        "  return mejor_solucion\n",
        "\n"
      ],
      "execution_count": 0,
      "outputs": []
    },
    {
      "cell_type": "code",
      "metadata": {
        "id": "dKToJYaZjiTj",
        "colab_type": "code",
        "outputId": "f8ce375d-e2c0-40fb-a8cb-b87351a4c008",
        "colab": {
          "base_uri": "https://localhost:8080/",
          "height": 71
        }
      },
      "source": [
        "solucion = busqueda_local(problem, 1000)\n",
        "print(\"Recocido simulado: \", end=\"\")\n",
        "print(solucion)\n",
        "print(\"Distancia: \", end=\"\")\n",
        "print(distancia_total(solucion, problem))"
      ],
      "execution_count": 11,
      "outputs": [
        {
          "output_type": "stream",
          "text": [
            "Recocido simulado: [0, 1, 3, 2, 27, 31, 17, 36, 35, 20, 33, 34, 32, 30, 10, 25, 11, 12, 15, 37, 7, 18, 41, 23, 40, 24, 38, 22, 39, 21, 9, 8, 29, 28, 4, 6, 26, 5, 13, 19, 16, 14]\n",
            "Distancia: 1765\n"
          ],
          "name": "stdout"
        }
      ]
    },
    {
      "cell_type": "code",
      "metadata": {
        "id": "6a4IDfR42kCV",
        "colab_type": "code",
        "colab": {}
      },
      "source": [
        "def probabilidad(T,d):\n",
        "  r = random.random()\n",
        "  if r >= (e**(-1*d)/((T*0.5*10**(-5)))):\n",
        "    return True\n",
        "  else:\n",
        "    return False\n",
        "  \n",
        "def bajar_temperatura(T):\n",
        "  return T*0.9"
      ],
      "execution_count": 0,
      "outputs": []
    },
    {
      "cell_type": "code",
      "metadata": {
        "id": "BqZVj3iXXxmF",
        "colab_type": "code",
        "colab": {}
      },
      "source": [
        "def recocido_simulado(problem, TEMPERATURA):\n",
        "  solucion_referencia = crear_solucion(Nodos)\n",
        "  distancia_referencia = distancia_total(solucion_referencia, problem)\n",
        "  \n",
        "  mejor_solucion = []\n",
        "  mejor_distancia = 10e100\n",
        "  \n",
        "  while(TEMPERATURA > 1):\n",
        "    #print(\"#Temperatura: \", TEMPERATURA, \" Fitness: \" , mejor_distancia)\n",
        "    vecina = generar_vecina(solucion_referencia)\n",
        "    distancia_vecina =  distancia_total(vecina, problem)\n",
        "    \n",
        "    if distancia_vecina < mejor_distancia:\n",
        "        mejor_distancia = distancia_vecina\n",
        "        mejor_solucion = vecina\n",
        "        \n",
        "    if distancia_vecina < distancia_referencia or probabilidad(TEMPERATURA, abs(distancia_referencia - distancia_vecina)):\n",
        "        solucion_referencia = vecina\n",
        "        distancia_referencia = distancia_vecina\n",
        "        \n",
        "    TEMPERATURA = bajar_temperatura(TEMPERATURA)\n",
        "    \n",
        "  #print(mejor_distancia, mejor_solucion )\n",
        "\n",
        "  return mejor_solucion\n",
        "    "
      ],
      "execution_count": 0,
      "outputs": []
    },
    {
      "cell_type": "code",
      "metadata": {
        "id": "qK2bqsCVJ8hR",
        "colab_type": "code",
        "outputId": "a75d16a0-4882-4ea4-c12b-36df45d1b853",
        "colab": {
          "base_uri": "https://localhost:8080/",
          "height": 71
        }
      },
      "source": [
        "solucion = recocido_simulado(problem, 10000)\n",
        "print(\"Recocido simulado: \", end=\"\")\n",
        "print(solucion)\n",
        "print(\"Distancia: \", end=\"\")\n",
        "print(distancia_total(solucion, problem))"
      ],
      "execution_count": 14,
      "outputs": [
        {
          "output_type": "stream",
          "text": [
            "Recocido simulado: [0, 1, 10, 25, 11, 12, 18, 26, 2, 27, 3, 4, 6, 5, 13, 19, 16, 36, 35, 20, 33, 34, 30, 38, 22, 39, 21, 9, 8, 41, 23, 40, 24, 29, 28, 7, 14, 15, 37, 17, 31, 32]\n",
            "Distancia: 1681\n"
          ],
          "name": "stdout"
        }
      ]
    },
    {
      "cell_type": "code",
      "metadata": {
        "id": "tBAMHF6Y4uyn",
        "colab_type": "code",
        "colab": {}
      },
      "source": [
        "def Add_Nodo(problem, H, T):\n",
        "  Nodos = list(problem.get_nodes())\n",
        "  return random.choice(     list(set(range(1, len(Nodos))) - set(H)))\n",
        "  \n",
        "def Incrementa_Feromona(problem, T, H):\n",
        "  for i in range(len(H)-1):\n",
        "    T[H[i]][H[i+1]] += 1000/distancia_total(H, problem)\n",
        "  return T\n",
        "\n",
        "def Evaporar_Feromonas(T):\n",
        "  T = [[max(T[i][j] - 0.3, 1) for i in range(len(Nodos)) ] for j in range(len(Nodos))  ]\n",
        "  return T\n",
        "\n",
        "def hormigas(problem, N):\n",
        "  Nodos = list(problem.get_nodes())\n",
        "  Aristas = list(problem.get_edges())\n",
        "  \n",
        "  T = [[1 for _ in range(len(Nodos))] for _ in range(len(Nodos))]\n",
        "  \n",
        "  Hormiga = [[0] for _ in range(N)]\n",
        "  \n",
        "  for h in range(N):\n",
        "    for i in range(len(Nodos)-1):\n",
        "      Nuevo_Nodo = Add_Nodo(problem, Hormiga[h], T)\n",
        "      Hormiga[h].append(Nuevo_Nodo)\n",
        "    \n",
        "    T = Incrementa_Feromona(problem, T, Hormiga[h])\n",
        "    \n",
        "    T = Evaporar_Feromonas(T)    \n",
        "  \n",
        "  mejor_solucion = []\n",
        "  mejor_distancia = 10e100  \n",
        "  for h in range(N):\n",
        "    distancia_actual = distancia_total(Hormiga[h], problem)\n",
        "    if distancia_actual < mejor_distancia:\n",
        "      mejor_solucion = Hormiga[h]\n",
        "      mejor_distancia = distancia_actual\n",
        "      \n",
        "  #print(mejor_distancia, mejor_solucion )\n",
        "  return mejor_solucion"
      ],
      "execution_count": 0,
      "outputs": []
    },
    {
      "cell_type": "code",
      "metadata": {
        "id": "7VkjvaT4ZaAA",
        "colab_type": "code",
        "outputId": "f7982a34-291f-403c-8780-87b42cadece3",
        "colab": {
          "base_uri": "https://localhost:8080/",
          "height": 71
        }
      },
      "source": [
        "solucion = hormigas(problem, 1000)\n",
        "print(\"Colonia hormigas: \", end=\"\")\n",
        "print(solucion)\n",
        "print(\"Distancia: \", end=\"\")\n",
        "print(distancia_total(solucion, problem))"
      ],
      "execution_count": 16,
      "outputs": [
        {
          "output_type": "stream",
          "text": [
            "Colonia hormigas: [0, 19, 29, 4, 20, 36, 6, 26, 38, 1, 5, 18, 9, 2, 25, 14, 11, 34, 24, 21, 40, 28, 13, 10, 8, 22, 32, 16, 37, 3, 7, 12, 39, 23, 30, 41, 33, 35, 17, 31, 15, 27]\n",
            "Distancia: 3967\n"
          ],
          "name": "stdout"
        }
      ]
    },
    {
      "cell_type": "code",
      "metadata": {
        "id": "Vqeat90LAaZV",
        "colab_type": "code",
        "colab": {}
      },
      "source": [
        ""
      ],
      "execution_count": 0,
      "outputs": []
    }
  ]
}