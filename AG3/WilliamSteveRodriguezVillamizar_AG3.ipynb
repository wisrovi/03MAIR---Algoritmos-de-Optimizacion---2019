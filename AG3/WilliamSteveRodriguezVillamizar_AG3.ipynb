{
  "nbformat": 4,
  "nbformat_minor": 0,
  "metadata": {
    "colab": {
      "name": "WilliamSteveRodriguezVillamizar_AG2",
      "version": "0.3.2",
      "provenance": [],
      "collapsed_sections": [],
      "include_colab_link": true
    },
    "kernelspec": {
      "name": "python3",
      "display_name": "Python 3"
    }
  },
  "cells": [
    {
      "cell_type": "markdown",
      "metadata": {
        "id": "view-in-github",
        "colab_type": "text"
      },
      "source": [
        "<a href=\"https://colab.research.google.com/github/wisrovi/03MAIR---Algoritmos-de-Optimizacion---2019/blob/master/AG3/WilliamSteveRodriguezVillamizar_AG3.ipynb\" target=\"_parent\"><img src=\"https://colab.research.google.com/assets/colab-badge.svg\" alt=\"Open In Colab\"/></a>"
      ]
    },
    {
      "cell_type": "markdown",
      "metadata": {
        "id": "hVbXYX-RfPWh",
        "colab_type": "text"
      },
      "source": [
        "#  AG1- Actividad Guiada 1<br>\n",
        "Nombre y Apellidos: William Steve Rodriguez Villamizar  <br>\n",
        "Colab: https://colab.research.google.com/github/wisrovi/03MAIR---Algoritmos-de-Optimizacion---2019/blob/master/AG1/WilliamSteveRodriguezVillamizar_AG1.ipynb <br>\n",
        "Url: https://github.com/wisrovi/03MAIR---Algoritmos-de-Optimizacion---2019/blob/master/AG1/WilliamSteveRodriguezVillamizar_AG1.ipynb<br>\n",
        "\n"
      ]
    },
    {
      "cell_type": "code",
      "metadata": {
        "id": "AiskKkzZfy4e",
        "colab_type": "code",
        "colab": {}
      },
      "source": [
        "#Decorador de Ricardo Lebron\n",
        "from functools import wraps\n",
        "from time import time\n",
        "\n",
        "def calcular_tiempo(f):\n",
        "    @wraps(f)\n",
        "    def cronometro(*args, **kwargs):\n",
        "        t_inicial = time() #tomo la hora antes de ejecutar la funcion\n",
        "        salida = f(*args, **kwargs)\n",
        "        t_final = time() #tomo la hora despues de ejecutar la funcion\n",
        "        print('Tiempo transcurrido (en segundos): {}'.format(t_final - t_inicial))\n",
        "        return salida\n",
        "    return cronometro\n",
        "\n",
        "#Decorador de William\n",
        "from functools import wraps\n",
        "def debug(f):\n",
        "    @wraps(f)\n",
        "    def new_function(*args, **kwargs):\n",
        "        print(\"Función {}() invocada!\".format(f.__name__))\n",
        "        return f(*args, **kwargs)\n",
        "    return new_function"
      ],
      "execution_count": 0,
      "outputs": []
    },
    {
      "cell_type": "code",
      "metadata": {
        "id": "8t274gL8NBKB",
        "colab_type": "code",
        "colab": {}
      },
      "source": [
        "def quick_sort(A):\n",
        "    if len(A)==1:\n",
        "        return A\n",
        "    \n",
        "    if len(A)==2:\n",
        "        return [min(A), max (A)]\n",
        "    \n",
        "    pivote = (A[0] + A[1] + A[2])/3\n",
        "    IZQ = []\n",
        "    DER = []\n",
        "    \n",
        "    for i in A:\n",
        "        if i <= pivote:\n",
        "            IZQ.append(i)\n",
        "        else:\n",
        "            DER.append(i)\n",
        "    return quick_sort(IZQ) + quick_sort(DER)\n",
        "  \n",
        "@calcular_tiempo\n",
        "def QS(A):\n",
        "    return quick_sort(A)"
      ],
      "execution_count": 0,
      "outputs": []
    },
    {
      "cell_type": "code",
      "metadata": {
        "id": "yl0TMeiXodNN",
        "colab_type": "code",
        "colab": {}
      },
      "source": [
        "@calcular_tiempo\n",
        "def buble_sort(l):\n",
        "  for i in range(len(l)-1):\n",
        "    for j in range(len(l)-1):\n",
        "      if l[j] > l[j+1]:\n",
        "        l[j],l[j+1]= l[j+1], l[j]\n",
        "  return l"
      ],
      "execution_count": 0,
      "outputs": []
    },
    {
      "cell_type": "code",
      "metadata": {
        "id": "wAEbJ-dH75Uo",
        "colab_type": "code",
        "outputId": "cc44a063-bee7-4f7d-bbfa-f3cc16209e40",
        "colab": {
          "base_uri": "https://localhost:8080/",
          "height": 139
        }
      },
      "source": [
        "A = [1132, 4322, 8939, 9187, 244, 4054, 9222,8373,5265, 225, 5470, 4519, 3, 18, 729, 7182, 2035, 3506, 4337, 7580, 2554, 2824, 8257, 4447, 7379, 3825, 9263, 1115, 1125]\n",
        "print(\"Quick Sort\",QS(A))\n",
        "print(\"\\n\")\n",
        "\n",
        "print(\"Bubble sort\", buble_sort(A))\n"
      ],
      "execution_count": 53,
      "outputs": [
        {
          "output_type": "stream",
          "text": [
            "Tiempo transcurrido (en segundos): 9.1552734375e-05\n",
            "Quick Sort [3, 18, 225, 244, 729, 1115, 1125, 1132, 2035, 2554, 2824, 3506, 3825, 4054, 4322, 4337, 4447, 4519, 5265, 5470, 7182, 7379, 7580, 8257, 8373, 8939, 9187, 9222, 9263]\n",
            "\n",
            "\n",
            "Tiempo transcurrido (en segundos): 8.296966552734375e-05\n",
            "Bubble sort [3, 18, 225, 244, 729, 1115, 1125, 1132, 2035, 2554, 2824, 3506, 3825, 4054, 4322, 4337, 4447, 4519, 5265, 5470, 7182, 7379, 7580, 8257, 8373, 8939, 9187, 9222, 9263]\n"
          ],
          "name": "stdout"
        }
      ]
    },
    {
      "cell_type": "code",
      "metadata": {
        "id": "OLF3ZcxjpE7S",
        "colab_type": "code",
        "outputId": "1e92300b-12ba-47eb-d345-8a7f41824748",
        "colab": {
          "base_uri": "https://localhost:8080/",
          "height": 289
        }
      },
      "source": [
        "def torres_hanoi(N, desde, hasta):\n",
        "  if N==1:\n",
        "    print(\"Llevar desde \" + str(desde) + \" hasta \" + str(hasta))\n",
        "  else:\n",
        "    torres_hanoi(N-1, desde, 6 - desde - hasta)\n",
        "    print(\"Llevar desde \" + str(desde) + \" hasta \" + str(hasta))\n",
        "    torres_hanoi(N-1, 6 - desde - hasta, hasta)\n",
        "    \n",
        "\n",
        "print(torres_hanoi(4,1,3))\n"
      ],
      "execution_count": 54,
      "outputs": [
        {
          "output_type": "stream",
          "text": [
            "Llevar desde 1 hasta 2\n",
            "Llevar desde 1 hasta 3\n",
            "Llevar desde 2 hasta 3\n",
            "Llevar desde 1 hasta 2\n",
            "Llevar desde 3 hasta 1\n",
            "Llevar desde 3 hasta 2\n",
            "Llevar desde 1 hasta 2\n",
            "Llevar desde 1 hasta 3\n",
            "Llevar desde 2 hasta 3\n",
            "Llevar desde 2 hasta 1\n",
            "Llevar desde 3 hasta 1\n",
            "Llevar desde 2 hasta 3\n",
            "Llevar desde 1 hasta 2\n",
            "Llevar desde 1 hasta 3\n",
            "Llevar desde 2 hasta 3\n",
            "None\n"
          ],
          "name": "stdout"
        }
      ]
    },
    {
      "cell_type": "code",
      "metadata": {
        "id": "Ty2ECtJGBw3m",
        "colab_type": "code",
        "outputId": "3f2cbee8-365d-4bc8-83b2-d8dfb932e295",
        "colab": {
          "base_uri": "https://localhost:8080/",
          "height": 34
        }
      },
      "source": [
        "def Fibonacci(final, valor = 0, anterior = 0, listado = []):\n",
        "  if valor ==0:\n",
        "    listado.append(0)\n",
        "    listado.append(1)\n",
        "    Fibonacci(final, 1, 0, listado)      \n",
        "  else:\n",
        "    if (valor + anterior) <= final:    \n",
        "      listado.append(valor + anterior)\n",
        "      Fibonacci(final, valor + anterior, valor, listado)\n",
        "    else:\n",
        "      print(listado)\n",
        "    \n",
        "Fibonacci(1000)\n",
        "  "
      ],
      "execution_count": 133,
      "outputs": [
        {
          "output_type": "stream",
          "text": [
            "[0, 1, 1, 2, 3, 5, 8, 13, 21, 34, 55, 89, 144, 233, 377, 610, 987]\n"
          ],
          "name": "stdout"
        }
      ]
    },
    {
      "cell_type": "code",
      "metadata": {
        "id": "_C1hlhoWYJQg",
        "colab_type": "code",
        "colab": {
          "base_uri": "https://localhost:8080/",
          "height": 34
        },
        "outputId": "0808ebc8-ab59-459b-f9ce-dbf288994a2f"
      },
      "source": [
        "A=[1,2,6,7,12,13,15] \n",
        "B=[2,3,4,7,13]\n",
        "\n",
        "#buscar elementos repetidos\n",
        "print(list(set(A) & set(B)))"
      ],
      "execution_count": 68,
      "outputs": [
        {
          "output_type": "stream",
          "text": [
            "[2, 13, 7]\n"
          ],
          "name": "stdout"
        }
      ]
    },
    {
      "cell_type": "code",
      "metadata": {
        "id": "7i2N9VslMZzR",
        "colab_type": "code",
        "colab": {
          "base_uri": "https://localhost:8080/",
          "height": 530
        },
        "outputId": "2152f980-63e0-4c33-d127-e1d623c72d74"
      },
      "source": [
        "!pip install request\n",
        "!pip install tsplib95\n",
        "!pip install imgaug"
      ],
      "execution_count": 134,
      "outputs": [
        {
          "output_type": "stream",
          "text": [
            "Requirement already satisfied: request in /usr/local/lib/python3.6/dist-packages (2019.4.13)\n",
            "Requirement already satisfied: setuptools in /usr/local/lib/python3.6/dist-packages (from request) (41.2.0)\n",
            "Requirement already satisfied: post in /usr/local/lib/python3.6/dist-packages (from request) (2019.4.13)\n",
            "Requirement already satisfied: get in /usr/local/lib/python3.6/dist-packages (from request) (2019.4.13)\n",
            "Requirement already satisfied: query-string in /usr/local/lib/python3.6/dist-packages (from get->request) (2019.4.13)\n",
            "Requirement already satisfied: public in /usr/local/lib/python3.6/dist-packages (from query-string->get->request) (2019.4.13)\n",
            "Requirement already satisfied: tsplib95 in /usr/local/lib/python3.6/dist-packages (0.3.3)\n",
            "Requirement already satisfied: Click>=6.0 in /usr/local/lib/python3.6/dist-packages (from tsplib95) (7.0)\n",
            "Requirement already satisfied: networkx==2.1 in /usr/local/lib/python3.6/dist-packages (from tsplib95) (2.1)\n",
            "Requirement already satisfied: decorator>=4.1.0 in /usr/local/lib/python3.6/dist-packages (from networkx==2.1->tsplib95) (4.4.0)\n",
            "Requirement already satisfied: imgaug in /usr/local/lib/python3.6/dist-packages (0.2.9)\n",
            "Requirement already satisfied: opencv-python in /usr/local/lib/python3.6/dist-packages (from imgaug) (3.4.5.20)\n",
            "Requirement already satisfied: matplotlib in /usr/local/lib/python3.6/dist-packages (from imgaug) (3.0.3)\n",
            "Requirement already satisfied: scikit-image>=0.11.0 in /usr/local/lib/python3.6/dist-packages (from imgaug) (0.15.0)\n",
            "Requirement already satisfied: Shapely in /usr/local/lib/python3.6/dist-packages (from imgaug) (1.6.4.post2)\n",
            "Requirement already satisfied: scipy in /usr/local/lib/python3.6/dist-packages (from imgaug) (1.3.1)\n",
            "Requirement already satisfied: imageio in /usr/local/lib/python3.6/dist-packages (from imgaug) (2.4.1)\n",
            "Requirement already satisfied: six in /usr/local/lib/python3.6/dist-packages (from imgaug) (1.12.0)\n",
            "Requirement already satisfied: numpy>=1.15.0 in /usr/local/lib/python3.6/dist-packages (from imgaug) (1.16.5)\n",
            "Requirement already satisfied: Pillow in /usr/local/lib/python3.6/dist-packages (from imgaug) (4.3.0)\n",
            "Requirement already satisfied: kiwisolver>=1.0.1 in /usr/local/lib/python3.6/dist-packages (from matplotlib->imgaug) (1.1.0)\n",
            "Requirement already satisfied: python-dateutil>=2.1 in /usr/local/lib/python3.6/dist-packages (from matplotlib->imgaug) (2.5.3)\n",
            "Requirement already satisfied: pyparsing!=2.0.4,!=2.1.2,!=2.1.6,>=2.0.1 in /usr/local/lib/python3.6/dist-packages (from matplotlib->imgaug) (2.4.2)\n",
            "Requirement already satisfied: cycler>=0.10 in /usr/local/lib/python3.6/dist-packages (from matplotlib->imgaug) (0.10.0)\n",
            "Requirement already satisfied: networkx>=2.0 in /usr/local/lib/python3.6/dist-packages (from scikit-image>=0.11.0->imgaug) (2.1)\n",
            "Requirement already satisfied: PyWavelets>=0.4.0 in /usr/local/lib/python3.6/dist-packages (from scikit-image>=0.11.0->imgaug) (1.0.3)\n",
            "Requirement already satisfied: olefile in /usr/local/lib/python3.6/dist-packages (from Pillow->imgaug) (0.46)\n",
            "Requirement already satisfied: setuptools in /usr/local/lib/python3.6/dist-packages (from kiwisolver>=1.0.1->matplotlib->imgaug) (41.2.0)\n",
            "Requirement already satisfied: decorator>=4.1.0 in /usr/local/lib/python3.6/dist-packages (from networkx>=2.0->scikit-image>=0.11.0->imgaug) (4.4.0)\n"
          ],
          "name": "stdout"
        }
      ]
    },
    {
      "cell_type": "code",
      "metadata": {
        "id": "Sby4kM-3fLIf",
        "colab_type": "code",
        "colab": {}
      },
      "source": [
        "import urllib.request\n",
        "file = \"swiss42.tsp\""
      ],
      "execution_count": 0,
      "outputs": []
    },
    {
      "cell_type": "code",
      "metadata": {
        "id": "v-1aMb-5sBsK",
        "colab_type": "code",
        "colab": {
          "base_uri": "https://localhost:8080/",
          "height": 34
        },
        "outputId": "89e25ac8-50ac-42fa-f9b6-1bed33661108"
      },
      "source": [
        "import urllib.request\n",
        "file = 'swiss42.tsp'\n",
        "\n",
        "urllib.request.urlretrieve(\"http://elib.zib.de/pub/mp-testdata/tsp/tsplib/tsp/swiss42.tsp\", file)"
      ],
      "execution_count": 135,
      "outputs": [
        {
          "output_type": "execute_result",
          "data": {
            "text/plain": [
              "('swiss42.tsp', <http.client.HTTPMessage at 0x7fdcb5322198>)"
            ]
          },
          "metadata": {
            "tags": []
          },
          "execution_count": 135
        }
      ]
    },
    {
      "cell_type": "code",
      "metadata": {
        "id": "KUQaL54Iq03f",
        "colab_type": "code",
        "colab": {}
      },
      "source": [
        "def crear_solucion(Nodos): \n",
        "  solucion = [0]\n",
        "  for i in range(len(Nodos)-1):\n",
        "    solucion = solucion + [random.choice(list(set(Nodos) - set({0}) - set(solucion)))]\n",
        "  return solucion \n",
        "\n",
        "def distancia(a,b, problem):\n",
        "  return problem.wfunc(a,b)\n",
        "\n",
        "def distancia_total(solucion, problem):\n",
        "  distancia_total = 0\n",
        "  for i in range(len(solucion)-1):\n",
        "    distancia_total  += distancia(solucion[i], solucion[i+1], problem)\n",
        "  return distancia_total + distancia(solucion[len(solucion)-1], solucion[0], problem)\n",
        " "
      ],
      "execution_count": 0,
      "outputs": []
    },
    {
      "cell_type": "code",
      "metadata": {
        "id": "tT1JGOpuiCNT",
        "colab_type": "code",
        "colab": {
          "base_uri": "https://localhost:8080/",
          "height": 54
        },
        "outputId": "2827b73c-535f-40b1-83c6-0831903dc646"
      },
      "source": [
        "import tsplib95\n",
        "import random\n",
        "from math import e\n",
        "\n",
        "\n",
        "\n",
        "problem = tsplib95.load_problem(file)\n",
        "Nodos = list(problem.get_nodes())\n",
        "artistas = list(problem.get_edges())\n",
        "solucion = crear_solucion(Nodos)\n",
        "\n",
        "solcion_prueba = \n",
        "print(solucion_prueba)"
      ],
      "execution_count": 90,
      "outputs": [
        {
          "output_type": "stream",
          "text": [
            "[0, 38, 36, 37, 11, 40, 41, 32, 17, 9, 15, 21, 27, 20, 3, 29, 33, 24, 16, 22, 2, 35, 31, 28, 6, 14, 19, 30, 25, 34, 13, 7, 4, 23, 10, 18, 5, 39, 12, 26, 8, 1]\n"
          ],
          "name": "stdout"
        }
      ]
    },
    {
      "cell_type": "code",
      "metadata": {
        "id": "DbswPTqJtWdz",
        "colab_type": "code",
        "colab": {}
      },
      "source": [
        "def busqueda_aleatoria(problem, N):\n",
        "  Nodos = list(problem.get_nodes())\n",
        "  \n",
        "  mejor_solucion = []\n",
        "  mejor_distancia = 10e100\n",
        "  \n",
        "  for i in range(N):\n",
        "    solucion = crear_solucion(Nodos)\n",
        "    distancia_solucion = distancia_total(solucion, problem)\n",
        "    if distancia_solucion < mejor_distancia:\n",
        "      mejor_solucion =  solucion\n",
        "      mejor_distancia =  distancia_solucion\n",
        "     \n",
        "    #print(\"La mejor solucion encontrada es \", end=\"\")\n",
        "    #print(mejor_solucion)\n",
        "    #print(\"Con una distancia total de \", end=\"\")\n",
        "    #print(mejor_distancia)\n",
        "    print(mejor_distancia, mejor_solucion)\n",
        "    return mejor_solucion\n",
        "\n",
        "  "
      ],
      "execution_count": 0,
      "outputs": []
    },
    {
      "cell_type": "code",
      "metadata": {
        "id": "v9fbxZ3FvSxs",
        "colab_type": "code",
        "colab": {
          "base_uri": "https://localhost:8080/",
          "height": 768
        },
        "outputId": "3816d2cd-8831-4351-b642-112547b05bd0"
      },
      "source": [
        "import tsplib95\n",
        "import random\n",
        "from math import e\n",
        "\n",
        "problem = tsplib95.load_problem(file)\n",
        "busqueda_aleatoria(problem, 10000)"
      ],
      "execution_count": 180,
      "outputs": [
        {
          "output_type": "stream",
          "text": [
            "4839 [0, 30, 15, 23, 33, 18, 5, 27, 2, 28, 8, 4, 14, 1, 40, 32, 21, 24, 13, 38, 16, 37, 11, 12, 31, 25, 17, 41, 35, 36, 20, 7, 19, 34, 22, 3, 6, 39, 26, 29, 10, 9]\n"
          ],
          "name": "stdout"
        },
        {
          "output_type": "execute_result",
          "data": {
            "text/plain": [
              "[0,\n",
              " 30,\n",
              " 15,\n",
              " 23,\n",
              " 33,\n",
              " 18,\n",
              " 5,\n",
              " 27,\n",
              " 2,\n",
              " 28,\n",
              " 8,\n",
              " 4,\n",
              " 14,\n",
              " 1,\n",
              " 40,\n",
              " 32,\n",
              " 21,\n",
              " 24,\n",
              " 13,\n",
              " 38,\n",
              " 16,\n",
              " 37,\n",
              " 11,\n",
              " 12,\n",
              " 31,\n",
              " 25,\n",
              " 17,\n",
              " 41,\n",
              " 35,\n",
              " 36,\n",
              " 20,\n",
              " 7,\n",
              " 19,\n",
              " 34,\n",
              " 22,\n",
              " 3,\n",
              " 6,\n",
              " 39,\n",
              " 26,\n",
              " 29,\n",
              " 10,\n",
              " 9]"
            ]
          },
          "metadata": {
            "tags": []
          },
          "execution_count": 180
        }
      ]
    },
    {
      "cell_type": "code",
      "metadata": {
        "id": "w5kQjNkdviGj",
        "colab_type": "code",
        "colab": {}
      },
      "source": [
        "def generar_vecina(solucion):\n",
        "  mejor_solucion = []\n",
        "  mejor_distancia = 10e100\n",
        "  for i in range(1,len(solucion)-1):\n",
        "    for j in range(i+1,len(solucion)):\n",
        "      vecina = solucion[:i] + [solucion[j]] + solucion[i+1:j] + [solucion[i]] + solucion[j+1:]\n",
        "      distancia_vecina = distancia_total(vecina, problem)\n",
        "      if distancia_vecina <= mejor_distancia:\n",
        "        mejor_distancia = distancia_vecina\n",
        "        mejor_solucion = vecina\n",
        "  return mejor_solucion"
      ],
      "execution_count": 0,
      "outputs": []
    },
    {
      "cell_type": "code",
      "metadata": {
        "id": "R3AKcHzYw25m",
        "colab_type": "code",
        "colab": {}
      },
      "source": [
        "def busqueda_local(problem, N):\n",
        "  mejor_solucion = []\n",
        "  mejor_distancia = 10e100\n",
        "  \n",
        "  Nodos = list(problem.get_nodes())\n",
        "  solucion_referencia = crear_solucion(Nodos)\n",
        "  \n",
        "  for i in range(N):\n",
        "    vecina = generar_vecina(solucion_referencia)\n",
        "    distancia_vecina =  distancia_total(vecina, problem)\n",
        "    if distancia_vecina <= mejor_distancia:\n",
        "        mejor_distancia = distancia_vecina\n",
        "        mejor_solucion = vecina\n",
        "        \n",
        "        solucion_referencia = vecina\n",
        "        \n",
        "  #print(\"La mejor solucion encontrada es \", end=\"\")\n",
        "  #print(mejor_solucion)\n",
        "  #print(\"Con una distancia total de \", end=\"\")\n",
        "  #print(mejor_distancia)\n",
        "  print(mejor_distancia, mejor_solucion)\n",
        "  return mejor_solucion\n",
        "\n"
      ],
      "execution_count": 0,
      "outputs": []
    },
    {
      "cell_type": "code",
      "metadata": {
        "id": "K88UeyR8Z7dU",
        "colab_type": "code",
        "colab": {
          "base_uri": "https://localhost:8080/",
          "height": 71
        },
        "outputId": "c1755279-da4a-4917-a67a-297b57e41466"
      },
      "source": [
        "sol = busqueda_local(problem, 10000)\n",
        "print(sol)"
      ],
      "execution_count": 186,
      "outputs": [
        {
          "output_type": "stream",
          "text": [
            "1793 [0, 1, 3, 4, 6, 15, 16, 14, 19, 13, 10, 23, 40, 24, 21, 9, 8, 35, 36, 37, 7, 5, 26, 18, 12, 11, 25, 41, 39, 22, 38, 29, 2, 27, 28, 30, 32, 34, 33, 20, 31, 17]\n",
            "[0, 1, 3, 4, 6, 15, 16, 14, 19, 13, 10, 23, 40, 24, 21, 9, 8, 35, 36, 37, 7, 5, 26, 18, 12, 11, 25, 41, 39, 22, 38, 29, 2, 27, 28, 30, 32, 34, 33, 20, 31, 17]\n"
          ],
          "name": "stdout"
        }
      ]
    },
    {
      "cell_type": "code",
      "metadata": {
        "id": "6a4IDfR42kCV",
        "colab_type": "code",
        "colab": {}
      },
      "source": [
        "def probabilidad(T,d):\n",
        "  r = random.random()\n",
        "  if r >= (e**(-1*d)/((T*0.5*10**(-5)))):\n",
        "    return True\n",
        "  else:\n",
        "    return False\n",
        "  \n",
        "def bajar_temperatura(T):\n",
        "  return T*0.9\n",
        "\n",
        "def recocido_simulado(problem, TEMPERATURA):\n",
        "  solucion_referencia = crear_solucion(Nodos)\n",
        "  distancia_referencia = distancia_total(solucion_referencia, problem)\n",
        "  \n",
        "  mejor_solucion = []\n",
        "  mejor_distancia = 10e100\n",
        "  \n",
        "  while(TEMPERATURA):\n",
        "    #print(\"#Temperatura: \", TEMPERATURA, \" Fitness: \" , mejor_distancia)\n",
        "    vecina = generar_vecina(solucion_referencia)\n",
        "    distancia_vecina =  distancia_total(vecina, problem)\n",
        "    \n",
        "    if distancia_vecina < mejor_distancia:\n",
        "        mejor_distancia = distancia_vecina\n",
        "        mejor_solucion = vecina\n",
        "        \n",
        "    if distancia_vecina < distancia_referencia or probabilidad(TEMPERATURA, abs(distancia_referencia - distancia_vecina)):\n",
        "        solucion_referencia = vecina\n",
        "        distancia_referencia = distancia_vecina\n",
        "        \n",
        "    TEMPERATURA = bajar_temperatura(TEMPERATURA)\n",
        "    \n",
        "    print(mejor_distancia, mejor_solucion )\n",
        "    \n",
        "recocido_simulado(problem, 1000)"
      ],
      "execution_count": 0,
      "outputs": []
    },
    {
      "cell_type": "code",
      "metadata": {
        "id": "tBAMHF6Y4uyn",
        "colab_type": "code",
        "colab": {
          "base_uri": "https://localhost:8080/",
          "height": 54
        },
        "outputId": "9746de7c-18b8-47fc-e09e-9264f4cd0a55"
      },
      "source": [
        "def Add_Nodo(problem, H, T):\n",
        "  Nodos = list(problem.get_nodes())\n",
        "  return random.choice(     list(set(range(1, len(Nodos))) - set(H)))\n",
        "  \n",
        "def Incrementa_Feromona(problem, T, H):\n",
        "  for i in range(len(H)-1):\n",
        "    T[H[i]][H[i+1]] += 1000/distancia_total(H, problem)\n",
        "  return T\n",
        "\n",
        "def Evaporar_Feromonas(T):\n",
        "  T = [[max(T[i][j] - 0.3, 1) for i in range(len(Nodos)) ] for j in range(len(Nodos))  ]\n",
        "  return T\n",
        "\n",
        "def hormigas(problem, N):\n",
        "  Nodos = list(problem.get_nodes())\n",
        "  Artistas = list(problem.get_edges())\n",
        "  \n",
        "  T = [[1 for _ in range(len(Nodos))] for _ in range(len(Nodos))]\n",
        "  \n",
        "  Hormiga = [[0] for _ in range(N)]\n",
        "  \n",
        "  for h in range(N):\n",
        "    for i in range(len(Nodos)-1):\n",
        "      Nuevo_Nodo = Add_Nodo(problem, Hormiga[h], T)\n",
        "      Hormiga[h].append(Nuevo_Nodo)\n",
        "    \n",
        "    T = Incrementa_Feromona(problem, T, Hormiga[h])\n",
        "    \n",
        "    T = Evaporar_Feromonas(T)    \n",
        "  \n",
        "  mejor_solucion = []\n",
        "  mejor_distancia = 10e100  \n",
        "  for h in range(N):\n",
        "    distancia_actual = distancia_total(Hormiga[h], problem)\n",
        "    if distancia_actual < mejor_distancia:\n",
        "      mejor_solucion = Hormiga[h]\n",
        "      mejor_distancia = distancia_actual\n",
        "      \n",
        "  print(mejor_distancia, mejor_solucion )\n",
        "      \n",
        "      \n",
        "hormigas(problem, 1000)"
      ],
      "execution_count": 132,
      "outputs": [
        {
          "output_type": "stream",
          "text": [
            "3873 [0, 32, 5, 23, 35, 31, 34, 36, 37, 27, 3, 25, 41, 24, 39, 29, 33, 38, 2, 16, 4, 20, 9, 40, 8, 11, 28, 14, 1, 13, 7, 19, 17, 15, 22, 30, 26, 12, 10, 6, 18, 21]\n"
          ],
          "name": "stdout"
        }
      ]
    },
    {
      "cell_type": "code",
      "metadata": {
        "id": "Vqeat90LAaZV",
        "colab_type": "code",
        "colab": {}
      },
      "source": [
        ""
      ],
      "execution_count": 0,
      "outputs": []
    }
  ]
}